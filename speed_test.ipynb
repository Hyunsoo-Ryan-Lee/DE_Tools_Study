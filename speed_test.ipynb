{
 "cells": [
  {
   "cell_type": "markdown",
   "metadata": {},
   "source": [
    "## 1. Pandas"
   ]
  },
  {
   "cell_type": "code",
   "execution_count": 1,
   "metadata": {},
   "outputs": [],
   "source": [
    "import pandas as pd\n",
    "import polars as pl\n",
    "import duckdb as dd\n",
    "from time import time"
   ]
  },
  {
   "cell_type": "code",
   "execution_count": 2,
   "metadata": {},
   "outputs": [
    {
     "name": "stdout",
     "output_type": "stream",
     "text": [
      "1.356220006942749\n"
     ]
    }
   ],
   "source": [
    "start = time()\n",
    "pdf = pd.read_parquet(\"hp.parquet\")\n",
    "\n",
    "print(time()-start)"
   ]
  },
  {
   "cell_type": "code",
   "execution_count": 7,
   "metadata": {},
   "outputs": [
    {
     "data": {
      "text/html": [
       "<div>\n",
       "<style scoped>\n",
       "    .dataframe tbody tr th:only-of-type {\n",
       "        vertical-align: middle;\n",
       "    }\n",
       "\n",
       "    .dataframe tbody tr th {\n",
       "        vertical-align: top;\n",
       "    }\n",
       "\n",
       "    .dataframe thead th {\n",
       "        text-align: right;\n",
       "    }\n",
       "</style>\n",
       "<table border=\"1\" class=\"dataframe\">\n",
       "  <thead>\n",
       "    <tr style=\"text-align: right;\">\n",
       "      <th></th>\n",
       "      <th>id</th>\n",
       "      <th>session_id</th>\n",
       "      <th>user_id</th>\n",
       "      <th>language</th>\n",
       "      <th>osname</th>\n",
       "      <th>osversion</th>\n",
       "      <th>versionname</th>\n",
       "      <th>device_id</th>\n",
       "    </tr>\n",
       "  </thead>\n",
       "  <tbody>\n",
       "    <tr>\n",
       "      <th>0</th>\n",
       "      <td>1</td>\n",
       "      <td>4OzYh3seq3VKytpSn5pvQkZNQii1</td>\n",
       "      <td></td>\n",
       "      <td>ko-KR</td>\n",
       "      <td>iOS</td>\n",
       "      <td>16.0</td>\n",
       "      <td>2.0.0</td>\n",
       "      <td>590E7C79-CBA0-44D8-8BE3-3C9BFABBBC74</td>\n",
       "    </tr>\n",
       "    <tr>\n",
       "      <th>1</th>\n",
       "      <td>2</td>\n",
       "      <td>8QXy31PQxbW9qLzq0Y1dhR8Ypm52</td>\n",
       "      <td>1046711</td>\n",
       "      <td>ko-KR</td>\n",
       "      <td>iOS</td>\n",
       "      <td>16.5.1</td>\n",
       "      <td>2.0.3</td>\n",
       "      <td>D5417226-F71B-4A9E-A180-CD072F2AB279</td>\n",
       "    </tr>\n",
       "    <tr>\n",
       "      <th>2</th>\n",
       "      <td>3</td>\n",
       "      <td>6bcea65d-9f40-46fc-888c-700fe707483f</td>\n",
       "      <td>1545130</td>\n",
       "      <td>ko</td>\n",
       "      <td>Android</td>\n",
       "      <td>13</td>\n",
       "      <td>2.0.5</td>\n",
       "      <td>6bcea65d-9f40-46fc-888c-700fe707483f</td>\n",
       "    </tr>\n",
       "    <tr>\n",
       "      <th>3</th>\n",
       "      <td>4</td>\n",
       "      <td>XVYNT6zfhFWqIg9omwg2AHDjTLx2</td>\n",
       "      <td>1224793</td>\n",
       "      <td>ko</td>\n",
       "      <td>Android</td>\n",
       "      <td>13</td>\n",
       "      <td>2.0.5</td>\n",
       "      <td>a05c1595-3e05-434b-8684-218b528bd725</td>\n",
       "    </tr>\n",
       "    <tr>\n",
       "      <th>4</th>\n",
       "      <td>5</td>\n",
       "      <td>XFB2SPiGfjbVhvJ3Q3DBsaT3m2B3</td>\n",
       "      <td>1329450</td>\n",
       "      <td>ko-US</td>\n",
       "      <td>iOS</td>\n",
       "      <td>16.5.1</td>\n",
       "      <td>2.0.5</td>\n",
       "      <td>EAC6C0B3-7CE8-40EA-8A91-9977C0BA5EF3</td>\n",
       "    </tr>\n",
       "  </tbody>\n",
       "</table>\n",
       "</div>"
      ],
      "text/plain": [
       "   id                            session_id  user_id language   osname  \\\n",
       "0   1          4OzYh3seq3VKytpSn5pvQkZNQii1             ko-KR      iOS   \n",
       "1   2          8QXy31PQxbW9qLzq0Y1dhR8Ypm52  1046711    ko-KR      iOS   \n",
       "2   3  6bcea65d-9f40-46fc-888c-700fe707483f  1545130       ko  Android   \n",
       "3   4          XVYNT6zfhFWqIg9omwg2AHDjTLx2  1224793       ko  Android   \n",
       "4   5          XFB2SPiGfjbVhvJ3Q3DBsaT3m2B3  1329450    ko-US      iOS   \n",
       "\n",
       "  osversion versionname                             device_id  \n",
       "0      16.0       2.0.0  590E7C79-CBA0-44D8-8BE3-3C9BFABBBC74  \n",
       "1    16.5.1       2.0.3  D5417226-F71B-4A9E-A180-CD072F2AB279  \n",
       "2        13       2.0.5  6bcea65d-9f40-46fc-888c-700fe707483f  \n",
       "3        13       2.0.5  a05c1595-3e05-434b-8684-218b528bd725  \n",
       "4    16.5.1       2.0.5  EAC6C0B3-7CE8-40EA-8A91-9977C0BA5EF3  "
      ]
     },
     "execution_count": 7,
     "metadata": {},
     "output_type": "execute_result"
    }
   ],
   "source": [
    "pdf.head()"
   ]
  },
  {
   "cell_type": "code",
   "execution_count": 9,
   "metadata": {},
   "outputs": [
    {
     "data": {
      "text/html": [
       "<div>\n",
       "<style scoped>\n",
       "    .dataframe tbody tr th:only-of-type {\n",
       "        vertical-align: middle;\n",
       "    }\n",
       "\n",
       "    .dataframe tbody tr th {\n",
       "        vertical-align: top;\n",
       "    }\n",
       "\n",
       "    .dataframe thead th {\n",
       "        text-align: right;\n",
       "    }\n",
       "</style>\n",
       "<table border=\"1\" class=\"dataframe\">\n",
       "  <thead>\n",
       "    <tr style=\"text-align: right;\">\n",
       "      <th></th>\n",
       "      <th>id</th>\n",
       "      <th>session_id</th>\n",
       "      <th>user_id</th>\n",
       "      <th>language</th>\n",
       "      <th>osname</th>\n",
       "      <th>osversion</th>\n",
       "      <th>versionname</th>\n",
       "      <th>device_id</th>\n",
       "    </tr>\n",
       "  </thead>\n",
       "  <tbody>\n",
       "    <tr>\n",
       "      <th>0</th>\n",
       "      <td>1</td>\n",
       "      <td>4OzYh3seq3VKytpSn5pvQkZNQii1</td>\n",
       "      <td></td>\n",
       "      <td>ko-KR</td>\n",
       "      <td>iOS</td>\n",
       "      <td>16.0</td>\n",
       "      <td>2.0.0</td>\n",
       "      <td>590E7C79-CBA0-44D8-8BE3-3C9BFABBBC74</td>\n",
       "    </tr>\n",
       "    <tr>\n",
       "      <th>1</th>\n",
       "      <td>2</td>\n",
       "      <td>8QXy31PQxbW9qLzq0Y1dhR8Ypm52</td>\n",
       "      <td>1046711</td>\n",
       "      <td>ko-KR</td>\n",
       "      <td>iOS</td>\n",
       "      <td>16.5.1</td>\n",
       "      <td>2.0.3</td>\n",
       "      <td>D5417226-F71B-4A9E-A180-CD072F2AB279</td>\n",
       "    </tr>\n",
       "    <tr>\n",
       "      <th>2</th>\n",
       "      <td>3</td>\n",
       "      <td>6bcea65d-9f40-46fc-888c-700fe707483f</td>\n",
       "      <td>1545130</td>\n",
       "      <td>ko</td>\n",
       "      <td>Android</td>\n",
       "      <td>13</td>\n",
       "      <td>2.0.5</td>\n",
       "      <td>6bcea65d-9f40-46fc-888c-700fe707483f</td>\n",
       "    </tr>\n",
       "    <tr>\n",
       "      <th>3</th>\n",
       "      <td>4</td>\n",
       "      <td>XVYNT6zfhFWqIg9omwg2AHDjTLx2</td>\n",
       "      <td>1224793</td>\n",
       "      <td>ko</td>\n",
       "      <td>Android</td>\n",
       "      <td>13</td>\n",
       "      <td>2.0.5</td>\n",
       "      <td>a05c1595-3e05-434b-8684-218b528bd725</td>\n",
       "    </tr>\n",
       "    <tr>\n",
       "      <th>4</th>\n",
       "      <td>5</td>\n",
       "      <td>XFB2SPiGfjbVhvJ3Q3DBsaT3m2B3</td>\n",
       "      <td>1329450</td>\n",
       "      <td>ko-US</td>\n",
       "      <td>iOS</td>\n",
       "      <td>16.5.1</td>\n",
       "      <td>2.0.5</td>\n",
       "      <td>EAC6C0B3-7CE8-40EA-8A91-9977C0BA5EF3</td>\n",
       "    </tr>\n",
       "    <tr>\n",
       "      <th>...</th>\n",
       "      <td>...</td>\n",
       "      <td>...</td>\n",
       "      <td>...</td>\n",
       "      <td>...</td>\n",
       "      <td>...</td>\n",
       "      <td>...</td>\n",
       "      <td>...</td>\n",
       "      <td>...</td>\n",
       "    </tr>\n",
       "    <tr>\n",
       "      <th>525344</th>\n",
       "      <td>525345</td>\n",
       "      <td>b82eptestoYIkel7zGItYz9XqF43</td>\n",
       "      <td>902597</td>\n",
       "      <td>ko-KR</td>\n",
       "      <td>iOS</td>\n",
       "      <td>16.0</td>\n",
       "      <td>2.0.3</td>\n",
       "      <td>B59DCE74-59FB-4417-9DDB-F9B620D71DFC</td>\n",
       "    </tr>\n",
       "    <tr>\n",
       "      <th>525345</th>\n",
       "      <td>525346</td>\n",
       "      <td>KlGJxOfY4XdbxnwzPckMh4NdwBk2</td>\n",
       "      <td>1373831</td>\n",
       "      <td>ko-KR</td>\n",
       "      <td>iOS</td>\n",
       "      <td>16.5.1</td>\n",
       "      <td>2.0.5</td>\n",
       "      <td>2EB9127D-703A-495B-8A1E-6667ACA9E724</td>\n",
       "    </tr>\n",
       "    <tr>\n",
       "      <th>525346</th>\n",
       "      <td>525347</td>\n",
       "      <td>HGxbSi2oq4MdFVGdQx2UH3f9Aq73</td>\n",
       "      <td>1043127</td>\n",
       "      <td>en-KR</td>\n",
       "      <td>iOS</td>\n",
       "      <td>16.1.2</td>\n",
       "      <td>2.0.3</td>\n",
       "      <td>4400D84D-0353-49C9-818E-6A45D54F1039</td>\n",
       "    </tr>\n",
       "    <tr>\n",
       "      <th>525347</th>\n",
       "      <td>525348</td>\n",
       "      <td>F9EA195C-862F-4572-80A5-C3AE06F83310</td>\n",
       "      <td></td>\n",
       "      <td>ko-KR</td>\n",
       "      <td>iOS</td>\n",
       "      <td>16.3.1</td>\n",
       "      <td>2.0.5</td>\n",
       "      <td>F9EA195C-862F-4572-80A5-C3AE06F83310</td>\n",
       "    </tr>\n",
       "    <tr>\n",
       "      <th>525349</th>\n",
       "      <td>525350</td>\n",
       "      <td>8jROJMvKQMgiXMvrXvqDD7o0iWr2</td>\n",
       "      <td>895807</td>\n",
       "      <td>ko-KR</td>\n",
       "      <td>iOS</td>\n",
       "      <td>16.0</td>\n",
       "      <td>2.0.0</td>\n",
       "      <td>B39CEB8B-2414-4018-91B8-CE1A75F1CCEE</td>\n",
       "    </tr>\n",
       "  </tbody>\n",
       "</table>\n",
       "<p>507257 rows × 8 columns</p>\n",
       "</div>"
      ],
      "text/plain": [
       "            id                            session_id  user_id language  \\\n",
       "0            1          4OzYh3seq3VKytpSn5pvQkZNQii1             ko-KR   \n",
       "1            2          8QXy31PQxbW9qLzq0Y1dhR8Ypm52  1046711    ko-KR   \n",
       "2            3  6bcea65d-9f40-46fc-888c-700fe707483f  1545130       ko   \n",
       "3            4          XVYNT6zfhFWqIg9omwg2AHDjTLx2  1224793       ko   \n",
       "4            5          XFB2SPiGfjbVhvJ3Q3DBsaT3m2B3  1329450    ko-US   \n",
       "...        ...                                   ...      ...      ...   \n",
       "525344  525345          b82eptestoYIkel7zGItYz9XqF43   902597    ko-KR   \n",
       "525345  525346          KlGJxOfY4XdbxnwzPckMh4NdwBk2  1373831    ko-KR   \n",
       "525346  525347          HGxbSi2oq4MdFVGdQx2UH3f9Aq73  1043127    en-KR   \n",
       "525347  525348  F9EA195C-862F-4572-80A5-C3AE06F83310             ko-KR   \n",
       "525349  525350          8jROJMvKQMgiXMvrXvqDD7o0iWr2   895807    ko-KR   \n",
       "\n",
       "         osname osversion versionname                             device_id  \n",
       "0           iOS      16.0       2.0.0  590E7C79-CBA0-44D8-8BE3-3C9BFABBBC74  \n",
       "1           iOS    16.5.1       2.0.3  D5417226-F71B-4A9E-A180-CD072F2AB279  \n",
       "2       Android        13       2.0.5  6bcea65d-9f40-46fc-888c-700fe707483f  \n",
       "3       Android        13       2.0.5  a05c1595-3e05-434b-8684-218b528bd725  \n",
       "4           iOS    16.5.1       2.0.5  EAC6C0B3-7CE8-40EA-8A91-9977C0BA5EF3  \n",
       "...         ...       ...         ...                                   ...  \n",
       "525344      iOS      16.0       2.0.3  B59DCE74-59FB-4417-9DDB-F9B620D71DFC  \n",
       "525345      iOS    16.5.1       2.0.5  2EB9127D-703A-495B-8A1E-6667ACA9E724  \n",
       "525346      iOS    16.1.2       2.0.3  4400D84D-0353-49C9-818E-6A45D54F1039  \n",
       "525347      iOS    16.3.1       2.0.5  F9EA195C-862F-4572-80A5-C3AE06F83310  \n",
       "525349      iOS      16.0       2.0.0  B39CEB8B-2414-4018-91B8-CE1A75F1CCEE  \n",
       "\n",
       "[507257 rows x 8 columns]"
      ]
     },
     "execution_count": 9,
     "metadata": {},
     "output_type": "execute_result"
    }
   ],
   "source": [
    "pdf[pdf['versionname'].str.startswith('2')]"
   ]
  },
  {
   "cell_type": "code",
   "execution_count": 5,
   "metadata": {},
   "outputs": [
    {
     "data": {
      "text/plain": [
       "event_key\n",
       "view_lab_tap                         1266665\n",
       "view_timeline_tap                    1194508\n",
       "$session_start                       1036852\n",
       "launch_app                            986388\n",
       "click_question_open                   816801\n",
       "click_bottom_navigation_questions     769163\n",
       "click_bottom_navigation_profile       653507\n",
       "$session_end                          649658\n",
       "click_bottom_navigation_timeline      536051\n",
       "skip_question                         454981\n",
       "click_bottom_navigation_lab           453683\n",
       "view_profile_tap                      413294\n",
       "view_questions_tap                    353400\n",
       "click_appbar_alarm_center             253541\n",
       "click_notice_detail                   229358\n",
       "click_question_start                  220385\n",
       "click_random_ask_shuffle              184217\n",
       "click_attendance                      157737\n",
       "complete_question                     154105\n",
       "click_appbar_chat_rooms               148422\n",
       "click_question_ask                    136766\n",
       "click_question_share                   69241\n",
       "click_timeline_chat_start              50186\n",
       "click_appbar_friend_plus               49545\n",
       "view_login                             49275\n",
       "click_appbar_setting                   26685\n",
       "view_shop                              26607\n",
       "view_signup                            25630\n",
       "click_random_ask_normal                18653\n",
       "click_profile_ask                      14627\n",
       "click_purchase                         13039\n",
       "click_random_ask_other                 11075\n",
       "view_home_tap                           5392\n",
       "click_friend_invite                     3221\n",
       "complete_purchase                       2201\n",
       "click_copy_profile_link_profile         1703\n",
       "click_community_chat                    1335\n",
       "click_invite_friend                     1054\n",
       "complete_signup                          974\n",
       "click_autoadd_contact                    918\n",
       "button                                   428\n",
       "click_copy_profile_link_ask               40\n",
       "view_friendplus_tap                        7\n",
       "click_notice                               1\n",
       "Name: count, dtype: int64"
      ]
     },
     "metadata": {},
     "output_type": "display_data"
    },
    {
     "name": "stdout",
     "output_type": "stream",
     "text": [
      "50.79656386375427\n"
     ]
    }
   ],
   "source": [
    "start = time()\n",
    "pdf = pd.read_parquet(\"hackle_events.parquet\")\n",
    "result = pdf.value_counts('event_key', ascending=False)\n",
    "\n",
    "display(result)\n",
    "print(time()-start)"
   ]
  },
  {
   "cell_type": "markdown",
   "metadata": {},
   "source": [
    "## 2. Polars"
   ]
  },
  {
   "cell_type": "code",
   "execution_count": 16,
   "metadata": {},
   "outputs": [],
   "source": [
    "import polars as pl"
   ]
  },
  {
   "cell_type": "code",
   "execution_count": 3,
   "metadata": {},
   "outputs": [
    {
     "data": {
      "text/html": [
       "<div><style>\n",
       ".dataframe > thead > tr,\n",
       ".dataframe > tbody > tr {\n",
       "  text-align: right;\n",
       "  white-space: pre-wrap;\n",
       "}\n",
       "</style>\n",
       "<small>shape: (44, 2)</small><table border=\"1\" class=\"dataframe\"><thead><tr><th>event_key</th><th>cnt</th></tr><tr><td>str</td><td>u32</td></tr></thead><tbody><tr><td>&quot;view_lab_tap&quot;</td><td>1266665</td></tr><tr><td>&quot;view_timeline_tap&quot;</td><td>1194508</td></tr><tr><td>&quot;$session_start&quot;</td><td>1036852</td></tr><tr><td>&quot;launch_app&quot;</td><td>986388</td></tr><tr><td>&quot;click_question_open&quot;</td><td>816801</td></tr><tr><td>&hellip;</td><td>&hellip;</td></tr><tr><td>&quot;click_autoadd_contact&quot;</td><td>918</td></tr><tr><td>&quot;button&quot;</td><td>428</td></tr><tr><td>&quot;click_copy_profile_link_ask&quot;</td><td>40</td></tr><tr><td>&quot;view_friendplus_tap&quot;</td><td>7</td></tr><tr><td>&quot;click_notice&quot;</td><td>1</td></tr></tbody></table></div>"
      ],
      "text/plain": [
       "shape: (44, 2)\n",
       "┌─────────────────────────────┬─────────┐\n",
       "│ event_key                   ┆ cnt     │\n",
       "│ ---                         ┆ ---     │\n",
       "│ str                         ┆ u32     │\n",
       "╞═════════════════════════════╪═════════╡\n",
       "│ view_lab_tap                ┆ 1266665 │\n",
       "│ view_timeline_tap           ┆ 1194508 │\n",
       "│ $session_start              ┆ 1036852 │\n",
       "│ launch_app                  ┆ 986388  │\n",
       "│ click_question_open         ┆ 816801  │\n",
       "│ …                           ┆ …       │\n",
       "│ click_autoadd_contact       ┆ 918     │\n",
       "│ button                      ┆ 428     │\n",
       "│ click_copy_profile_link_ask ┆ 40      │\n",
       "│ view_friendplus_tap         ┆ 7       │\n",
       "│ click_notice                ┆ 1       │\n",
       "└─────────────────────────────┴─────────┘"
      ]
     },
     "metadata": {},
     "output_type": "display_data"
    },
    {
     "name": "stdout",
     "output_type": "stream",
     "text": [
      "12.173315048217773\n"
     ]
    }
   ],
   "source": [
    "start = time()\n",
    "pldf = pl.read_parquet(\"hackle_events.parquet\")\n",
    "result = pldf.group_by('event_key').agg(cnt = pl.col('id').count()).sort('cnt', descending=True)\n",
    "\n",
    "display(result)\n",
    "print(time()-start)"
   ]
  },
  {
   "cell_type": "code",
   "execution_count": 18,
   "metadata": {},
   "outputs": [
    {
     "data": {
      "text/plain": [
       "(13039, 11)"
      ]
     },
     "execution_count": 18,
     "metadata": {},
     "output_type": "execute_result"
    }
   ],
   "source": [
    "pldf.filter(pl.col('item_name') != '').shape"
   ]
  },
  {
   "cell_type": "code",
   "execution_count": 22,
   "metadata": {},
   "outputs": [
    {
     "data": {
      "text/html": [
       "<div><style>\n",
       ".dataframe > thead > tr,\n",
       ".dataframe > tbody > tr {\n",
       "  text-align: right;\n",
       "  white-space: pre-wrap;\n",
       "}\n",
       "</style>\n",
       "<small>shape: (5, 11)</small><table border=\"1\" class=\"dataframe\"><thead><tr><th>event_id</th><th>event_datetime</th><th>event_key</th><th>session_id</th><th>id</th><th>item_name</th><th>page_name</th><th>friend_count</th><th>votes_count</th><th>heart_balance</th><th>question_id</th></tr><tr><td>str</td><td>datetime[ms]</td><td>str</td><td>str</td><td>str</td><td>str</td><td>str</td><td>f64</td><td>f64</td><td>f64</td><td>f64</td></tr></thead><tbody><tr><td>&quot;00000533-3f1c-4b3b-81f1-0c8f35…</td><td>2023-07-18 19:40:17</td><td>&quot;$session_start&quot;</td><td>&quot;4OzYh3seq3VKytpSn5pvQkZNQii1&quot;</td><td>&quot;00000533-3f1c-4b3b-81f1-0c8f35…</td><td>&quot;&quot;</td><td>&quot;&quot;</td><td>null</td><td>null</td><td>null</td><td>null</td></tr><tr><td>&quot;00000716-27e9-4e72-a602-d0ce61…</td><td>2023-07-18 21:07:24</td><td>&quot;click_question_open&quot;</td><td>&quot;8QXy31PQxbW9qLzq0Y1dhR8Ypm52&quot;</td><td>&quot;00000716-27e9-4e72-a602-d0ce61…</td><td>&quot;&quot;</td><td>&quot;&quot;</td><td>64.0</td><td>436.0</td><td>4830.0</td><td>null</td></tr><tr><td>&quot;000007c8-68ce-40e6-9b1e-f0e34e…</td><td>2023-08-06 20:18:03</td><td>&quot;click_bottom_navigation_profil…</td><td>&quot;6bcea65d-9f40-46fc-888c-700fe7…</td><td>&quot;000007c8-68ce-40e6-9b1e-f0e34e…</td><td>&quot;&quot;</td><td>&quot;&quot;</td><td>26.0</td><td>174.0</td><td>4729.0</td><td>null</td></tr><tr><td>&quot;00000981-5e2a-4111-993e-4f1891…</td><td>2023-08-05 01:46:10</td><td>&quot;view_shop&quot;</td><td>&quot;XVYNT6zfhFWqIg9omwg2AHDjTLx2&quot;</td><td>&quot;00000981-5e2a-4111-993e-4f1891…</td><td>&quot;&quot;</td><td>&quot;&quot;</td><td>61.0</td><td>44.0</td><td>142.0</td><td>null</td></tr><tr><td>&quot;00000a7a-ba72-4332-b4a9-791067…</td><td>2023-07-24 15:03:37</td><td>&quot;click_bottom_navigation_lab&quot;</td><td>&quot;XFB2SPiGfjbVhvJ3Q3DBsaT3m2B3&quot;</td><td>&quot;00000a7a-ba72-4332-b4a9-791067…</td><td>&quot;&quot;</td><td>&quot;&quot;</td><td>119.0</td><td>545.0</td><td>3287.0</td><td>null</td></tr></tbody></table></div>"
      ],
      "text/plain": [
       "shape: (5, 11)\n",
       "┌───────────┬───────────┬───────────┬───────────┬───┬───────────┬───────────┬───────────┬──────────┐\n",
       "│ event_id  ┆ event_dat ┆ event_key ┆ session_i ┆ … ┆ friend_co ┆ votes_cou ┆ heart_bal ┆ question │\n",
       "│ ---       ┆ etime     ┆ ---       ┆ d         ┆   ┆ unt       ┆ nt        ┆ ance      ┆ _id      │\n",
       "│ str       ┆ ---       ┆ str       ┆ ---       ┆   ┆ ---       ┆ ---       ┆ ---       ┆ ---      │\n",
       "│           ┆ datetime[ ┆           ┆ str       ┆   ┆ f64       ┆ f64       ┆ f64       ┆ f64      │\n",
       "│           ┆ ms]       ┆           ┆           ┆   ┆           ┆           ┆           ┆          │\n",
       "╞═══════════╪═══════════╪═══════════╪═══════════╪═══╪═══════════╪═══════════╪═══════════╪══════════╡\n",
       "│ 00000533- ┆ 2023-07-1 ┆ $session_ ┆ 4OzYh3seq ┆ … ┆ null      ┆ null      ┆ null      ┆ null     │\n",
       "│ 3f1c-4b3b ┆ 8         ┆ start     ┆ 3VKytpSn5 ┆   ┆           ┆           ┆           ┆          │\n",
       "│ -81f1-0c8 ┆ 19:40:17  ┆           ┆ pvQkZNQii ┆   ┆           ┆           ┆           ┆          │\n",
       "│ f35…      ┆           ┆           ┆ 1         ┆   ┆           ┆           ┆           ┆          │\n",
       "│ 00000716- ┆ 2023-07-1 ┆ click_que ┆ 8QXy31PQx ┆ … ┆ 64.0      ┆ 436.0     ┆ 4830.0    ┆ null     │\n",
       "│ 27e9-4e72 ┆ 8         ┆ stion_ope ┆ bW9qLzq0Y ┆   ┆           ┆           ┆           ┆          │\n",
       "│ -a602-d0c ┆ 21:07:24  ┆ n         ┆ 1dhR8Ypm5 ┆   ┆           ┆           ┆           ┆          │\n",
       "│ e61…      ┆           ┆           ┆ 2         ┆   ┆           ┆           ┆           ┆          │\n",
       "│ 000007c8- ┆ 2023-08-0 ┆ click_bot ┆ 6bcea65d- ┆ … ┆ 26.0      ┆ 174.0     ┆ 4729.0    ┆ null     │\n",
       "│ 68ce-40e6 ┆ 6         ┆ tom_navig ┆ 9f40-46fc ┆   ┆           ┆           ┆           ┆          │\n",
       "│ -9b1e-f0e ┆ 20:18:03  ┆ ation_pro ┆ -888c-700 ┆   ┆           ┆           ┆           ┆          │\n",
       "│ 34e…      ┆           ┆ fil…      ┆ fe7…      ┆   ┆           ┆           ┆           ┆          │\n",
       "│ 00000981- ┆ 2023-08-0 ┆ view_shop ┆ XVYNT6zfh ┆ … ┆ 61.0      ┆ 44.0      ┆ 142.0     ┆ null     │\n",
       "│ 5e2a-4111 ┆ 5         ┆           ┆ FWqIg9omw ┆   ┆           ┆           ┆           ┆          │\n",
       "│ -993e-4f1 ┆ 01:46:10  ┆           ┆ g2AHDjTLx ┆   ┆           ┆           ┆           ┆          │\n",
       "│ 891…      ┆           ┆           ┆ 2         ┆   ┆           ┆           ┆           ┆          │\n",
       "│ 00000a7a- ┆ 2023-07-2 ┆ click_bot ┆ XFB2SPiGf ┆ … ┆ 119.0     ┆ 545.0     ┆ 3287.0    ┆ null     │\n",
       "│ ba72-4332 ┆ 4         ┆ tom_navig ┆ jbVhvJ3Q3 ┆   ┆           ┆           ┆           ┆          │\n",
       "│ -b4a9-791 ┆ 15:03:37  ┆ ation_lab ┆ DBsaT3m2B ┆   ┆           ┆           ┆           ┆          │\n",
       "│ 067…      ┆           ┆           ┆ 3         ┆   ┆           ┆           ┆           ┆          │\n",
       "└───────────┴───────────┴───────────┴───────────┴───┴───────────┴───────────┴───────────┴──────────┘"
      ]
     },
     "execution_count": 22,
     "metadata": {},
     "output_type": "execute_result"
    }
   ],
   "source": [
    "pldf.head()"
   ]
  },
  {
   "cell_type": "code",
   "execution_count": 7,
   "metadata": {},
   "outputs": [
    {
     "data": {
      "text/html": [
       "<div><style>\n",
       ".dataframe > thead > tr,\n",
       ".dataframe > tbody > tr {\n",
       "  text-align: right;\n",
       "  white-space: pre-wrap;\n",
       "}\n",
       "</style>\n",
       "<small>shape: (44, 2)</small><table border=\"1\" class=\"dataframe\"><thead><tr><th>event_key</th><th>cnt</th></tr><tr><td>str</td><td>u32</td></tr></thead><tbody><tr><td>&quot;view_lab_tap&quot;</td><td>1266665</td></tr><tr><td>&quot;view_timeline_tap&quot;</td><td>1194508</td></tr><tr><td>&quot;$session_start&quot;</td><td>1036852</td></tr><tr><td>&quot;launch_app&quot;</td><td>986388</td></tr><tr><td>&quot;click_question_open&quot;</td><td>816801</td></tr><tr><td>&hellip;</td><td>&hellip;</td></tr><tr><td>&quot;click_autoadd_contact&quot;</td><td>918</td></tr><tr><td>&quot;button&quot;</td><td>428</td></tr><tr><td>&quot;click_copy_profile_link_ask&quot;</td><td>40</td></tr><tr><td>&quot;view_friendplus_tap&quot;</td><td>7</td></tr><tr><td>&quot;click_notice&quot;</td><td>1</td></tr></tbody></table></div>"
      ],
      "text/plain": [
       "shape: (44, 2)\n",
       "┌─────────────────────────────┬─────────┐\n",
       "│ event_key                   ┆ cnt     │\n",
       "│ ---                         ┆ ---     │\n",
       "│ str                         ┆ u32     │\n",
       "╞═════════════════════════════╪═════════╡\n",
       "│ view_lab_tap                ┆ 1266665 │\n",
       "│ view_timeline_tap           ┆ 1194508 │\n",
       "│ $session_start              ┆ 1036852 │\n",
       "│ launch_app                  ┆ 986388  │\n",
       "│ click_question_open         ┆ 816801  │\n",
       "│ …                           ┆ …       │\n",
       "│ click_autoadd_contact       ┆ 918     │\n",
       "│ button                      ┆ 428     │\n",
       "│ click_copy_profile_link_ask ┆ 40      │\n",
       "│ view_friendplus_tap         ┆ 7       │\n",
       "│ click_notice                ┆ 1       │\n",
       "└─────────────────────────────┴─────────┘"
      ]
     },
     "execution_count": 7,
     "metadata": {},
     "output_type": "execute_result"
    }
   ],
   "source": [
    "pldf \\\n",
    "    .group_by('event_key')\\\n",
    "        .agg(cnt = pl.col('event_key').count())\\\n",
    "            .sort('cnt', descending=True)"
   ]
  },
  {
   "cell_type": "markdown",
   "metadata": {},
   "source": [
    "## 3. DuckDB"
   ]
  },
  {
   "cell_type": "code",
   "execution_count": 10,
   "metadata": {},
   "outputs": [],
   "source": [
    "import duckdb as dd"
   ]
  },
  {
   "cell_type": "code",
   "execution_count": null,
   "metadata": {},
   "outputs": [],
   "source": [
    "start = time()\n",
    "ddf = dd.read_parquet('hackle_events.parquet')\n",
    "result = dd.query(\"SELECT event_key, COUNT(event_key) AS cnt FROM ddf GROUP BY event_key ORDER BY cnt DESC\")\n",
    "display(result.df())\n",
    "print(time()-start)"
   ]
  },
  {
   "cell_type": "code",
   "execution_count": 4,
   "metadata": {},
   "outputs": [
    {
     "name": "stdout",
     "output_type": "stream",
     "text": [
      "┌──────────────────────────────────────┬─────────────────────┬──────────────────────────────────┬──────────────────────────────────────┬──────────────────────────────────────┬───────────┬───────────┬──────────────┬─────────────┬───────────────┬─────────────┐\n",
      "│               event_id               │   event_datetime    │            event_key             │              session_id              │                  id                  │ item_name │ page_name │ friend_count │ votes_count │ heart_balance │ question_id │\n",
      "│               varchar                │      timestamp      │             varchar              │               varchar                │               varchar                │  varchar  │  varchar  │    double    │   double    │    double     │   double    │\n",
      "├──────────────────────────────────────┼─────────────────────┼──────────────────────────────────┼──────────────────────────────────────┼──────────────────────────────────────┼───────────┼───────────┼──────────────┼─────────────┼───────────────┼─────────────┤\n",
      "│ 00000533-3f1c-4b3b-81f1-0c8f35754b4e │ 2023-07-18 19:40:17 │ $session_start                   │ 4OzYh3seq3VKytpSn5pvQkZNQii1         │ 00000533-3f1c-4b3b-81f1-0c8f35754b4e │           │           │         NULL │        NULL │          NULL │        NULL │\n",
      "│ 00000716-27e9-4e72-a602-d0ce61784b06 │ 2023-07-18 21:07:24 │ click_question_open              │ 8QXy31PQxbW9qLzq0Y1dhR8Ypm52         │ 00000716-27e9-4e72-a602-d0ce61784b06 │           │           │         64.0 │       436.0 │        4830.0 │        NULL │\n",
      "│ 000007c8-68ce-40e6-9b1e-f0e34e8ff9cc │ 2023-08-06 20:18:03 │ click_bottom_navigation_profile  │ 6bcea65d-9f40-46fc-888c-700fe707483f │ 000007c8-68ce-40e6-9b1e-f0e34e8ff9cc │           │           │         26.0 │       174.0 │        4729.0 │        NULL │\n",
      "│ 00000981-5e2a-4111-993e-4f1891ad9a53 │ 2023-08-05 01:46:10 │ view_shop                        │ XVYNT6zfhFWqIg9omwg2AHDjTLx2         │ 00000981-5e2a-4111-993e-4f1891ad9a53 │           │           │         61.0 │        44.0 │         142.0 │        NULL │\n",
      "│ 00000a7a-ba72-4332-b4a9-7910670aaeb2 │ 2023-07-24 15:03:37 │ click_bottom_navigation_lab      │ XFB2SPiGfjbVhvJ3Q3DBsaT3m2B3         │ 00000a7a-ba72-4332-b4a9-7910670aaeb2 │           │           │        119.0 │       545.0 │        3287.0 │        NULL │\n",
      "│                  ·                   │          ·          │              ·                   │              ·                       │                  ·                   │     ·     │     ·     │           ·  │         ·   │           ·   │          ·  │\n",
      "│                  ·                   │          ·          │              ·                   │              ·                       │                  ·                   │     ·     │     ·     │           ·  │         ·   │           ·   │          ·  │\n",
      "│                  ·                   │          ·          │              ·                   │              ·                       │                  ·                   │     ·     │     ·     │           ·  │         ·   │           ·   │          ·  │\n",
      "│ 0039d048-1320-446e-842a-d8cc89335c01 │ 2023-08-05 21:13:30 │ click_bottom_navigation_timeline │ ZcSM0Bxf81YREA0LSQHpqlhw73K3         │ 0039d048-1320-446e-842a-d8cc89335c01 │           │           │         75.0 │       240.0 │         602.0 │        NULL │\n",
      "│ 0039d154-21cd-4564-b10a-45b4e372edb8 │ 2023-07-28 21:33:08 │ click_bottom_navigation_timeline │ 6B54C802-B87C-4D62-B6A4-27279BFC95B7 │ 0039d154-21cd-4564-b10a-45b4e372edb8 │           │           │         39.0 │       117.0 │        1309.0 │        NULL │\n",
      "│ 0039d4fd-6f7d-4451-82a9-b6ffa2de1c15 │ 2023-07-19 01:10:52 │ click_question_ask               │ 17530014-7915-4ffd-881e-37bd1845a8e2 │ 0039d4fd-6f7d-4451-82a9-b6ffa2de1c15 │           │ home      │         54.0 │       539.0 │        2900.0 │        NULL │\n",
      "│ 0039d5c9-8f4f-4c8a-b0d6-8f0b864e88e2 │ 2023-07-18 15:22:00 │ view_lab_tap                     │ SXIPvI4chnf6er4XDVTkgj0r3XC3         │ 0039d5c9-8f4f-4c8a-b0d6-8f0b864e88e2 │           │           │         29.0 │        65.0 │        9552.0 │        NULL │\n",
      "│ 0039d784-04a4-4f3a-b73a-3ea9612206f9 │ 2023-08-02 11:34:32 │ $session_start                   │ uA6JYWIgyeW3ewyxquyErIN98Z53         │ 0039d784-04a4-4f3a-b73a-3ea9612206f9 │           │           │         80.0 │      1075.0 │        7788.0 │        NULL │\n",
      "├──────────────────────────────────────┴─────────────────────┴──────────────────────────────────┴──────────────────────────────────────┴──────────────────────────────────────┴───────────┴───────────┴──────────────┴─────────────┴───────────────┴─────────────┤\n",
      "│ ? rows (>9999 rows, 10 shown)                                                                                                                                                                                                                       11 columns │\n",
      "└────────────────────────────────────────────────────────────────────────────────────────────────────────────────────────────────────────────────────────────────────────────────────────────────────────────────────────────────────────────────────────────────┘\n",
      "\n"
     ]
    }
   ],
   "source": [
    "ddf.show(max_rows = 10)"
   ]
  },
  {
   "cell_type": "code",
   "execution_count": 5,
   "metadata": {},
   "outputs": [
    {
     "name": "stdout",
     "output_type": "stream",
     "text": [
      "┌──────────────────────────────────────┬─────────────────────┬────────────────┬──────────────────────────────────────┬──────────────────────────────────────┬────────────┬───────────┬──────────────┬─────────────┬───────────────┬─────────────┐\n",
      "│               event_id               │   event_datetime    │   event_key    │              session_id              │                  id                  │ item_name  │ page_name │ friend_count │ votes_count │ heart_balance │ question_id │\n",
      "│               varchar                │      timestamp      │    varchar     │               varchar                │               varchar                │  varchar   │  varchar  │    double    │   double    │    double     │   double    │\n",
      "├──────────────────────────────────────┼─────────────────────┼────────────────┼──────────────────────────────────────┼──────────────────────────────────────┼────────────┼───────────┼──────────────┼─────────────┼───────────────┼─────────────┤\n",
      "│ 00063238-57cd-4cb5-901e-73fbf0620307 │ 2023-08-07 13:46:19 │ click_purchase │ 0f764eda-71d7-416d-ae88-546fdf84caa9 │ 00063238-57cd-4cb5-901e-73fbf0620307 │ 777 하트   │           │         24.0 │        29.0 │         508.0 │        NULL │\n",
      "│ 00082bfc-acec-43df-bd3c-81771e2f8813 │ 2023-07-28 18:43:21 │ click_purchase │ 16504bf1-6ef0-4bb2-bd6a-5bc8d3f3072e │ 00082bfc-acec-43df-bd3c-81771e2f8813 │ 무료충전소 │           │          0.0 │         0.0 │          73.0 │        NULL │\n",
      "│ 000e1ff0-fcd7-4cee-b107-29f681f42c59 │ 2023-08-06 21:10:30 │ click_purchase │ F5CF51C8-6251-4C34-9357-94B5E850E920 │ 000e1ff0-fcd7-4cee-b107-29f681f42c59 │ 777 하트   │           │         38.0 │        18.0 │         383.0 │        NULL │\n",
      "│ 000f4c25-4e91-40d4-aaa1-b885692a0556 │ 2023-07-21 00:56:25 │ click_purchase │ QrYhVx4Ov4VvHkUysXoLNfCUHhx2         │ 000f4c25-4e91-40d4-aaa1-b885692a0556 │ 무료충전소 │           │         26.0 │       126.0 │         488.0 │        NULL │\n",
      "│ 0019f440-6bd4-4361-9f72-604d1a561933 │ 2023-07-31 18:56:58 │ click_purchase │ vOsUU67CntVzruO4TMvmk3oW5Qq1         │ 0019f440-6bd4-4361-9f72-604d1a561933 │ 1000 하트  │           │         95.0 │       424.0 │         242.0 │        NULL │\n",
      "│ 001c1aac-04a6-4586-807e-db7a7950119e │ 2023-08-01 01:07:39 │ click_purchase │ 0G95P4N4WaWn1BLyZhrCHoezr8q1         │ 001c1aac-04a6-4586-807e-db7a7950119e │ 200 하트   │           │         62.0 │       546.0 │         448.0 │        NULL │\n",
      "│ 00294205-a0b4-44cf-b044-a1b1b5ee0f95 │ 2023-07-19 20:42:38 │ click_purchase │ CECC1466-8D7B-42BC-BDF9-7AA5232F3413 │ 00294205-a0b4-44cf-b044-a1b1b5ee0f95 │ 무료충전소 │           │          0.0 │        73.0 │         337.0 │        NULL │\n",
      "│ 002fec9c-33a0-4621-b8e4-87d166690356 │ 2023-07-25 00:04:28 │ click_purchase │ tQHPSrc5DheXRTVRCxNDhrfE0dn1         │ 002fec9c-33a0-4621-b8e4-87d166690356 │ 777 하트   │           │         48.0 │       657.0 │         205.0 │        NULL │\n",
      "│ 00322e58-a228-467c-9044-e17d81025005 │ 2023-07-29 18:38:41 │ click_purchase │ qmQXDWallYWIOCTSp7aQKckG3rv2         │ 00322e58-a228-467c-9044-e17d81025005 │ 777 하트   │           │         68.0 │       209.0 │         139.0 │        NULL │\n",
      "│ 003276da-a4e1-4a48-88f2-738947638d3b │ 2023-07-18 20:53:28 │ click_purchase │ 2TWzHRM5N4Ya6oAhy5oTc6tn3b12         │ 003276da-a4e1-4a48-88f2-738947638d3b │ 무료충전소 │           │         54.0 │       162.0 │         901.0 │        NULL │\n",
      "│                  ·                   │          ·          │       ·        │              ·                       │                  ·                   │    ·       │     ·     │           ·  │         ·   │           ·   │          ·  │\n",
      "│                  ·                   │          ·          │       ·        │              ·                       │                  ·                   │    ·       │     ·     │           ·  │         ·   │           ·   │          ·  │\n",
      "│                  ·                   │          ·          │       ·        │              ·                       │                  ·                   │    ·       │     ·     │           ·  │         ·   │           ·   │          ·  │\n",
      "│ c2613686-6244-4abc-822d-a26f30bbe31c │ 2023-07-22 12:42:06 │ click_purchase │ B5EA1500-AB9B-4343-8140-7CF7C12ABEB9 │ c2613686-6244-4abc-822d-a26f30bbe31c │ 777 하트   │           │         86.0 │       247.0 │       16437.0 │        NULL │\n",
      "│ c261b3cd-469a-48bf-876e-615050b51d54 │ 2023-07-21 05:56:46 │ click_purchase │ z1c8tU7OXsfyGiAs2pE39SIiXnX2         │ c261b3cd-469a-48bf-876e-615050b51d54 │ 777 하트   │           │         88.0 │       253.0 │         417.0 │        NULL │\n",
      "│ c26bd311-0fc6-4338-a4dc-48b7b7f74bfa │ 2023-07-22 01:29:22 │ click_purchase │ BjBdTOPXX7gZ39mJ4NOJLTtvYjn1         │ c26bd311-0fc6-4338-a4dc-48b7b7f74bfa │ 무료충전소 │           │         31.0 │        70.0 │          48.0 │        NULL │\n",
      "│ c27c83ab-5e62-49a7-876e-661c75f440e6 │ 2023-08-04 01:43:30 │ click_purchase │ bpAyjWzAHfYrEaQbqo55uesx7gF2         │ c27c83ab-5e62-49a7-876e-661c75f440e6 │ 무료충전소 │           │         50.0 │       422.0 │         953.0 │        NULL │\n",
      "│ c2810ba7-1fc8-433e-bf31-3a5e4ab7dce1 │ 2023-08-05 03:02:28 │ click_purchase │ 24ce6324-02e1-4c3b-b335-9e160b68c19c │ c2810ba7-1fc8-433e-bf31-3a5e4ab7dce1 │ 200 하트   │           │         33.0 │        79.0 │         142.0 │        NULL │\n",
      "│ c28a86d0-486b-4974-a31b-e9e9e2d6b9fb │ 2023-07-20 22:49:30 │ click_purchase │ qkXEjWlLMJVh16v8pmsENLB1A222         │ c28a86d0-486b-4974-a31b-e9e9e2d6b9fb │ 무료충전소 │           │         34.0 │       138.0 │         444.0 │        NULL │\n",
      "│ c28bf931-af0f-4538-8ca3-636debb18577 │ 2023-07-31 05:21:37 │ click_purchase │ OTu5LQlmnwgMEa2Dtx8RK4prj202         │ c28bf931-af0f-4538-8ca3-636debb18577 │ 777 하트   │           │         11.0 │        20.0 │         102.0 │        NULL │\n",
      "│ c28e3245-5418-4817-a74c-b371b961b411 │ 2023-08-06 11:06:18 │ click_purchase │ A4Z5gceFmLNu9hiFVv98oQY1lSf2         │ c28e3245-5418-4817-a74c-b371b961b411 │ 777 하트   │           │         22.0 │        25.0 │         185.0 │        NULL │\n",
      "│ c29414e4-270b-46c2-a2c5-663f7ca534b9 │ 2023-08-02 01:10:21 │ click_purchase │ yFlYaWDCNacl8G0rQcZY36zqOm42         │ c29414e4-270b-46c2-a2c5-663f7ca534b9 │ 777 하트   │           │         59.0 │       322.0 │         155.0 │        NULL │\n",
      "│ c29ad65f-e328-4fb1-92a3-57b5ffec1f3a │ 2023-07-23 18:18:34 │ click_purchase │ F6195E47-C8B3-4649-8778-72E3BAF24108 │ c29ad65f-e328-4fb1-92a3-57b5ffec1f3a │ 무료충전소 │           │        120.0 │       470.0 │         300.0 │        NULL │\n",
      "├──────────────────────────────────────┴─────────────────────┴────────────────┴──────────────────────────────────────┴──────────────────────────────────────┴────────────┴───────────┴──────────────┴─────────────┴───────────────┴─────────────┤\n",
      "│ ? rows (>9999 rows, 20 shown)                                                                                                                                                                                                      11 columns │\n",
      "└───────────────────────────────────────────────────────────────────────────────────────────────────────────────────────────────────────────────────────────────────────────────────────────────────────────────────────────────────────────────┘\n",
      "\n"
     ]
    }
   ],
   "source": [
    "dd.sql(\"SELECT * FROM ddf WHERE item_name != ''\").show()"
   ]
  },
  {
   "cell_type": "code",
   "execution_count": 10,
   "metadata": {},
   "outputs": [
    {
     "data": {
      "text/plain": [
       "┌───────────────────────────────────┬─────────┐\n",
       "│             event_key             │   cnt   │\n",
       "│              varchar              │  int64  │\n",
       "├───────────────────────────────────┼─────────┤\n",
       "│ view_lab_tap                      │ 1266665 │\n",
       "│ view_timeline_tap                 │ 1194508 │\n",
       "│ $session_start                    │ 1036852 │\n",
       "│ launch_app                        │  986388 │\n",
       "│ click_question_open               │  816801 │\n",
       "│ click_bottom_navigation_questions │  769163 │\n",
       "│ click_bottom_navigation_profile   │  653507 │\n",
       "│ $session_end                      │  649658 │\n",
       "│ click_bottom_navigation_timeline  │  536051 │\n",
       "│ skip_question                     │  454981 │\n",
       "│       ·                           │      ·  │\n",
       "│       ·                           │      ·  │\n",
       "│       ·                           │      ·  │\n",
       "│ complete_purchase                 │    2201 │\n",
       "│ click_copy_profile_link_profile   │    1703 │\n",
       "│ click_community_chat              │    1335 │\n",
       "│ click_invite_friend               │    1054 │\n",
       "│ complete_signup                   │     974 │\n",
       "│ click_autoadd_contact             │     918 │\n",
       "│ button                            │     428 │\n",
       "│ click_copy_profile_link_ask       │      40 │\n",
       "│ view_friendplus_tap               │       7 │\n",
       "│ click_notice                      │       1 │\n",
       "├───────────────────────────────────┴─────────┤\n",
       "│ 44 rows (20 shown)                2 columns │\n",
       "└─────────────────────────────────────────────┘"
      ]
     },
     "execution_count": 10,
     "metadata": {},
     "output_type": "execute_result"
    }
   ],
   "source": [
    "g_df = dd.sql(\"SELECT event_key, COUNT(event_key) AS cnt FROM ddf GROUP BY event_key ORDER BY cnt DESC\")\n",
    "\n",
    "g_df"
   ]
  },
  {
   "cell_type": "code",
   "execution_count": 20,
   "metadata": {},
   "outputs": [],
   "source": [
    "conn = dd.connect('local.db')"
   ]
  },
  {
   "cell_type": "code",
   "execution_count": 23,
   "metadata": {},
   "outputs": [
    {
     "data": {
      "text/plain": [
       "<duckdb.duckdb.DuckDBPyConnection at 0x279ee3680f0>"
      ]
     },
     "execution_count": 23,
     "metadata": {},
     "output_type": "execute_result"
    }
   ],
   "source": [
    "conn.register(\"h_event\", pldf)"
   ]
  },
  {
   "cell_type": "code",
   "execution_count": 25,
   "metadata": {},
   "outputs": [
    {
     "data": {
      "text/html": [
       "<div>\n",
       "<style scoped>\n",
       "    .dataframe tbody tr th:only-of-type {\n",
       "        vertical-align: middle;\n",
       "    }\n",
       "\n",
       "    .dataframe tbody tr th {\n",
       "        vertical-align: top;\n",
       "    }\n",
       "\n",
       "    .dataframe thead th {\n",
       "        text-align: right;\n",
       "    }\n",
       "</style>\n",
       "<table border=\"1\" class=\"dataframe\">\n",
       "  <thead>\n",
       "    <tr style=\"text-align: right;\">\n",
       "      <th></th>\n",
       "      <th>name</th>\n",
       "    </tr>\n",
       "  </thead>\n",
       "  <tbody>\n",
       "    <tr>\n",
       "      <th>0</th>\n",
       "      <td>h_event</td>\n",
       "    </tr>\n",
       "  </tbody>\n",
       "</table>\n",
       "</div>"
      ],
      "text/plain": [
       "      name\n",
       "0  h_event"
      ]
     },
     "execution_count": 25,
     "metadata": {},
     "output_type": "execute_result"
    }
   ],
   "source": [
    "conn.execute(\"SHOW TABLES\").df()"
   ]
  },
  {
   "cell_type": "code",
   "execution_count": 29,
   "metadata": {},
   "outputs": [
    {
     "data": {
      "text/html": [
       "<div>\n",
       "<style scoped>\n",
       "    .dataframe tbody tr th:only-of-type {\n",
       "        vertical-align: middle;\n",
       "    }\n",
       "\n",
       "    .dataframe tbody tr th {\n",
       "        vertical-align: top;\n",
       "    }\n",
       "\n",
       "    .dataframe thead th {\n",
       "        text-align: right;\n",
       "    }\n",
       "</style>\n",
       "<table border=\"1\" class=\"dataframe\">\n",
       "  <thead>\n",
       "    <tr style=\"text-align: right;\">\n",
       "      <th></th>\n",
       "      <th>event_id</th>\n",
       "      <th>event_datetime</th>\n",
       "      <th>event_key</th>\n",
       "      <th>session_id</th>\n",
       "      <th>id</th>\n",
       "      <th>item_name</th>\n",
       "      <th>page_name</th>\n",
       "      <th>friend_count</th>\n",
       "      <th>votes_count</th>\n",
       "      <th>heart_balance</th>\n",
       "      <th>question_id</th>\n",
       "    </tr>\n",
       "  </thead>\n",
       "  <tbody>\n",
       "    <tr>\n",
       "      <th>0</th>\n",
       "      <td>00000533-3f1c-4b3b-81f1-0c8f35754b4e</td>\n",
       "      <td>2023-07-18 19:40:17</td>\n",
       "      <td>$session_start</td>\n",
       "      <td>4OzYh3seq3VKytpSn5pvQkZNQii1</td>\n",
       "      <td>00000533-3f1c-4b3b-81f1-0c8f35754b4e</td>\n",
       "      <td></td>\n",
       "      <td></td>\n",
       "      <td>NaN</td>\n",
       "      <td>NaN</td>\n",
       "      <td>NaN</td>\n",
       "      <td>NaN</td>\n",
       "    </tr>\n",
       "    <tr>\n",
       "      <th>1</th>\n",
       "      <td>00000716-27e9-4e72-a602-d0ce61784b06</td>\n",
       "      <td>2023-07-18 21:07:24</td>\n",
       "      <td>click_question_open</td>\n",
       "      <td>8QXy31PQxbW9qLzq0Y1dhR8Ypm52</td>\n",
       "      <td>00000716-27e9-4e72-a602-d0ce61784b06</td>\n",
       "      <td></td>\n",
       "      <td></td>\n",
       "      <td>64.0</td>\n",
       "      <td>436.0</td>\n",
       "      <td>4830.0</td>\n",
       "      <td>NaN</td>\n",
       "    </tr>\n",
       "    <tr>\n",
       "      <th>2</th>\n",
       "      <td>000007c8-68ce-40e6-9b1e-f0e34e8ff9cc</td>\n",
       "      <td>2023-08-06 20:18:03</td>\n",
       "      <td>click_bottom_navigation_profile</td>\n",
       "      <td>6bcea65d-9f40-46fc-888c-700fe707483f</td>\n",
       "      <td>000007c8-68ce-40e6-9b1e-f0e34e8ff9cc</td>\n",
       "      <td></td>\n",
       "      <td></td>\n",
       "      <td>26.0</td>\n",
       "      <td>174.0</td>\n",
       "      <td>4729.0</td>\n",
       "      <td>NaN</td>\n",
       "    </tr>\n",
       "    <tr>\n",
       "      <th>3</th>\n",
       "      <td>00000981-5e2a-4111-993e-4f1891ad9a53</td>\n",
       "      <td>2023-08-05 01:46:10</td>\n",
       "      <td>view_shop</td>\n",
       "      <td>XVYNT6zfhFWqIg9omwg2AHDjTLx2</td>\n",
       "      <td>00000981-5e2a-4111-993e-4f1891ad9a53</td>\n",
       "      <td></td>\n",
       "      <td></td>\n",
       "      <td>61.0</td>\n",
       "      <td>44.0</td>\n",
       "      <td>142.0</td>\n",
       "      <td>NaN</td>\n",
       "    </tr>\n",
       "    <tr>\n",
       "      <th>4</th>\n",
       "      <td>00000a7a-ba72-4332-b4a9-7910670aaeb2</td>\n",
       "      <td>2023-07-24 15:03:37</td>\n",
       "      <td>click_bottom_navigation_lab</td>\n",
       "      <td>XFB2SPiGfjbVhvJ3Q3DBsaT3m2B3</td>\n",
       "      <td>00000a7a-ba72-4332-b4a9-7910670aaeb2</td>\n",
       "      <td></td>\n",
       "      <td></td>\n",
       "      <td>119.0</td>\n",
       "      <td>545.0</td>\n",
       "      <td>3287.0</td>\n",
       "      <td>NaN</td>\n",
       "    </tr>\n",
       "  </tbody>\n",
       "</table>\n",
       "</div>"
      ],
      "text/plain": [
       "                               event_id      event_datetime  \\\n",
       "0  00000533-3f1c-4b3b-81f1-0c8f35754b4e 2023-07-18 19:40:17   \n",
       "1  00000716-27e9-4e72-a602-d0ce61784b06 2023-07-18 21:07:24   \n",
       "2  000007c8-68ce-40e6-9b1e-f0e34e8ff9cc 2023-08-06 20:18:03   \n",
       "3  00000981-5e2a-4111-993e-4f1891ad9a53 2023-08-05 01:46:10   \n",
       "4  00000a7a-ba72-4332-b4a9-7910670aaeb2 2023-07-24 15:03:37   \n",
       "\n",
       "                         event_key                            session_id  \\\n",
       "0                   $session_start          4OzYh3seq3VKytpSn5pvQkZNQii1   \n",
       "1              click_question_open          8QXy31PQxbW9qLzq0Y1dhR8Ypm52   \n",
       "2  click_bottom_navigation_profile  6bcea65d-9f40-46fc-888c-700fe707483f   \n",
       "3                        view_shop          XVYNT6zfhFWqIg9omwg2AHDjTLx2   \n",
       "4      click_bottom_navigation_lab          XFB2SPiGfjbVhvJ3Q3DBsaT3m2B3   \n",
       "\n",
       "                                     id item_name page_name  friend_count  \\\n",
       "0  00000533-3f1c-4b3b-81f1-0c8f35754b4e                               NaN   \n",
       "1  00000716-27e9-4e72-a602-d0ce61784b06                              64.0   \n",
       "2  000007c8-68ce-40e6-9b1e-f0e34e8ff9cc                              26.0   \n",
       "3  00000981-5e2a-4111-993e-4f1891ad9a53                              61.0   \n",
       "4  00000a7a-ba72-4332-b4a9-7910670aaeb2                             119.0   \n",
       "\n",
       "   votes_count  heart_balance  question_id  \n",
       "0          NaN            NaN          NaN  \n",
       "1        436.0         4830.0          NaN  \n",
       "2        174.0         4729.0          NaN  \n",
       "3         44.0          142.0          NaN  \n",
       "4        545.0         3287.0          NaN  "
      ]
     },
     "execution_count": 29,
     "metadata": {},
     "output_type": "execute_result"
    }
   ],
   "source": [
    "qq = 'SELECT * FROM h_event LIMIT 5'\n",
    "\n",
    "conn.execute(qq).df()"
   ]
  },
  {
   "cell_type": "code",
   "execution_count": 31,
   "metadata": {},
   "outputs": [
    {
     "data": {
      "text/plain": [
       "┌──────────────────────────────────────┬─────────────────────┬─────────────────────────────────┬──────────────────────────────────────┬──────────────────────────────────────┬───────────┬───────────┬──────────────┬─────────────┬───────────────┬─────────────┐\n",
       "│               event_id               │   event_datetime    │            event_key            │              session_id              │                  id                  │ item_name │ page_name │ friend_count │ votes_count │ heart_balance │ question_id │\n",
       "│               varchar                │    timestamp_ms     │             varchar             │               varchar                │               varchar                │  varchar  │  varchar  │    double    │   double    │    double     │   double    │\n",
       "├──────────────────────────────────────┼─────────────────────┼─────────────────────────────────┼──────────────────────────────────────┼──────────────────────────────────────┼───────────┼───────────┼──────────────┼─────────────┼───────────────┼─────────────┤\n",
       "│ 00000533-3f1c-4b3b-81f1-0c8f35754b4e │ 2023-07-18 19:40:17 │ $session_start                  │ 4OzYh3seq3VKytpSn5pvQkZNQii1         │ 00000533-3f1c-4b3b-81f1-0c8f35754b4e │           │           │         NULL │        NULL │          NULL │        NULL │\n",
       "│ 00000716-27e9-4e72-a602-d0ce61784b06 │ 2023-07-18 21:07:24 │ click_question_open             │ 8QXy31PQxbW9qLzq0Y1dhR8Ypm52         │ 00000716-27e9-4e72-a602-d0ce61784b06 │           │           │         64.0 │       436.0 │        4830.0 │        NULL │\n",
       "│ 000007c8-68ce-40e6-9b1e-f0e34e8ff9cc │ 2023-08-06 20:18:03 │ click_bottom_navigation_profile │ 6bcea65d-9f40-46fc-888c-700fe707483f │ 000007c8-68ce-40e6-9b1e-f0e34e8ff9cc │           │           │         26.0 │       174.0 │        4729.0 │        NULL │\n",
       "│ 00000981-5e2a-4111-993e-4f1891ad9a53 │ 2023-08-05 01:46:10 │ view_shop                       │ XVYNT6zfhFWqIg9omwg2AHDjTLx2         │ 00000981-5e2a-4111-993e-4f1891ad9a53 │           │           │         61.0 │        44.0 │         142.0 │        NULL │\n",
       "│ 00000a7a-ba72-4332-b4a9-7910670aaeb2 │ 2023-07-24 15:03:37 │ click_bottom_navigation_lab     │ XFB2SPiGfjbVhvJ3Q3DBsaT3m2B3         │ 00000a7a-ba72-4332-b4a9-7910670aaeb2 │           │           │        119.0 │       545.0 │        3287.0 │        NULL │\n",
       "└──────────────────────────────────────┴─────────────────────┴─────────────────────────────────┴──────────────────────────────────────┴──────────────────────────────────────┴───────────┴───────────┴──────────────┴─────────────┴───────────────┴─────────────┘"
      ]
     },
     "execution_count": 31,
     "metadata": {},
     "output_type": "execute_result"
    }
   ],
   "source": [
    "dd.query(\n",
    "    query=qq,\n",
    "    connection=conn\n",
    "    )"
   ]
  },
  {
   "cell_type": "code",
   "execution_count": 35,
   "metadata": {},
   "outputs": [
    {
     "data": {
      "text/plain": [
       "┌──────────────────────────────────────┬─────────────────────┬─────────────────────────────────┬──────────────────────────────────────┬──────────────────────────────────────┬───────────┬───────────┬──────────────┬─────────────┬───────────────┬─────────────┐\n",
       "│               event_id               │   event_datetime    │            event_key            │              session_id              │                  id                  │ item_name │ page_name │ friend_count │ votes_count │ heart_balance │ question_id │\n",
       "│               varchar                │    timestamp_ms     │             varchar             │               varchar                │               varchar                │  varchar  │  varchar  │    double    │   double    │    double     │   double    │\n",
       "├──────────────────────────────────────┼─────────────────────┼─────────────────────────────────┼──────────────────────────────────────┼──────────────────────────────────────┼───────────┼───────────┼──────────────┼─────────────┼───────────────┼─────────────┤\n",
       "│ 00000533-3f1c-4b3b-81f1-0c8f35754b4e │ 2023-07-18 19:40:17 │ $session_start                  │ 4OzYh3seq3VKytpSn5pvQkZNQii1         │ 00000533-3f1c-4b3b-81f1-0c8f35754b4e │           │           │         NULL │        NULL │          NULL │        NULL │\n",
       "│ 00000716-27e9-4e72-a602-d0ce61784b06 │ 2023-07-18 21:07:24 │ click_question_open             │ 8QXy31PQxbW9qLzq0Y1dhR8Ypm52         │ 00000716-27e9-4e72-a602-d0ce61784b06 │           │           │         64.0 │       436.0 │        4830.0 │        NULL │\n",
       "│ 000007c8-68ce-40e6-9b1e-f0e34e8ff9cc │ 2023-08-06 20:18:03 │ click_bottom_navigation_profile │ 6bcea65d-9f40-46fc-888c-700fe707483f │ 000007c8-68ce-40e6-9b1e-f0e34e8ff9cc │           │           │         26.0 │       174.0 │        4729.0 │        NULL │\n",
       "│ 00000981-5e2a-4111-993e-4f1891ad9a53 │ 2023-08-05 01:46:10 │ view_shop                       │ XVYNT6zfhFWqIg9omwg2AHDjTLx2         │ 00000981-5e2a-4111-993e-4f1891ad9a53 │           │           │         61.0 │        44.0 │         142.0 │        NULL │\n",
       "│ 00000a7a-ba72-4332-b4a9-7910670aaeb2 │ 2023-07-24 15:03:37 │ click_bottom_navigation_lab     │ XFB2SPiGfjbVhvJ3Q3DBsaT3m2B3         │ 00000a7a-ba72-4332-b4a9-7910670aaeb2 │           │           │        119.0 │       545.0 │        3287.0 │        NULL │\n",
       "└──────────────────────────────────────┴─────────────────────┴─────────────────────────────────┴──────────────────────────────────────┴──────────────────────────────────────┴───────────┴───────────┴──────────────┴─────────────┴───────────────┴─────────────┘"
      ]
     },
     "execution_count": 35,
     "metadata": {},
     "output_type": "execute_result"
    }
   ],
   "source": [
    "dd.sql(\n",
    "    query=qq,\n",
    "    connection=conn\n",
    "    )"
   ]
  },
  {
   "cell_type": "code",
   "execution_count": 38,
   "metadata": {},
   "outputs": [
    {
     "data": {
      "text/html": [
       "<div>\n",
       "<style scoped>\n",
       "    .dataframe tbody tr th:only-of-type {\n",
       "        vertical-align: middle;\n",
       "    }\n",
       "\n",
       "    .dataframe tbody tr th {\n",
       "        vertical-align: top;\n",
       "    }\n",
       "\n",
       "    .dataframe thead th {\n",
       "        text-align: right;\n",
       "    }\n",
       "</style>\n",
       "<table border=\"1\" class=\"dataframe\">\n",
       "  <thead>\n",
       "    <tr style=\"text-align: right;\">\n",
       "      <th></th>\n",
       "      <th>min(event_datetime)</th>\n",
       "      <th>max(event_datetime)</th>\n",
       "    </tr>\n",
       "  </thead>\n",
       "  <tbody>\n",
       "    <tr>\n",
       "      <th>0</th>\n",
       "      <td>2023-07-18</td>\n",
       "      <td>2023-08-10 23:59:59</td>\n",
       "    </tr>\n",
       "  </tbody>\n",
       "</table>\n",
       "</div>"
      ],
      "text/plain": [
       "  min(event_datetime) max(event_datetime)\n",
       "0          2023-07-18 2023-08-10 23:59:59"
      ]
     },
     "execution_count": 38,
     "metadata": {},
     "output_type": "execute_result"
    }
   ],
   "source": [
    "qq = 'SELECT MIN(event_datetime), MAX(event_datetime) FROM h_event'\n",
    "\n",
    "conn.execute(qq).df()"
   ]
  },
  {
   "cell_type": "code",
   "execution_count": 42,
   "metadata": {},
   "outputs": [
    {
     "data": {
      "text/html": [
       "<div>\n",
       "<style scoped>\n",
       "    .dataframe tbody tr th:only-of-type {\n",
       "        vertical-align: middle;\n",
       "    }\n",
       "\n",
       "    .dataframe tbody tr th {\n",
       "        vertical-align: top;\n",
       "    }\n",
       "\n",
       "    .dataframe thead th {\n",
       "        text-align: right;\n",
       "    }\n",
       "</style>\n",
       "<table border=\"1\" class=\"dataframe\">\n",
       "  <thead>\n",
       "    <tr style=\"text-align: right;\">\n",
       "      <th></th>\n",
       "      <th>votes_count</th>\n",
       "      <th>event_datetime</th>\n",
       "    </tr>\n",
       "  </thead>\n",
       "  <tbody>\n",
       "    <tr>\n",
       "      <th>0</th>\n",
       "      <td>22.0</td>\n",
       "      <td>2023-07-18 00:00:00</td>\n",
       "    </tr>\n",
       "    <tr>\n",
       "      <th>1</th>\n",
       "      <td>89.0</td>\n",
       "      <td>2023-07-18 00:00:00</td>\n",
       "    </tr>\n",
       "    <tr>\n",
       "      <th>2</th>\n",
       "      <td>89.0</td>\n",
       "      <td>2023-07-18 00:00:00</td>\n",
       "    </tr>\n",
       "    <tr>\n",
       "      <th>3</th>\n",
       "      <td>0.0</td>\n",
       "      <td>2023-07-18 00:00:00</td>\n",
       "    </tr>\n",
       "    <tr>\n",
       "      <th>4</th>\n",
       "      <td>89.0</td>\n",
       "      <td>2023-07-18 00:00:00</td>\n",
       "    </tr>\n",
       "    <tr>\n",
       "      <th>...</th>\n",
       "      <td>...</td>\n",
       "      <td>...</td>\n",
       "    </tr>\n",
       "    <tr>\n",
       "      <th>2734402</th>\n",
       "      <td>14.0</td>\n",
       "      <td>2023-08-10 23:59:54</td>\n",
       "    </tr>\n",
       "    <tr>\n",
       "      <th>2734403</th>\n",
       "      <td>14.0</td>\n",
       "      <td>2023-08-10 23:59:54</td>\n",
       "    </tr>\n",
       "    <tr>\n",
       "      <th>2734404</th>\n",
       "      <td>88.0</td>\n",
       "      <td>2023-08-10 23:59:56</td>\n",
       "    </tr>\n",
       "    <tr>\n",
       "      <th>2734405</th>\n",
       "      <td>93.0</td>\n",
       "      <td>2023-08-10 23:59:56</td>\n",
       "    </tr>\n",
       "    <tr>\n",
       "      <th>2734406</th>\n",
       "      <td>93.0</td>\n",
       "      <td>2023-08-10 23:59:56</td>\n",
       "    </tr>\n",
       "  </tbody>\n",
       "</table>\n",
       "<p>2734407 rows × 2 columns</p>\n",
       "</div>"
      ],
      "text/plain": [
       "         votes_count      event_datetime\n",
       "0               22.0 2023-07-18 00:00:00\n",
       "1               89.0 2023-07-18 00:00:00\n",
       "2               89.0 2023-07-18 00:00:00\n",
       "3                0.0 2023-07-18 00:00:00\n",
       "4               89.0 2023-07-18 00:00:00\n",
       "...              ...                 ...\n",
       "2734402         14.0 2023-08-10 23:59:54\n",
       "2734403         14.0 2023-08-10 23:59:54\n",
       "2734404         88.0 2023-08-10 23:59:56\n",
       "2734405         93.0 2023-08-10 23:59:56\n",
       "2734406         93.0 2023-08-10 23:59:56\n",
       "\n",
       "[2734407 rows x 2 columns]"
      ]
     },
     "execution_count": 42,
     "metadata": {},
     "output_type": "execute_result"
    }
   ],
   "source": [
    "qq = \"\"\"\n",
    "SELECT votes_count, event_datetime FROM h_event\n",
    "WHERE votes_count < 100\n",
    "AND votes_count IS NOT NULL\n",
    "ORDER BY event_datetime\n",
    "\"\"\"\n",
    "\n",
    "conn.execute(qq).df()"
   ]
  },
  {
   "cell_type": "code",
   "execution_count": null,
   "metadata": {},
   "outputs": [],
   "source": []
  },
  {
   "cell_type": "code",
   "execution_count": 27,
   "metadata": {},
   "outputs": [
    {
     "data": {
      "text/plain": [
       "<duckdb.duckdb.DuckDBPyConnection at 0x1ba600e30b0>"
      ]
     },
     "execution_count": 27,
     "metadata": {},
     "output_type": "execute_result"
    }
   ],
   "source": [
    "conn = dd.connect()\n",
    "\n",
    "res = dd.read_parquet('hp.parquet')\n",
    "ddf = res.df()\n",
    "conn.register(\"samples\", ddf)"
   ]
  },
  {
   "cell_type": "code",
   "execution_count": null,
   "metadata": {},
   "outputs": [
    {
     "data": {
      "text/plain": [
       "(342556, 8)"
      ]
     },
     "execution_count": 17,
     "metadata": {},
     "output_type": "execute_result"
    }
   ],
   "source": [
    "\n",
    "\n",
    "ddf = dd.query(\"SELECT * FROM res WHERE versionname LIKE '2%' AND osversion LIKE '16%'\").df()\n",
    "\n",
    "ddf.shape"
   ]
  },
  {
   "cell_type": "code",
   "execution_count": 18,
   "metadata": {},
   "outputs": [
    {
     "data": {
      "text/plain": [
       "<duckdb.duckdb.DuckDBPyConnection at 0x1ba04f20570>"
      ]
     },
     "execution_count": 18,
     "metadata": {},
     "output_type": "execute_result"
    }
   ],
   "source": [
    "conn.register(\"samples\", ddf)"
   ]
  },
  {
   "cell_type": "code",
   "execution_count": 31,
   "metadata": {},
   "outputs": [
    {
     "data": {
      "text/html": [
       "<div>\n",
       "<style scoped>\n",
       "    .dataframe tbody tr th:only-of-type {\n",
       "        vertical-align: middle;\n",
       "    }\n",
       "\n",
       "    .dataframe tbody tr th {\n",
       "        vertical-align: top;\n",
       "    }\n",
       "\n",
       "    .dataframe thead th {\n",
       "        text-align: right;\n",
       "    }\n",
       "</style>\n",
       "<table border=\"1\" class=\"dataframe\">\n",
       "  <thead>\n",
       "    <tr style=\"text-align: right;\">\n",
       "      <th></th>\n",
       "      <th>id</th>\n",
       "      <th>session_id</th>\n",
       "      <th>user_id</th>\n",
       "      <th>language</th>\n",
       "      <th>osname</th>\n",
       "      <th>osversion</th>\n",
       "      <th>versionname</th>\n",
       "      <th>device_id</th>\n",
       "    </tr>\n",
       "  </thead>\n",
       "  <tbody>\n",
       "    <tr>\n",
       "      <th>0</th>\n",
       "      <td>1</td>\n",
       "      <td>4OzYh3seq3VKytpSn5pvQkZNQii1</td>\n",
       "      <td></td>\n",
       "      <td>ko-KR</td>\n",
       "      <td>iOS</td>\n",
       "      <td>16.0</td>\n",
       "      <td>2.0.0</td>\n",
       "      <td>590E7C79-CBA0-44D8-8BE3-3C9BFABBBC74</td>\n",
       "    </tr>\n",
       "    <tr>\n",
       "      <th>1</th>\n",
       "      <td>2</td>\n",
       "      <td>8QXy31PQxbW9qLzq0Y1dhR8Ypm52</td>\n",
       "      <td>1046711</td>\n",
       "      <td>ko-KR</td>\n",
       "      <td>iOS</td>\n",
       "      <td>16.5.1</td>\n",
       "      <td>2.0.3</td>\n",
       "      <td>D5417226-F71B-4A9E-A180-CD072F2AB279</td>\n",
       "    </tr>\n",
       "    <tr>\n",
       "      <th>2</th>\n",
       "      <td>5</td>\n",
       "      <td>XFB2SPiGfjbVhvJ3Q3DBsaT3m2B3</td>\n",
       "      <td>1329450</td>\n",
       "      <td>ko-US</td>\n",
       "      <td>iOS</td>\n",
       "      <td>16.5.1</td>\n",
       "      <td>2.0.5</td>\n",
       "      <td>EAC6C0B3-7CE8-40EA-8A91-9977C0BA5EF3</td>\n",
       "    </tr>\n",
       "    <tr>\n",
       "      <th>3</th>\n",
       "      <td>6</td>\n",
       "      <td>LztzUUFoRxdqTSPgQrX3MAAyNkM2</td>\n",
       "      <td>LztzUUFoRxdqTSPgQrX3MAAyNkM2</td>\n",
       "      <td>ko-KR</td>\n",
       "      <td>iOS</td>\n",
       "      <td>16.1</td>\n",
       "      <td>2.0.5</td>\n",
       "      <td>3F199073-9390-4137-B0B0-0DC4FC103009</td>\n",
       "    </tr>\n",
       "    <tr>\n",
       "      <th>4</th>\n",
       "      <td>8</td>\n",
       "      <td>414540BA-1980-4371-BF37-5BFA71158C4D</td>\n",
       "      <td>1475326</td>\n",
       "      <td>ko-KR</td>\n",
       "      <td>iOS</td>\n",
       "      <td>16.5.1</td>\n",
       "      <td>2.0.5</td>\n",
       "      <td>414540BA-1980-4371-BF37-5BFA71158C4D</td>\n",
       "    </tr>\n",
       "    <tr>\n",
       "      <th>...</th>\n",
       "      <td>...</td>\n",
       "      <td>...</td>\n",
       "      <td>...</td>\n",
       "      <td>...</td>\n",
       "      <td>...</td>\n",
       "      <td>...</td>\n",
       "      <td>...</td>\n",
       "      <td>...</td>\n",
       "    </tr>\n",
       "    <tr>\n",
       "      <th>342551</th>\n",
       "      <td>525345</td>\n",
       "      <td>b82eptestoYIkel7zGItYz9XqF43</td>\n",
       "      <td>902597</td>\n",
       "      <td>ko-KR</td>\n",
       "      <td>iOS</td>\n",
       "      <td>16.0</td>\n",
       "      <td>2.0.3</td>\n",
       "      <td>B59DCE74-59FB-4417-9DDB-F9B620D71DFC</td>\n",
       "    </tr>\n",
       "    <tr>\n",
       "      <th>342552</th>\n",
       "      <td>525346</td>\n",
       "      <td>KlGJxOfY4XdbxnwzPckMh4NdwBk2</td>\n",
       "      <td>1373831</td>\n",
       "      <td>ko-KR</td>\n",
       "      <td>iOS</td>\n",
       "      <td>16.5.1</td>\n",
       "      <td>2.0.5</td>\n",
       "      <td>2EB9127D-703A-495B-8A1E-6667ACA9E724</td>\n",
       "    </tr>\n",
       "    <tr>\n",
       "      <th>342553</th>\n",
       "      <td>525347</td>\n",
       "      <td>HGxbSi2oq4MdFVGdQx2UH3f9Aq73</td>\n",
       "      <td>1043127</td>\n",
       "      <td>en-KR</td>\n",
       "      <td>iOS</td>\n",
       "      <td>16.1.2</td>\n",
       "      <td>2.0.3</td>\n",
       "      <td>4400D84D-0353-49C9-818E-6A45D54F1039</td>\n",
       "    </tr>\n",
       "    <tr>\n",
       "      <th>342554</th>\n",
       "      <td>525348</td>\n",
       "      <td>F9EA195C-862F-4572-80A5-C3AE06F83310</td>\n",
       "      <td></td>\n",
       "      <td>ko-KR</td>\n",
       "      <td>iOS</td>\n",
       "      <td>16.3.1</td>\n",
       "      <td>2.0.5</td>\n",
       "      <td>F9EA195C-862F-4572-80A5-C3AE06F83310</td>\n",
       "    </tr>\n",
       "    <tr>\n",
       "      <th>342555</th>\n",
       "      <td>525350</td>\n",
       "      <td>8jROJMvKQMgiXMvrXvqDD7o0iWr2</td>\n",
       "      <td>895807</td>\n",
       "      <td>ko-KR</td>\n",
       "      <td>iOS</td>\n",
       "      <td>16.0</td>\n",
       "      <td>2.0.0</td>\n",
       "      <td>B39CEB8B-2414-4018-91B8-CE1A75F1CCEE</td>\n",
       "    </tr>\n",
       "  </tbody>\n",
       "</table>\n",
       "<p>342556 rows × 8 columns</p>\n",
       "</div>"
      ],
      "text/plain": [
       "            id                            session_id  \\\n",
       "0            1          4OzYh3seq3VKytpSn5pvQkZNQii1   \n",
       "1            2          8QXy31PQxbW9qLzq0Y1dhR8Ypm52   \n",
       "2            5          XFB2SPiGfjbVhvJ3Q3DBsaT3m2B3   \n",
       "3            6          LztzUUFoRxdqTSPgQrX3MAAyNkM2   \n",
       "4            8  414540BA-1980-4371-BF37-5BFA71158C4D   \n",
       "...        ...                                   ...   \n",
       "342551  525345          b82eptestoYIkel7zGItYz9XqF43   \n",
       "342552  525346          KlGJxOfY4XdbxnwzPckMh4NdwBk2   \n",
       "342553  525347          HGxbSi2oq4MdFVGdQx2UH3f9Aq73   \n",
       "342554  525348  F9EA195C-862F-4572-80A5-C3AE06F83310   \n",
       "342555  525350          8jROJMvKQMgiXMvrXvqDD7o0iWr2   \n",
       "\n",
       "                             user_id language osname osversion versionname  \\\n",
       "0                                       ko-KR    iOS      16.0       2.0.0   \n",
       "1                            1046711    ko-KR    iOS    16.5.1       2.0.3   \n",
       "2                            1329450    ko-US    iOS    16.5.1       2.0.5   \n",
       "3       LztzUUFoRxdqTSPgQrX3MAAyNkM2    ko-KR    iOS      16.1       2.0.5   \n",
       "4                            1475326    ko-KR    iOS    16.5.1       2.0.5   \n",
       "...                              ...      ...    ...       ...         ...   \n",
       "342551                        902597    ko-KR    iOS      16.0       2.0.3   \n",
       "342552                       1373831    ko-KR    iOS    16.5.1       2.0.5   \n",
       "342553                       1043127    en-KR    iOS    16.1.2       2.0.3   \n",
       "342554                                  ko-KR    iOS    16.3.1       2.0.5   \n",
       "342555                        895807    ko-KR    iOS      16.0       2.0.0   \n",
       "\n",
       "                                   device_id  \n",
       "0       590E7C79-CBA0-44D8-8BE3-3C9BFABBBC74  \n",
       "1       D5417226-F71B-4A9E-A180-CD072F2AB279  \n",
       "2       EAC6C0B3-7CE8-40EA-8A91-9977C0BA5EF3  \n",
       "3       3F199073-9390-4137-B0B0-0DC4FC103009  \n",
       "4       414540BA-1980-4371-BF37-5BFA71158C4D  \n",
       "...                                      ...  \n",
       "342551  B59DCE74-59FB-4417-9DDB-F9B620D71DFC  \n",
       "342552  2EB9127D-703A-495B-8A1E-6667ACA9E724  \n",
       "342553  4400D84D-0353-49C9-818E-6A45D54F1039  \n",
       "342554  F9EA195C-862F-4572-80A5-C3AE06F83310  \n",
       "342555  B39CEB8B-2414-4018-91B8-CE1A75F1CCEE  \n",
       "\n",
       "[342556 rows x 8 columns]"
      ]
     },
     "execution_count": 31,
     "metadata": {},
     "output_type": "execute_result"
    }
   ],
   "source": [
    "conn.execute(\"SELECT * FROM samples WHERE versionname LIKE '2%' AND osversion LIKE '16%'\").df()"
   ]
  },
  {
   "cell_type": "code",
   "execution_count": null,
   "metadata": {},
   "outputs": [],
   "source": []
  },
  {
   "cell_type": "code",
   "execution_count": null,
   "metadata": {},
   "outputs": [],
   "source": []
  }
 ],
 "metadata": {
  "kernelspec": {
   "display_name": "Pyspark",
   "language": "python",
   "name": "python3"
  },
  "language_info": {
   "codemirror_mode": {
    "name": "ipython",
    "version": 3
   },
   "file_extension": ".py",
   "mimetype": "text/x-python",
   "name": "python",
   "nbconvert_exporter": "python",
   "pygments_lexer": "ipython3",
   "version": "3.10.4"
  }
 },
 "nbformat": 4,
 "nbformat_minor": 2
}
