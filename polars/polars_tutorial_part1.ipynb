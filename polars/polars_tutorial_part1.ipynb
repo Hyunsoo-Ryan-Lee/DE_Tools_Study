{
 "cells": [
  {
   "cell_type": "markdown",
   "metadata": {},
   "source": [
    "## 0. 설치"
   ]
  },
  {
   "cell_type": "code",
   "execution_count": null,
   "metadata": {},
   "outputs": [],
   "source": [
    "## 0. INTRO\n",
    "\n",
    "## 1. 설치\n",
    "\n",
    "## 2. 데이터 읽기\n",
    "\n",
    "## 3. 컬럼 다루기\n",
    "\n",
    "## 4. Null 값 다루기\n",
    "\n",
    "## 5. 데이터 타입 다루기\n",
    "\n",
    "## 6. 데이터 필터링\n",
    "\n",
    "## 7. ORDER BY\n",
    "\n",
    "## 8. GROUP BY\n",
    "\n",
    "## 9. JOIN\n",
    "\n",
    "## 10. SQL\n",
    "\n",
    "## 11. PARTITIONING\n"
   ]
  },
  {
   "cell_type": "code",
   "execution_count": null,
   "metadata": {},
   "outputs": [],
   "source": [
    "!pip install polars"
   ]
  },
  {
   "cell_type": "code",
   "execution_count": 2,
   "metadata": {},
   "outputs": [
    {
     "data": {
      "text/plain": [
       "polars.config.Config"
      ]
     },
     "execution_count": 2,
     "metadata": {},
     "output_type": "execute_result"
    }
   ],
   "source": [
    "import polars as pl\n",
    "\n",
    "cfg = pl.Config()\n",
    "cfg.set_tbl_rows(100)"
   ]
  },
  {
   "cell_type": "markdown",
   "metadata": {},
   "source": [
    "## 1. 데이터 읽기"
   ]
  },
  {
   "cell_type": "code",
   "execution_count": 2,
   "metadata": {},
   "outputs": [
    {
     "data": {
      "text/html": [
       "<div><style>\n",
       ".dataframe > thead > tr,\n",
       ".dataframe > tbody > tr {\n",
       "  text-align: right;\n",
       "  white-space: pre-wrap;\n",
       "}\n",
       "</style>\n",
       "<small>shape: (5, 8)</small><table border=\"1\" class=\"dataframe\"><thead><tr><th>First Name</th><th>Gender</th><th>Start Date</th><th>Last Login Time</th><th>Salary</th><th>Bonus</th><th>Senior Management</th><th>Team</th></tr><tr><td>str</td><td>str</td><td>str</td><td>str</td><td>i64</td><td>f64</td><td>bool</td><td>str</td></tr></thead><tbody><tr><td>&quot;Douglas&quot;</td><td>&quot;Male&quot;</td><td>&quot;8/6/1993&quot;</td><td>&quot;12:42 PM&quot;</td><td>97308</td><td>6.945</td><td>true</td><td>&quot;Marketing&quot;</td></tr><tr><td>&quot;Thomas&quot;</td><td>&quot;Male&quot;</td><td>&quot;3/31/1996&quot;</td><td>&quot;6:53 AM&quot;</td><td>61933</td><td>4.17</td><td>true</td><td>null</td></tr><tr><td>&quot;Maria&quot;</td><td>&quot;Female&quot;</td><td>&quot;4/23/1993&quot;</td><td>&quot;11:17 AM&quot;</td><td>130590</td><td>11.858</td><td>false</td><td>&quot;Finance&quot;</td></tr><tr><td>&quot;Jerry&quot;</td><td>&quot;Male&quot;</td><td>&quot;3/4/2005&quot;</td><td>&quot;1:00 PM&quot;</td><td>138705</td><td>9.34</td><td>true</td><td>&quot;Finance&quot;</td></tr><tr><td>&quot;Larry&quot;</td><td>&quot;Male&quot;</td><td>&quot;1/24/1998&quot;</td><td>&quot;4:47 PM&quot;</td><td>101004</td><td>1.389</td><td>true</td><td>&quot;Client Services&quot;</td></tr></tbody></table></div>"
      ],
      "text/plain": [
       "shape: (5, 8)\n",
       "┌────────────┬────────┬────────────┬────────────┬────────┬────────┬────────────────────┬───────────┐\n",
       "│ First Name ┆ Gender ┆ Start Date ┆ Last Login ┆ Salary ┆ Bonus  ┆ Senior Management  ┆ Team      │\n",
       "│ ---        ┆ ---    ┆ ---        ┆ Time       ┆ ---    ┆ ---    ┆ ---                ┆ ---       │\n",
       "│ str        ┆ str    ┆ str        ┆ ---        ┆ i64    ┆ f64    ┆ bool               ┆ str       │\n",
       "│            ┆        ┆            ┆ str        ┆        ┆        ┆                    ┆           │\n",
       "╞════════════╪════════╪════════════╪════════════╪════════╪════════╪════════════════════╪═══════════╡\n",
       "│ Douglas    ┆ Male   ┆ 8/6/1993   ┆ 12:42 PM   ┆ 97308  ┆ 6.945  ┆ true               ┆ Marketing │\n",
       "│ Thomas     ┆ Male   ┆ 3/31/1996  ┆ 6:53 AM    ┆ 61933  ┆ 4.17   ┆ true               ┆ null      │\n",
       "│ Maria      ┆ Female ┆ 4/23/1993  ┆ 11:17 AM   ┆ 130590 ┆ 11.858 ┆ false              ┆ Finance   │\n",
       "│ Jerry      ┆ Male   ┆ 3/4/2005   ┆ 1:00 PM    ┆ 138705 ┆ 9.34   ┆ true               ┆ Finance   │\n",
       "│ Larry      ┆ Male   ┆ 1/24/1998  ┆ 4:47 PM    ┆ 101004 ┆ 1.389  ┆ true               ┆ Client    │\n",
       "│            ┆        ┆            ┆            ┆        ┆        ┆                    ┆ Services  │\n",
       "└────────────┴────────┴────────────┴────────────┴────────┴────────┴────────────────────┴───────────┘"
      ]
     },
     "execution_count": 2,
     "metadata": {},
     "output_type": "execute_result"
    }
   ],
   "source": [
    "## 파일 데이터 읽기\n",
    "\n",
    "df = pl.read_csv(\"../dataset/emp.csv\")\n",
    "\n",
    "df.head()"
   ]
  },
  {
   "cell_type": "code",
   "execution_count": null,
   "metadata": {},
   "outputs": [],
   "source": [
    "type(df)"
   ]
  },
  {
   "cell_type": "code",
   "execution_count": 3,
   "metadata": {},
   "outputs": [
    {
     "data": {
      "text/plain": [
       "Schema([('First Name', String),\n",
       "        ('Gender', String),\n",
       "        ('Start Date', String),\n",
       "        ('Last Login Time', String),\n",
       "        ('Salary', Int64),\n",
       "        ('Bonus', Float64),\n",
       "        ('Senior Management', Boolean),\n",
       "        ('Team', String)])"
      ]
     },
     "execution_count": 3,
     "metadata": {},
     "output_type": "execute_result"
    }
   ],
   "source": [
    "## 스키마 탐색\n",
    "\n",
    "df.schema"
   ]
  },
  {
   "cell_type": "code",
   "execution_count": null,
   "metadata": {},
   "outputs": [],
   "source": []
  },
  {
   "cell_type": "code",
   "execution_count": 4,
   "metadata": {},
   "outputs": [
    {
     "data": {
      "text/plain": [
       "['First Name',\n",
       " 'Gender',\n",
       " 'Start Date',\n",
       " 'Last Login Time',\n",
       " 'Salary',\n",
       " 'Bonus',\n",
       " 'Senior Management',\n",
       " 'Team']"
      ]
     },
     "execution_count": 4,
     "metadata": {},
     "output_type": "execute_result"
    }
   ],
   "source": [
    "## 컬럼 확인\n",
    "\n",
    "df.columns"
   ]
  },
  {
   "cell_type": "code",
   "execution_count": 5,
   "metadata": {},
   "outputs": [
    {
     "data": {
      "text/html": [
       "<div><style>\n",
       ".dataframe > thead > tr,\n",
       ".dataframe > tbody > tr {\n",
       "  text-align: right;\n",
       "  white-space: pre-wrap;\n",
       "}\n",
       "</style>\n",
       "<small>shape: (9, 9)</small><table border=\"1\" class=\"dataframe\"><thead><tr><th>statistic</th><th>First Name</th><th>Gender</th><th>Start Date</th><th>Last Login Time</th><th>Salary</th><th>Bonus</th><th>Senior Management</th><th>Team</th></tr><tr><td>str</td><td>str</td><td>str</td><td>str</td><td>str</td><td>f64</td><td>f64</td><td>f64</td><td>str</td></tr></thead><tbody><tr><td>&quot;count&quot;</td><td>&quot;933&quot;</td><td>&quot;855&quot;</td><td>&quot;1000&quot;</td><td>&quot;1000&quot;</td><td>1000.0</td><td>1000.0</td><td>933.0</td><td>&quot;957&quot;</td></tr><tr><td>&quot;null_count&quot;</td><td>&quot;67&quot;</td><td>&quot;145&quot;</td><td>&quot;0&quot;</td><td>&quot;0&quot;</td><td>0.0</td><td>0.0</td><td>67.0</td><td>&quot;43&quot;</td></tr><tr><td>&quot;mean&quot;</td><td>null</td><td>null</td><td>null</td><td>null</td><td>90662.181</td><td>10.207555</td><td>0.501608</td><td>null</td></tr><tr><td>&quot;std&quot;</td><td>null</td><td>null</td><td>null</td><td>null</td><td>32923.693342</td><td>5.528481</td><td>null</td><td>null</td></tr><tr><td>&quot;min&quot;</td><td>&quot;Aaron&quot;</td><td>&quot;Female&quot;</td><td>&quot;1/1/2014&quot;</td><td>&quot;10:00 AM&quot;</td><td>35013.0</td><td>1.015</td><td>0.0</td><td>&quot;Business Development&quot;</td></tr><tr><td>&quot;25%&quot;</td><td>null</td><td>null</td><td>null</td><td>null</td><td>62666.0</td><td>5.413</td><td>null</td><td>null</td></tr><tr><td>&quot;50%&quot;</td><td>null</td><td>null</td><td>null</td><td>null</td><td>90429.0</td><td>9.849</td><td>null</td><td>null</td></tr><tr><td>&quot;75%&quot;</td><td>null</td><td>null</td><td>null</td><td>null</td><td>118736.0</td><td>14.837</td><td>null</td><td>null</td></tr><tr><td>&quot;max&quot;</td><td>&quot;Willie&quot;</td><td>&quot;Male&quot;</td><td>&quot;9/9/2006&quot;</td><td>&quot;9:59 AM&quot;</td><td>149908.0</td><td>19.944</td><td>1.0</td><td>&quot;Sales&quot;</td></tr></tbody></table></div>"
      ],
      "text/plain": [
       "shape: (9, 9)\n",
       "┌────────────┬────────┬────────┬────────────┬───┬────────────┬───────────┬────────────┬────────────┐\n",
       "│ statistic  ┆ First  ┆ Gender ┆ Start Date ┆ … ┆ Salary     ┆ Bonus     ┆ Senior     ┆ Team       │\n",
       "│ ---        ┆ Name   ┆ ---    ┆ ---        ┆   ┆ ---        ┆ ---       ┆ Management ┆ ---        │\n",
       "│ str        ┆ ---    ┆ str    ┆ str        ┆   ┆ f64        ┆ f64       ┆ ---        ┆ str        │\n",
       "│            ┆ str    ┆        ┆            ┆   ┆            ┆           ┆ f64        ┆            │\n",
       "╞════════════╪════════╪════════╪════════════╪═══╪════════════╪═══════════╪════════════╪════════════╡\n",
       "│ count      ┆ 933    ┆ 855    ┆ 1000       ┆ … ┆ 1000.0     ┆ 1000.0    ┆ 933.0      ┆ 957        │\n",
       "│ null_count ┆ 67     ┆ 145    ┆ 0          ┆ … ┆ 0.0        ┆ 0.0       ┆ 67.0       ┆ 43         │\n",
       "│ mean       ┆ null   ┆ null   ┆ null       ┆ … ┆ 90662.181  ┆ 10.207555 ┆ 0.501608   ┆ null       │\n",
       "│ std        ┆ null   ┆ null   ┆ null       ┆ … ┆ 32923.6933 ┆ 5.528481  ┆ null       ┆ null       │\n",
       "│            ┆        ┆        ┆            ┆   ┆ 42         ┆           ┆            ┆            │\n",
       "│ min        ┆ Aaron  ┆ Female ┆ 1/1/2014   ┆ … ┆ 35013.0    ┆ 1.015     ┆ 0.0        ┆ Business   │\n",
       "│            ┆        ┆        ┆            ┆   ┆            ┆           ┆            ┆ Developmen │\n",
       "│            ┆        ┆        ┆            ┆   ┆            ┆           ┆            ┆ t          │\n",
       "│ 25%        ┆ null   ┆ null   ┆ null       ┆ … ┆ 62666.0    ┆ 5.413     ┆ null       ┆ null       │\n",
       "│ 50%        ┆ null   ┆ null   ┆ null       ┆ … ┆ 90429.0    ┆ 9.849     ┆ null       ┆ null       │\n",
       "│ 75%        ┆ null   ┆ null   ┆ null       ┆ … ┆ 118736.0   ┆ 14.837    ┆ null       ┆ null       │\n",
       "│ max        ┆ Willie ┆ Male   ┆ 9/9/2006   ┆ … ┆ 149908.0   ┆ 19.944    ┆ 1.0        ┆ Sales      │\n",
       "└────────────┴────────┴────────┴────────────┴───┴────────────┴───────────┴────────────┴────────────┘"
      ]
     },
     "execution_count": 5,
     "metadata": {},
     "output_type": "execute_result"
    }
   ],
   "source": [
    "## 컬럼 수치 정보 확인\n",
    "\n",
    "df.describe()"
   ]
  },
  {
   "cell_type": "markdown",
   "metadata": {},
   "source": [
    "## 2. 컬럼 다루기"
   ]
  },
  {
   "cell_type": "code",
   "execution_count": null,
   "metadata": {},
   "outputs": [],
   "source": [
    "## 인덱스 컬럼 생성\n",
    "\n",
    "df.with_row_index()"
   ]
  },
  {
   "cell_type": "code",
   "execution_count": null,
   "metadata": {},
   "outputs": [],
   "source": [
    "## 특정 컬럼 데이터 선택\n",
    "\n",
    "df['Gender']\n",
    "\n",
    "df.get_column('Gender')"
   ]
  },
  {
   "cell_type": "code",
   "execution_count": null,
   "metadata": {},
   "outputs": [],
   "source": [
    "## 여러 컬럼 선택\n",
    "\n",
    "df[['Gender', 'Salary']]\n",
    "\n",
    "df.select('Gender', 'Salary')"
   ]
  },
  {
   "cell_type": "code",
   "execution_count": null,
   "metadata": {},
   "outputs": [],
   "source": [
    "## 새로운 컬럼 생성\n",
    "\n",
    "df.head()\n",
    "\n",
    "# Bonus에 대한 금액 계산 컬럼(surplus) 추가\n",
    "df.with_columns(\n",
    "    (df[\"Salary\"]*df['Bonus']/100).round(2).alias('surplus')\n",
    "    )\n",
    "\n",
    "df.with_columns(\n",
    "    (pl.col(\"Salary\")*pl.col('Bonus')/100).round(2).alias('surplus')\n",
    "    )\n",
    "\n",
    "df.with_columns(\n",
    "    surplus = (pl.col(\"Salary\")*pl.col('Bonus')/100).round(2)\n",
    "    )"
   ]
  },
  {
   "cell_type": "code",
   "execution_count": null,
   "metadata": {},
   "outputs": [],
   "source": [
    "## 컬럼 이름 변경\n",
    "\n",
    "rename_dict = {\n",
    "        'Bonus' : 'bonus',\n",
    "        'Gender' : 'gender'\n",
    "        }\n",
    "\n",
    "df.rename(rename_dict).head()"
   ]
  },
  {
   "cell_type": "code",
   "execution_count": null,
   "metadata": {},
   "outputs": [],
   "source": [
    "## 컬럼 삭제\n",
    "\n",
    "df.drop('Last Login Time')"
   ]
  },
  {
   "cell_type": "markdown",
   "metadata": {},
   "source": [
    "## 3. Null 값 다루기"
   ]
  },
  {
   "cell_type": "code",
   "execution_count": 6,
   "metadata": {},
   "outputs": [
    {
     "data": {
      "text/html": [
       "<div><style>\n",
       ".dataframe > thead > tr,\n",
       ".dataframe > tbody > tr {\n",
       "  text-align: right;\n",
       "  white-space: pre-wrap;\n",
       "}\n",
       "</style>\n",
       "<small>shape: (1, 8)</small><table border=\"1\" class=\"dataframe\"><thead><tr><th>First Name</th><th>Gender</th><th>Start Date</th><th>Last Login Time</th><th>Salary</th><th>Bonus</th><th>Senior Management</th><th>Team</th></tr><tr><td>u32</td><td>u32</td><td>u32</td><td>u32</td><td>u32</td><td>u32</td><td>u32</td><td>u32</td></tr></thead><tbody><tr><td>67</td><td>145</td><td>0</td><td>0</td><td>0</td><td>0</td><td>67</td><td>43</td></tr></tbody></table></div>"
      ],
      "text/plain": [
       "shape: (1, 8)\n",
       "┌────────────┬────────┬────────────┬─────────────────┬────────┬───────┬───────────────────┬──────┐\n",
       "│ First Name ┆ Gender ┆ Start Date ┆ Last Login Time ┆ Salary ┆ Bonus ┆ Senior Management ┆ Team │\n",
       "│ ---        ┆ ---    ┆ ---        ┆ ---             ┆ ---    ┆ ---   ┆ ---               ┆ ---  │\n",
       "│ u32        ┆ u32    ┆ u32        ┆ u32             ┆ u32    ┆ u32   ┆ u32               ┆ u32  │\n",
       "╞════════════╪════════╪════════════╪═════════════════╪════════╪═══════╪═══════════════════╪══════╡\n",
       "│ 67         ┆ 145    ┆ 0          ┆ 0               ┆ 0      ┆ 0     ┆ 67                ┆ 43   │\n",
       "└────────────┴────────┴────────────┴─────────────────┴────────┴───────┴───────────────────┴──────┘"
      ]
     },
     "execution_count": 6,
     "metadata": {},
     "output_type": "execute_result"
    }
   ],
   "source": [
    "## 컬럼별 null값 확인\n",
    "\n",
    "df.null_count()"
   ]
  },
  {
   "cell_type": "code",
   "execution_count": null,
   "metadata": {},
   "outputs": [],
   "source": [
    "## 특정 컬럼 null값 확인\n",
    "\n",
    "df['Gender'].is_null().sum()"
   ]
  },
  {
   "cell_type": "code",
   "execution_count": null,
   "metadata": {},
   "outputs": [],
   "source": [
    "## null 채우기\n",
    "\n",
    "df.fill_null(0)\n",
    "\n",
    "df.fill_null(strategy='forward') # 'forward', 'backward', 'min', 'max', 'mean', 'zero', 'one'"
   ]
  },
  {
   "cell_type": "code",
   "execution_count": null,
   "metadata": {},
   "outputs": [],
   "source": [
    "## null 없애기\n",
    "\n",
    "# 전체 컬럼 대상\n",
    "df.drop_nulls()\n",
    "\n",
    "# 특정 컬럼 대상\n",
    "df.drop_nulls(subset='Gender')\n",
    "\n",
    "# 특정 타입 대상\n",
    "import polars.selectors as cs\n",
    "\n",
    "df.drop_nulls(subset=cs.string())"
   ]
  },
  {
   "cell_type": "code",
   "execution_count": null,
   "metadata": {},
   "outputs": [],
   "source": [
    "## drop 대상 컬럼 저장 + drop 내용 바로 반영 (python의 pop과 비슷)\n",
    "\n",
    "df.drop_in_place('Gender')"
   ]
  },
  {
   "cell_type": "markdown",
   "metadata": {},
   "source": [
    "## 4. 데이터 타입 다루기"
   ]
  },
  {
   "cell_type": "code",
   "execution_count": null,
   "metadata": {},
   "outputs": [],
   "source": [
    "# INT -> STRING 변경\n",
    "\n",
    "df = df.with_columns(\n",
    "    Salary = pl.col(\"Salary\").cast(pl.String)\n",
    "    )"
   ]
  },
  {
   "cell_type": "code",
   "execution_count": 27,
   "metadata": {},
   "outputs": [],
   "source": [
    "# STRING -> INT 변경\n",
    "\n",
    "df = df.with_columns(\n",
    "    Salary = pl.col(\"Salary\").cast(pl.Int32)\n",
    "    )"
   ]
  },
  {
   "cell_type": "code",
   "execution_count": 8,
   "metadata": {},
   "outputs": [],
   "source": [
    "# Start Date를 datetime 형식으로 변환\n",
    "df = df.with_columns(\n",
    "    pl.col(\"Start Date\").str.strptime(pl.Date, format=\"%m/%d/%Y\").alias(\"Start Date\")\n",
    "    )\n",
    "\n",
    "# Last Login Time을 시간 형식으로 변환\n",
    "df = df.with_columns(\n",
    "    pl.col(\"Last Login Time\").str.strptime(pl.Time, format=\"%I:%M %p\").alias(\"Last Login Time\")\n",
    "    )"
   ]
  },
  {
   "cell_type": "code",
   "execution_count": 9,
   "metadata": {},
   "outputs": [
    {
     "data": {
      "text/html": [
       "<div><style>\n",
       ".dataframe > thead > tr,\n",
       ".dataframe > tbody > tr {\n",
       "  text-align: right;\n",
       "  white-space: pre-wrap;\n",
       "}\n",
       "</style>\n",
       "<small>shape: (5, 11)</small><table border=\"1\" class=\"dataframe\"><thead><tr><th>First Name</th><th>Gender</th><th>Start Date</th><th>Last Login Time</th><th>Salary</th><th>Bonus</th><th>Senior Management</th><th>Team</th><th>year</th><th>month</th><th>day</th></tr><tr><td>str</td><td>str</td><td>date</td><td>time</td><td>i64</td><td>f64</td><td>bool</td><td>str</td><td>i32</td><td>i8</td><td>i8</td></tr></thead><tbody><tr><td>&quot;Douglas&quot;</td><td>&quot;Male&quot;</td><td>1993-08-06</td><td>12:42:00</td><td>97308</td><td>6.945</td><td>true</td><td>&quot;Marketing&quot;</td><td>1993</td><td>8</td><td>6</td></tr><tr><td>&quot;Thomas&quot;</td><td>&quot;Male&quot;</td><td>1996-03-31</td><td>06:53:00</td><td>61933</td><td>4.17</td><td>true</td><td>null</td><td>1996</td><td>3</td><td>31</td></tr><tr><td>&quot;Maria&quot;</td><td>&quot;Female&quot;</td><td>1993-04-23</td><td>11:17:00</td><td>130590</td><td>11.858</td><td>false</td><td>&quot;Finance&quot;</td><td>1993</td><td>4</td><td>23</td></tr><tr><td>&quot;Jerry&quot;</td><td>&quot;Male&quot;</td><td>2005-03-04</td><td>13:00:00</td><td>138705</td><td>9.34</td><td>true</td><td>&quot;Finance&quot;</td><td>2005</td><td>3</td><td>4</td></tr><tr><td>&quot;Larry&quot;</td><td>&quot;Male&quot;</td><td>1998-01-24</td><td>16:47:00</td><td>101004</td><td>1.389</td><td>true</td><td>&quot;Client Services&quot;</td><td>1998</td><td>1</td><td>24</td></tr></tbody></table></div>"
      ],
      "text/plain": [
       "shape: (5, 11)\n",
       "┌────────────┬────────┬────────────┬─────────────────┬───┬─────────────────┬──────┬───────┬─────┐\n",
       "│ First Name ┆ Gender ┆ Start Date ┆ Last Login Time ┆ … ┆ Team            ┆ year ┆ month ┆ day │\n",
       "│ ---        ┆ ---    ┆ ---        ┆ ---             ┆   ┆ ---             ┆ ---  ┆ ---   ┆ --- │\n",
       "│ str        ┆ str    ┆ date       ┆ time            ┆   ┆ str             ┆ i32  ┆ i8    ┆ i8  │\n",
       "╞════════════╪════════╪════════════╪═════════════════╪═══╪═════════════════╪══════╪═══════╪═════╡\n",
       "│ Douglas    ┆ Male   ┆ 1993-08-06 ┆ 12:42:00        ┆ … ┆ Marketing       ┆ 1993 ┆ 8     ┆ 6   │\n",
       "│ Thomas     ┆ Male   ┆ 1996-03-31 ┆ 06:53:00        ┆ … ┆ null            ┆ 1996 ┆ 3     ┆ 31  │\n",
       "│ Maria      ┆ Female ┆ 1993-04-23 ┆ 11:17:00        ┆ … ┆ Finance         ┆ 1993 ┆ 4     ┆ 23  │\n",
       "│ Jerry      ┆ Male   ┆ 2005-03-04 ┆ 13:00:00        ┆ … ┆ Finance         ┆ 2005 ┆ 3     ┆ 4   │\n",
       "│ Larry      ┆ Male   ┆ 1998-01-24 ┆ 16:47:00        ┆ … ┆ Client Services ┆ 1998 ┆ 1     ┆ 24  │\n",
       "└────────────┴────────┴────────────┴─────────────────┴───┴─────────────────┴──────┴───────┴─────┘"
      ]
     },
     "execution_count": 9,
     "metadata": {},
     "output_type": "execute_result"
    }
   ],
   "source": [
    "# 년, 월, 일 추출\n",
    "\n",
    "df.with_columns(\n",
    "    year = pl.col(\"Start Date\").dt.year(),\n",
    "    month = pl.col(\"Start Date\").dt.month(),\n",
    "    day = pl.col(\"Start Date\").dt.day()\n",
    "    ).head()"
   ]
  },
  {
   "cell_type": "markdown",
   "metadata": {},
   "source": [
    "## 5. 데이터 필터링"
   ]
  },
  {
   "cell_type": "code",
   "execution_count": null,
   "metadata": {},
   "outputs": [],
   "source": [
    "## 단일 조건 필터\n",
    "\n",
    "df.filter(pl.col('Gender').is_null())\n",
    "\n",
    "df.filter(pl.col('Gender') == 'Female')\n",
    "\n",
    "df.filter(pl.col('Bonus') >= 10)\n",
    "\n",
    "df.filter(pl.col('Bonus').is_between(8, 12))\n",
    "\n",
    "df.filter(pl.col('Team').is_in(['Finance', 'Sales']))"
   ]
  },
  {
   "cell_type": "code",
   "execution_count": null,
   "metadata": {},
   "outputs": [],
   "source": [
    "## 다중 필터\n",
    "\n",
    "and_condition = (pl.col('Gender') == 'Female') & (pl.col('Bonus') >= 10)\n",
    "\n",
    "or_condition = (pl.col('Gender') == 'Female') | (pl.col('Bonus') >= 10)\n",
    "\n",
    "df.filter(and_condition)"
   ]
  },
  {
   "cell_type": "code",
   "execution_count": null,
   "metadata": {},
   "outputs": [],
   "source": [
    "df.with_columns(\n",
    "    pl.when(pl.col(\"Team\").is_in(['Marketing', 'Engineering'])).then(\"P\").otherwise(\"U\").alias(\"val\")\n",
    "    )"
   ]
  },
  {
   "cell_type": "code",
   "execution_count": null,
   "metadata": {},
   "outputs": [],
   "source": [
    "## 조건 필터(when)\n",
    "\n",
    "df.with_columns(\n",
    "    aaa = pl.when(pl.col(\"Salary\") >= 100000).then(1).otherwise(0)\n",
    "    ).head()"
   ]
  },
  {
   "cell_type": "markdown",
   "metadata": {},
   "source": [
    "## 6. ORDER BY"
   ]
  },
  {
   "cell_type": "code",
   "execution_count": null,
   "metadata": {},
   "outputs": [],
   "source": [
    "## 단일 컬럼 정렬\n",
    "\n",
    "df.sort('Bonus')\n",
    "\n",
    "df.sort(\n",
    "    by='Bonus', \n",
    "    descending=True\n",
    "    )"
   ]
  },
  {
   "cell_type": "code",
   "execution_count": null,
   "metadata": {},
   "outputs": [],
   "source": [
    "## 다중 컬럼 정렬\n",
    "\n",
    "df.sort(\n",
    "    by=['Team', 'Salary'], \n",
    "    descending=[False, True],\n",
    "    nulls_last=True\n",
    "    )"
   ]
  },
  {
   "cell_type": "code",
   "execution_count": 42,
   "metadata": {},
   "outputs": [
    {
     "data": {
      "text/plain": [
       "(shape: (10, 8)\n",
       " ┌────────────┬────────┬────────────┬───────────────┬────────┬────────┬──────────────┬──────────────┐\n",
       " │ First Name ┆ Gender ┆ Start Date ┆ Last Login    ┆ Salary ┆ Bonus  ┆ Senior       ┆ Team         │\n",
       " │ ---        ┆ ---    ┆ ---        ┆ Time          ┆ ---    ┆ ---    ┆ Management   ┆ ---          │\n",
       " │ str        ┆ str    ┆ date       ┆ ---           ┆ i32    ┆ f64    ┆ ---          ┆ str          │\n",
       " │            ┆        ┆            ┆ time          ┆        ┆        ┆ bool         ┆              │\n",
       " ╞════════════╪════════╪════════════╪═══════════════╪════════╪════════╪══════════════╪══════════════╡\n",
       " │ null       ┆ Female ┆ 2015-07-20 ┆ 10:43:00      ┆ 45906  ┆ 11.598 ┆ null         ┆ Finance      │\n",
       " │ Thomas     ┆ Male   ┆ 1996-03-31 ┆ 06:53:00      ┆ 61933  ┆ 4.17   ┆ true         ┆ null         │\n",
       " │ Ruby       ┆ Female ┆ 1987-08-17 ┆ 16:20:00      ┆ 65476  ┆ 10.012 ┆ true         ┆ Product      │\n",
       " │ Angela     ┆ Female ┆ 2005-11-22 ┆ 06:29:00      ┆ 95570  ┆ 18.523 ┆ true         ┆ Engineering  │\n",
       " │ Douglas    ┆ Male   ┆ 1993-08-06 ┆ 12:42:00      ┆ 97308  ┆ 6.945  ┆ true         ┆ Marketing    │\n",
       " │ Larry      ┆ Male   ┆ 1998-01-24 ┆ 16:47:00      ┆ 101004 ┆ 1.389  ┆ true         ┆ Client       │\n",
       " │            ┆        ┆            ┆               ┆        ┆        ┆              ┆ Services     │\n",
       " │ Dennis     ┆ Male   ┆ 1987-04-18 ┆ 01:35:00      ┆ 115163 ┆ 10.125 ┆ false        ┆ Legal        │\n",
       " │ Maria      ┆ Female ┆ 1993-04-23 ┆ 11:17:00      ┆ 130590 ┆ 11.858 ┆ false        ┆ Finance      │\n",
       " │ Jerry      ┆ Male   ┆ 2005-03-04 ┆ 13:00:00      ┆ 138705 ┆ 9.34   ┆ true         ┆ Finance      │\n",
       " │ Frances    ┆ Female ┆ 2002-08-08 ┆ 06:51:00      ┆ 139852 ┆ 7.524  ┆ true         ┆ Business     │\n",
       " │            ┆        ┆            ┆               ┆        ┆        ┆              ┆ Development  │\n",
       " └────────────┴────────┴────────────┴───────────────┴────────┴────────┴──────────────┴──────────────┘,\n",
       " shape: (10, 8)\n",
       " ┌────────────┬────────┬────────────┬───────────────┬────────┬────────┬──────────────┬──────────────┐\n",
       " │ First Name ┆ Gender ┆ Start Date ┆ Last Login    ┆ Salary ┆ Bonus  ┆ Senior       ┆ Team         │\n",
       " │ ---        ┆ ---    ┆ ---        ┆ Time          ┆ ---    ┆ ---    ┆ Management   ┆ ---          │\n",
       " │ str        ┆ str    ┆ date       ┆ ---           ┆ i32    ┆ f64    ┆ ---          ┆ str          │\n",
       " │            ┆        ┆            ┆ time          ┆        ┆        ┆ bool         ┆              │\n",
       " ╞════════════╪════════╪════════════╪═══════════════╪════════╪════════╪══════════════╪══════════════╡\n",
       " │ Phillip    ┆ Male   ┆ 1984-01-31 ┆ 06:30:00      ┆ 42392  ┆ 19.675 ┆ false        ┆ Finance      │\n",
       " │ Tina       ┆ Female ┆ 1997-05-15 ┆ 15:53:00      ┆ 56450  ┆ 19.04  ┆ true         ┆ Engineering  │\n",
       " │ Larry      ┆ Male   ┆ 2013-04-20 ┆ 16:45:00      ┆ 60500  ┆ 11.985 ┆ false        ┆ Business     │\n",
       " │            ┆        ┆            ┆               ┆        ┆        ┆              ┆ Development  │\n",
       " │ Russell    ┆ Male   ┆ 2013-05-20 ┆ 12:39:00      ┆ 96914  ┆ 1.421  ┆ false        ┆ Product      │\n",
       " │ George     ┆ Male   ┆ 2013-06-21 ┆ 17:47:00      ┆ 98874  ┆ 4.479  ┆ true         ┆ Marketing    │\n",
       " │ Robin      ┆ Female ┆ 1987-07-24 ┆ 13:35:00      ┆ 100765 ┆ 10.982 ┆ true         ┆ Client       │\n",
       " │            ┆        ┆            ┆               ┆        ┆        ┆              ┆ Services     │\n",
       " │ Anthony    ┆ Male   ┆ 2011-10-16 ┆ 08:35:00      ┆ 112769 ┆ 11.625 ┆ true         ┆ Finance      │\n",
       " │ Albert     ┆ Male   ┆ 2012-05-15 ┆ 18:24:00      ┆ 129949 ┆ 10.169 ┆ true         ┆ Sales        │\n",
       " │ Henry      ┆ null   ┆ 2014-11-23 ┆ 06:09:00      ┆ 132483 ┆ 16.655 ┆ false        ┆ Distribution │\n",
       " │ Rose       ┆ Female ┆ 2002-08-25 ┆ 05:12:00      ┆ 134505 ┆ 11.051 ┆ true         ┆ Marketing    │\n",
       " └────────────┴────────┴────────────┴───────────────┴────────┴────────┴──────────────┴──────────────┘)"
      ]
     },
     "execution_count": 42,
     "metadata": {},
     "output_type": "execute_result"
    }
   ],
   "source": [
    "df1 = df.head(10).sort(\"Salary\")\n",
    "df2 = df.tail(10).sort(\"Salary\")\n",
    "\n",
    "df1, df2"
   ]
  },
  {
   "cell_type": "code",
   "execution_count": 43,
   "metadata": {},
   "outputs": [
    {
     "data": {
      "text/html": [
       "<div><style>\n",
       ".dataframe > thead > tr,\n",
       ".dataframe > tbody > tr {\n",
       "  text-align: right;\n",
       "  white-space: pre-wrap;\n",
       "}\n",
       "</style>\n",
       "<small>shape: (20, 8)</small><table border=\"1\" class=\"dataframe\"><thead><tr><th>First Name</th><th>Gender</th><th>Start Date</th><th>Last Login Time</th><th>Salary</th><th>Bonus</th><th>Senior Management</th><th>Team</th></tr><tr><td>str</td><td>str</td><td>date</td><td>time</td><td>i32</td><td>f64</td><td>bool</td><td>str</td></tr></thead><tbody><tr><td>&quot;Phillip&quot;</td><td>&quot;Male&quot;</td><td>1984-01-31</td><td>06:30:00</td><td>42392</td><td>19.675</td><td>false</td><td>&quot;Finance&quot;</td></tr><tr><td>null</td><td>&quot;Female&quot;</td><td>2015-07-20</td><td>10:43:00</td><td>45906</td><td>11.598</td><td>null</td><td>&quot;Finance&quot;</td></tr><tr><td>&quot;Tina&quot;</td><td>&quot;Female&quot;</td><td>1997-05-15</td><td>15:53:00</td><td>56450</td><td>19.04</td><td>true</td><td>&quot;Engineering&quot;</td></tr><tr><td>&quot;Larry&quot;</td><td>&quot;Male&quot;</td><td>2013-04-20</td><td>16:45:00</td><td>60500</td><td>11.985</td><td>false</td><td>&quot;Business Development&quot;</td></tr><tr><td>&quot;Thomas&quot;</td><td>&quot;Male&quot;</td><td>1996-03-31</td><td>06:53:00</td><td>61933</td><td>4.17</td><td>true</td><td>null</td></tr><tr><td>&quot;Ruby&quot;</td><td>&quot;Female&quot;</td><td>1987-08-17</td><td>16:20:00</td><td>65476</td><td>10.012</td><td>true</td><td>&quot;Product&quot;</td></tr><tr><td>&quot;Angela&quot;</td><td>&quot;Female&quot;</td><td>2005-11-22</td><td>06:29:00</td><td>95570</td><td>18.523</td><td>true</td><td>&quot;Engineering&quot;</td></tr><tr><td>&quot;Russell&quot;</td><td>&quot;Male&quot;</td><td>2013-05-20</td><td>12:39:00</td><td>96914</td><td>1.421</td><td>false</td><td>&quot;Product&quot;</td></tr><tr><td>&quot;Douglas&quot;</td><td>&quot;Male&quot;</td><td>1993-08-06</td><td>12:42:00</td><td>97308</td><td>6.945</td><td>true</td><td>&quot;Marketing&quot;</td></tr><tr><td>&quot;George&quot;</td><td>&quot;Male&quot;</td><td>2013-06-21</td><td>17:47:00</td><td>98874</td><td>4.479</td><td>true</td><td>&quot;Marketing&quot;</td></tr><tr><td>&quot;Robin&quot;</td><td>&quot;Female&quot;</td><td>1987-07-24</td><td>13:35:00</td><td>100765</td><td>10.982</td><td>true</td><td>&quot;Client Services&quot;</td></tr><tr><td>&quot;Larry&quot;</td><td>&quot;Male&quot;</td><td>1998-01-24</td><td>16:47:00</td><td>101004</td><td>1.389</td><td>true</td><td>&quot;Client Services&quot;</td></tr><tr><td>&quot;Anthony&quot;</td><td>&quot;Male&quot;</td><td>2011-10-16</td><td>08:35:00</td><td>112769</td><td>11.625</td><td>true</td><td>&quot;Finance&quot;</td></tr><tr><td>&quot;Dennis&quot;</td><td>&quot;Male&quot;</td><td>1987-04-18</td><td>01:35:00</td><td>115163</td><td>10.125</td><td>false</td><td>&quot;Legal&quot;</td></tr><tr><td>&quot;Albert&quot;</td><td>&quot;Male&quot;</td><td>2012-05-15</td><td>18:24:00</td><td>129949</td><td>10.169</td><td>true</td><td>&quot;Sales&quot;</td></tr><tr><td>&quot;Maria&quot;</td><td>&quot;Female&quot;</td><td>1993-04-23</td><td>11:17:00</td><td>130590</td><td>11.858</td><td>false</td><td>&quot;Finance&quot;</td></tr><tr><td>&quot;Henry&quot;</td><td>null</td><td>2014-11-23</td><td>06:09:00</td><td>132483</td><td>16.655</td><td>false</td><td>&quot;Distribution&quot;</td></tr><tr><td>&quot;Rose&quot;</td><td>&quot;Female&quot;</td><td>2002-08-25</td><td>05:12:00</td><td>134505</td><td>11.051</td><td>true</td><td>&quot;Marketing&quot;</td></tr><tr><td>&quot;Jerry&quot;</td><td>&quot;Male&quot;</td><td>2005-03-04</td><td>13:00:00</td><td>138705</td><td>9.34</td><td>true</td><td>&quot;Finance&quot;</td></tr><tr><td>&quot;Frances&quot;</td><td>&quot;Female&quot;</td><td>2002-08-08</td><td>06:51:00</td><td>139852</td><td>7.524</td><td>true</td><td>&quot;Business Development&quot;</td></tr></tbody></table></div>"
      ],
      "text/plain": [
       "shape: (20, 8)\n",
       "┌────────────┬────────┬────────────┬───────────────┬────────┬────────┬──────────────┬──────────────┐\n",
       "│ First Name ┆ Gender ┆ Start Date ┆ Last Login    ┆ Salary ┆ Bonus  ┆ Senior       ┆ Team         │\n",
       "│ ---        ┆ ---    ┆ ---        ┆ Time          ┆ ---    ┆ ---    ┆ Management   ┆ ---          │\n",
       "│ str        ┆ str    ┆ date       ┆ ---           ┆ i32    ┆ f64    ┆ ---          ┆ str          │\n",
       "│            ┆        ┆            ┆ time          ┆        ┆        ┆ bool         ┆              │\n",
       "╞════════════╪════════╪════════════╪═══════════════╪════════╪════════╪══════════════╪══════════════╡\n",
       "│ Phillip    ┆ Male   ┆ 1984-01-31 ┆ 06:30:00      ┆ 42392  ┆ 19.675 ┆ false        ┆ Finance      │\n",
       "│ null       ┆ Female ┆ 2015-07-20 ┆ 10:43:00      ┆ 45906  ┆ 11.598 ┆ null         ┆ Finance      │\n",
       "│ Tina       ┆ Female ┆ 1997-05-15 ┆ 15:53:00      ┆ 56450  ┆ 19.04  ┆ true         ┆ Engineering  │\n",
       "│ Larry      ┆ Male   ┆ 2013-04-20 ┆ 16:45:00      ┆ 60500  ┆ 11.985 ┆ false        ┆ Business     │\n",
       "│            ┆        ┆            ┆               ┆        ┆        ┆              ┆ Development  │\n",
       "│ Thomas     ┆ Male   ┆ 1996-03-31 ┆ 06:53:00      ┆ 61933  ┆ 4.17   ┆ true         ┆ null         │\n",
       "│ Ruby       ┆ Female ┆ 1987-08-17 ┆ 16:20:00      ┆ 65476  ┆ 10.012 ┆ true         ┆ Product      │\n",
       "│ Angela     ┆ Female ┆ 2005-11-22 ┆ 06:29:00      ┆ 95570  ┆ 18.523 ┆ true         ┆ Engineering  │\n",
       "│ Russell    ┆ Male   ┆ 2013-05-20 ┆ 12:39:00      ┆ 96914  ┆ 1.421  ┆ false        ┆ Product      │\n",
       "│ Douglas    ┆ Male   ┆ 1993-08-06 ┆ 12:42:00      ┆ 97308  ┆ 6.945  ┆ true         ┆ Marketing    │\n",
       "│ George     ┆ Male   ┆ 2013-06-21 ┆ 17:47:00      ┆ 98874  ┆ 4.479  ┆ true         ┆ Marketing    │\n",
       "│ Robin      ┆ Female ┆ 1987-07-24 ┆ 13:35:00      ┆ 100765 ┆ 10.982 ┆ true         ┆ Client       │\n",
       "│            ┆        ┆            ┆               ┆        ┆        ┆              ┆ Services     │\n",
       "│ Larry      ┆ Male   ┆ 1998-01-24 ┆ 16:47:00      ┆ 101004 ┆ 1.389  ┆ true         ┆ Client       │\n",
       "│            ┆        ┆            ┆               ┆        ┆        ┆              ┆ Services     │\n",
       "│ Anthony    ┆ Male   ┆ 2011-10-16 ┆ 08:35:00      ┆ 112769 ┆ 11.625 ┆ true         ┆ Finance      │\n",
       "│ Dennis     ┆ Male   ┆ 1987-04-18 ┆ 01:35:00      ┆ 115163 ┆ 10.125 ┆ false        ┆ Legal        │\n",
       "│ Albert     ┆ Male   ┆ 2012-05-15 ┆ 18:24:00      ┆ 129949 ┆ 10.169 ┆ true         ┆ Sales        │\n",
       "│ Maria      ┆ Female ┆ 1993-04-23 ┆ 11:17:00      ┆ 130590 ┆ 11.858 ┆ false        ┆ Finance      │\n",
       "│ Henry      ┆ null   ┆ 2014-11-23 ┆ 06:09:00      ┆ 132483 ┆ 16.655 ┆ false        ┆ Distribution │\n",
       "│ Rose       ┆ Female ┆ 2002-08-25 ┆ 05:12:00      ┆ 134505 ┆ 11.051 ┆ true         ┆ Marketing    │\n",
       "│ Jerry      ┆ Male   ┆ 2005-03-04 ┆ 13:00:00      ┆ 138705 ┆ 9.34   ┆ true         ┆ Finance      │\n",
       "│ Frances    ┆ Female ┆ 2002-08-08 ┆ 06:51:00      ┆ 139852 ┆ 7.524  ┆ true         ┆ Business     │\n",
       "│            ┆        ┆            ┆               ┆        ┆        ┆              ┆ Development  │\n",
       "└────────────┴────────┴────────────┴───────────────┴────────┴────────┴──────────────┴──────────────┘"
      ]
     },
     "execution_count": 43,
     "metadata": {},
     "output_type": "execute_result"
    }
   ],
   "source": [
    "\"\"\"\n",
    "두 개의 df 특정 컬럼을 기준으로 정렬하여 merge한다.\n",
    "단, 기존 df들의 순서를 바꾸지는 않는다.\n",
    "\"\"\"\n",
    "\n",
    "df1.merge_sorted(df2, 'Salary')"
   ]
  },
  {
   "cell_type": "markdown",
   "metadata": {},
   "source": [
    "## 7. GROUP BY"
   ]
  },
  {
   "cell_type": "code",
   "execution_count": null,
   "metadata": {},
   "outputs": [],
   "source": [
    "# group by\n",
    "\n",
    "df.group_by('Gender').agg(\n",
    "    gender_cnt=pl.col('Gender').count()\n",
    "    )\n",
    "\n",
    "df.group_by('Gender').agg(\n",
    "    pl.count('Gender').alias('gender_cnt')\n",
    "    )"
   ]
  },
  {
   "cell_type": "code",
   "execution_count": 48,
   "metadata": {},
   "outputs": [
    {
     "data": {
      "text/html": [
       "<div><style>\n",
       ".dataframe > thead > tr,\n",
       ".dataframe > tbody > tr {\n",
       "  text-align: right;\n",
       "  white-space: pre-wrap;\n",
       "}\n",
       "</style>\n",
       "<small>shape: (11, 6)</small><table border=\"1\" class=\"dataframe\"><thead><tr><th>Team</th><th>cnt</th><th>max_sal</th><th>mean_sal</th><th>min_sal</th><th>mean_bonus</th></tr><tr><td>str</td><td>u32</td><td>i32</td><td>f64</td><td>i32</td><td>f64</td></tr></thead><tbody><tr><td>&quot;Engineering&quot;</td><td>92</td><td>147362</td><td>94269.195652</td><td>36946</td><td>10.462989</td></tr><tr><td>&quot;Finance&quot;</td><td>102</td><td>149908</td><td>92219.480392</td><td>35381</td><td>10.186873</td></tr><tr><td>&quot;Sales&quot;</td><td>94</td><td>149654</td><td>92173.43617</td><td>35802</td><td>10.116915</td></tr><tr><td>&quot;Business Development&quot;</td><td>101</td><td>147417</td><td>91866.316832</td><td>36844</td><td>10.572376</td></tr><tr><td>&quot;Human Resources&quot;</td><td>91</td><td>149903</td><td>90944.527473</td><td>35203</td><td>9.993879</td></tr><tr><td>null</td><td>0</td><td>148291</td><td>90763.139535</td><td>37919</td><td>10.384395</td></tr><tr><td>&quot;Marketing&quot;</td><td>98</td><td>149456</td><td>90435.591837</td><td>36643</td><td>10.353449</td></tr><tr><td>&quot;Legal&quot;</td><td>88</td><td>148985</td><td>89303.613636</td><td>35061</td><td>10.32283</td></tr><tr><td>&quot;Product&quot;</td><td>95</td><td>149684</td><td>88665.505263</td><td>35013</td><td>9.791484</td></tr><tr><td>&quot;Distribution&quot;</td><td>90</td><td>149105</td><td>88500.466667</td><td>35575</td><td>9.615644</td></tr><tr><td>&quot;Client Services&quot;</td><td>106</td><td>147183</td><td>88224.424528</td><td>35095</td><td>10.495104</td></tr></tbody></table></div>"
      ],
      "text/plain": [
       "shape: (11, 6)\n",
       "┌──────────────────────┬─────┬─────────┬──────────────┬─────────┬────────────┐\n",
       "│ Team                 ┆ cnt ┆ max_sal ┆ mean_sal     ┆ min_sal ┆ mean_bonus │\n",
       "│ ---                  ┆ --- ┆ ---     ┆ ---          ┆ ---     ┆ ---        │\n",
       "│ str                  ┆ u32 ┆ i32     ┆ f64          ┆ i32     ┆ f64        │\n",
       "╞══════════════════════╪═════╪═════════╪══════════════╪═════════╪════════════╡\n",
       "│ Engineering          ┆ 92  ┆ 147362  ┆ 94269.195652 ┆ 36946   ┆ 10.462989  │\n",
       "│ Finance              ┆ 102 ┆ 149908  ┆ 92219.480392 ┆ 35381   ┆ 10.186873  │\n",
       "│ Sales                ┆ 94  ┆ 149654  ┆ 92173.43617  ┆ 35802   ┆ 10.116915  │\n",
       "│ Business Development ┆ 101 ┆ 147417  ┆ 91866.316832 ┆ 36844   ┆ 10.572376  │\n",
       "│ Human Resources      ┆ 91  ┆ 149903  ┆ 90944.527473 ┆ 35203   ┆ 9.993879   │\n",
       "│ null                 ┆ 0   ┆ 148291  ┆ 90763.139535 ┆ 37919   ┆ 10.384395  │\n",
       "│ Marketing            ┆ 98  ┆ 149456  ┆ 90435.591837 ┆ 36643   ┆ 10.353449  │\n",
       "│ Legal                ┆ 88  ┆ 148985  ┆ 89303.613636 ┆ 35061   ┆ 10.32283   │\n",
       "│ Product              ┆ 95  ┆ 149684  ┆ 88665.505263 ┆ 35013   ┆ 9.791484   │\n",
       "│ Distribution         ┆ 90  ┆ 149105  ┆ 88500.466667 ┆ 35575   ┆ 9.615644   │\n",
       "│ Client Services      ┆ 106 ┆ 147183  ┆ 88224.424528 ┆ 35095   ┆ 10.495104  │\n",
       "└──────────────────────┴─────┴─────────┴──────────────┴─────────┴────────────┘"
      ]
     },
     "execution_count": 48,
     "metadata": {},
     "output_type": "execute_result"
    }
   ],
   "source": [
    "# group by + sort\n",
    "\n",
    "df.group_by('Team').agg(\n",
    "    cnt = pl.count('Team'),\n",
    "    max_sal = pl.max('Salary'),\n",
    "    mean_sal = pl.mean('Salary'),\n",
    "    min_sal = pl.min('Salary'),\n",
    "    mean_bonus = pl.mean('Bonus'),\n",
    "    ).sort('mean_sal', descending=True)"
   ]
  },
  {
   "cell_type": "code",
   "execution_count": null,
   "metadata": {},
   "outputs": [],
   "source": [
    "# group_by_dynamic\n",
    "\"\"\"\n",
    "시간 기반 데이터를 지정된 간격(예: 1일, 1시간)으로 그룹화할 때 사용하는 메소드,\n",
    "시간 간격으로 window 크기를 정의하여 집계 작업 수행\n",
    "\n",
    "group_by_dynamic(\n",
    "    index_column         # 시간 기반 그룹화를 위한 타임스탬프 열을 지정\n",
    "    every                # 그룹화 간격(예: '1d'는 1일 단위)\n",
    "    period               # 그룹화 윈도우의 기간(기본값은 every와 동일)\n",
    "    offset               # 그룹화 윈도우의 시작점을 조정하는 오프셋\n",
    "    include_boundaries   # 그룹 경계(윈도우 시작 및 끝)을 결과에 포함할지 여부\n",
    "    closed               # 윈도우 경계가 왼쪽, 오른쪽, 또는 양쪽에서 닫혔는지 지정\n",
    "    group_by             # 추가로 그룹화할 컬럼 지정\n",
    ")\n",
    "\"\"\"\n",
    "\n",
    "df.group_by_dynamic(\n",
    "    index_column='battle_datetime',\n",
    "    every=\"3h\"\n",
    "    ).agg(\n",
    "        gb = pl.col('winner_id'),\n",
    "        cnt = pl.col('id').count(),\n",
    "        id_max = pl.col('winner_id').max(),\n",
    "        id_min = pl.col('winner_id').min(),\n",
    "        ).head()"
   ]
  },
  {
   "cell_type": "code",
   "execution_count": null,
   "metadata": {},
   "outputs": [],
   "source": [
    "df.partition_by('battle_date')"
   ]
  },
  {
   "cell_type": "code",
   "execution_count": null,
   "metadata": {},
   "outputs": [],
   "source": [
    "# window functions\n",
    "\n",
    "df.with_columns(\n",
    "    # row_number = pl.col('player1_id').over('battle_date').rank('ordinal'),\n",
    "    max_id = pl.col('player1_id').over('battle_datetime').rank('ordinal')\n",
    "    ).sort('battle_datetime')"
   ]
  },
  {
   "cell_type": "markdown",
   "metadata": {},
   "source": [
    "## 8. JOIN"
   ]
  },
  {
   "cell_type": "code",
   "execution_count": 10,
   "metadata": {},
   "outputs": [
    {
     "data": {
      "text/plain": [
       "(['id',\n",
       "  'trainer_id',\n",
       "  'pokemon_id',\n",
       "  'level',\n",
       "  'experience_point',\n",
       "  'current_health',\n",
       "  'catch_date',\n",
       "  'catch_datetime',\n",
       "  'location',\n",
       "  'status'],\n",
       " ['id',\n",
       "  'kor_name',\n",
       "  'eng_name',\n",
       "  'type1',\n",
       "  'type2',\n",
       "  'total',\n",
       "  'hp',\n",
       "  'attack',\n",
       "  'defense',\n",
       "  'special_attack',\n",
       "  'special_defense',\n",
       "  'speed',\n",
       "  'generation',\n",
       "  'is_legendary'])"
      ]
     },
     "execution_count": 10,
     "metadata": {},
     "output_type": "execute_result"
    }
   ],
   "source": [
    "tp = pl.read_csv(\"../dataset/trainer_pokemon.csv\")\n",
    "pk = pl.read_csv(\"../dataset/pokemon.csv\")\n",
    "\n",
    "tp.columns, pk.columns"
   ]
  },
  {
   "cell_type": "code",
   "execution_count": 7,
   "metadata": {},
   "outputs": [
    {
     "data": {
      "text/plain": [
       "(['id',\n",
       "  'trainer_id',\n",
       "  'tp_id',\n",
       "  'level',\n",
       "  'experience_point',\n",
       "  'current_health',\n",
       "  'catch_date',\n",
       "  'catch_datetime',\n",
       "  'location',\n",
       "  'status'],\n",
       " ['pk_id',\n",
       "  'kor_name',\n",
       "  'eng_name',\n",
       "  'type1',\n",
       "  'type2',\n",
       "  'total',\n",
       "  'hp',\n",
       "  'attack',\n",
       "  'defense',\n",
       "  'special_attack',\n",
       "  'special_defense',\n",
       "  'speed',\n",
       "  'generation',\n",
       "  'is_legendary'])"
      ]
     },
     "execution_count": 7,
     "metadata": {},
     "output_type": "execute_result"
    }
   ],
   "source": [
    "tp = tp.rename({\"pokemon_id\":\"tp_id\"})\n",
    "pk = pk.rename({\"id\":\"pk_id\"})\n",
    "\n",
    "tp.columns, pk.columns"
   ]
  },
  {
   "cell_type": "code",
   "execution_count": 5,
   "metadata": {},
   "outputs": [
    {
     "data": {
      "text/html": [
       "<div><style>\n",
       ".dataframe > thead > tr,\n",
       ".dataframe > tbody > tr {\n",
       "  text-align: right;\n",
       "  white-space: pre-wrap;\n",
       "}\n",
       "</style>\n",
       "<small>shape: (5, 23)</small><table border=\"1\" class=\"dataframe\"><thead><tr><th>id</th><th>trainer_id</th><th>pokemon_id</th><th>level</th><th>experience_point</th><th>current_health</th><th>catch_date</th><th>catch_datetime</th><th>location</th><th>status</th><th>kor_name</th><th>eng_name</th><th>type1</th><th>type2</th><th>total</th><th>hp</th><th>attack</th><th>defense</th><th>special_attack</th><th>special_defense</th><th>speed</th><th>generation</th><th>is_legendary</th></tr><tr><td>i64</td><td>i64</td><td>i64</td><td>i64</td><td>i64</td><td>i64</td><td>str</td><td>str</td><td>str</td><td>str</td><td>str</td><td>str</td><td>str</td><td>str</td><td>i64</td><td>i64</td><td>i64</td><td>i64</td><td>i64</td><td>i64</td><td>i64</td><td>i64</td><td>bool</td></tr></thead><tbody><tr><td>1</td><td>7</td><td>25</td><td>42</td><td>2500</td><td>75</td><td>&quot;2024-02-14&quot;</td><td>&quot;2024-02-14 5:27&quot;</td><td>&quot;Seoul&quot;</td><td>&quot;Active&quot;</td><td>&quot;피카츄&quot;</td><td>&quot;Pikachu&quot;</td><td>&quot;Electric&quot;</td><td>null</td><td>320</td><td>35</td><td>55</td><td>40</td><td>50</td><td>50</td><td>90</td><td>1</td><td>false</td></tr><tr><td>2</td><td>15</td><td>6</td><td>56</td><td>4300</td><td>120</td><td>&quot;2024-03-10&quot;</td><td>&quot;2024-03-10 20:27&quot;</td><td>&quot;Busan&quot;</td><td>&quot;Active&quot;</td><td>&quot;리자몽&quot;</td><td>&quot;Charizard&quot;</td><td>&quot;Fire&quot;</td><td>&quot;Flying&quot;</td><td>534</td><td>78</td><td>84</td><td>78</td><td>109</td><td>85</td><td>100</td><td>1</td><td>false</td></tr><tr><td>3</td><td>4</td><td>12</td><td>21</td><td>800</td><td>40</td><td>&quot;2024-01-05&quot;</td><td>&quot;2024-01-05 14:28&quot;</td><td>&quot;Incheon&quot;</td><td>&quot;Active&quot;</td><td>&quot;버터플&quot;</td><td>&quot;Butterfree&quot;</td><td>&quot;Bug&quot;</td><td>&quot;Flying&quot;</td><td>395</td><td>60</td><td>45</td><td>50</td><td>90</td><td>80</td><td>70</td><td>1</td><td>false</td></tr><tr><td>4</td><td>12</td><td>19</td><td>39</td><td>2100</td><td>95</td><td>&quot;2024-02-28&quot;</td><td>&quot;2024-02-28 22:39&quot;</td><td>&quot;Gwangju&quot;</td><td>&quot;Active&quot;</td><td>&quot;꼬렛&quot;</td><td>&quot;Rattata&quot;</td><td>&quot;Normal&quot;</td><td>null</td><td>253</td><td>30</td><td>56</td><td>35</td><td>25</td><td>35</td><td>72</td><td>1</td><td>false</td></tr><tr><td>5</td><td>1</td><td>143</td><td>70</td><td>9500</td><td>160</td><td>&quot;2024-05-22&quot;</td><td>&quot;2024-05-22 20:58&quot;</td><td>&quot;Daejeon&quot;</td><td>&quot;Active&quot;</td><td>&quot;잠만보&quot;</td><td>&quot;Snorlax&quot;</td><td>&quot;Normal&quot;</td><td>null</td><td>540</td><td>160</td><td>110</td><td>65</td><td>65</td><td>110</td><td>30</td><td>1</td><td>false</td></tr></tbody></table></div>"
      ],
      "text/plain": [
       "shape: (5, 23)\n",
       "┌─────┬────────────┬────────────┬───────┬───┬─────────────────┬───────┬────────────┬──────────────┐\n",
       "│ id  ┆ trainer_id ┆ pokemon_id ┆ level ┆ … ┆ special_defense ┆ speed ┆ generation ┆ is_legendary │\n",
       "│ --- ┆ ---        ┆ ---        ┆ ---   ┆   ┆ ---             ┆ ---   ┆ ---        ┆ ---          │\n",
       "│ i64 ┆ i64        ┆ i64        ┆ i64   ┆   ┆ i64             ┆ i64   ┆ i64        ┆ bool         │\n",
       "╞═════╪════════════╪════════════╪═══════╪═══╪═════════════════╪═══════╪════════════╪══════════════╡\n",
       "│ 1   ┆ 7          ┆ 25         ┆ 42    ┆ … ┆ 50              ┆ 90    ┆ 1          ┆ false        │\n",
       "│ 2   ┆ 15         ┆ 6          ┆ 56    ┆ … ┆ 85              ┆ 100   ┆ 1          ┆ false        │\n",
       "│ 3   ┆ 4          ┆ 12         ┆ 21    ┆ … ┆ 80              ┆ 70    ┆ 1          ┆ false        │\n",
       "│ 4   ┆ 12         ┆ 19         ┆ 39    ┆ … ┆ 35              ┆ 72    ┆ 1          ┆ false        │\n",
       "│ 5   ┆ 1          ┆ 143        ┆ 70    ┆ … ┆ 110             ┆ 30    ┆ 1          ┆ false        │\n",
       "└─────┴────────────┴────────────┴───────┴───┴─────────────────┴───────┴────────────┴──────────────┘"
      ]
     },
     "execution_count": 5,
     "metadata": {},
     "output_type": "execute_result"
    }
   ],
   "source": [
    "tp.join(\n",
    "    other=pk,\n",
    "    on='pokemon_id',\n",
    "    how='left'\n",
    "    ).head()"
   ]
  },
  {
   "cell_type": "code",
   "execution_count": 9,
   "metadata": {},
   "outputs": [
    {
     "data": {
      "text/html": [
       "<div><style>\n",
       ".dataframe > thead > tr,\n",
       ".dataframe > tbody > tr {\n",
       "  text-align: right;\n",
       "  white-space: pre-wrap;\n",
       "}\n",
       "</style>\n",
       "<small>shape: (5, 23)</small><table border=\"1\" class=\"dataframe\"><thead><tr><th>id</th><th>trainer_id</th><th>tp_id</th><th>level</th><th>experience_point</th><th>current_health</th><th>catch_date</th><th>catch_datetime</th><th>location</th><th>status</th><th>kor_name</th><th>eng_name</th><th>type1</th><th>type2</th><th>total</th><th>hp</th><th>attack</th><th>defense</th><th>special_attack</th><th>special_defense</th><th>speed</th><th>generation</th><th>is_legendary</th></tr><tr><td>i64</td><td>i64</td><td>i64</td><td>i64</td><td>i64</td><td>i64</td><td>str</td><td>str</td><td>str</td><td>str</td><td>str</td><td>str</td><td>str</td><td>str</td><td>i64</td><td>i64</td><td>i64</td><td>i64</td><td>i64</td><td>i64</td><td>i64</td><td>i64</td><td>bool</td></tr></thead><tbody><tr><td>1</td><td>7</td><td>25</td><td>42</td><td>2500</td><td>75</td><td>&quot;2024-02-14&quot;</td><td>&quot;2024-02-14 5:27&quot;</td><td>&quot;Seoul&quot;</td><td>&quot;Active&quot;</td><td>&quot;피카츄&quot;</td><td>&quot;Pikachu&quot;</td><td>&quot;Electric&quot;</td><td>null</td><td>320</td><td>35</td><td>55</td><td>40</td><td>50</td><td>50</td><td>90</td><td>1</td><td>false</td></tr><tr><td>2</td><td>15</td><td>6</td><td>56</td><td>4300</td><td>120</td><td>&quot;2024-03-10&quot;</td><td>&quot;2024-03-10 20:27&quot;</td><td>&quot;Busan&quot;</td><td>&quot;Active&quot;</td><td>&quot;리자몽&quot;</td><td>&quot;Charizard&quot;</td><td>&quot;Fire&quot;</td><td>&quot;Flying&quot;</td><td>534</td><td>78</td><td>84</td><td>78</td><td>109</td><td>85</td><td>100</td><td>1</td><td>false</td></tr><tr><td>3</td><td>4</td><td>12</td><td>21</td><td>800</td><td>40</td><td>&quot;2024-01-05&quot;</td><td>&quot;2024-01-05 14:28&quot;</td><td>&quot;Incheon&quot;</td><td>&quot;Active&quot;</td><td>&quot;버터플&quot;</td><td>&quot;Butterfree&quot;</td><td>&quot;Bug&quot;</td><td>&quot;Flying&quot;</td><td>395</td><td>60</td><td>45</td><td>50</td><td>90</td><td>80</td><td>70</td><td>1</td><td>false</td></tr><tr><td>4</td><td>12</td><td>19</td><td>39</td><td>2100</td><td>95</td><td>&quot;2024-02-28&quot;</td><td>&quot;2024-02-28 22:39&quot;</td><td>&quot;Gwangju&quot;</td><td>&quot;Active&quot;</td><td>&quot;꼬렛&quot;</td><td>&quot;Rattata&quot;</td><td>&quot;Normal&quot;</td><td>null</td><td>253</td><td>30</td><td>56</td><td>35</td><td>25</td><td>35</td><td>72</td><td>1</td><td>false</td></tr><tr><td>5</td><td>1</td><td>143</td><td>70</td><td>9500</td><td>160</td><td>&quot;2024-05-22&quot;</td><td>&quot;2024-05-22 20:58&quot;</td><td>&quot;Daejeon&quot;</td><td>&quot;Active&quot;</td><td>&quot;잠만보&quot;</td><td>&quot;Snorlax&quot;</td><td>&quot;Normal&quot;</td><td>null</td><td>540</td><td>160</td><td>110</td><td>65</td><td>65</td><td>110</td><td>30</td><td>1</td><td>false</td></tr></tbody></table></div>"
      ],
      "text/plain": [
       "shape: (5, 23)\n",
       "┌─────┬────────────┬───────┬───────┬───┬─────────────────┬───────┬────────────┬──────────────┐\n",
       "│ id  ┆ trainer_id ┆ tp_id ┆ level ┆ … ┆ special_defense ┆ speed ┆ generation ┆ is_legendary │\n",
       "│ --- ┆ ---        ┆ ---   ┆ ---   ┆   ┆ ---             ┆ ---   ┆ ---        ┆ ---          │\n",
       "│ i64 ┆ i64        ┆ i64   ┆ i64   ┆   ┆ i64             ┆ i64   ┆ i64        ┆ bool         │\n",
       "╞═════╪════════════╪═══════╪═══════╪═══╪═════════════════╪═══════╪════════════╪══════════════╡\n",
       "│ 1   ┆ 7          ┆ 25    ┆ 42    ┆ … ┆ 50              ┆ 90    ┆ 1          ┆ false        │\n",
       "│ 2   ┆ 15         ┆ 6     ┆ 56    ┆ … ┆ 85              ┆ 100   ┆ 1          ┆ false        │\n",
       "│ 3   ┆ 4          ┆ 12    ┆ 21    ┆ … ┆ 80              ┆ 70    ┆ 1          ┆ false        │\n",
       "│ 4   ┆ 12         ┆ 19    ┆ 39    ┆ … ┆ 35              ┆ 72    ┆ 1          ┆ false        │\n",
       "│ 5   ┆ 1          ┆ 143   ┆ 70    ┆ … ┆ 110             ┆ 30    ┆ 1          ┆ false        │\n",
       "└─────┴────────────┴───────┴───────┴───┴─────────────────┴───────┴────────────┴──────────────┘"
      ]
     },
     "execution_count": 9,
     "metadata": {},
     "output_type": "execute_result"
    }
   ],
   "source": [
    "tp.join(\n",
    "    other=pk,\n",
    "    left_on='tp_id',\n",
    "    right_on='pk_id',\n",
    "    how='left' # 'inner', 'left', 'right', 'full', 'semi', 'anti', 'cross'\n",
    "    ).head()\n",
    "\n"
   ]
  },
  {
   "cell_type": "code",
   "execution_count": 19,
   "metadata": {},
   "outputs": [
    {
     "name": "stdout",
     "output_type": "stream",
     "text": [
      "shape: (3, 3)\n",
      "┌──────┬───────┬─────────┐\n",
      "│ time ┆ value ┆ value_2 │\n",
      "│ ---  ┆ ---   ┆ ---     │\n",
      "│ i64  ┆ str   ┆ str     │\n",
      "╞══════╪═══════╪═════════╡\n",
      "│ 10   ┆ a     ┆ x       │\n",
      "│ 20   ┆ b     ┆ y       │\n",
      "│ 30   ┆ c     ┆ z       │\n",
      "└──────┴───────┴─────────┘\n"
     ]
    }
   ],
   "source": [
    "import polars as pl\n",
    "\n",
    "df1 = pl.DataFrame({\n",
    "    \"time\": [10, 20, 30],\n",
    "    \"value\": [\"a\", \"b\", \"c\"]\n",
    "})\n",
    "\n",
    "df2 = pl.DataFrame({\n",
    "    \"time\": [13, 23, 33],\n",
    "    \"value_2\": [\"x\", \"y\", \"z\"]\n",
    "})\n",
    "\n",
    "# Asof Join 실행\n",
    "df1.join_asof(\n",
    "    df2, \n",
    "    on=\"time\", \n",
    "    strategy='nearest' # 'backward', 'forward', 'nearest'\n",
    "    ).head()\n"
   ]
  }
 ],
 "metadata": {
  "kernelspec": {
   "display_name": "Pyspark",
   "language": "python",
   "name": "python3"
  },
  "language_info": {
   "codemirror_mode": {
    "name": "ipython",
    "version": 3
   },
   "file_extension": ".py",
   "mimetype": "text/x-python",
   "name": "python",
   "nbconvert_exporter": "python",
   "pygments_lexer": "ipython3",
   "version": "3.10.4"
  }
 },
 "nbformat": 4,
 "nbformat_minor": 2
}
