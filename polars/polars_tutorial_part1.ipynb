{
 "cells": [
  {
   "cell_type": "markdown",
   "metadata": {},
   "source": [
    "## 0. 설치"
   ]
  },
  {
   "cell_type": "code",
   "execution_count": null,
   "metadata": {},
   "outputs": [],
   "source": [
    "## 0. INTRO\n",
    "\n",
    "## 1. 설치\n",
    "\n",
    "## 2. 데이터 읽기\n",
    "\n",
    "## 3. 컬럼 다루기\n",
    "\n",
    "## 4. Null 값 다루기\n",
    "\n",
    "## 5. 데이터 타입 다루기\n",
    "\n",
    "## 6. 데이터 필터링\n",
    "\n",
    "## 7. ORDER BY\n",
    "\n",
    "## 8. GROUP BY\n",
    "\n",
    "## 9. JOIN\n",
    "\n",
    "## 10. SQL\n",
    "\n",
    "## 11. PARTITIONING\n"
   ]
  },
  {
   "cell_type": "code",
   "execution_count": null,
   "metadata": {},
   "outputs": [],
   "source": [
    "!pip install polars"
   ]
  },
  {
   "cell_type": "code",
   "execution_count": 1,
   "metadata": {},
   "outputs": [
    {
     "data": {
      "text/plain": [
       "polars.config.Config"
      ]
     },
     "execution_count": 1,
     "metadata": {},
     "output_type": "execute_result"
    }
   ],
   "source": [
    "import polars as pl\n",
    "\n",
    "cfg = pl.Config()\n",
    "cfg.set_tbl_rows(100)"
   ]
  },
  {
   "cell_type": "markdown",
   "metadata": {},
   "source": [
    "## 1. 데이터 읽기"
   ]
  },
  {
   "cell_type": "code",
   "execution_count": 2,
   "metadata": {},
   "outputs": [
    {
     "data": {
      "text/html": [
       "<div><style>\n",
       ".dataframe > thead > tr,\n",
       ".dataframe > tbody > tr {\n",
       "  text-align: right;\n",
       "  white-space: pre-wrap;\n",
       "}\n",
       "</style>\n",
       "<small>shape: (5, 8)</small><table border=\"1\" class=\"dataframe\"><thead><tr><th>First Name</th><th>Gender</th><th>Start Date</th><th>Last Login Time</th><th>Salary</th><th>Bonus</th><th>Senior Management</th><th>Team</th></tr><tr><td>str</td><td>str</td><td>str</td><td>str</td><td>i64</td><td>f64</td><td>bool</td><td>str</td></tr></thead><tbody><tr><td>&quot;Douglas&quot;</td><td>&quot;Male&quot;</td><td>&quot;8/6/1993&quot;</td><td>&quot;12:42 PM&quot;</td><td>97308</td><td>6.945</td><td>true</td><td>&quot;Marketing&quot;</td></tr><tr><td>&quot;Thomas&quot;</td><td>&quot;Male&quot;</td><td>&quot;3/31/1996&quot;</td><td>&quot;6:53 AM&quot;</td><td>61933</td><td>4.17</td><td>true</td><td>null</td></tr><tr><td>&quot;Maria&quot;</td><td>&quot;Female&quot;</td><td>&quot;4/23/1993&quot;</td><td>&quot;11:17 AM&quot;</td><td>130590</td><td>11.858</td><td>false</td><td>&quot;Finance&quot;</td></tr><tr><td>&quot;Jerry&quot;</td><td>&quot;Male&quot;</td><td>&quot;3/4/2005&quot;</td><td>&quot;1:00 PM&quot;</td><td>138705</td><td>9.34</td><td>true</td><td>&quot;Finance&quot;</td></tr><tr><td>&quot;Larry&quot;</td><td>&quot;Male&quot;</td><td>&quot;1/24/1998&quot;</td><td>&quot;4:47 PM&quot;</td><td>101004</td><td>1.389</td><td>true</td><td>&quot;Client Services&quot;</td></tr></tbody></table></div>"
      ],
      "text/plain": [
       "shape: (5, 8)\n",
       "┌────────────┬────────┬────────────┬────────────┬────────┬────────┬────────────────────┬───────────┐\n",
       "│ First Name ┆ Gender ┆ Start Date ┆ Last Login ┆ Salary ┆ Bonus  ┆ Senior Management  ┆ Team      │\n",
       "│ ---        ┆ ---    ┆ ---        ┆ Time       ┆ ---    ┆ ---    ┆ ---                ┆ ---       │\n",
       "│ str        ┆ str    ┆ str        ┆ ---        ┆ i64    ┆ f64    ┆ bool               ┆ str       │\n",
       "│            ┆        ┆            ┆ str        ┆        ┆        ┆                    ┆           │\n",
       "╞════════════╪════════╪════════════╪════════════╪════════╪════════╪════════════════════╪═══════════╡\n",
       "│ Douglas    ┆ Male   ┆ 8/6/1993   ┆ 12:42 PM   ┆ 97308  ┆ 6.945  ┆ true               ┆ Marketing │\n",
       "│ Thomas     ┆ Male   ┆ 3/31/1996  ┆ 6:53 AM    ┆ 61933  ┆ 4.17   ┆ true               ┆ null      │\n",
       "│ Maria      ┆ Female ┆ 4/23/1993  ┆ 11:17 AM   ┆ 130590 ┆ 11.858 ┆ false              ┆ Finance   │\n",
       "│ Jerry      ┆ Male   ┆ 3/4/2005   ┆ 1:00 PM    ┆ 138705 ┆ 9.34   ┆ true               ┆ Finance   │\n",
       "│ Larry      ┆ Male   ┆ 1/24/1998  ┆ 4:47 PM    ┆ 101004 ┆ 1.389  ┆ true               ┆ Client    │\n",
       "│            ┆        ┆            ┆            ┆        ┆        ┆                    ┆ Services  │\n",
       "└────────────┴────────┴────────────┴────────────┴────────┴────────┴────────────────────┴───────────┘"
      ]
     },
     "execution_count": 2,
     "metadata": {},
     "output_type": "execute_result"
    }
   ],
   "source": [
    "## 파일 데이터 읽기\n",
    "\n",
    "df = pl.read_csv(\"../dataset/emp.csv\")\n",
    "\n",
    "df.head()"
   ]
  },
  {
   "cell_type": "code",
   "execution_count": null,
   "metadata": {},
   "outputs": [],
   "source": [
    "type(df)"
   ]
  },
  {
   "cell_type": "code",
   "execution_count": 3,
   "metadata": {},
   "outputs": [
    {
     "data": {
      "text/plain": [
       "Schema([('First Name', String),\n",
       "        ('Gender', String),\n",
       "        ('Start Date', String),\n",
       "        ('Last Login Time', String),\n",
       "        ('Salary', Int64),\n",
       "        ('Bonus', Float64),\n",
       "        ('Senior Management', Boolean),\n",
       "        ('Team', String)])"
      ]
     },
     "execution_count": 3,
     "metadata": {},
     "output_type": "execute_result"
    }
   ],
   "source": [
    "## 스키마 탐색\n",
    "\n",
    "df.schema"
   ]
  },
  {
   "cell_type": "code",
   "execution_count": null,
   "metadata": {},
   "outputs": [],
   "source": []
  },
  {
   "cell_type": "code",
   "execution_count": 4,
   "metadata": {},
   "outputs": [
    {
     "data": {
      "text/plain": [
       "['First Name',\n",
       " 'Gender',\n",
       " 'Start Date',\n",
       " 'Last Login Time',\n",
       " 'Salary',\n",
       " 'Bonus',\n",
       " 'Senior Management',\n",
       " 'Team']"
      ]
     },
     "execution_count": 4,
     "metadata": {},
     "output_type": "execute_result"
    }
   ],
   "source": [
    "## 컬럼 확인\n",
    "\n",
    "df.columns"
   ]
  },
  {
   "cell_type": "code",
   "execution_count": 5,
   "metadata": {},
   "outputs": [
    {
     "data": {
      "text/html": [
       "<div><style>\n",
       ".dataframe > thead > tr,\n",
       ".dataframe > tbody > tr {\n",
       "  text-align: right;\n",
       "  white-space: pre-wrap;\n",
       "}\n",
       "</style>\n",
       "<small>shape: (9, 9)</small><table border=\"1\" class=\"dataframe\"><thead><tr><th>statistic</th><th>First Name</th><th>Gender</th><th>Start Date</th><th>Last Login Time</th><th>Salary</th><th>Bonus</th><th>Senior Management</th><th>Team</th></tr><tr><td>str</td><td>str</td><td>str</td><td>str</td><td>str</td><td>f64</td><td>f64</td><td>f64</td><td>str</td></tr></thead><tbody><tr><td>&quot;count&quot;</td><td>&quot;933&quot;</td><td>&quot;855&quot;</td><td>&quot;1000&quot;</td><td>&quot;1000&quot;</td><td>1000.0</td><td>1000.0</td><td>933.0</td><td>&quot;957&quot;</td></tr><tr><td>&quot;null_count&quot;</td><td>&quot;67&quot;</td><td>&quot;145&quot;</td><td>&quot;0&quot;</td><td>&quot;0&quot;</td><td>0.0</td><td>0.0</td><td>67.0</td><td>&quot;43&quot;</td></tr><tr><td>&quot;mean&quot;</td><td>null</td><td>null</td><td>null</td><td>null</td><td>90662.181</td><td>10.207555</td><td>0.501608</td><td>null</td></tr><tr><td>&quot;std&quot;</td><td>null</td><td>null</td><td>null</td><td>null</td><td>32923.693342</td><td>5.528481</td><td>null</td><td>null</td></tr><tr><td>&quot;min&quot;</td><td>&quot;Aaron&quot;</td><td>&quot;Female&quot;</td><td>&quot;1/1/2014&quot;</td><td>&quot;10:00 AM&quot;</td><td>35013.0</td><td>1.015</td><td>0.0</td><td>&quot;Business Development&quot;</td></tr><tr><td>&quot;25%&quot;</td><td>null</td><td>null</td><td>null</td><td>null</td><td>62666.0</td><td>5.413</td><td>null</td><td>null</td></tr><tr><td>&quot;50%&quot;</td><td>null</td><td>null</td><td>null</td><td>null</td><td>90429.0</td><td>9.849</td><td>null</td><td>null</td></tr><tr><td>&quot;75%&quot;</td><td>null</td><td>null</td><td>null</td><td>null</td><td>118736.0</td><td>14.837</td><td>null</td><td>null</td></tr><tr><td>&quot;max&quot;</td><td>&quot;Willie&quot;</td><td>&quot;Male&quot;</td><td>&quot;9/9/2006&quot;</td><td>&quot;9:59 AM&quot;</td><td>149908.0</td><td>19.944</td><td>1.0</td><td>&quot;Sales&quot;</td></tr></tbody></table></div>"
      ],
      "text/plain": [
       "shape: (9, 9)\n",
       "┌────────────┬────────┬────────┬────────────┬───┬────────────┬───────────┬────────────┬────────────┐\n",
       "│ statistic  ┆ First  ┆ Gender ┆ Start Date ┆ … ┆ Salary     ┆ Bonus     ┆ Senior     ┆ Team       │\n",
       "│ ---        ┆ Name   ┆ ---    ┆ ---        ┆   ┆ ---        ┆ ---       ┆ Management ┆ ---        │\n",
       "│ str        ┆ ---    ┆ str    ┆ str        ┆   ┆ f64        ┆ f64       ┆ ---        ┆ str        │\n",
       "│            ┆ str    ┆        ┆            ┆   ┆            ┆           ┆ f64        ┆            │\n",
       "╞════════════╪════════╪════════╪════════════╪═══╪════════════╪═══════════╪════════════╪════════════╡\n",
       "│ count      ┆ 933    ┆ 855    ┆ 1000       ┆ … ┆ 1000.0     ┆ 1000.0    ┆ 933.0      ┆ 957        │\n",
       "│ null_count ┆ 67     ┆ 145    ┆ 0          ┆ … ┆ 0.0        ┆ 0.0       ┆ 67.0       ┆ 43         │\n",
       "│ mean       ┆ null   ┆ null   ┆ null       ┆ … ┆ 90662.181  ┆ 10.207555 ┆ 0.501608   ┆ null       │\n",
       "│ std        ┆ null   ┆ null   ┆ null       ┆ … ┆ 32923.6933 ┆ 5.528481  ┆ null       ┆ null       │\n",
       "│            ┆        ┆        ┆            ┆   ┆ 42         ┆           ┆            ┆            │\n",
       "│ min        ┆ Aaron  ┆ Female ┆ 1/1/2014   ┆ … ┆ 35013.0    ┆ 1.015     ┆ 0.0        ┆ Business   │\n",
       "│            ┆        ┆        ┆            ┆   ┆            ┆           ┆            ┆ Developmen │\n",
       "│            ┆        ┆        ┆            ┆   ┆            ┆           ┆            ┆ t          │\n",
       "│ 25%        ┆ null   ┆ null   ┆ null       ┆ … ┆ 62666.0    ┆ 5.413     ┆ null       ┆ null       │\n",
       "│ 50%        ┆ null   ┆ null   ┆ null       ┆ … ┆ 90429.0    ┆ 9.849     ┆ null       ┆ null       │\n",
       "│ 75%        ┆ null   ┆ null   ┆ null       ┆ … ┆ 118736.0   ┆ 14.837    ┆ null       ┆ null       │\n",
       "│ max        ┆ Willie ┆ Male   ┆ 9/9/2006   ┆ … ┆ 149908.0   ┆ 19.944    ┆ 1.0        ┆ Sales      │\n",
       "└────────────┴────────┴────────┴────────────┴───┴────────────┴───────────┴────────────┴────────────┘"
      ]
     },
     "execution_count": 5,
     "metadata": {},
     "output_type": "execute_result"
    }
   ],
   "source": [
    "## 컬럼 수치 정보 확인\n",
    "\n",
    "df.describe()"
   ]
  },
  {
   "cell_type": "markdown",
   "metadata": {},
   "source": [
    "## 2. 컬럼 다루기"
   ]
  },
  {
   "cell_type": "code",
   "execution_count": null,
   "metadata": {},
   "outputs": [],
   "source": [
    "## 인덱스 컬럼 생성\n",
    "\n",
    "df.with_row_index()"
   ]
  },
  {
   "cell_type": "code",
   "execution_count": null,
   "metadata": {},
   "outputs": [],
   "source": [
    "## 특정 컬럼 데이터 선택\n",
    "\n",
    "df['Gender']\n",
    "\n",
    "df.get_column('Gender')"
   ]
  },
  {
   "cell_type": "code",
   "execution_count": null,
   "metadata": {},
   "outputs": [],
   "source": [
    "## 여러 컬럼 선택\n",
    "\n",
    "df[['Gender', 'Salary']]\n",
    "\n",
    "df.select('Gender', 'Salary')"
   ]
  },
  {
   "cell_type": "code",
   "execution_count": null,
   "metadata": {},
   "outputs": [],
   "source": [
    "## 새로운 컬럼 생성\n",
    "\n",
    "df.head()\n",
    "\n",
    "# Bonus에 대한 금액 계산 컬럼(surplus) 추가\n",
    "df.with_columns(\n",
    "    (df[\"Salary\"]*df['Bonus']/100).round(2).alias('surplus')\n",
    "    )\n",
    "\n",
    "df.with_columns(\n",
    "    (pl.col(\"Salary\")*pl.col('Bonus')/100).round(2).alias('surplus')\n",
    "    )\n",
    "\n",
    "df.with_columns(\n",
    "    surplus = (pl.col(\"Salary\")*pl.col('Bonus')/100).round(2)\n",
    "    )"
   ]
  },
  {
   "cell_type": "code",
   "execution_count": null,
   "metadata": {},
   "outputs": [],
   "source": [
    "## 컬럼 이름 변경\n",
    "\n",
    "rename_dict = {\n",
    "        'Bonus' : 'bonus',\n",
    "        'Gender' : 'gender'\n",
    "        }\n",
    "\n",
    "df.rename(rename_dict).head()"
   ]
  },
  {
   "cell_type": "code",
   "execution_count": null,
   "metadata": {},
   "outputs": [],
   "source": [
    "## 컬럼 삭제\n",
    "\n",
    "df.drop('Last Login Time')"
   ]
  },
  {
   "cell_type": "markdown",
   "metadata": {},
   "source": [
    "## 3. Null 값 다루기"
   ]
  },
  {
   "cell_type": "code",
   "execution_count": 6,
   "metadata": {},
   "outputs": [
    {
     "data": {
      "text/html": [
       "<div><style>\n",
       ".dataframe > thead > tr,\n",
       ".dataframe > tbody > tr {\n",
       "  text-align: right;\n",
       "  white-space: pre-wrap;\n",
       "}\n",
       "</style>\n",
       "<small>shape: (1, 8)</small><table border=\"1\" class=\"dataframe\"><thead><tr><th>First Name</th><th>Gender</th><th>Start Date</th><th>Last Login Time</th><th>Salary</th><th>Bonus</th><th>Senior Management</th><th>Team</th></tr><tr><td>u32</td><td>u32</td><td>u32</td><td>u32</td><td>u32</td><td>u32</td><td>u32</td><td>u32</td></tr></thead><tbody><tr><td>67</td><td>145</td><td>0</td><td>0</td><td>0</td><td>0</td><td>67</td><td>43</td></tr></tbody></table></div>"
      ],
      "text/plain": [
       "shape: (1, 8)\n",
       "┌────────────┬────────┬────────────┬─────────────────┬────────┬───────┬───────────────────┬──────┐\n",
       "│ First Name ┆ Gender ┆ Start Date ┆ Last Login Time ┆ Salary ┆ Bonus ┆ Senior Management ┆ Team │\n",
       "│ ---        ┆ ---    ┆ ---        ┆ ---             ┆ ---    ┆ ---   ┆ ---               ┆ ---  │\n",
       "│ u32        ┆ u32    ┆ u32        ┆ u32             ┆ u32    ┆ u32   ┆ u32               ┆ u32  │\n",
       "╞════════════╪════════╪════════════╪═════════════════╪════════╪═══════╪═══════════════════╪══════╡\n",
       "│ 67         ┆ 145    ┆ 0          ┆ 0               ┆ 0      ┆ 0     ┆ 67                ┆ 43   │\n",
       "└────────────┴────────┴────────────┴─────────────────┴────────┴───────┴───────────────────┴──────┘"
      ]
     },
     "execution_count": 6,
     "metadata": {},
     "output_type": "execute_result"
    }
   ],
   "source": [
    "## 컬럼별 null값 확인\n",
    "\n",
    "df.null_count()"
   ]
  },
  {
   "cell_type": "code",
   "execution_count": null,
   "metadata": {},
   "outputs": [],
   "source": [
    "## 특정 컬럼 null값 확인\n",
    "\n",
    "df['Gender'].is_null().sum()"
   ]
  },
  {
   "cell_type": "code",
   "execution_count": null,
   "metadata": {},
   "outputs": [],
   "source": [
    "## null 채우기\n",
    "\n",
    "df.fill_null(0)\n",
    "\n",
    "df.fill_null(strategy='forward') # 'forward', 'backward', 'min', 'max', 'mean', 'zero', 'one'"
   ]
  },
  {
   "cell_type": "code",
   "execution_count": null,
   "metadata": {},
   "outputs": [],
   "source": [
    "## null 없애기\n",
    "\n",
    "# 전체 컬럼 대상\n",
    "df.drop_nulls()\n",
    "\n",
    "# 특정 컬럼 대상\n",
    "df.drop_nulls(subset='Gender')\n",
    "\n",
    "# 특정 타입 대상\n",
    "import polars.selectors as cs\n",
    "\n",
    "df.drop_nulls(subset=cs.string())"
   ]
  },
  {
   "cell_type": "code",
   "execution_count": null,
   "metadata": {},
   "outputs": [],
   "source": [
    "## drop 대상 컬럼 저장 + drop 내용 바로 반영 (python의 pop과 비슷)\n",
    "\n",
    "df.drop_in_place('Gender')"
   ]
  },
  {
   "cell_type": "markdown",
   "metadata": {},
   "source": [
    "## 4. 데이터 타입 다루기"
   ]
  },
  {
   "cell_type": "code",
   "execution_count": null,
   "metadata": {},
   "outputs": [],
   "source": [
    "# INT -> STRING 변경\n",
    "\n",
    "df = df.with_columns(\n",
    "    Salary = pl.col(\"Salary\").cast(pl.String)\n",
    "    )"
   ]
  },
  {
   "cell_type": "code",
   "execution_count": 27,
   "metadata": {},
   "outputs": [],
   "source": [
    "# STRING -> INT 변경\n",
    "\n",
    "df = df.with_columns(\n",
    "    Salary = pl.col(\"Salary\").cast(pl.Int32)\n",
    "    )"
   ]
  },
  {
   "cell_type": "code",
   "execution_count": 8,
   "metadata": {},
   "outputs": [],
   "source": [
    "# Start Date를 datetime 형식으로 변환\n",
    "df = df.with_columns(\n",
    "    pl.col(\"Start Date\").str.strptime(pl.Date, format=\"%m/%d/%Y\").alias(\"Start Date\")\n",
    "    )\n",
    "\n",
    "# Last Login Time을 시간 형식으로 변환\n",
    "df = df.with_columns(\n",
    "    pl.col(\"Last Login Time\").str.strptime(pl.Time, format=\"%I:%M %p\").alias(\"Last Login Time\")\n",
    "    )"
   ]
  },
  {
   "cell_type": "code",
   "execution_count": 9,
   "metadata": {},
   "outputs": [
    {
     "data": {
      "text/html": [
       "<div><style>\n",
       ".dataframe > thead > tr,\n",
       ".dataframe > tbody > tr {\n",
       "  text-align: right;\n",
       "  white-space: pre-wrap;\n",
       "}\n",
       "</style>\n",
       "<small>shape: (5, 11)</small><table border=\"1\" class=\"dataframe\"><thead><tr><th>First Name</th><th>Gender</th><th>Start Date</th><th>Last Login Time</th><th>Salary</th><th>Bonus</th><th>Senior Management</th><th>Team</th><th>year</th><th>month</th><th>day</th></tr><tr><td>str</td><td>str</td><td>date</td><td>time</td><td>i64</td><td>f64</td><td>bool</td><td>str</td><td>i32</td><td>i8</td><td>i8</td></tr></thead><tbody><tr><td>&quot;Douglas&quot;</td><td>&quot;Male&quot;</td><td>1993-08-06</td><td>12:42:00</td><td>97308</td><td>6.945</td><td>true</td><td>&quot;Marketing&quot;</td><td>1993</td><td>8</td><td>6</td></tr><tr><td>&quot;Thomas&quot;</td><td>&quot;Male&quot;</td><td>1996-03-31</td><td>06:53:00</td><td>61933</td><td>4.17</td><td>true</td><td>null</td><td>1996</td><td>3</td><td>31</td></tr><tr><td>&quot;Maria&quot;</td><td>&quot;Female&quot;</td><td>1993-04-23</td><td>11:17:00</td><td>130590</td><td>11.858</td><td>false</td><td>&quot;Finance&quot;</td><td>1993</td><td>4</td><td>23</td></tr><tr><td>&quot;Jerry&quot;</td><td>&quot;Male&quot;</td><td>2005-03-04</td><td>13:00:00</td><td>138705</td><td>9.34</td><td>true</td><td>&quot;Finance&quot;</td><td>2005</td><td>3</td><td>4</td></tr><tr><td>&quot;Larry&quot;</td><td>&quot;Male&quot;</td><td>1998-01-24</td><td>16:47:00</td><td>101004</td><td>1.389</td><td>true</td><td>&quot;Client Services&quot;</td><td>1998</td><td>1</td><td>24</td></tr></tbody></table></div>"
      ],
      "text/plain": [
       "shape: (5, 11)\n",
       "┌────────────┬────────┬────────────┬─────────────────┬───┬─────────────────┬──────┬───────┬─────┐\n",
       "│ First Name ┆ Gender ┆ Start Date ┆ Last Login Time ┆ … ┆ Team            ┆ year ┆ month ┆ day │\n",
       "│ ---        ┆ ---    ┆ ---        ┆ ---             ┆   ┆ ---             ┆ ---  ┆ ---   ┆ --- │\n",
       "│ str        ┆ str    ┆ date       ┆ time            ┆   ┆ str             ┆ i32  ┆ i8    ┆ i8  │\n",
       "╞════════════╪════════╪════════════╪═════════════════╪═══╪═════════════════╪══════╪═══════╪═════╡\n",
       "│ Douglas    ┆ Male   ┆ 1993-08-06 ┆ 12:42:00        ┆ … ┆ Marketing       ┆ 1993 ┆ 8     ┆ 6   │\n",
       "│ Thomas     ┆ Male   ┆ 1996-03-31 ┆ 06:53:00        ┆ … ┆ null            ┆ 1996 ┆ 3     ┆ 31  │\n",
       "│ Maria      ┆ Female ┆ 1993-04-23 ┆ 11:17:00        ┆ … ┆ Finance         ┆ 1993 ┆ 4     ┆ 23  │\n",
       "│ Jerry      ┆ Male   ┆ 2005-03-04 ┆ 13:00:00        ┆ … ┆ Finance         ┆ 2005 ┆ 3     ┆ 4   │\n",
       "│ Larry      ┆ Male   ┆ 1998-01-24 ┆ 16:47:00        ┆ … ┆ Client Services ┆ 1998 ┆ 1     ┆ 24  │\n",
       "└────────────┴────────┴────────────┴─────────────────┴───┴─────────────────┴──────┴───────┴─────┘"
      ]
     },
     "execution_count": 9,
     "metadata": {},
     "output_type": "execute_result"
    }
   ],
   "source": [
    "# 년, 월, 일 추출\n",
    "\n",
    "df.with_columns(\n",
    "    year = pl.col(\"Start Date\").dt.year(),\n",
    "    month = pl.col(\"Start Date\").dt.month(),\n",
    "    day = pl.col(\"Start Date\").dt.day()\n",
    "    ).head()"
   ]
  },
  {
   "cell_type": "markdown",
   "metadata": {},
   "source": [
    "## 5. 데이터 필터링"
   ]
  },
  {
   "cell_type": "code",
   "execution_count": null,
   "metadata": {},
   "outputs": [],
   "source": [
    "## 단일 조건 필터\n",
    "\n",
    "df.filter(pl.col('Gender').is_null())\n",
    "\n",
    "df.filter(pl.col('Gender') == 'Female')\n",
    "\n",
    "df.filter(pl.col('Bonus') >= 10)\n",
    "\n",
    "df.filter(pl.col('Bonus').is_between(8, 12))\n",
    "\n",
    "df.filter(pl.col('Team').is_in(['Finance', 'Sales']))"
   ]
  },
  {
   "cell_type": "code",
   "execution_count": null,
   "metadata": {},
   "outputs": [],
   "source": [
    "## 다중 필터\n",
    "\n",
    "and_condition = (pl.col('Gender') == 'Female') & (pl.col('Bonus') >= 10)\n",
    "\n",
    "or_condition = (pl.col('Gender') == 'Female') | (pl.col('Bonus') >= 10)\n",
    "\n",
    "df.filter(and_condition)"
   ]
  },
  {
   "cell_type": "code",
   "execution_count": null,
   "metadata": {},
   "outputs": [],
   "source": [
    "df.with_columns(\n",
    "    pl.when(pl.col(\"Team\").is_in(['Marketing', 'Engineering'])).then(\"P\").otherwise(\"U\").alias(\"val\")\n",
    "    )"
   ]
  },
  {
   "cell_type": "code",
   "execution_count": null,
   "metadata": {},
   "outputs": [],
   "source": [
    "## 조건 필터(when)\n",
    "\n",
    "df.with_columns(\n",
    "    aaa = pl.when(pl.col(\"Salary\") >= 100000).then(1).otherwise(0)\n",
    "    ).head()"
   ]
  },
  {
   "cell_type": "markdown",
   "metadata": {},
   "source": [
    "## 6. ORDER BY"
   ]
  },
  {
   "cell_type": "code",
   "execution_count": null,
   "metadata": {},
   "outputs": [],
   "source": [
    "## 단일 컬럼 정렬\n",
    "\n",
    "df.sort('Bonus')\n",
    "\n",
    "df.sort(\n",
    "    by='Bonus', \n",
    "    descending=True\n",
    "    )"
   ]
  },
  {
   "cell_type": "code",
   "execution_count": null,
   "metadata": {},
   "outputs": [],
   "source": [
    "## 다중 컬럼 정렬\n",
    "\n",
    "df.sort(\n",
    "    by=['Team', 'Salary'], \n",
    "    descending=[False, True],\n",
    "    nulls_last=True\n",
    "    )"
   ]
  },
  {
   "cell_type": "code",
   "execution_count": 42,
   "metadata": {},
   "outputs": [
    {
     "data": {
      "text/plain": [
       "(shape: (10, 8)\n",
       " ┌────────────┬────────┬────────────┬───────────────┬────────┬────────┬──────────────┬──────────────┐\n",
       " │ First Name ┆ Gender ┆ Start Date ┆ Last Login    ┆ Salary ┆ Bonus  ┆ Senior       ┆ Team         │\n",
       " │ ---        ┆ ---    ┆ ---        ┆ Time          ┆ ---    ┆ ---    ┆ Management   ┆ ---          │\n",
       " │ str        ┆ str    ┆ date       ┆ ---           ┆ i32    ┆ f64    ┆ ---          ┆ str          │\n",
       " │            ┆        ┆            ┆ time          ┆        ┆        ┆ bool         ┆              │\n",
       " ╞════════════╪════════╪════════════╪═══════════════╪════════╪════════╪══════════════╪══════════════╡\n",
       " │ null       ┆ Female ┆ 2015-07-20 ┆ 10:43:00      ┆ 45906  ┆ 11.598 ┆ null         ┆ Finance      │\n",
       " │ Thomas     ┆ Male   ┆ 1996-03-31 ┆ 06:53:00      ┆ 61933  ┆ 4.17   ┆ true         ┆ null         │\n",
       " │ Ruby       ┆ Female ┆ 1987-08-17 ┆ 16:20:00      ┆ 65476  ┆ 10.012 ┆ true         ┆ Product      │\n",
       " │ Angela     ┆ Female ┆ 2005-11-22 ┆ 06:29:00      ┆ 95570  ┆ 18.523 ┆ true         ┆ Engineering  │\n",
       " │ Douglas    ┆ Male   ┆ 1993-08-06 ┆ 12:42:00      ┆ 97308  ┆ 6.945  ┆ true         ┆ Marketing    │\n",
       " │ Larry      ┆ Male   ┆ 1998-01-24 ┆ 16:47:00      ┆ 101004 ┆ 1.389  ┆ true         ┆ Client       │\n",
       " │            ┆        ┆            ┆               ┆        ┆        ┆              ┆ Services     │\n",
       " │ Dennis     ┆ Male   ┆ 1987-04-18 ┆ 01:35:00      ┆ 115163 ┆ 10.125 ┆ false        ┆ Legal        │\n",
       " │ Maria      ┆ Female ┆ 1993-04-23 ┆ 11:17:00      ┆ 130590 ┆ 11.858 ┆ false        ┆ Finance      │\n",
       " │ Jerry      ┆ Male   ┆ 2005-03-04 ┆ 13:00:00      ┆ 138705 ┆ 9.34   ┆ true         ┆ Finance      │\n",
       " │ Frances    ┆ Female ┆ 2002-08-08 ┆ 06:51:00      ┆ 139852 ┆ 7.524  ┆ true         ┆ Business     │\n",
       " │            ┆        ┆            ┆               ┆        ┆        ┆              ┆ Development  │\n",
       " └────────────┴────────┴────────────┴───────────────┴────────┴────────┴──────────────┴──────────────┘,\n",
       " shape: (10, 8)\n",
       " ┌────────────┬────────┬────────────┬───────────────┬────────┬────────┬──────────────┬──────────────┐\n",
       " │ First Name ┆ Gender ┆ Start Date ┆ Last Login    ┆ Salary ┆ Bonus  ┆ Senior       ┆ Team         │\n",
       " │ ---        ┆ ---    ┆ ---        ┆ Time          ┆ ---    ┆ ---    ┆ Management   ┆ ---          │\n",
       " │ str        ┆ str    ┆ date       ┆ ---           ┆ i32    ┆ f64    ┆ ---          ┆ str          │\n",
       " │            ┆        ┆            ┆ time          ┆        ┆        ┆ bool         ┆              │\n",
       " ╞════════════╪════════╪════════════╪═══════════════╪════════╪════════╪══════════════╪══════════════╡\n",
       " │ Phillip    ┆ Male   ┆ 1984-01-31 ┆ 06:30:00      ┆ 42392  ┆ 19.675 ┆ false        ┆ Finance      │\n",
       " │ Tina       ┆ Female ┆ 1997-05-15 ┆ 15:53:00      ┆ 56450  ┆ 19.04  ┆ true         ┆ Engineering  │\n",
       " │ Larry      ┆ Male   ┆ 2013-04-20 ┆ 16:45:00      ┆ 60500  ┆ 11.985 ┆ false        ┆ Business     │\n",
       " │            ┆        ┆            ┆               ┆        ┆        ┆              ┆ Development  │\n",
       " │ Russell    ┆ Male   ┆ 2013-05-20 ┆ 12:39:00      ┆ 96914  ┆ 1.421  ┆ false        ┆ Product      │\n",
       " │ George     ┆ Male   ┆ 2013-06-21 ┆ 17:47:00      ┆ 98874  ┆ 4.479  ┆ true         ┆ Marketing    │\n",
       " │ Robin      ┆ Female ┆ 1987-07-24 ┆ 13:35:00      ┆ 100765 ┆ 10.982 ┆ true         ┆ Client       │\n",
       " │            ┆        ┆            ┆               ┆        ┆        ┆              ┆ Services     │\n",
       " │ Anthony    ┆ Male   ┆ 2011-10-16 ┆ 08:35:00      ┆ 112769 ┆ 11.625 ┆ true         ┆ Finance      │\n",
       " │ Albert     ┆ Male   ┆ 2012-05-15 ┆ 18:24:00      ┆ 129949 ┆ 10.169 ┆ true         ┆ Sales        │\n",
       " │ Henry      ┆ null   ┆ 2014-11-23 ┆ 06:09:00      ┆ 132483 ┆ 16.655 ┆ false        ┆ Distribution │\n",
       " │ Rose       ┆ Female ┆ 2002-08-25 ┆ 05:12:00      ┆ 134505 ┆ 11.051 ┆ true         ┆ Marketing    │\n",
       " └────────────┴────────┴────────────┴───────────────┴────────┴────────┴──────────────┴──────────────┘)"
      ]
     },
     "execution_count": 42,
     "metadata": {},
     "output_type": "execute_result"
    }
   ],
   "source": [
    "df1 = df.head(10).sort(\"Salary\")\n",
    "df2 = df.tail(10).sort(\"Salary\")\n",
    "\n",
    "df1, df2"
   ]
  },
  {
   "cell_type": "code",
   "execution_count": 43,
   "metadata": {},
   "outputs": [
    {
     "data": {
      "text/html": [
       "<div><style>\n",
       ".dataframe > thead > tr,\n",
       ".dataframe > tbody > tr {\n",
       "  text-align: right;\n",
       "  white-space: pre-wrap;\n",
       "}\n",
       "</style>\n",
       "<small>shape: (20, 8)</small><table border=\"1\" class=\"dataframe\"><thead><tr><th>First Name</th><th>Gender</th><th>Start Date</th><th>Last Login Time</th><th>Salary</th><th>Bonus</th><th>Senior Management</th><th>Team</th></tr><tr><td>str</td><td>str</td><td>date</td><td>time</td><td>i32</td><td>f64</td><td>bool</td><td>str</td></tr></thead><tbody><tr><td>&quot;Phillip&quot;</td><td>&quot;Male&quot;</td><td>1984-01-31</td><td>06:30:00</td><td>42392</td><td>19.675</td><td>false</td><td>&quot;Finance&quot;</td></tr><tr><td>null</td><td>&quot;Female&quot;</td><td>2015-07-20</td><td>10:43:00</td><td>45906</td><td>11.598</td><td>null</td><td>&quot;Finance&quot;</td></tr><tr><td>&quot;Tina&quot;</td><td>&quot;Female&quot;</td><td>1997-05-15</td><td>15:53:00</td><td>56450</td><td>19.04</td><td>true</td><td>&quot;Engineering&quot;</td></tr><tr><td>&quot;Larry&quot;</td><td>&quot;Male&quot;</td><td>2013-04-20</td><td>16:45:00</td><td>60500</td><td>11.985</td><td>false</td><td>&quot;Business Development&quot;</td></tr><tr><td>&quot;Thomas&quot;</td><td>&quot;Male&quot;</td><td>1996-03-31</td><td>06:53:00</td><td>61933</td><td>4.17</td><td>true</td><td>null</td></tr><tr><td>&quot;Ruby&quot;</td><td>&quot;Female&quot;</td><td>1987-08-17</td><td>16:20:00</td><td>65476</td><td>10.012</td><td>true</td><td>&quot;Product&quot;</td></tr><tr><td>&quot;Angela&quot;</td><td>&quot;Female&quot;</td><td>2005-11-22</td><td>06:29:00</td><td>95570</td><td>18.523</td><td>true</td><td>&quot;Engineering&quot;</td></tr><tr><td>&quot;Russell&quot;</td><td>&quot;Male&quot;</td><td>2013-05-20</td><td>12:39:00</td><td>96914</td><td>1.421</td><td>false</td><td>&quot;Product&quot;</td></tr><tr><td>&quot;Douglas&quot;</td><td>&quot;Male&quot;</td><td>1993-08-06</td><td>12:42:00</td><td>97308</td><td>6.945</td><td>true</td><td>&quot;Marketing&quot;</td></tr><tr><td>&quot;George&quot;</td><td>&quot;Male&quot;</td><td>2013-06-21</td><td>17:47:00</td><td>98874</td><td>4.479</td><td>true</td><td>&quot;Marketing&quot;</td></tr><tr><td>&quot;Robin&quot;</td><td>&quot;Female&quot;</td><td>1987-07-24</td><td>13:35:00</td><td>100765</td><td>10.982</td><td>true</td><td>&quot;Client Services&quot;</td></tr><tr><td>&quot;Larry&quot;</td><td>&quot;Male&quot;</td><td>1998-01-24</td><td>16:47:00</td><td>101004</td><td>1.389</td><td>true</td><td>&quot;Client Services&quot;</td></tr><tr><td>&quot;Anthony&quot;</td><td>&quot;Male&quot;</td><td>2011-10-16</td><td>08:35:00</td><td>112769</td><td>11.625</td><td>true</td><td>&quot;Finance&quot;</td></tr><tr><td>&quot;Dennis&quot;</td><td>&quot;Male&quot;</td><td>1987-04-18</td><td>01:35:00</td><td>115163</td><td>10.125</td><td>false</td><td>&quot;Legal&quot;</td></tr><tr><td>&quot;Albert&quot;</td><td>&quot;Male&quot;</td><td>2012-05-15</td><td>18:24:00</td><td>129949</td><td>10.169</td><td>true</td><td>&quot;Sales&quot;</td></tr><tr><td>&quot;Maria&quot;</td><td>&quot;Female&quot;</td><td>1993-04-23</td><td>11:17:00</td><td>130590</td><td>11.858</td><td>false</td><td>&quot;Finance&quot;</td></tr><tr><td>&quot;Henry&quot;</td><td>null</td><td>2014-11-23</td><td>06:09:00</td><td>132483</td><td>16.655</td><td>false</td><td>&quot;Distribution&quot;</td></tr><tr><td>&quot;Rose&quot;</td><td>&quot;Female&quot;</td><td>2002-08-25</td><td>05:12:00</td><td>134505</td><td>11.051</td><td>true</td><td>&quot;Marketing&quot;</td></tr><tr><td>&quot;Jerry&quot;</td><td>&quot;Male&quot;</td><td>2005-03-04</td><td>13:00:00</td><td>138705</td><td>9.34</td><td>true</td><td>&quot;Finance&quot;</td></tr><tr><td>&quot;Frances&quot;</td><td>&quot;Female&quot;</td><td>2002-08-08</td><td>06:51:00</td><td>139852</td><td>7.524</td><td>true</td><td>&quot;Business Development&quot;</td></tr></tbody></table></div>"
      ],
      "text/plain": [
       "shape: (20, 8)\n",
       "┌────────────┬────────┬────────────┬───────────────┬────────┬────────┬──────────────┬──────────────┐\n",
       "│ First Name ┆ Gender ┆ Start Date ┆ Last Login    ┆ Salary ┆ Bonus  ┆ Senior       ┆ Team         │\n",
       "│ ---        ┆ ---    ┆ ---        ┆ Time          ┆ ---    ┆ ---    ┆ Management   ┆ ---          │\n",
       "│ str        ┆ str    ┆ date       ┆ ---           ┆ i32    ┆ f64    ┆ ---          ┆ str          │\n",
       "│            ┆        ┆            ┆ time          ┆        ┆        ┆ bool         ┆              │\n",
       "╞════════════╪════════╪════════════╪═══════════════╪════════╪════════╪══════════════╪══════════════╡\n",
       "│ Phillip    ┆ Male   ┆ 1984-01-31 ┆ 06:30:00      ┆ 42392  ┆ 19.675 ┆ false        ┆ Finance      │\n",
       "│ null       ┆ Female ┆ 2015-07-20 ┆ 10:43:00      ┆ 45906  ┆ 11.598 ┆ null         ┆ Finance      │\n",
       "│ Tina       ┆ Female ┆ 1997-05-15 ┆ 15:53:00      ┆ 56450  ┆ 19.04  ┆ true         ┆ Engineering  │\n",
       "│ Larry      ┆ Male   ┆ 2013-04-20 ┆ 16:45:00      ┆ 60500  ┆ 11.985 ┆ false        ┆ Business     │\n",
       "│            ┆        ┆            ┆               ┆        ┆        ┆              ┆ Development  │\n",
       "│ Thomas     ┆ Male   ┆ 1996-03-31 ┆ 06:53:00      ┆ 61933  ┆ 4.17   ┆ true         ┆ null         │\n",
       "│ Ruby       ┆ Female ┆ 1987-08-17 ┆ 16:20:00      ┆ 65476  ┆ 10.012 ┆ true         ┆ Product      │\n",
       "│ Angela     ┆ Female ┆ 2005-11-22 ┆ 06:29:00      ┆ 95570  ┆ 18.523 ┆ true         ┆ Engineering  │\n",
       "│ Russell    ┆ Male   ┆ 2013-05-20 ┆ 12:39:00      ┆ 96914  ┆ 1.421  ┆ false        ┆ Product      │\n",
       "│ Douglas    ┆ Male   ┆ 1993-08-06 ┆ 12:42:00      ┆ 97308  ┆ 6.945  ┆ true         ┆ Marketing    │\n",
       "│ George     ┆ Male   ┆ 2013-06-21 ┆ 17:47:00      ┆ 98874  ┆ 4.479  ┆ true         ┆ Marketing    │\n",
       "│ Robin      ┆ Female ┆ 1987-07-24 ┆ 13:35:00      ┆ 100765 ┆ 10.982 ┆ true         ┆ Client       │\n",
       "│            ┆        ┆            ┆               ┆        ┆        ┆              ┆ Services     │\n",
       "│ Larry      ┆ Male   ┆ 1998-01-24 ┆ 16:47:00      ┆ 101004 ┆ 1.389  ┆ true         ┆ Client       │\n",
       "│            ┆        ┆            ┆               ┆        ┆        ┆              ┆ Services     │\n",
       "│ Anthony    ┆ Male   ┆ 2011-10-16 ┆ 08:35:00      ┆ 112769 ┆ 11.625 ┆ true         ┆ Finance      │\n",
       "│ Dennis     ┆ Male   ┆ 1987-04-18 ┆ 01:35:00      ┆ 115163 ┆ 10.125 ┆ false        ┆ Legal        │\n",
       "│ Albert     ┆ Male   ┆ 2012-05-15 ┆ 18:24:00      ┆ 129949 ┆ 10.169 ┆ true         ┆ Sales        │\n",
       "│ Maria      ┆ Female ┆ 1993-04-23 ┆ 11:17:00      ┆ 130590 ┆ 11.858 ┆ false        ┆ Finance      │\n",
       "│ Henry      ┆ null   ┆ 2014-11-23 ┆ 06:09:00      ┆ 132483 ┆ 16.655 ┆ false        ┆ Distribution │\n",
       "│ Rose       ┆ Female ┆ 2002-08-25 ┆ 05:12:00      ┆ 134505 ┆ 11.051 ┆ true         ┆ Marketing    │\n",
       "│ Jerry      ┆ Male   ┆ 2005-03-04 ┆ 13:00:00      ┆ 138705 ┆ 9.34   ┆ true         ┆ Finance      │\n",
       "│ Frances    ┆ Female ┆ 2002-08-08 ┆ 06:51:00      ┆ 139852 ┆ 7.524  ┆ true         ┆ Business     │\n",
       "│            ┆        ┆            ┆               ┆        ┆        ┆              ┆ Development  │\n",
       "└────────────┴────────┴────────────┴───────────────┴────────┴────────┴──────────────┴──────────────┘"
      ]
     },
     "execution_count": 43,
     "metadata": {},
     "output_type": "execute_result"
    }
   ],
   "source": [
    "\"\"\"\n",
    "두 개의 df 특정 컬럼을 기준으로 정렬하여 merge한다.\n",
    "단, 기존 df들의 순서를 바꾸지는 않는다.\n",
    "\"\"\"\n",
    "\n",
    "df1.merge_sorted(df2, 'Salary')"
   ]
  },
  {
   "cell_type": "markdown",
   "metadata": {},
   "source": [
    "## 7. GROUP BY"
   ]
  },
  {
   "cell_type": "code",
   "execution_count": null,
   "metadata": {},
   "outputs": [],
   "source": [
    "# group by\n",
    "\n",
    "df.group_by('Gender').agg(\n",
    "    gender_cnt=pl.col('Gender').count()\n",
    "    )\n",
    "\n",
    "df.group_by('Gender').agg(\n",
    "    pl.count('Gender').alias('gender_cnt')\n",
    "    )"
   ]
  },
  {
   "cell_type": "code",
   "execution_count": 48,
   "metadata": {},
   "outputs": [
    {
     "data": {
      "text/html": [
       "<div><style>\n",
       ".dataframe > thead > tr,\n",
       ".dataframe > tbody > tr {\n",
       "  text-align: right;\n",
       "  white-space: pre-wrap;\n",
       "}\n",
       "</style>\n",
       "<small>shape: (11, 6)</small><table border=\"1\" class=\"dataframe\"><thead><tr><th>Team</th><th>cnt</th><th>max_sal</th><th>mean_sal</th><th>min_sal</th><th>mean_bonus</th></tr><tr><td>str</td><td>u32</td><td>i32</td><td>f64</td><td>i32</td><td>f64</td></tr></thead><tbody><tr><td>&quot;Engineering&quot;</td><td>92</td><td>147362</td><td>94269.195652</td><td>36946</td><td>10.462989</td></tr><tr><td>&quot;Finance&quot;</td><td>102</td><td>149908</td><td>92219.480392</td><td>35381</td><td>10.186873</td></tr><tr><td>&quot;Sales&quot;</td><td>94</td><td>149654</td><td>92173.43617</td><td>35802</td><td>10.116915</td></tr><tr><td>&quot;Business Development&quot;</td><td>101</td><td>147417</td><td>91866.316832</td><td>36844</td><td>10.572376</td></tr><tr><td>&quot;Human Resources&quot;</td><td>91</td><td>149903</td><td>90944.527473</td><td>35203</td><td>9.993879</td></tr><tr><td>null</td><td>0</td><td>148291</td><td>90763.139535</td><td>37919</td><td>10.384395</td></tr><tr><td>&quot;Marketing&quot;</td><td>98</td><td>149456</td><td>90435.591837</td><td>36643</td><td>10.353449</td></tr><tr><td>&quot;Legal&quot;</td><td>88</td><td>148985</td><td>89303.613636</td><td>35061</td><td>10.32283</td></tr><tr><td>&quot;Product&quot;</td><td>95</td><td>149684</td><td>88665.505263</td><td>35013</td><td>9.791484</td></tr><tr><td>&quot;Distribution&quot;</td><td>90</td><td>149105</td><td>88500.466667</td><td>35575</td><td>9.615644</td></tr><tr><td>&quot;Client Services&quot;</td><td>106</td><td>147183</td><td>88224.424528</td><td>35095</td><td>10.495104</td></tr></tbody></table></div>"
      ],
      "text/plain": [
       "shape: (11, 6)\n",
       "┌──────────────────────┬─────┬─────────┬──────────────┬─────────┬────────────┐\n",
       "│ Team                 ┆ cnt ┆ max_sal ┆ mean_sal     ┆ min_sal ┆ mean_bonus │\n",
       "│ ---                  ┆ --- ┆ ---     ┆ ---          ┆ ---     ┆ ---        │\n",
       "│ str                  ┆ u32 ┆ i32     ┆ f64          ┆ i32     ┆ f64        │\n",
       "╞══════════════════════╪═════╪═════════╪══════════════╪═════════╪════════════╡\n",
       "│ Engineering          ┆ 92  ┆ 147362  ┆ 94269.195652 ┆ 36946   ┆ 10.462989  │\n",
       "│ Finance              ┆ 102 ┆ 149908  ┆ 92219.480392 ┆ 35381   ┆ 10.186873  │\n",
       "│ Sales                ┆ 94  ┆ 149654  ┆ 92173.43617  ┆ 35802   ┆ 10.116915  │\n",
       "│ Business Development ┆ 101 ┆ 147417  ┆ 91866.316832 ┆ 36844   ┆ 10.572376  │\n",
       "│ Human Resources      ┆ 91  ┆ 149903  ┆ 90944.527473 ┆ 35203   ┆ 9.993879   │\n",
       "│ null                 ┆ 0   ┆ 148291  ┆ 90763.139535 ┆ 37919   ┆ 10.384395  │\n",
       "│ Marketing            ┆ 98  ┆ 149456  ┆ 90435.591837 ┆ 36643   ┆ 10.353449  │\n",
       "│ Legal                ┆ 88  ┆ 148985  ┆ 89303.613636 ┆ 35061   ┆ 10.32283   │\n",
       "│ Product              ┆ 95  ┆ 149684  ┆ 88665.505263 ┆ 35013   ┆ 9.791484   │\n",
       "│ Distribution         ┆ 90  ┆ 149105  ┆ 88500.466667 ┆ 35575   ┆ 9.615644   │\n",
       "│ Client Services      ┆ 106 ┆ 147183  ┆ 88224.424528 ┆ 35095   ┆ 10.495104  │\n",
       "└──────────────────────┴─────┴─────────┴──────────────┴─────────┴────────────┘"
      ]
     },
     "execution_count": 48,
     "metadata": {},
     "output_type": "execute_result"
    }
   ],
   "source": [
    "# group by + sort\n",
    "\n",
    "df.group_by('Team').agg(\n",
    "    cnt = pl.count('Team'),\n",
    "    max_sal = pl.max('Salary'),\n",
    "    mean_sal = pl.mean('Salary'),\n",
    "    min_sal = pl.min('Salary'),\n",
    "    mean_bonus = pl.mean('Bonus'),\n",
    "    ).sort('mean_sal', descending=True)"
   ]
  },
  {
   "cell_type": "code",
   "execution_count": null,
   "metadata": {},
   "outputs": [],
   "source": [
    "# group_by_dynamic\n",
    "\"\"\"\n",
    "시간 기반 데이터를 지정된 간격(예: 1일, 1시간)으로 그룹화할 때 사용하는 메소드,\n",
    "시간 간격으로 window 크기를 정의하여 집계 작업 수행\n",
    "\n",
    "group_by_dynamic(\n",
    "    index_column         # 시간 기반 그룹화를 위한 타임스탬프 열을 지정\n",
    "    every                # 그룹화 간격(예: '1d'는 1일 단위)\n",
    "    period               # 그룹화 윈도우의 기간(기본값은 every와 동일)\n",
    "    offset               # 그룹화 윈도우의 시작점을 조정하는 오프셋\n",
    "    include_boundaries   # 그룹 경계(윈도우 시작 및 끝)을 결과에 포함할지 여부\n",
    "    closed               # 윈도우 경계가 왼쪽, 오른쪽, 또는 양쪽에서 닫혔는지 지정\n",
    "    group_by             # 추가로 그룹화할 컬럼 지정\n",
    ")\n",
    "\"\"\"\n",
    "\n",
    "df.group_by_dynamic(\n",
    "    index_column='battle_datetime',\n",
    "    every=\"3h\"\n",
    "    ).agg(\n",
    "        gb = pl.col('winner_id'),\n",
    "        cnt = pl.col('id').count(),\n",
    "        id_max = pl.col('winner_id').max(),\n",
    "        id_min = pl.col('winner_id').min(),\n",
    "        ).head()"
   ]
  },
  {
   "cell_type": "code",
   "execution_count": null,
   "metadata": {},
   "outputs": [],
   "source": [
    "df.partition_by('battle_date')"
   ]
  },
  {
   "cell_type": "code",
   "execution_count": null,
   "metadata": {},
   "outputs": [],
   "source": [
    "# window functions\n",
    "\n",
    "df.with_columns(\n",
    "    # row_number = pl.col('player1_id').over('battle_date').rank('ordinal'),\n",
    "    max_id = pl.col('player1_id').over('battle_datetime').rank('ordinal')\n",
    "    ).sort('battle_datetime')"
   ]
  },
  {
   "cell_type": "markdown",
   "metadata": {},
   "source": [
    "## 8. JOIN"
   ]
  },
  {
   "cell_type": "code",
   "execution_count": 61,
   "metadata": {},
   "outputs": [],
   "source": [
    "tp = pl.read_csv(\"../dataset/trainer_pokemon.csv\")\n",
    "pk = pl.read_csv(\"../dataset/pokemon.csv\")"
   ]
  },
  {
   "cell_type": "code",
   "execution_count": 62,
   "metadata": {},
   "outputs": [
    {
     "data": {
      "text/plain": [
       "['pokemon_id',\n",
       " 'kor_name',\n",
       " 'eng_name',\n",
       " 'type1',\n",
       " 'type2',\n",
       " 'total',\n",
       " 'hp',\n",
       " 'attack',\n",
       " 'defense',\n",
       " 'special_attack',\n",
       " 'special_defense',\n",
       " 'speed',\n",
       " 'generation',\n",
       " 'is_legendary']"
      ]
     },
     "execution_count": 62,
     "metadata": {},
     "output_type": "execute_result"
    }
   ],
   "source": [
    "pk = pk.rename({\"id\":\"pokemon_id\"})\n",
    "\n",
    "pk.columns"
   ]
  },
  {
   "cell_type": "code",
   "execution_count": null,
   "metadata": {},
   "outputs": [],
   "source": [
    "tp.join(\n",
    "    other=pk,\n",
    "    on='pokemon_id'\n",
    "    )"
   ]
  },
  {
   "cell_type": "code",
   "execution_count": null,
   "metadata": {},
   "outputs": [],
   "source": [
    "tp.join(\n",
    "    other=pk,\n",
    "    left_on='pokemon_id',\n",
    "    right_on='id',\n",
    "    how='left'\n",
    "    )"
   ]
  },
  {
   "cell_type": "markdown",
   "metadata": {},
   "source": [
    "## 9. SQL"
   ]
  },
  {
   "cell_type": "code",
   "execution_count": 65,
   "metadata": {},
   "outputs": [
    {
     "data": {
      "text/html": [
       "<div><style>\n",
       ".dataframe > thead > tr,\n",
       ".dataframe > tbody > tr {\n",
       "  text-align: right;\n",
       "  white-space: pre-wrap;\n",
       "}\n",
       "</style>\n",
       "<small>shape: (5, 8)</small><table border=\"1\" class=\"dataframe\"><thead><tr><th>First Name</th><th>Gender</th><th>Start Date</th><th>Last Login Time</th><th>Salary</th><th>Bonus</th><th>Senior Management</th><th>Team</th></tr><tr><td>str</td><td>str</td><td>date</td><td>time</td><td>i32</td><td>f64</td><td>bool</td><td>str</td></tr></thead><tbody><tr><td>&quot;Douglas&quot;</td><td>&quot;Male&quot;</td><td>1993-08-06</td><td>12:42:00</td><td>97308</td><td>6.945</td><td>true</td><td>&quot;Marketing&quot;</td></tr><tr><td>&quot;Thomas&quot;</td><td>&quot;Male&quot;</td><td>1996-03-31</td><td>06:53:00</td><td>61933</td><td>4.17</td><td>true</td><td>null</td></tr><tr><td>&quot;Maria&quot;</td><td>&quot;Female&quot;</td><td>1993-04-23</td><td>11:17:00</td><td>130590</td><td>11.858</td><td>false</td><td>&quot;Finance&quot;</td></tr><tr><td>&quot;Jerry&quot;</td><td>&quot;Male&quot;</td><td>2005-03-04</td><td>13:00:00</td><td>138705</td><td>9.34</td><td>true</td><td>&quot;Finance&quot;</td></tr><tr><td>&quot;Larry&quot;</td><td>&quot;Male&quot;</td><td>1998-01-24</td><td>16:47:00</td><td>101004</td><td>1.389</td><td>true</td><td>&quot;Client Services&quot;</td></tr></tbody></table></div>"
      ],
      "text/plain": [
       "shape: (5, 8)\n",
       "┌────────────┬────────┬────────────┬────────────┬────────┬────────┬────────────────────┬───────────┐\n",
       "│ First Name ┆ Gender ┆ Start Date ┆ Last Login ┆ Salary ┆ Bonus  ┆ Senior Management  ┆ Team      │\n",
       "│ ---        ┆ ---    ┆ ---        ┆ Time       ┆ ---    ┆ ---    ┆ ---                ┆ ---       │\n",
       "│ str        ┆ str    ┆ date       ┆ ---        ┆ i32    ┆ f64    ┆ bool               ┆ str       │\n",
       "│            ┆        ┆            ┆ time       ┆        ┆        ┆                    ┆           │\n",
       "╞════════════╪════════╪════════════╪════════════╪════════╪════════╪════════════════════╪═══════════╡\n",
       "│ Douglas    ┆ Male   ┆ 1993-08-06 ┆ 12:42:00   ┆ 97308  ┆ 6.945  ┆ true               ┆ Marketing │\n",
       "│ Thomas     ┆ Male   ┆ 1996-03-31 ┆ 06:53:00   ┆ 61933  ┆ 4.17   ┆ true               ┆ null      │\n",
       "│ Maria      ┆ Female ┆ 1993-04-23 ┆ 11:17:00   ┆ 130590 ┆ 11.858 ┆ false              ┆ Finance   │\n",
       "│ Jerry      ┆ Male   ┆ 2005-03-04 ┆ 13:00:00   ┆ 138705 ┆ 9.34   ┆ true               ┆ Finance   │\n",
       "│ Larry      ┆ Male   ┆ 1998-01-24 ┆ 16:47:00   ┆ 101004 ┆ 1.389  ┆ true               ┆ Client    │\n",
       "│            ┆        ┆            ┆            ┆        ┆        ┆                    ┆ Services  │\n",
       "└────────────┴────────┴────────────┴────────────┴────────┴────────┴────────────────────┴───────────┘"
      ]
     },
     "execution_count": 65,
     "metadata": {},
     "output_type": "execute_result"
    }
   ],
   "source": [
    "df.head()"
   ]
  },
  {
   "cell_type": "code",
   "execution_count": 68,
   "metadata": {},
   "outputs": [
    {
     "data": {
      "text/html": [
       "<div><style>\n",
       ".dataframe > thead > tr,\n",
       ".dataframe > tbody > tr {\n",
       "  text-align: right;\n",
       "  white-space: pre-wrap;\n",
       "}\n",
       "</style>\n",
       "<small>shape: (5, 8)</small><table border=\"1\" class=\"dataframe\"><thead><tr><th>First Name</th><th>Gender</th><th>Start Date</th><th>Last Login Time</th><th>Salary</th><th>Bonus</th><th>Senior Management</th><th>Team</th></tr><tr><td>str</td><td>str</td><td>date</td><td>time</td><td>i32</td><td>f64</td><td>bool</td><td>str</td></tr></thead><tbody><tr><td>&quot;Douglas&quot;</td><td>&quot;Male&quot;</td><td>1993-08-06</td><td>12:42:00</td><td>97308</td><td>6.945</td><td>true</td><td>&quot;Marketing&quot;</td></tr><tr><td>&quot;Thomas&quot;</td><td>&quot;Male&quot;</td><td>1996-03-31</td><td>06:53:00</td><td>61933</td><td>4.17</td><td>true</td><td>null</td></tr><tr><td>&quot;Maria&quot;</td><td>&quot;Female&quot;</td><td>1993-04-23</td><td>11:17:00</td><td>130590</td><td>11.858</td><td>false</td><td>&quot;Finance&quot;</td></tr><tr><td>&quot;Jerry&quot;</td><td>&quot;Male&quot;</td><td>2005-03-04</td><td>13:00:00</td><td>138705</td><td>9.34</td><td>true</td><td>&quot;Finance&quot;</td></tr><tr><td>&quot;Larry&quot;</td><td>&quot;Male&quot;</td><td>1998-01-24</td><td>16:47:00</td><td>101004</td><td>1.389</td><td>true</td><td>&quot;Client Services&quot;</td></tr></tbody></table></div>"
      ],
      "text/plain": [
       "shape: (5, 8)\n",
       "┌────────────┬────────┬────────────┬────────────┬────────┬────────┬────────────────────┬───────────┐\n",
       "│ First Name ┆ Gender ┆ Start Date ┆ Last Login ┆ Salary ┆ Bonus  ┆ Senior Management  ┆ Team      │\n",
       "│ ---        ┆ ---    ┆ ---        ┆ Time       ┆ ---    ┆ ---    ┆ ---                ┆ ---       │\n",
       "│ str        ┆ str    ┆ date       ┆ ---        ┆ i32    ┆ f64    ┆ bool               ┆ str       │\n",
       "│            ┆        ┆            ┆ time       ┆        ┆        ┆                    ┆           │\n",
       "╞════════════╪════════╪════════════╪════════════╪════════╪════════╪════════════════════╪═══════════╡\n",
       "│ Douglas    ┆ Male   ┆ 1993-08-06 ┆ 12:42:00   ┆ 97308  ┆ 6.945  ┆ true               ┆ Marketing │\n",
       "│ Thomas     ┆ Male   ┆ 1996-03-31 ┆ 06:53:00   ┆ 61933  ┆ 4.17   ┆ true               ┆ null      │\n",
       "│ Maria      ┆ Female ┆ 1993-04-23 ┆ 11:17:00   ┆ 130590 ┆ 11.858 ┆ false              ┆ Finance   │\n",
       "│ Jerry      ┆ Male   ┆ 2005-03-04 ┆ 13:00:00   ┆ 138705 ┆ 9.34   ┆ true               ┆ Finance   │\n",
       "│ Larry      ┆ Male   ┆ 1998-01-24 ┆ 16:47:00   ┆ 101004 ┆ 1.389  ┆ true               ┆ Client    │\n",
       "│            ┆        ┆            ┆            ┆        ┆        ┆                    ┆ Services  │\n",
       "└────────────┴────────┴────────────┴────────────┴────────┴────────┴────────────────────┴───────────┘"
      ]
     },
     "execution_count": 68,
     "metadata": {},
     "output_type": "execute_result"
    }
   ],
   "source": [
    "# dataframe에 대해 SQL로 조회하기\n",
    "\n",
    "df.sql(\"SELECT * FROM self LIMIT 5\")\n",
    "\n",
    "pl.sql(\"SELECT * FROM df LIMIT 5\").collect()"
   ]
  },
  {
   "cell_type": "code",
   "execution_count": 72,
   "metadata": {},
   "outputs": [],
   "source": [
    "# SQLContext 객체 생성\n",
    "\n",
    "ctx = pl.SQLContext(\n",
    "    register_globals=False, # 해당 메모리에 있는 dataframe을 다 테이블로 등록하는 설정\n",
    "    eager=True # 지연 평가(lazy evaluation) 대신 즉시 실행(eager evaluation)을 사용할지 여부를 설정\n",
    ")"
   ]
  },
  {
   "cell_type": "code",
   "execution_count": 73,
   "metadata": {},
   "outputs": [
    {
     "data": {
      "text/plain": [
       "[]"
      ]
     },
     "execution_count": 73,
     "metadata": {},
     "output_type": "execute_result"
    }
   ],
   "source": [
    "# 해당 객체 안에 있는 테이블 확인\n",
    "\n",
    "ctx.tables()"
   ]
  },
  {
   "cell_type": "code",
   "execution_count": 74,
   "metadata": {},
   "outputs": [
    {
     "data": {
      "text/plain": [
       "['pokemon', 'trainer_pokemon']"
      ]
     },
     "execution_count": 74,
     "metadata": {},
     "output_type": "execute_result"
    }
   ],
   "source": [
    "# 객체에 테이블 등록\n",
    "\n",
    "tp = pl.read_csv(\"../dataset/trainer_pokemon.csv\")\n",
    "pk = pl.read_csv(\"../dataset/pokemon.csv\")\n",
    "\n",
    "ctx.register_many(\n",
    "    trainer_pokemon=tp, # 테이블 이름 : DF 이름\n",
    "    pokemon=pk\n",
    ")\n",
    "\n",
    "ctx.tables()"
   ]
  },
  {
   "cell_type": "code",
   "execution_count": 75,
   "metadata": {},
   "outputs": [
    {
     "data": {
      "text/html": [
       "<div><style>\n",
       ".dataframe > thead > tr,\n",
       ".dataframe > tbody > tr {\n",
       "  text-align: right;\n",
       "  white-space: pre-wrap;\n",
       "}\n",
       "</style>\n",
       "<small>shape: (17, 2)</small><table border=\"1\" class=\"dataframe\"><thead><tr><th>type1</th><th>cnt</th></tr><tr><td>str</td><td>u32</td></tr></thead><tbody><tr><td>&quot;Water&quot;</td><td>46</td></tr><tr><td>&quot;Normal&quot;</td><td>37</td></tr><tr><td>&quot;Bug&quot;</td><td>22</td></tr><tr><td>&quot;Grass&quot;</td><td>21</td></tr><tr><td>&quot;Fire&quot;</td><td>20</td></tr><tr><td>&quot;Psychic&quot;</td><td>15</td></tr><tr><td>&quot;Electric&quot;</td><td>15</td></tr><tr><td>&quot;Poison&quot;</td><td>15</td></tr><tr><td>&quot;Rock&quot;</td><td>13</td></tr><tr><td>&quot;Ground&quot;</td><td>11</td></tr><tr><td>&quot;Fighting&quot;</td><td>9</td></tr><tr><td>&quot;Fairy&quot;</td><td>7</td></tr><tr><td>&quot;Ice&quot;</td><td>6</td></tr><tr><td>&quot;Dark&quot;</td><td>5</td></tr><tr><td>&quot;Ghost&quot;</td><td>4</td></tr><tr><td>&quot;Dragon&quot;</td><td>3</td></tr><tr><td>&quot;Steel&quot;</td><td>2</td></tr></tbody></table></div>"
      ],
      "text/plain": [
       "shape: (17, 2)\n",
       "┌──────────┬─────┐\n",
       "│ type1    ┆ cnt │\n",
       "│ ---      ┆ --- │\n",
       "│ str      ┆ u32 │\n",
       "╞══════════╪═════╡\n",
       "│ Water    ┆ 46  │\n",
       "│ Normal   ┆ 37  │\n",
       "│ Bug      ┆ 22  │\n",
       "│ Grass    ┆ 21  │\n",
       "│ Fire     ┆ 20  │\n",
       "│ Psychic  ┆ 15  │\n",
       "│ Electric ┆ 15  │\n",
       "│ Poison   ┆ 15  │\n",
       "│ Rock     ┆ 13  │\n",
       "│ Ground   ┆ 11  │\n",
       "│ Fighting ┆ 9   │\n",
       "│ Fairy    ┆ 7   │\n",
       "│ Ice      ┆ 6   │\n",
       "│ Dark     ┆ 5   │\n",
       "│ Ghost    ┆ 4   │\n",
       "│ Dragon   ┆ 3   │\n",
       "│ Steel    ┆ 2   │\n",
       "└──────────┴─────┘"
      ]
     },
     "metadata": {},
     "output_type": "display_data"
    }
   ],
   "source": [
    "# 등록된 테이블 조회\n",
    "\n",
    "with ctx:\n",
    "    # ctx._eager_execution=True\n",
    "    pk = ctx.execute(\"SELECT type1, COUNT(type1) AS cnt FROM pokemon GROUP BY type1 ORDER BY cnt DESC\")\n",
    "    display(pk)"
   ]
  },
  {
   "cell_type": "code",
   "execution_count": 76,
   "metadata": {},
   "outputs": [
    {
     "data": {
      "text/html": [
       "<div><style>\n",
       ".dataframe > thead > tr,\n",
       ".dataframe > tbody > tr {\n",
       "  text-align: right;\n",
       "  white-space: pre-wrap;\n",
       "}\n",
       "</style>\n",
       "<small>shape: (5, 10)</small><table border=\"1\" class=\"dataframe\"><thead><tr><th>id</th><th>trainer_id</th><th>pokemon_id</th><th>level</th><th>experience_point</th><th>current_health</th><th>catch_date</th><th>catch_datetime</th><th>location</th><th>status</th></tr><tr><td>i64</td><td>i64</td><td>i64</td><td>i64</td><td>i64</td><td>i64</td><td>str</td><td>str</td><td>str</td><td>str</td></tr></thead><tbody><tr><td>1</td><td>7</td><td>25</td><td>42</td><td>2500</td><td>75</td><td>&quot;2024-02-14&quot;</td><td>&quot;2024-02-14 5:27&quot;</td><td>&quot;Seoul&quot;</td><td>&quot;Active&quot;</td></tr><tr><td>2</td><td>15</td><td>6</td><td>56</td><td>4300</td><td>120</td><td>&quot;2024-03-10&quot;</td><td>&quot;2024-03-10 20:27&quot;</td><td>&quot;Busan&quot;</td><td>&quot;Active&quot;</td></tr><tr><td>3</td><td>4</td><td>12</td><td>21</td><td>800</td><td>40</td><td>&quot;2024-01-05&quot;</td><td>&quot;2024-01-05 14:28&quot;</td><td>&quot;Incheon&quot;</td><td>&quot;Active&quot;</td></tr><tr><td>4</td><td>12</td><td>19</td><td>39</td><td>2100</td><td>95</td><td>&quot;2024-02-28&quot;</td><td>&quot;2024-02-28 22:39&quot;</td><td>&quot;Gwangju&quot;</td><td>&quot;Active&quot;</td></tr><tr><td>5</td><td>1</td><td>143</td><td>70</td><td>9500</td><td>160</td><td>&quot;2024-05-22&quot;</td><td>&quot;2024-05-22 20:58&quot;</td><td>&quot;Daejeon&quot;</td><td>&quot;Active&quot;</td></tr></tbody></table></div>"
      ],
      "text/plain": [
       "shape: (5, 10)\n",
       "┌─────┬────────────┬────────────┬───────┬───┬────────────┬──────────────────┬──────────┬────────┐\n",
       "│ id  ┆ trainer_id ┆ pokemon_id ┆ level ┆ … ┆ catch_date ┆ catch_datetime   ┆ location ┆ status │\n",
       "│ --- ┆ ---        ┆ ---        ┆ ---   ┆   ┆ ---        ┆ ---              ┆ ---      ┆ ---    │\n",
       "│ i64 ┆ i64        ┆ i64        ┆ i64   ┆   ┆ str        ┆ str              ┆ str      ┆ str    │\n",
       "╞═════╪════════════╪════════════╪═══════╪═══╪════════════╪══════════════════╪══════════╪════════╡\n",
       "│ 1   ┆ 7          ┆ 25         ┆ 42    ┆ … ┆ 2024-02-14 ┆ 2024-02-14 5:27  ┆ Seoul    ┆ Active │\n",
       "│ 2   ┆ 15         ┆ 6          ┆ 56    ┆ … ┆ 2024-03-10 ┆ 2024-03-10 20:27 ┆ Busan    ┆ Active │\n",
       "│ 3   ┆ 4          ┆ 12         ┆ 21    ┆ … ┆ 2024-01-05 ┆ 2024-01-05 14:28 ┆ Incheon  ┆ Active │\n",
       "│ 4   ┆ 12         ┆ 19         ┆ 39    ┆ … ┆ 2024-02-28 ┆ 2024-02-28 22:39 ┆ Gwangju  ┆ Active │\n",
       "│ 5   ┆ 1          ┆ 143        ┆ 70    ┆ … ┆ 2024-05-22 ┆ 2024-05-22 20:58 ┆ Daejeon  ┆ Active │\n",
       "└─────┴────────────┴────────────┴───────┴───┴────────────┴──────────────────┴──────────┴────────┘"
      ]
     },
     "metadata": {},
     "output_type": "display_data"
    }
   ],
   "source": [
    "with pl.SQLContext(\n",
    "    register_globals=True,\n",
    "    eager=True # collect를 사용하지 않아도 되는 DF 타입으로 바로 읽음\n",
    "    ) as ctx:\n",
    "    tdf = ctx.execute(\"SELECT * FROM tp LIMIT 5\")\n",
    "    display(tdf)"
   ]
  },
  {
   "cell_type": "markdown",
   "metadata": {},
   "source": [
    "## 10. PARTITIONING"
   ]
  },
  {
   "cell_type": "code",
   "execution_count": null,
   "metadata": {},
   "outputs": [
    {
     "data": {
      "text/plain": [
       "[shape: (424, 8)\n",
       " ┌─────────────┬────────┬────────────┬──────────────┬────────┬────────┬──────────────┬──────────────┐\n",
       " │ First Name  ┆ Gender ┆ Start Date ┆ Last Login   ┆ Salary ┆ Bonus  ┆ Senior       ┆ Team         │\n",
       " │ ---         ┆ ---    ┆ ---        ┆ Time         ┆ ---    ┆ ---    ┆ Management   ┆ ---          │\n",
       " │ str         ┆ str    ┆ date       ┆ ---          ┆ i32    ┆ f64    ┆ ---          ┆ str          │\n",
       " │             ┆        ┆            ┆ time         ┆        ┆        ┆ bool         ┆              │\n",
       " ╞═════════════╪════════╪════════════╪══════════════╪════════╪════════╪══════════════╪══════════════╡\n",
       " │ Douglas     ┆ Male   ┆ 1993-08-06 ┆ 12:42:00     ┆ 97308  ┆ 6.945  ┆ true         ┆ Marketing    │\n",
       " │ Thomas      ┆ Male   ┆ 1996-03-31 ┆ 06:53:00     ┆ 61933  ┆ 4.17   ┆ true         ┆ null         │\n",
       " │ Jerry       ┆ Male   ┆ 2005-03-04 ┆ 13:00:00     ┆ 138705 ┆ 9.34   ┆ true         ┆ Finance      │\n",
       " │ Larry       ┆ Male   ┆ 1998-01-24 ┆ 16:47:00     ┆ 101004 ┆ 1.389  ┆ true         ┆ Client       │\n",
       " │             ┆        ┆            ┆              ┆        ┆        ┆              ┆ Services     │\n",
       " │ Dennis      ┆ Male   ┆ 1987-04-18 ┆ 01:35:00     ┆ 115163 ┆ 10.125 ┆ false        ┆ Legal        │\n",
       " │ Brandon     ┆ Male   ┆ 1980-12-01 ┆ 01:08:00     ┆ 112807 ┆ 17.492 ┆ true         ┆ Human        │\n",
       " │             ┆        ┆            ┆              ┆        ┆        ┆              ┆ Resources    │\n",
       " │ Gary        ┆ Male   ┆ 2008-01-27 ┆ 23:40:00     ┆ 109831 ┆ 5.831  ┆ false        ┆ Sales        │\n",
       " │ Jeremy      ┆ Male   ┆ 2010-09-21 ┆ 05:56:00     ┆ 90370  ┆ 7.369  ┆ false        ┆ Human        │\n",
       " │             ┆        ┆            ┆              ┆        ┆        ┆              ┆ Resources    │\n",
       " │ Shawn       ┆ Male   ┆ 1986-12-07 ┆ 19:45:00     ┆ 111737 ┆ 6.414  ┆ false        ┆ Product      │\n",
       " │ Matthew     ┆ Male   ┆ 1995-09-05 ┆ 02:12:00     ┆ 100612 ┆ 13.645 ┆ false        ┆ Marketing    │\n",
       " │ null        ┆ Male   ┆ 2012-06-14 ┆ 16:19:00     ┆ 125792 ┆ 5.042  ┆ null         ┆ null         │\n",
       " │ John        ┆ Male   ┆ 1992-07-01 ┆ 22:08:00     ┆ 97950  ┆ 13.873 ┆ false        ┆ Client       │\n",
       " │             ┆        ┆            ┆              ┆        ┆        ┆              ┆ Services     │\n",
       " │ null        ┆ Male   ┆ 2012-10-08 ┆ 01:12:00     ┆ 37076  ┆ 18.576 ┆ null         ┆ Client       │\n",
       " │             ┆        ┆            ┆              ┆        ┆        ┆              ┆ Services     │\n",
       " │ Craig       ┆ Male   ┆ 2000-02-27 ┆ 07:45:00     ┆ 37598  ┆ 7.757  ┆ true         ┆ Marketing    │\n",
       " │ Terry       ┆ Male   ┆ 1981-11-27 ┆ 18:30:00     ┆ 124008 ┆ 13.464 ┆ true         ┆ Client       │\n",
       " │             ┆        ┆            ┆              ┆        ┆        ┆              ┆ Services     │\n",
       " │ Benjamin    ┆ Male   ┆ 2005-01-26 ┆ 22:06:00     ┆ 79529  ┆ 7.008  ┆ true         ┆ Legal        │\n",
       " │ null        ┆ Male   ┆ 1998-08-21 ┆ 14:27:00     ┆ 122340 ┆ 6.417  ┆ null         ┆ null         │\n",
       " │ Jerry       ┆ Male   ┆ 2004-01-10 ┆ 12:56:00     ┆ 95734  ┆ 19.096 ┆ false        ┆ Client       │\n",
       " │             ┆        ┆            ┆              ┆        ┆        ┆              ┆ Services     │\n",
       " │ null        ┆ Male   ┆ 2016-01-29 ┆ 02:33:00     ┆ 122173 ┆ 7.797  ┆ null         ┆ Client       │\n",
       " │             ┆        ┆            ┆              ┆        ┆        ┆              ┆ Services     │\n",
       " │ Michael     ┆ Male   ┆ 2008-10-10 ┆ 11:25:00     ┆ 99283  ┆ 2.665  ┆ true         ┆ Distribution │\n",
       " │ Roger       ┆ Male   ┆ 1980-04-17 ┆ 11:32:00     ┆ 88010  ┆ 13.886 ┆ true         ┆ Sales        │\n",
       " │ Bruce       ┆ Male   ┆ 2009-11-28 ┆ 22:47:00     ┆ 114796 ┆ 6.796  ┆ false        ┆ Finance      │\n",
       " │ Clarence    ┆ Male   ┆ 1996-03-26 ┆ 05:57:00     ┆ 93581  ┆ 6.083  ┆ true         ┆ Business     │\n",
       " │             ┆        ┆            ┆              ┆        ┆        ┆              ┆ Development  │\n",
       " │ Todd        ┆ Male   ┆ 1990-02-18 ┆ 02:41:00     ┆ 49339  ┆ 1.695  ┆ true         ┆ Human        │\n",
       " │             ┆        ┆            ┆              ┆        ┆        ┆              ┆ Resources    │\n",
       " │ Carl        ┆ Male   ┆ 2006-05-03 ┆ 17:55:00     ┆ 130276 ┆ 16.084 ┆ true         ┆ Finance      │\n",
       " │ Henry       ┆ Male   ┆ 1996-06-26 ┆ 01:44:00     ┆ 64715  ┆ 15.107 ┆ true         ┆ Human        │\n",
       " │             ┆        ┆            ┆              ┆        ┆        ┆              ┆ Resources    │\n",
       " │ Matthew     ┆ Male   ┆ 2013-01-02 ┆ 22:33:00     ┆ 35203  ┆ 18.04  ┆ false        ┆ Human        │\n",
       " │             ┆        ┆            ┆              ┆        ┆        ┆              ┆ Resources    │\n",
       " │ Steve       ┆ Male   ┆ 2009-11-11 ┆ 23:44:00     ┆ 61310  ┆ 12.428 ┆ true         ┆ Distribution │\n",
       " │ Jose        ┆ Male   ┆ 2004-10-30 ┆ 13:39:00     ┆ 84834  ┆ 14.33  ┆ true         ┆ Finance      │\n",
       " │ Johnny      ┆ Male   ┆ 2009-11-06 ┆ 16:23:00     ┆ 118172 ┆ 16.194 ┆ true         ┆ Sales        │\n",
       " │ Bobby       ┆ Male   ┆ 2007-05-07 ┆ 10:01:00     ┆ 54043  ┆ 3.833  ┆ false        ┆ Product      │\n",
       " │ Thomas      ┆ Male   ┆ 1995-06-04 ┆ 14:24:00     ┆ 62096  ┆ 17.029 ┆ false        ┆ Marketing    │\n",
       " │ Charles     ┆ Male   ┆ 2004-09-14 ┆ 20:13:00     ┆ 107391 ┆ 1.26   ┆ true         ┆ Marketing    │\n",
       " │ Christopher ┆ Male   ┆ 2008-03-30 ┆ 10:52:00     ┆ 47369  ┆ 14.822 ┆ false        ┆ Legal        │\n",
       " │ Steven      ┆ Male   ┆ 1980-03-30 ┆ 21:20:00     ┆ 35095  ┆ 8.379  ┆ true         ┆ Client       │\n",
       " │             ┆        ┆            ┆              ┆        ┆        ┆              ┆ Services     │\n",
       " │ Shawn       ┆ Male   ┆ 2005-09-23 ┆ 02:55:00     ┆ 148115 ┆ 6.539  ┆ true         ┆ Finance      │\n",
       " │ Jeremy      ┆ Male   ┆ 2008-02-01 ┆ 08:50:00     ┆ 100238 ┆ 3.887  ┆ true         ┆ Client       │\n",
       " │             ┆        ┆            ┆              ┆        ┆        ┆              ┆ Services     │\n",
       " │ Harry       ┆ Male   ┆ 1981-08-26 ┆ 15:16:00     ┆ 130620 ┆ 7.03   ┆ false        ┆ Legal        │\n",
       " │ Harold      ┆ Male   ┆ 1985-01-02 ┆ 21:40:00     ┆ 77544  ┆ 12.447 ┆ false        ┆ Business     │\n",
       " │             ┆        ┆            ┆              ┆        ┆        ┆              ┆ Development  │\n",
       " │ Aaron       ┆ Male   ┆ 2012-02-17 ┆ 10:20:00     ┆ 61602  ┆ 11.849 ┆ true         ┆ Marketing    │\n",
       " │ Jack        ┆ Male   ┆ 1997-01-12 ┆ 05:51:00     ┆ 103902 ┆ 12.159 ┆ false        ┆ Client       │\n",
       " │             ┆        ┆            ┆              ┆        ┆        ┆              ┆ Services     │\n",
       " │ John        ┆ Male   ┆ 1989-12-23 ┆ 07:01:00     ┆ 80740  ┆ 19.305 ┆ false        ┆ Marketing    │\n",
       " │ Paul        ┆ Male   ┆ 1993-08-04 ┆ 19:25:00     ┆ 42146  ┆ 3.046  ┆ false        ┆ Legal        │\n",
       " │ Steven      ┆ Male   ┆ 2013-04-23 ┆ 22:12:00     ┆ 68680  ┆ 16.565 ┆ false        ┆ Legal        │\n",
       " │ Christopher ┆ Male   ┆ 2000-04-22 ┆ 10:15:00     ┆ 37919  ┆ 11.449 ┆ false        ┆ null         │\n",
       " │ Willie      ┆ Male   ┆ 2003-11-27 ┆ 06:21:00     ┆ 64363  ┆ 4.023  ┆ false        ┆ Marketing    │\n",
       " │ null        ┆ Male   ┆ 1991-06-22 ┆ 20:58:00     ┆ 76189  ┆ 18.988 ┆ null         ┆ Legal        │\n",
       " │ Steven      ┆ Male   ┆ 1995-03-01 ┆ 15:03:00     ┆ 109095 ┆ 9.494  ┆ false        ┆ Finance      │\n",
       " │ Paul        ┆ Male   ┆ 2008-06-03 ┆ 15:05:00     ┆ 41054  ┆ 12.299 ┆ false        ┆ Marketing    │\n",
       " │ Peter       ┆ Male   ┆ 1994-11-17 ┆ 18:15:00     ┆ 84885  ┆ 15.402 ┆ false        ┆ Business     │\n",
       " │             ┆        ┆            ┆              ┆        ┆        ┆              ┆ Development  │\n",
       " │ …           ┆ …      ┆ …          ┆ …            ┆ …      ┆ …      ┆ …            ┆ …            │\n",
       " │ Anthony     ┆ Male   ┆ 2014-01-30 ┆ 21:04:00     ┆ 96795  ┆ 14.837 ┆ false        ┆ Sales        │\n",
       " │ David       ┆ Male   ┆ 2009-12-05 ┆ 08:48:00     ┆ 92242  ┆ 15.407 ┆ false        ┆ Legal        │\n",
       " │ null        ┆ Male   ┆ 2015-11-24 ┆ 03:11:00     ┆ 145329 ┆ 7.1    ┆ null         ┆ Finance      │\n",
       " │ Timothy     ┆ Male   ┆ 1991-08-25 ┆ 10:37:00     ┆ 92587  ┆ 8.475  ┆ false        ┆ Finance      │\n",
       " │ Brandon     ┆ Male   ┆ 1995-10-23 ┆ 12:04:00     ┆ 60263  ┆ 2.709  ┆ false        ┆ Sales        │\n",
       " │ Frank       ┆ Male   ┆ 2013-07-27 ┆ 16:32:00     ┆ 91406  ┆ 5.681  ┆ true         ┆ Business     │\n",
       " │             ┆        ┆            ┆              ┆        ┆        ┆              ┆ Development  │\n",
       " │ Victor      ┆ Male   ┆ 2010-03-10 ┆ 17:01:00     ┆ 45267  ┆ 3.942  ┆ true         ┆ Sales        │\n",
       " │ Walter      ┆ Male   ┆ 1992-05-21 ┆ 00:39:00     ┆ 144701 ┆ 16.323 ┆ true         ┆ Marketing    │\n",
       " │ null        ┆ Male   ┆ 2001-05-23 ┆ 19:52:00     ┆ 103877 ┆ 6.322  ┆ null         ┆ Distribution │\n",
       " │ Donald      ┆ Male   ┆ 1991-08-01 ┆ 02:25:00     ┆ 61999  ┆ 6.466  ┆ false        ┆ Product      │\n",
       " │ Carl        ┆ Male   ┆ 2010-07-07 ┆ 13:33:00     ┆ 54033  ┆ 15.528 ┆ true         ┆ Business     │\n",
       " │             ┆        ┆            ┆              ┆        ┆        ┆              ┆ Development  │\n",
       " │ Joe         ┆ Male   ┆ 1998-12-08 ┆ 10:28:00     ┆ 126120 ┆ 1.02   ┆ false        ┆ null         │\n",
       " │ Todd        ┆ Male   ┆ 1983-01-04 ┆ 12:34:00     ┆ 115566 ┆ 6.716  ┆ true         ┆ Client       │\n",
       " │             ┆        ┆            ┆              ┆        ┆        ┆              ┆ Services     │\n",
       " │ Shawn       ┆ Male   ┆ 2008-03-13 ┆ 17:36:00     ┆ 51667  ┆ 6.339  ┆ false        ┆ Product      │\n",
       " │ Ryan        ┆ Male   ┆ 1999-04-27 ┆ 03:41:00     ┆ 85858  ┆ 19.475 ┆ false        ┆ Client       │\n",
       " │             ┆        ┆            ┆              ┆        ┆        ┆              ┆ Services     │\n",
       " │ Sean        ┆ Male   ┆ 2009-03-21 ┆ 11:38:00     ┆ 131423 ┆ 8.957  ┆ false        ┆ Distribution │\n",
       " │ George      ┆ Male   ┆ 2015-06-05 ┆ 05:40:00     ┆ 50369  ┆ 18.9   ┆ true         ┆ Sales        │\n",
       " │ Arthur      ┆ Male   ┆ 2013-12-05 ┆ 08:44:00     ┆ 86615  ┆ 3.412  ┆ true         ┆ Business     │\n",
       " │             ┆        ┆            ┆              ┆        ┆        ┆              ┆ Development  │\n",
       " │ Philip      ┆ Male   ┆ 2005-03-11 ┆ 10:56:00     ┆ 103557 ┆ 16.014 ┆ true         ┆ Business     │\n",
       " │             ┆        ┆            ┆              ┆        ┆        ┆              ┆ Development  │\n",
       " │ Jeffrey     ┆ Male   ┆ 1986-09-20 ┆ 06:06:00     ┆ 111376 ┆ 2.673  ┆ true         ┆ Business     │\n",
       " │             ┆        ┆            ┆              ┆        ┆        ┆              ┆ Development  │\n",
       " │ Harold      ┆ Male   ┆ 2012-06-23 ┆ 12:40:00     ┆ 140444 ┆ 3.771  ┆ false        ┆ Distribution │\n",
       " │ Samuel      ┆ Male   ┆ 1997-08-07 ┆ 12:40:00     ┆ 43694  ┆ 3.787  ┆ true         ┆ Engineering  │\n",
       " │ Andrew      ┆ Male   ┆ 1990-09-28 ┆ 09:38:00     ┆ 137386 ┆ 8.611  ┆ true         ┆ Distribution │\n",
       " │ William     ┆ Male   ┆ 1997-06-26 ┆ 08:33:00     ┆ 104840 ┆ 15.653 ┆ true         ┆ Engineering  │\n",
       " │ Wayne       ┆ Male   ┆ 2006-09-08 ┆ 11:09:00     ┆ 67471  ┆ 2.728  ┆ false        ┆ Engineering  │\n",
       " │ Kenneth     ┆ Male   ┆ 2006-05-10 ┆ 08:24:00     ┆ 101914 ┆ 1.905  ┆ true         ┆ Distribution │\n",
       " │ null        ┆ Male   ┆ 2012-07-30 ┆ 15:07:00     ┆ 107351 ┆ 5.329  ┆ null         ┆ Marketing    │\n",
       " │ Scott       ┆ Male   ┆ 2011-08-20 ┆ 08:08:00     ┆ 37385  ┆ 8.226  ┆ true         ┆ Business     │\n",
       " │             ┆        ┆            ┆              ┆        ┆        ┆              ┆ Development  │\n",
       " │ Randy       ┆ Male   ┆ 2012-02-25 ┆ 05:33:00     ┆ 57266  ┆ 14.077 ┆ false        ┆ Product      │\n",
       " │ Joe         ┆ Male   ┆ 1980-01-19 ┆ 16:06:00     ┆ 119667 ┆ 1.148  ┆ true         ┆ Finance      │\n",
       " │ Jeffrey     ┆ Male   ┆ 1984-02-03 ┆ 13:26:00     ┆ 70990  ┆ 15.901 ┆ true         ┆ Sales        │\n",
       " │ Albert      ┆ Male   ┆ 1992-09-19 ┆ 02:35:00     ┆ 45094  ┆ 5.85   ┆ true         ┆ Business     │\n",
       " │             ┆        ┆            ┆              ┆        ┆        ┆              ┆ Development  │\n",
       " │ Stephen     ┆ Male   ┆ 1989-10-29 ┆ 23:34:00     ┆ 93997  ┆ 18.093 ┆ true         ┆ Business     │\n",
       " │             ┆        ┆            ┆              ┆        ┆        ┆              ┆ Development  │\n",
       " │ Jonathan    ┆ Male   ┆ 2013-08-21 ┆ 00:45:00     ┆ 121797 ┆ 16.923 ┆ false        ┆ Product      │\n",
       " │ Bruce       ┆ Male   ┆ 1980-05-07 ┆ 20:00:00     ┆ 35802  ┆ 12.391 ┆ true         ┆ Sales        │\n",
       " │ Louis       ┆ Male   ┆ 2011-08-16 ┆ 17:19:00     ┆ 93022  ┆ 9.146  ┆ true         ┆ Human        │\n",
       " │             ┆        ┆            ┆              ┆        ┆        ┆              ┆ Resources    │\n",
       " │ Thomas      ┆ Male   ┆ 2016-03-12 ┆ 15:10:00     ┆ 105681 ┆ 19.572 ┆ false        ┆ Engineering  │\n",
       " │ Patrick     ┆ Male   ┆ 2002-12-30 ┆ 02:01:00     ┆ 75423  ┆ 5.368  ┆ true         ┆ Business     │\n",
       " │             ┆        ┆            ┆              ┆        ┆        ┆              ┆ Development  │\n",
       " │ Russell     ┆ Male   ┆ 2013-05-10 ┆ 23:08:00     ┆ 137359 ┆ 11.105 ┆ false        ┆ Business     │\n",
       " │             ┆        ┆            ┆              ┆        ┆        ┆              ┆ Development  │\n",
       " │ Harry       ┆ Male   ┆ 2011-08-30 ┆ 18:31:00     ┆ 67656  ┆ 16.455 ┆ true         ┆ Client       │\n",
       " │             ┆        ┆            ┆              ┆        ┆        ┆              ┆ Services     │\n",
       " │ Sean        ┆ Male   ┆ 1983-01-17 ┆ 14:23:00     ┆ 66146  ┆ 11.178 ┆ false        ┆ Human        │\n",
       " │             ┆        ┆            ┆              ┆        ┆        ┆              ┆ Resources    │\n",
       " │ Ernest      ┆ Male   ┆ 2013-07-20 ┆ 06:41:00     ┆ 142935 ┆ 13.198 ┆ true         ┆ Product      │\n",
       " │ James       ┆ Male   ┆ 1993-01-15 ┆ 17:19:00     ┆ 148985 ┆ 19.28  ┆ false        ┆ Legal        │\n",
       " │ John        ┆ Male   ┆ 1982-12-23 ┆ 22:35:00     ┆ 146907 ┆ 11.738 ┆ false        ┆ Engineering  │\n",
       " │ Anthony     ┆ Male   ┆ 2011-10-16 ┆ 08:35:00     ┆ 112769 ┆ 11.625 ┆ true         ┆ Finance      │\n",
       " │ George      ┆ Male   ┆ 2013-06-21 ┆ 17:47:00     ┆ 98874  ┆ 4.479  ┆ true         ┆ Marketing    │\n",
       " │ Phillip     ┆ Male   ┆ 1984-01-31 ┆ 06:30:00     ┆ 42392  ┆ 19.675 ┆ false        ┆ Finance      │\n",
       " │ Russell     ┆ Male   ┆ 2013-05-20 ┆ 12:39:00     ┆ 96914  ┆ 1.421  ┆ false        ┆ Product      │\n",
       " │ Larry       ┆ Male   ┆ 2013-04-20 ┆ 16:45:00     ┆ 60500  ┆ 11.985 ┆ false        ┆ Business     │\n",
       " │             ┆        ┆            ┆              ┆        ┆        ┆              ┆ Development  │\n",
       " │ Albert      ┆ Male   ┆ 2012-05-15 ┆ 18:24:00     ┆ 129949 ┆ 10.169 ┆ true         ┆ Sales        │\n",
       " └─────────────┴────────┴────────────┴──────────────┴────────┴────────┴──────────────┴──────────────┘,\n",
       " shape: (431, 8)\n",
       " ┌────────────┬────────┬────────────┬───────────────┬────────┬────────┬──────────────┬──────────────┐\n",
       " │ First Name ┆ Gender ┆ Start Date ┆ Last Login    ┆ Salary ┆ Bonus  ┆ Senior       ┆ Team         │\n",
       " │ ---        ┆ ---    ┆ ---        ┆ Time          ┆ ---    ┆ ---    ┆ Management   ┆ ---          │\n",
       " │ str        ┆ str    ┆ date       ┆ ---           ┆ i32    ┆ f64    ┆ ---          ┆ str          │\n",
       " │            ┆        ┆            ┆ time          ┆        ┆        ┆ bool         ┆              │\n",
       " ╞════════════╪════════╪════════════╪═══════════════╪════════╪════════╪══════════════╪══════════════╡\n",
       " │ Maria      ┆ Female ┆ 1993-04-23 ┆ 11:17:00      ┆ 130590 ┆ 11.858 ┆ false        ┆ Finance      │\n",
       " │ Ruby       ┆ Female ┆ 1987-08-17 ┆ 16:20:00      ┆ 65476  ┆ 10.012 ┆ true         ┆ Product      │\n",
       " │ null       ┆ Female ┆ 2015-07-20 ┆ 10:43:00      ┆ 45906  ┆ 11.598 ┆ null         ┆ Finance      │\n",
       " │ Angela     ┆ Female ┆ 2005-11-22 ┆ 06:29:00      ┆ 95570  ┆ 18.523 ┆ true         ┆ Engineering  │\n",
       " │ Frances    ┆ Female ┆ 2002-08-08 ┆ 06:51:00      ┆ 139852 ┆ 7.524  ┆ true         ┆ Business     │\n",
       " │            ┆        ┆            ┆               ┆        ┆        ┆              ┆ Development  │\n",
       " │ Louise     ┆ Female ┆ 1980-08-12 ┆ 09:01:00      ┆ 63241  ┆ 15.132 ┆ true         ┆ null         │\n",
       " │ Julie      ┆ Female ┆ 1997-10-26 ┆ 15:19:00      ┆ 102508 ┆ 12.637 ┆ true         ┆ Legal        │\n",
       " │ Kimberly   ┆ Female ┆ 1999-01-14 ┆ 07:13:00      ┆ 41426  ┆ 14.543 ┆ true         ┆ Finance      │\n",
       " │ Lillian    ┆ Female ┆ 2016-06-05 ┆ 06:09:00      ┆ 59414  ┆ 1.256  ┆ false        ┆ Product      │\n",
       " │ Diana      ┆ Female ┆ 1981-10-23 ┆ 10:27:00      ┆ 132940 ┆ 19.082 ┆ false        ┆ Client       │\n",
       " │            ┆        ┆            ┆               ┆        ┆        ┆              ┆ Services     │\n",
       " │ Donna      ┆ Female ┆ 2010-07-22 ┆ 03:48:00      ┆ 81014  ┆ 1.894  ┆ false        ┆ Product      │\n",
       " │ Christina  ┆ Female ┆ 2002-08-06 ┆ 13:19:00      ┆ 118780 ┆ 9.096  ┆ true         ┆ Engineering  │\n",
       " │ Jean       ┆ Female ┆ 1993-12-18 ┆ 09:07:00      ┆ 119082 ┆ 16.18  ┆ false        ┆ Business     │\n",
       " │            ┆        ┆            ┆               ┆        ┆        ┆              ┆ Development  │\n",
       " │ Theresa    ┆ Female ┆ 2006-10-10 ┆ 01:12:00      ┆ 85182  ┆ 16.675 ┆ false        ┆ Sales        │\n",
       " │ Rachel     ┆ Female ┆ 2009-02-16 ┆ 20:47:00      ┆ 142032 ┆ 12.599 ┆ false        ┆ Business     │\n",
       " │            ┆        ┆            ┆               ┆        ┆        ┆              ┆ Development  │\n",
       " │ Linda      ┆ Female ┆ 1981-10-19 ┆ 20:49:00      ┆ 57427  ┆ 9.557  ┆ true         ┆ Client       │\n",
       " │            ┆        ┆            ┆               ┆        ┆        ┆              ┆ Services     │\n",
       " │ Stephanie  ┆ Female ┆ 1986-09-13 ┆ 01:52:00      ┆ 36844  ┆ 5.574  ┆ true         ┆ Business     │\n",
       " │            ┆        ┆            ┆               ┆        ┆        ┆              ┆ Development  │\n",
       " │ Beverly    ┆ Female ┆ 1998-09-09 ┆ 20:26:00      ┆ 121918 ┆ 15.835 ┆ false        ┆ Legal        │\n",
       " │ Marilyn    ┆ Female ┆ 1980-12-07 ┆ 03:16:00      ┆ 73524  ┆ 5.207  ┆ true         ┆ Marketing    │\n",
       " │ Cynthia    ┆ Female ┆ 1988-11-16 ┆ 18:54:00      ┆ 145146 ┆ 7.482  ┆ true         ┆ Product      │\n",
       " │ Kathy      ┆ Female ┆ 2005-06-22 ┆ 04:51:00      ┆ 66820  ┆ 9.0    ┆ true         ┆ Client       │\n",
       " │            ┆        ┆            ┆               ┆        ┆        ┆              ┆ Services     │\n",
       " │ Nancy      ┆ Female ┆ 2000-09-23 ┆ 08:05:00      ┆ 94976  ┆ 13.83  ┆ true         ┆ Engineering  │\n",
       " │ Sara       ┆ Female ┆ 2007-08-15 ┆ 09:23:00      ┆ 83677  ┆ 8.999  ┆ false        ┆ Engineering  │\n",
       " │ Karen      ┆ Female ┆ 1999-11-30 ┆ 07:46:00      ┆ 102488 ┆ 17.653 ┆ true         ┆ Product      │\n",
       " │ Theresa    ┆ Female ┆ 2010-04-11 ┆ 07:18:00      ┆ 72670  ┆ 1.481  ┆ true         ┆ Engineering  │\n",
       " │ Irene      ┆ Female ┆ 1997-05-07 ┆ 09:32:00      ┆ 66851  ┆ 11.279 ┆ false        ┆ Engineering  │\n",
       " │ Denise     ┆ Female ┆ 2001-11-06 ┆ 12:03:00      ┆ 106862 ┆ 3.699  ┆ false        ┆ Business     │\n",
       " │            ┆        ┆            ┆               ┆        ┆        ┆              ┆ Development  │\n",
       " │ null       ┆ Female ┆ 2007-06-12 ┆ 17:25:00      ┆ 58112  ┆ 19.414 ┆ null         ┆ Marketing    │\n",
       " │ Nancy      ┆ Female ┆ 2012-12-15 ┆ 23:57:00      ┆ 125250 ┆ 2.672  ┆ true         ┆ Business     │\n",
       " │            ┆        ┆            ┆               ┆        ┆        ┆              ┆ Development  │\n",
       " │ Rachel     ┆ Female ┆ 1999-08-16 ┆ 06:53:00      ┆ 51178  ┆ 9.735  ┆ true         ┆ Finance      │\n",
       " │ Frances    ┆ Female ┆ 1999-04-04 ┆ 16:19:00      ┆ 90582  ┆ 4.709  ┆ true         ┆ Sales        │\n",
       " │ Bonnie     ┆ Female ┆ 1991-07-02 ┆ 01:27:00      ┆ 104897 ┆ 5.118  ┆ true         ┆ Human        │\n",
       " │            ┆        ┆            ┆               ┆        ┆        ┆              ┆ Resources    │\n",
       " │ Margaret   ┆ Female ┆ 1988-09-10 ┆ 12:42:00      ┆ 131604 ┆ 7.353  ┆ true         ┆ Distribution │\n",
       " │ Robin      ┆ Female ┆ 1983-06-04 ┆ 15:15:00      ┆ 114797 ┆ 5.965  ┆ true         ┆ Sales        │\n",
       " │ Bonnie     ┆ Female ┆ 1988-11-13 ┆ 15:30:00      ┆ 115814 ┆ 4.99   ┆ false        ┆ Product      │\n",
       " │ Doris      ┆ Female ┆ 2004-08-20 ┆ 05:51:00      ┆ 83072  ┆ 7.511  ┆ false        ┆ Finance      │\n",
       " │ Annie      ┆ Female ┆ 1993-01-30 ┆ 02:05:00      ┆ 144887 ┆ 8.276  ┆ true         ┆ Sales        │\n",
       " │ Donna      ┆ Female ┆ 1991-11-27 ┆ 13:59:00      ┆ 64088  ┆ 6.155  ┆ true         ┆ Legal        │\n",
       " │ Janice     ┆ Female ┆ 2016-03-12 ┆ 00:40:00      ┆ 51082  ┆ 11.955 ┆ false        ┆ Legal        │\n",
       " │ Linda      ┆ Female ┆ 2000-05-25 ┆ 17:45:00      ┆ 119009 ┆ 12.506 ┆ true         ┆ Business     │\n",
       " │            ┆        ┆            ┆               ┆        ┆        ┆              ┆ Development  │\n",
       " │ Heather    ┆ Female ┆ 1998-07-11 ┆ 14:17:00      ┆ 43026  ┆ 14.166 ┆ false        ┆ Client       │\n",
       " │            ┆        ┆            ┆               ┆        ┆        ┆              ┆ Services     │\n",
       " │ Cynthia    ┆ Female ┆ 1994-03-21 ┆ 08:34:00      ┆ 142321 ┆ 1.737  ┆ false        ┆ Finance      │\n",
       " │ Tina       ┆ Female ┆ 2016-06-16 ┆ 19:47:00      ┆ 100705 ┆ 16.961 ┆ true         ┆ Marketing    │\n",
       " │ Melissa    ┆ Female ┆ 2005-06-21 ┆ 06:33:00      ┆ 48109  ┆ 14.995 ┆ false        ┆ Finance      │\n",
       " │ Phyllis    ┆ Female ┆ 1996-10-11 ┆ 21:30:00      ┆ 136984 ┆ 8.932  ┆ true         ┆ Finance      │\n",
       " │ Kathy      ┆ Female ┆ 1996-03-09 ┆ 04:33:00      ┆ 91712  ┆ 8.567  ┆ false        ┆ Finance      │\n",
       " │ Shirley    ┆ Female ┆ 2001-06-20 ┆ 22:39:00      ┆ 147113 ┆ 16.135 ┆ false        ┆ Legal        │\n",
       " │ Bonnie     ┆ Female ┆ 1999-12-17 ┆ 15:12:00      ┆ 42153  ┆ 8.454  ┆ true         ┆ Business     │\n",
       " │            ┆        ┆            ┆               ┆        ┆        ┆              ┆ Development  │\n",
       " │ Tina       ┆ Female ┆ 2009-06-12 ┆ 07:16:00      ┆ 114767 ┆ 3.711  ┆ true         ┆ Engineering  │\n",
       " │ Ashley     ┆ Female ┆ 2002-08-04 ┆ 11:00:00      ┆ 58698  ┆ 6.811  ┆ true         ┆ Business     │\n",
       " │            ┆        ┆            ┆               ┆        ┆        ┆              ┆ Development  │\n",
       " │ …          ┆ …      ┆ …          ┆ …             ┆ …      ┆ …      ┆ …            ┆ …            │\n",
       " │ Betty      ┆ Female ┆ 2002-11-19 ┆ 10:40:00      ┆ 37005  ┆ 7.645  ┆ true         ┆ Marketing    │\n",
       " │ Jane       ┆ Female ┆ 2012-04-27 ┆ 14:12:00      ┆ 59680  ┆ 15.211 ┆ true         ┆ Business     │\n",
       " │            ┆        ┆            ┆               ┆        ┆        ┆              ┆ Development  │\n",
       " │ Christina  ┆ Female ┆ 2002-06-23 ┆ 15:18:00      ┆ 35477  ┆ 18.178 ┆ false        ┆ Human        │\n",
       " │            ┆        ┆            ┆               ┆        ┆        ┆              ┆ Resources    │\n",
       " │ Patricia   ┆ Female ┆ 1995-10-10 ┆ 16:52:00      ┆ 119266 ┆ 6.911  ┆ false        ┆ Distribution │\n",
       " │ Heather    ┆ Female ┆ 1983-07-29 ┆ 10:48:00      ┆ 47605  ┆ 14.955 ┆ true         ┆ Human        │\n",
       " │            ┆        ┆            ┆               ┆        ┆        ┆              ┆ Resources    │\n",
       " │ Stephanie  ┆ Female ┆ 1988-06-26 ┆ 05:48:00      ┆ 136604 ┆ 6.16   ┆ true         ┆ Human        │\n",
       " │            ┆        ┆            ┆               ┆        ┆        ┆              ┆ Resources    │\n",
       " │ Alice      ┆ Female ┆ 2013-02-09 ┆ 00:49:00      ┆ 121250 ┆ 4.363  ┆ true         ┆ Finance      │\n",
       " │ Frances    ┆ Female ┆ 2014-05-16 ┆ 08:31:00      ┆ 35884  ┆ 17.667 ┆ false        ┆ Sales        │\n",
       " │ Elizabeth  ┆ Female ┆ 1998-07-27 ┆ 11:12:00      ┆ 137144 ┆ 10.081 ┆ false        ┆ Finance      │\n",
       " │ Janice     ┆ Female ┆ 2009-12-17 ┆ 06:42:00      ┆ 102697 ┆ 3.283  ┆ false        ┆ Engineering  │\n",
       " │ Melissa    ┆ Female ┆ 2002-10-22 ┆ 01:20:00      ┆ 45223  ┆ 8.879  ┆ true         ┆ Legal        │\n",
       " │ Lois       ┆ Female ┆ 2015-12-11 ┆ 16:10:00      ┆ 99747  ┆ 6.168  ┆ false        ┆ Marketing    │\n",
       " │ Ann        ┆ Female ┆ 2001-09-28 ┆ 06:37:00      ┆ 71958  ┆ 5.272  ┆ true         ┆ Distribution │\n",
       " │ Marilyn    ┆ Female ┆ 1996-01-16 ┆ 07:18:00      ┆ 118369 ┆ 7.696  ┆ true         ┆ Business     │\n",
       " │            ┆        ┆            ┆               ┆        ┆        ┆              ┆ Development  │\n",
       " │ Rose       ┆ Female ┆ 2002-01-02 ┆ 21:14:00      ┆ 49538  ┆ 9.828  ┆ false        ┆ Client       │\n",
       " │            ┆        ┆            ┆               ┆        ┆        ┆              ┆ Services     │\n",
       " │ Deborah    ┆ Female ┆ 2003-11-11 ┆ 16:53:00      ┆ 60003  ┆ 9.624  ┆ false        ┆ Client       │\n",
       " │            ┆        ┆            ┆               ┆        ┆        ┆              ┆ Services     │\n",
       " │ null       ┆ Female ┆ 2000-08-23 ┆ 16:19:00      ┆ 95866  ┆ 19.388 ┆ null         ┆ Sales        │\n",
       " │ Judith     ┆ Female ┆ 2004-03-01 ┆ 07:32:00      ┆ 109324 ┆ 19.488 ┆ false        ┆ Distribution │\n",
       " │ Theresa    ┆ Female ┆ 2001-04-27 ┆ 21:17:00      ┆ 75661  ┆ 1.079  ┆ true         ┆ Legal        │\n",
       " │ Nancy      ┆ Female ┆ 2001-09-10 ┆ 23:57:00      ┆ 85213  ┆ 2.386  ┆ true         ┆ Marketing    │\n",
       " │ Bonnie     ┆ Female ┆ 2008-12-23 ┆ 09:26:00      ┆ 90427  ┆ 2.01   ┆ true         ┆ Client       │\n",
       " │            ┆        ┆            ┆               ┆        ┆        ┆              ┆ Services     │\n",
       " │ Doris      ┆ Female ┆ 1993-07-05 ┆ 17:54:00      ┆ 141439 ┆ 3.799  ┆ false        ┆ Business     │\n",
       " │            ┆        ┆            ┆               ┆        ┆        ┆              ┆ Development  │\n",
       " │ Alice      ┆ Female ┆ 1996-03-23 ┆ 03:09:00      ┆ 131952 ┆ 12.09  ┆ false        ┆ Engineering  │\n",
       " │ Maria      ┆ Female ┆ 2003-03-14 ┆ 17:23:00      ┆ 96250  ┆ 10.056 ┆ false        ┆ Business     │\n",
       " │            ┆        ┆            ┆               ┆        ┆        ┆              ┆ Development  │\n",
       " │ Lori       ┆ Female ┆ 2015-11-20 ┆ 13:15:00      ┆ 75498  ┆ 6.537  ┆ true         ┆ Marketing    │\n",
       " │ null       ┆ Female ┆ 1985-09-15 ┆ 01:50:00      ┆ 133472 ┆ 16.941 ┆ null         ┆ Distribution │\n",
       " │ Ashley     ┆ Female ┆ 2006-03-31 ┆ 13:24:00      ┆ 142410 ┆ 11.048 ┆ true         ┆ Engineering  │\n",
       " │ Paula      ┆ Female ┆ 1983-05-21 ┆ 11:42:00      ┆ 58423  ┆ 10.833 ┆ false        ┆ Business     │\n",
       " │            ┆        ┆            ┆               ┆        ┆        ┆              ┆ Development  │\n",
       " │ null       ┆ Female ┆ 2010-09-14 ┆ 05:19:00      ┆ 143638 ┆ 9.662  ┆ null         ┆ null         │\n",
       " │ Teresa     ┆ Female ┆ 2013-01-22 ┆ 15:17:00      ┆ 113425 ┆ 11.907 ┆ true         ┆ Human        │\n",
       " │            ┆        ┆            ┆               ┆        ┆        ┆              ┆ Resources    │\n",
       " │ Sarah      ┆ Female ┆ 2014-08-17 ┆ 23:08:00      ┆ 127118 ┆ 11.176 ┆ false        ┆ Legal        │\n",
       " │ Beverly    ┆ Female ┆ 1986-10-17 ┆ 00:51:00      ┆ 80838  ┆ 8.115  ┆ false        ┆ Engineering  │\n",
       " │ Gloria     ┆ Female ┆ 1987-10-24 ┆ 04:43:00      ┆ 39833  ┆ 9.631  ┆ false        ┆ Engineering  │\n",
       " │ Ann        ┆ Female ┆ 1994-09-23 ┆ 11:15:00      ┆ 89443  ┆ 17.94  ┆ true         ┆ Sales        │\n",
       " │ Catherine  ┆ Female ┆ 1989-09-25 ┆ 01:31:00      ┆ 68164  ┆ 18.393 ┆ false        ┆ Client       │\n",
       " │            ┆        ┆            ┆               ┆        ┆        ┆              ┆ Services     │\n",
       " │ Louise     ┆ Female ┆ 1995-03-27 ┆ 22:27:00      ┆ 43050  ┆ 11.671 ┆ false        ┆ Distribution │\n",
       " │ Linda      ┆ Female ┆ 2010-02-04 ┆ 20:49:00      ┆ 44486  ┆ 17.308 ┆ true         ┆ Engineering  │\n",
       " │ Alice      ┆ Female ┆ 1988-09-03 ┆ 20:54:00      ┆ 63571  ┆ 15.397 ┆ true         ┆ Product      │\n",
       " │ Susan      ┆ Female ┆ 1995-04-07 ┆ 22:05:00      ┆ 92436  ┆ 12.467 ┆ false        ┆ Sales        │\n",
       " │ Denise     ┆ Female ┆ 1992-10-19 ┆ 05:42:00      ┆ 137954 ┆ 4.195  ┆ true         ┆ Legal        │\n",
       " │ Sarah      ┆ Female ┆ 1995-12-04 ┆ 09:16:00      ┆ 124566 ┆ 5.949  ┆ false        ┆ Product      │\n",
       " │ Kimberly   ┆ Female ┆ 2013-01-26 ┆ 00:57:00      ┆ 46233  ┆ 8.862  ┆ true         ┆ Engineering  │\n",
       " │ Rose       ┆ Female ┆ 1982-04-06 ┆ 10:43:00      ┆ 91411  ┆ 8.639  ┆ true         ┆ Human        │\n",
       " │            ┆        ┆            ┆               ┆        ┆        ┆              ┆ Resources    │\n",
       " │ Maria      ┆ Female ┆ 2011-10-15 ┆ 16:53:00      ┆ 43455  ┆ 13.04  ┆ false        ┆ Engineering  │\n",
       " │ Donna      ┆ Female ┆ 1982-11-26 ┆ 07:04:00      ┆ 82871  ┆ 17.999 ┆ false        ┆ Marketing    │\n",
       " │ Gloria     ┆ Female ┆ 2014-12-08 ┆ 05:08:00      ┆ 136709 ┆ 10.331 ┆ true         ┆ Finance      │\n",
       " │ Alice      ┆ Female ┆ 2004-10-05 ┆ 09:34:00      ┆ 47638  ┆ 11.209 ┆ false        ┆ Human        │\n",
       " │            ┆        ┆            ┆               ┆        ┆        ┆              ┆ Resources    │\n",
       " │ Robin      ┆ Female ┆ 1987-07-24 ┆ 13:35:00      ┆ 100765 ┆ 10.982 ┆ true         ┆ Client       │\n",
       " │            ┆        ┆            ┆               ┆        ┆        ┆              ┆ Services     │\n",
       " │ Rose       ┆ Female ┆ 2002-08-25 ┆ 05:12:00      ┆ 134505 ┆ 11.051 ┆ true         ┆ Marketing    │\n",
       " │ Tina       ┆ Female ┆ 1997-05-15 ┆ 15:53:00      ┆ 56450  ┆ 19.04  ┆ true         ┆ Engineering  │\n",
       " └────────────┴────────┴────────────┴───────────────┴────────┴────────┴──────────────┴──────────────┘,\n",
       " shape: (145, 8)\n",
       " ┌────────────┬────────┬────────────┬───────────────┬────────┬────────┬──────────────┬──────────────┐\n",
       " │ First Name ┆ Gender ┆ Start Date ┆ Last Login    ┆ Salary ┆ Bonus  ┆ Senior       ┆ Team         │\n",
       " │ ---        ┆ ---    ┆ ---        ┆ Time          ┆ ---    ┆ ---    ┆ Management   ┆ ---          │\n",
       " │ str        ┆ str    ┆ date       ┆ ---           ┆ i32    ┆ f64    ┆ ---          ┆ str          │\n",
       " │            ┆        ┆            ┆ time          ┆        ┆        ┆ bool         ┆              │\n",
       " ╞════════════╪════════╪════════════╪═══════════════╪════════╪════════╪══════════════╪══════════════╡\n",
       " │ Lois       ┆ null   ┆ 1995-04-22 ┆ 19:18:00      ┆ 64714  ┆ 4.934  ┆ true         ┆ Legal        │\n",
       " │ Joshua     ┆ null   ┆ 2012-03-08 ┆ 01:58:00      ┆ 90816  ┆ 18.816 ┆ true         ┆ Client       │\n",
       " │            ┆        ┆            ┆               ┆        ┆        ┆              ┆ Services     │\n",
       " │ Scott      ┆ null   ┆ 1991-07-11 ┆ 18:58:00      ┆ 122367 ┆ 5.218  ┆ false        ┆ Legal        │\n",
       " │ Joyce      ┆ null   ┆ 2005-02-20 ┆ 14:40:00      ┆ 88657  ┆ 12.752 ┆ false        ┆ Product      │\n",
       " │ Christine  ┆ null   ┆ 2015-06-28 ┆ 01:08:00      ┆ 66582  ┆ 11.308 ┆ true         ┆ Business     │\n",
       " │            ┆        ┆            ┆               ┆        ┆        ┆              ┆ Development  │\n",
       " │ Chris      ┆ null   ┆ 1980-01-24 ┆ 12:13:00      ┆ 113590 ┆ 3.055  ┆ false        ┆ Sales        │\n",
       " │ null       ┆ null   ┆ 2011-12-17 ┆ 08:29:00      ┆ 41126  ┆ 14.009 ┆ null         ┆ Sales        │\n",
       " │ Alan       ┆ null   ┆ 2014-03-03 ┆ 13:28:00      ┆ 40341  ┆ 17.578 ┆ true         ┆ Finance      │\n",
       " │ Paula      ┆ null   ┆ 2005-11-23 ┆ 14:01:00      ┆ 48866  ┆ 4.271  ┆ false        ┆ Distribution │\n",
       " │ Kathleen   ┆ null   ┆ 1990-04-11 ┆ 18:46:00      ┆ 77834  ┆ 18.771 ┆ false        ┆ Business     │\n",
       " │            ┆        ┆            ┆               ┆        ┆        ┆              ┆ Development  │\n",
       " │ Irene      ┆ null   ┆ 2015-07-14 ┆ 16:31:00      ┆ 100863 ┆ 4.382  ┆ true         ┆ Finance      │\n",
       " │ Todd       ┆ null   ┆ 2003-06-10 ┆ 14:26:00      ┆ 84692  ┆ 6.617  ┆ false        ┆ Client       │\n",
       " │            ┆        ┆            ┆               ┆        ┆        ┆              ┆ Services     │\n",
       " │ Gerald     ┆ null   ┆ 1995-03-17 ┆ 00:50:00      ┆ 137126 ┆ 15.602 ┆ true         ┆ Sales        │\n",
       " │ Annie      ┆ null   ┆ 2007-09-29 ┆ 00:11:00      ┆ 103495 ┆ 17.29  ┆ true         ┆ Business     │\n",
       " │            ┆        ┆            ┆               ┆        ┆        ┆              ┆ Development  │\n",
       " │ Janice     ┆ null   ┆ 1997-08-21 ┆ 05:12:00      ┆ 91719  ┆ 11.583 ┆ true         ┆ Legal        │\n",
       " │ James      ┆ null   ┆ 2005-01-26 ┆ 23:00:00      ┆ 128771 ┆ 8.309  ┆ false        ┆ null         │\n",
       " │ Virginia   ┆ null   ┆ 1994-05-07 ┆ 17:58:00      ┆ 111858 ┆ 1.601  ┆ true         ┆ Legal        │\n",
       " │ Laura      ┆ null   ┆ 2014-07-19 ┆ 21:23:00      ┆ 140371 ┆ 10.62  ┆ true         ┆ Marketing    │\n",
       " │ Russell    ┆ null   ┆ 1988-05-05 ┆ 07:57:00      ┆ 133980 ┆ 12.396 ┆ true         ┆ Legal        │\n",
       " │ Kathleen   ┆ null   ┆ 2016-05-09 ┆ 08:55:00      ┆ 119735 ┆ 18.74  ┆ false        ┆ Product      │\n",
       " │ Teresa     ┆ null   ┆ 2016-01-28 ┆ 10:55:00      ┆ 140013 ┆ 8.689  ┆ true         ┆ Engineering  │\n",
       " │ Nicole     ┆ null   ┆ 1982-03-05 ┆ 14:28:00      ┆ 122717 ┆ 12.452 ┆ false        ┆ Sales        │\n",
       " │ Patrick    ┆ null   ┆ 1991-07-14 ┆ 02:24:00      ┆ 124488 ┆ 14.837 ┆ true         ┆ Sales        │\n",
       " │ Brandon    ┆ null   ┆ 1997-11-03 ┆ 20:17:00      ┆ 121333 ┆ 15.295 ┆ false        ┆ Business     │\n",
       " │            ┆        ┆            ┆               ┆        ┆        ┆              ┆ Development  │\n",
       " │ Victor     ┆ null   ┆ 2011-03-10 ┆ 20:40:00      ┆ 84546  ┆ 10.489 ┆ true         ┆ Finance      │\n",
       " │ James      ┆ null   ┆ 1983-11-22 ┆ 22:52:00      ┆ 68501  ┆ 14.316 ┆ false        ┆ Marketing    │\n",
       " │ Marilyn    ┆ null   ┆ 1999-08-22 ┆ 09:09:00      ┆ 103386 ┆ 11.451 ┆ false        ┆ Distribution │\n",
       " │ Peter      ┆ null   ┆ 1987-09-03 ┆ 17:59:00      ┆ 38989  ┆ 7.017  ┆ true         ┆ Marketing    │\n",
       " │ null       ┆ null   ┆ 2007-09-18 ┆ 18:59:00      ┆ 40297  ┆ 6.185  ┆ null         ┆ Client       │\n",
       " │            ┆        ┆            ┆               ┆        ┆        ┆              ┆ Services     │\n",
       " │ Ruth       ┆ null   ┆ 1999-05-18 ┆ 05:56:00      ┆ 98233  ┆ 2.518  ┆ true         ┆ Distribution │\n",
       " │ Barbara    ┆ null   ┆ 2003-05-03 ┆ 19:32:00      ┆ 99326  ┆ 16.475 ┆ true         ┆ Legal        │\n",
       " │ Gregory    ┆ null   ┆ 1992-06-15 ┆ 05:08:00      ┆ 98865  ┆ 10.628 ┆ true         ┆ Finance      │\n",
       " │ George     ┆ null   ┆ 1988-02-24 ┆ 11:29:00      ┆ 38375  ┆ 8.999  ┆ false        ┆ Legal        │\n",
       " │ Lillian    ┆ null   ┆ 2016-05-12 ┆ 15:43:00      ┆ 64164  ┆ 17.612 ┆ false        ┆ Human        │\n",
       " │            ┆        ┆            ┆               ┆        ┆        ┆              ┆ Resources    │\n",
       " │ Phyllis    ┆ null   ┆ 1984-04-21 ┆ 19:05:00      ┆ 94088  ┆ 19.107 ┆ false        ┆ Distribution │\n",
       " │ Fred       ┆ null   ┆ 1984-12-02 ┆ 14:03:00      ┆ 59937  ┆ 12.045 ┆ true         ┆ Human        │\n",
       " │            ┆        ┆            ┆               ┆        ┆        ┆              ┆ Resources    │\n",
       " │ Brenda     ┆ null   ┆ 2010-07-27 ┆ 23:07:00      ┆ 106115 ┆ 3.742  ┆ true         ┆ Product      │\n",
       " │ Randy      ┆ null   ┆ 1986-02-06 ┆ 15:04:00      ┆ 133943 ┆ 8.94   ┆ true         ┆ Sales        │\n",
       " │ Sharon     ┆ null   ┆ 1990-03-01 ┆ 03:46:00      ┆ 83658  ┆ 6.513  ┆ false        ┆ Business     │\n",
       " │            ┆        ┆            ┆               ┆        ┆        ┆              ┆ Development  │\n",
       " │ null       ┆ null   ┆ 2003-04-28 ┆ 03:01:00      ┆ 113732 ┆ 10.391 ┆ null         ┆ Sales        │\n",
       " │ Sarah      ┆ null   ┆ 1985-11-21 ┆ 13:08:00      ┆ 58295  ┆ 14.603 ┆ true         ┆ Engineering  │\n",
       " │ Frank      ┆ null   ┆ 2001-11-20 ┆ 10:18:00      ┆ 58563  ┆ 12.062 ┆ true         ┆ Marketing    │\n",
       " │ Brenda     ┆ null   ┆ 1991-05-29 ┆ 06:32:00      ┆ 82439  ┆ 19.062 ┆ false        ┆ Sales        │\n",
       " │ Carl       ┆ null   ┆ 2014-02-07 ┆ 03:57:00      ┆ 125104 ┆ 12.345 ┆ false        ┆ Client       │\n",
       " │            ┆        ┆            ┆               ┆        ┆        ┆              ┆ Services     │\n",
       " │ Walter     ┆ null   ┆ 1999-12-21 ┆ 22:33:00      ┆ 66757  ┆ 18.099 ┆ false        ┆ Distribution │\n",
       " │ Jeremy     ┆ null   ┆ 1996-11-10 ┆ 13:49:00      ┆ 55394  ┆ 3.18   ┆ true         ┆ Sales        │\n",
       " │ Patrick    ┆ null   ┆ 2004-08-30 ┆ 11:43:00      ┆ 137314 ┆ 4.542  ┆ true         ┆ Marketing    │\n",
       " │ Joan       ┆ null   ┆ 1980-07-25 ┆ 12:22:00      ┆ 38712  ┆ 3.657  ┆ false        ┆ Client       │\n",
       " │            ┆        ┆            ┆               ┆        ┆        ┆              ┆ Services     │\n",
       " │ Ernest     ┆ null   ┆ 2002-01-18 ┆ 01:51:00      ┆ 72145  ┆ 13.448 ┆ true         ┆ Finance      │\n",
       " │ Bobby      ┆ null   ┆ 1995-09-01 ┆ 14:09:00      ┆ 108127 ┆ 15.858 ┆ false        ┆ Client       │\n",
       " │            ┆        ┆            ┆               ┆        ┆        ┆              ┆ Services     │\n",
       " │ …          ┆ …      ┆ …          ┆ …             ┆ …      ┆ …      ┆ …            ┆ …            │\n",
       " │ Mary       ┆ null   ┆ 1986-12-24 ┆ 19:02:00      ┆ 100341 ┆ 6.662  ┆ false        ┆ Distribution │\n",
       " │ Harold     ┆ null   ┆ 2004-02-04 ┆ 11:02:00      ┆ 79459  ┆ 7.776  ┆ true         ┆ Business     │\n",
       " │            ┆        ┆            ┆               ┆        ┆        ┆              ┆ Development  │\n",
       " │ Douglas    ┆ null   ┆ 2009-02-04 ┆ 02:03:00      ┆ 104496 ┆ 14.771 ┆ true         ┆ Marketing    │\n",
       " │ Joseph     ┆ null   ┆ 1982-03-28 ┆ 13:05:00      ┆ 86564  ┆ 11.879 ┆ true         ┆ null         │\n",
       " │ Robin      ┆ null   ┆ 2005-12-20 ┆ 14:42:00      ┆ 41230  ┆ 6.611  ┆ true         ┆ Distribution │\n",
       " │ Paul       ┆ null   ┆ 2011-02-18 ┆ 12:23:00      ┆ 91462  ┆ 18.704 ┆ false        ┆ Finance      │\n",
       " │ Julie      ┆ null   ┆ 1980-05-08 ┆ 06:31:00      ┆ 50529  ┆ 17.263 ┆ false        ┆ Finance      │\n",
       " │ Barbara    ┆ null   ┆ 2002-08-02 ┆ 05:13:00      ┆ 43312  ┆ 8.218  ┆ true         ┆ Legal        │\n",
       " │ Amy        ┆ null   ┆ 1984-05-19 ┆ 11:47:00      ┆ 102839 ┆ 10.385 ┆ true         ┆ Distribution │\n",
       " │ Robin      ┆ null   ┆ 2005-09-16 ┆ 01:26:00      ┆ 93201  ┆ 11.712 ┆ true         ┆ Legal        │\n",
       " │ Brandon    ┆ null   ┆ 2004-05-31 ┆ 15:36:00      ┆ 73587  ┆ 9.769  ┆ true         ┆ Human        │\n",
       " │            ┆        ┆            ┆               ┆        ┆        ┆              ┆ Resources    │\n",
       " │ Martin     ┆ null   ┆ 2001-02-06 ┆ 04:17:00      ┆ 123963 ┆ 15.745 ┆ true         ┆ Engineering  │\n",
       " │ Jason      ┆ null   ┆ 1988-04-15 ┆ 20:16:00      ┆ 97480  ┆ 11.518 ┆ false        ┆ Human        │\n",
       " │            ┆        ┆            ┆               ┆        ┆        ┆              ┆ Resources    │\n",
       " │ Brandon    ┆ null   ┆ 1992-09-05 ┆ 02:32:00      ┆ 144187 ┆ 11.416 ┆ true         ┆ Legal        │\n",
       " │ Russell    ┆ null   ┆ 2009-05-09 ┆ 11:59:00      ┆ 149456 ┆ 3.533  ┆ false        ┆ Marketing    │\n",
       " │ Judy       ┆ null   ┆ 2011-07-15 ┆ 15:38:00      ┆ 46829  ┆ 5.19   ┆ true         ┆ Finance      │\n",
       " │ Janet      ┆ null   ┆ 1986-01-25 ┆ 05:48:00      ┆ 85789  ┆ 9.712  ┆ false        ┆ Legal        │\n",
       " │ Louis      ┆ null   ┆ 1983-02-05 ┆ 18:39:00      ┆ 145274 ┆ 16.379 ┆ false        ┆ Product      │\n",
       " │ Carl       ┆ null   ┆ 2007-08-18 ┆ 08:01:00      ┆ 98295  ┆ 7.617  ┆ true         ┆ Legal        │\n",
       " │ Alice      ┆ null   ┆ 1995-04-23 ┆ 06:35:00      ┆ 148339 ┆ 11.479 ┆ true         ┆ Finance      │\n",
       " │ Samuel     ┆ null   ┆ 2002-10-07 ┆ 03:08:00      ┆ 141305 ┆ 9.849  ┆ true         ┆ Marketing    │\n",
       " │ null       ┆ null   ┆ 1991-04-15 ┆ 03:39:00      ┆ 132505 ┆ 13.592 ┆ null         ┆ Product      │\n",
       " │ Michelle   ┆ null   ┆ 2012-03-31 ┆ 06:28:00      ┆ 124441 ┆ 16.353 ┆ false        ┆ Business     │\n",
       " │            ┆        ┆            ┆               ┆        ┆        ┆              ┆ Development  │\n",
       " │ Anne       ┆ null   ┆ 1996-04-18 ┆ 23:57:00      ┆ 122762 ┆ 9.564  ┆ false        ┆ Distribution │\n",
       " │ Theresa    ┆ null   ┆ 1995-10-07 ┆ 10:16:00      ┆ 42025  ┆ 3.319  ┆ true         ┆ Human        │\n",
       " │            ┆        ┆            ┆               ┆        ┆        ┆              ┆ Resources    │\n",
       " │ Maria      ┆ null   ┆ 1986-01-18 ┆ 20:36:00      ┆ 106562 ┆ 4.0    ┆ false        ┆ Human        │\n",
       " │            ┆        ┆            ┆               ┆        ┆        ┆              ┆ Resources    │\n",
       " │ Robert     ┆ null   ┆ 2000-12-04 ┆ 01:20:00      ┆ 69267  ┆ 5.89   ┆ true         ┆ Sales        │\n",
       " │ null       ┆ null   ┆ 1988-08-01 ┆ 01:35:00      ┆ 87103  ┆ 5.665  ┆ null         ┆ null         │\n",
       " │ Jesse      ┆ null   ┆ 2014-07-16 ┆ 02:24:00      ┆ 98811  ┆ 7.487  ┆ false        ┆ Legal        │\n",
       " │ Carl       ┆ null   ┆ 1982-02-11 ┆ 07:54:00      ┆ 49325  ┆ 2.071  ┆ true         ┆ Business     │\n",
       " │            ┆        ┆            ┆               ┆        ┆        ┆              ┆ Development  │\n",
       " │ Maria      ┆ null   ┆ 1985-06-19 ┆ 01:48:00      ┆ 148857 ┆ 8.738  ┆ false        ┆ Legal        │\n",
       " │ Nicole     ┆ null   ┆ 1981-05-02 ┆ 12:03:00      ┆ 41449  ┆ 4.707  ┆ false        ┆ Finance      │\n",
       " │ Phillip    ┆ null   ┆ 2003-10-20 ┆ 11:09:00      ┆ 89700  ┆ 2.277  ┆ true         ┆ null         │\n",
       " │ Bonnie     ┆ null   ┆ 2006-01-18 ┆ 18:52:00      ┆ 108946 ┆ 12.211 ┆ false        ┆ Finance      │\n",
       " │ Cynthia    ┆ null   ┆ 1996-11-19 ┆ 22:40:00      ┆ 107816 ┆ 18.751 ┆ false        ┆ Marketing    │\n",
       " │ Terry      ┆ null   ┆ 1992-09-11 ┆ 16:41:00      ┆ 41238  ┆ 8.219  ┆ false        ┆ Marketing    │\n",
       " │ Robert     ┆ null   ┆ 2007-05-25 ┆ 03:17:00      ┆ 90998  ┆ 8.382  ┆ false        ┆ Finance      │\n",
       " │ Sara       ┆ null   ┆ 2014-11-18 ┆ 14:47:00      ┆ 135990 ┆ 14.344 ┆ true         ┆ Distribution │\n",
       " │ Janice     ┆ null   ┆ 1991-11-19 ┆ 18:02:00      ┆ 139791 ┆ 16.968 ┆ false        ┆ Business     │\n",
       " │            ┆        ┆            ┆               ┆        ┆        ┆              ┆ Development  │\n",
       " │ Kenneth    ┆ null   ┆ 1994-02-28 ┆ 10:10:00      ┆ 95296  ┆ 10.146 ┆ false        ┆ Finance      │\n",
       " │ Irene      ┆ null   ┆ 1991-02-28 ┆ 22:23:00      ┆ 135369 ┆ 4.38   ┆ false        ┆ Business     │\n",
       " │            ┆        ┆            ┆               ┆        ┆        ┆              ┆ Development  │\n",
       " │ Aaron      ┆ null   ┆ 1986-01-22 ┆ 19:39:00      ┆ 63126  ┆ 18.424 ┆ false        ┆ Client       │\n",
       " │            ┆        ┆            ┆               ┆        ┆        ┆              ┆ Services     │\n",
       " │ Mark       ┆ null   ┆ 2006-09-09 ┆ 12:27:00      ┆ 44836  ┆ 2.657  ┆ false        ┆ Client       │\n",
       " │            ┆        ┆            ┆               ┆        ┆        ┆              ┆ Services     │\n",
       " │ Ralph      ┆ null   ┆ 1995-07-28 ┆ 18:53:00      ┆ 70635  ┆ 2.147  ┆ false        ┆ Client       │\n",
       " │            ┆        ┆            ┆               ┆        ┆        ┆              ┆ Services     │\n",
       " │ Gerald     ┆ null   ┆ 1989-04-15 ┆ 12:44:00      ┆ 93712  ┆ 17.426 ┆ true         ┆ Distribution │\n",
       " │ Antonio    ┆ null   ┆ 1989-06-18 ┆ 21:37:00      ┆ 103050 ┆ 3.05   ┆ false        ┆ Legal        │\n",
       " │ Victor     ┆ null   ┆ 2006-07-28 ┆ 14:49:00      ┆ 76381  ┆ 11.159 ┆ true         ┆ Sales        │\n",
       " │ Stephen    ┆ null   ┆ 1983-07-10 ┆ 20:10:00      ┆ 85668  ┆ 1.909  ┆ false        ┆ Legal        │\n",
       " │ Justin     ┆ null   ┆ 1991-02-10 ┆ 16:58:00      ┆ 38344  ┆ 3.794  ┆ false        ┆ Legal        │\n",
       " │ Henry      ┆ null   ┆ 2014-11-23 ┆ 06:09:00      ┆ 132483 ┆ 16.655 ┆ false        ┆ Distribution │\n",
       " └────────────┴────────┴────────────┴───────────────┴────────┴────────┴──────────────┴──────────────┘]"
      ]
     },
     "execution_count": 78,
     "metadata": {},
     "output_type": "execute_result"
    }
   ],
   "source": [
    "# 특정 컬럼을 기준으로 파티션 나누어 출력\n",
    "\n",
    "df.partition_by('Gender')"
   ]
  },
  {
   "cell_type": "code",
   "execution_count": null,
   "metadata": {},
   "outputs": [],
   "source": [
    "└── battle\n",
    "    └── yyyy=2024\n",
    "        └── mm=10\n",
    "            ├── dd=01\n",
    "            │   └── battle.parquet\n",
    "            ├── dd=02\n",
    "            │   └── battle.parquet\n",
    "            ├── dd=03\n",
    "            │   └── battle.parquet\n",
    "            └── dd=04\n",
    "                └── battle.parquet"
   ]
  },
  {
   "cell_type": "code",
   "execution_count": 82,
   "metadata": {},
   "outputs": [
    {
     "data": {
      "text/html": [
       "<div><style>\n",
       ".dataframe > thead > tr,\n",
       ".dataframe > tbody > tr {\n",
       "  text-align: right;\n",
       "  white-space: pre-wrap;\n",
       "}\n",
       "</style>\n",
       "<small>shape: (5, 10)</small><table border=\"1\" class=\"dataframe\"><thead><tr><th>id</th><th>player1_id</th><th>player2_id</th><th>winner_id</th><th>battle_date</th><th>battle_datetime</th><th>battle_timestamp</th><th>yyyy</th><th>mm</th><th>dd</th></tr><tr><td>i64</td><td>i64</td><td>i64</td><td>str</td><td>str</td><td>str</td><td>i64</td><td>i64</td><td>i64</td><td>i64</td></tr></thead><tbody><tr><td>51</td><td>6</td><td>90</td><td>&quot;90&quot;</td><td>&quot;2024-10-01&quot;</td><td>&quot;2024-10-01 17:18:25&quot;</td><td>1727803105</td><td>2024</td><td>10</td><td>1</td></tr><tr><td>118</td><td>40</td><td>51</td><td>&quot;&quot;</td><td>&quot;2024-10-01&quot;</td><td>&quot;2024-10-01 11:12:49&quot;</td><td>1727781169</td><td>2024</td><td>10</td><td>1</td></tr><tr><td>145</td><td>32</td><td>41</td><td>&quot;32&quot;</td><td>&quot;2024-10-01&quot;</td><td>&quot;2024-10-01 22:43:11&quot;</td><td>1727822591</td><td>2024</td><td>10</td><td>1</td></tr><tr><td>184</td><td>20</td><td>84</td><td>&quot;20&quot;</td><td>&quot;2024-10-01&quot;</td><td>&quot;2024-10-01 18:04:00&quot;</td><td>1727805840</td><td>2024</td><td>10</td><td>1</td></tr><tr><td>241</td><td>19</td><td>82</td><td>&quot;&quot;</td><td>&quot;2024-10-01&quot;</td><td>&quot;2024-10-01 17:14:38&quot;</td><td>1727802878</td><td>2024</td><td>10</td><td>1</td></tr></tbody></table></div>"
      ],
      "text/plain": [
       "shape: (5, 10)\n",
       "┌─────┬────────────┬────────────┬───────────┬───┬──────────────────┬──────┬─────┬─────┐\n",
       "│ id  ┆ player1_id ┆ player2_id ┆ winner_id ┆ … ┆ battle_timestamp ┆ yyyy ┆ mm  ┆ dd  │\n",
       "│ --- ┆ ---        ┆ ---        ┆ ---       ┆   ┆ ---              ┆ ---  ┆ --- ┆ --- │\n",
       "│ i64 ┆ i64        ┆ i64        ┆ str       ┆   ┆ i64              ┆ i64  ┆ i64 ┆ i64 │\n",
       "╞═════╪════════════╪════════════╪═══════════╪═══╪══════════════════╪══════╪═════╪═════╡\n",
       "│ 51  ┆ 6          ┆ 90         ┆ 90        ┆ … ┆ 1727803105       ┆ 2024 ┆ 10  ┆ 1   │\n",
       "│ 118 ┆ 40         ┆ 51         ┆           ┆ … ┆ 1727781169       ┆ 2024 ┆ 10  ┆ 1   │\n",
       "│ 145 ┆ 32         ┆ 41         ┆ 32        ┆ … ┆ 1727822591       ┆ 2024 ┆ 10  ┆ 1   │\n",
       "│ 184 ┆ 20         ┆ 84         ┆ 20        ┆ … ┆ 1727805840       ┆ 2024 ┆ 10  ┆ 1   │\n",
       "│ 241 ┆ 19         ┆ 82         ┆           ┆ … ┆ 1727802878       ┆ 2024 ┆ 10  ┆ 1   │\n",
       "└─────┴────────────┴────────────┴───────────┴───┴──────────────────┴──────┴─────┴─────┘"
      ]
     },
     "execution_count": 82,
     "metadata": {},
     "output_type": "execute_result"
    }
   ],
   "source": [
    "battle = pl.read_parquet(\n",
    "    source='../dataset/parquet_partition/battle/',\n",
    "    hive_partitioning=True\n",
    "    )\n",
    "\n",
    "battle.head()"
   ]
  },
  {
   "cell_type": "code",
   "execution_count": 83,
   "metadata": {},
   "outputs": [],
   "source": [
    "battle.write_parquet(\n",
    "    file=\"test_path\",\n",
    "    partition_by=['yyyy','mm','dd']\n",
    "    )"
   ]
  },
  {
   "cell_type": "code",
   "execution_count": 84,
   "metadata": {},
   "outputs": [],
   "source": [
    "import pandas as pd\n",
    "\n",
    "aaa = battle.to_pandas()"
   ]
  },
  {
   "cell_type": "code",
   "execution_count": null,
   "metadata": {},
   "outputs": [],
   "source": [
    "aaa.to_parquet(\n",
    "    \"hahaha\",\n",
    "    partition_cols=['yyyy','mm','dd']\n",
    "    )"
   ]
  }
 ],
 "metadata": {
  "kernelspec": {
   "display_name": "Pyspark",
   "language": "python",
   "name": "python3"
  },
  "language_info": {
   "codemirror_mode": {
    "name": "ipython",
    "version": 3
   },
   "file_extension": ".py",
   "mimetype": "text/x-python",
   "name": "python",
   "nbconvert_exporter": "python",
   "pygments_lexer": "ipython3",
   "version": "3.10.4"
  }
 },
 "nbformat": 4,
 "nbformat_minor": 2
}
