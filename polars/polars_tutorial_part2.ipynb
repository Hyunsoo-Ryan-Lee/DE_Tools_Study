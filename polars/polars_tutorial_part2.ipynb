{
 "cells": [
  {
   "cell_type": "markdown",
   "metadata": {},
   "source": [
    "## 1. SQL"
   ]
  },
  {
   "cell_type": "code",
   "execution_count": null,
   "metadata": {},
   "outputs": [],
   "source": [
    "https://duckdb.org/2023/04/14/h2oai.html"
   ]
  },
  {
   "cell_type": "code",
   "execution_count": 2,
   "metadata": {},
   "outputs": [
    {
     "data": {
      "text/plain": [
       "polars.config.Config"
      ]
     },
     "execution_count": 2,
     "metadata": {},
     "output_type": "execute_result"
    }
   ],
   "source": [
    "import polars as pl\n",
    "\n",
    "# 최대 100행까지 잘리지 않고 출력되도록 설정\n",
    "cfg = pl.Config()\n",
    "cfg.set_tbl_rows(100)"
   ]
  },
  {
   "cell_type": "code",
   "execution_count": 3,
   "metadata": {},
   "outputs": [
    {
     "data": {
      "text/html": [
       "<div><style>\n",
       ".dataframe > thead > tr,\n",
       ".dataframe > tbody > tr {\n",
       "  text-align: right;\n",
       "  white-space: pre-wrap;\n",
       "}\n",
       "</style>\n",
       "<small>shape: (5, 8)</small><table border=\"1\" class=\"dataframe\"><thead><tr><th>First Name</th><th>Gender</th><th>Start Date</th><th>Last Login Time</th><th>Salary</th><th>Bonus</th><th>Senior Management</th><th>Team</th></tr><tr><td>str</td><td>str</td><td>str</td><td>str</td><td>i64</td><td>f64</td><td>bool</td><td>str</td></tr></thead><tbody><tr><td>&quot;Douglas&quot;</td><td>&quot;Male&quot;</td><td>&quot;8/6/1993&quot;</td><td>&quot;12:42 PM&quot;</td><td>97308</td><td>6.945</td><td>true</td><td>&quot;Marketing&quot;</td></tr><tr><td>&quot;Thomas&quot;</td><td>&quot;Male&quot;</td><td>&quot;3/31/1996&quot;</td><td>&quot;6:53 AM&quot;</td><td>61933</td><td>4.17</td><td>true</td><td>null</td></tr><tr><td>&quot;Maria&quot;</td><td>&quot;Female&quot;</td><td>&quot;4/23/1993&quot;</td><td>&quot;11:17 AM&quot;</td><td>130590</td><td>11.858</td><td>false</td><td>&quot;Finance&quot;</td></tr><tr><td>&quot;Jerry&quot;</td><td>&quot;Male&quot;</td><td>&quot;3/4/2005&quot;</td><td>&quot;1:00 PM&quot;</td><td>138705</td><td>9.34</td><td>true</td><td>&quot;Finance&quot;</td></tr><tr><td>&quot;Larry&quot;</td><td>&quot;Male&quot;</td><td>&quot;1/24/1998&quot;</td><td>&quot;4:47 PM&quot;</td><td>101004</td><td>1.389</td><td>true</td><td>&quot;Client Services&quot;</td></tr></tbody></table></div>"
      ],
      "text/plain": [
       "shape: (5, 8)\n",
       "┌────────────┬────────┬────────────┬────────────┬────────┬────────┬────────────────────┬───────────┐\n",
       "│ First Name ┆ Gender ┆ Start Date ┆ Last Login ┆ Salary ┆ Bonus  ┆ Senior Management  ┆ Team      │\n",
       "│ ---        ┆ ---    ┆ ---        ┆ Time       ┆ ---    ┆ ---    ┆ ---                ┆ ---       │\n",
       "│ str        ┆ str    ┆ str        ┆ ---        ┆ i64    ┆ f64    ┆ bool               ┆ str       │\n",
       "│            ┆        ┆            ┆ str        ┆        ┆        ┆                    ┆           │\n",
       "╞════════════╪════════╪════════════╪════════════╪════════╪════════╪════════════════════╪═══════════╡\n",
       "│ Douglas    ┆ Male   ┆ 8/6/1993   ┆ 12:42 PM   ┆ 97308  ┆ 6.945  ┆ true               ┆ Marketing │\n",
       "│ Thomas     ┆ Male   ┆ 3/31/1996  ┆ 6:53 AM    ┆ 61933  ┆ 4.17   ┆ true               ┆ null      │\n",
       "│ Maria      ┆ Female ┆ 4/23/1993  ┆ 11:17 AM   ┆ 130590 ┆ 11.858 ┆ false              ┆ Finance   │\n",
       "│ Jerry      ┆ Male   ┆ 3/4/2005   ┆ 1:00 PM    ┆ 138705 ┆ 9.34   ┆ true               ┆ Finance   │\n",
       "│ Larry      ┆ Male   ┆ 1/24/1998  ┆ 4:47 PM    ┆ 101004 ┆ 1.389  ┆ true               ┆ Client    │\n",
       "│            ┆        ┆            ┆            ┆        ┆        ┆                    ┆ Services  │\n",
       "└────────────┴────────┴────────────┴────────────┴────────┴────────┴────────────────────┴───────────┘"
      ]
     },
     "execution_count": 3,
     "metadata": {},
     "output_type": "execute_result"
    }
   ],
   "source": [
    "df = pl.read_csv(\"../dataset/emp.csv\")\n",
    "\n",
    "df.head()"
   ]
  },
  {
   "cell_type": "code",
   "execution_count": 65,
   "metadata": {},
   "outputs": [
    {
     "data": {
      "text/html": [
       "<div><style>\n",
       ".dataframe > thead > tr,\n",
       ".dataframe > tbody > tr {\n",
       "  text-align: right;\n",
       "  white-space: pre-wrap;\n",
       "}\n",
       "</style>\n",
       "<small>shape: (5, 8)</small><table border=\"1\" class=\"dataframe\"><thead><tr><th>First Name</th><th>Gender</th><th>Start Date</th><th>Last Login Time</th><th>Salary</th><th>Bonus</th><th>Senior Management</th><th>Team</th></tr><tr><td>str</td><td>str</td><td>date</td><td>time</td><td>i32</td><td>f64</td><td>bool</td><td>str</td></tr></thead><tbody><tr><td>&quot;Douglas&quot;</td><td>&quot;Male&quot;</td><td>1993-08-06</td><td>12:42:00</td><td>97308</td><td>6.945</td><td>true</td><td>&quot;Marketing&quot;</td></tr><tr><td>&quot;Thomas&quot;</td><td>&quot;Male&quot;</td><td>1996-03-31</td><td>06:53:00</td><td>61933</td><td>4.17</td><td>true</td><td>null</td></tr><tr><td>&quot;Maria&quot;</td><td>&quot;Female&quot;</td><td>1993-04-23</td><td>11:17:00</td><td>130590</td><td>11.858</td><td>false</td><td>&quot;Finance&quot;</td></tr><tr><td>&quot;Jerry&quot;</td><td>&quot;Male&quot;</td><td>2005-03-04</td><td>13:00:00</td><td>138705</td><td>9.34</td><td>true</td><td>&quot;Finance&quot;</td></tr><tr><td>&quot;Larry&quot;</td><td>&quot;Male&quot;</td><td>1998-01-24</td><td>16:47:00</td><td>101004</td><td>1.389</td><td>true</td><td>&quot;Client Services&quot;</td></tr></tbody></table></div>"
      ],
      "text/plain": [
       "shape: (5, 8)\n",
       "┌────────────┬────────┬────────────┬────────────┬────────┬────────┬────────────────────┬───────────┐\n",
       "│ First Name ┆ Gender ┆ Start Date ┆ Last Login ┆ Salary ┆ Bonus  ┆ Senior Management  ┆ Team      │\n",
       "│ ---        ┆ ---    ┆ ---        ┆ Time       ┆ ---    ┆ ---    ┆ ---                ┆ ---       │\n",
       "│ str        ┆ str    ┆ date       ┆ ---        ┆ i32    ┆ f64    ┆ bool               ┆ str       │\n",
       "│            ┆        ┆            ┆ time       ┆        ┆        ┆                    ┆           │\n",
       "╞════════════╪════════╪════════════╪════════════╪════════╪════════╪════════════════════╪═══════════╡\n",
       "│ Douglas    ┆ Male   ┆ 1993-08-06 ┆ 12:42:00   ┆ 97308  ┆ 6.945  ┆ true               ┆ Marketing │\n",
       "│ Thomas     ┆ Male   ┆ 1996-03-31 ┆ 06:53:00   ┆ 61933  ┆ 4.17   ┆ true               ┆ null      │\n",
       "│ Maria      ┆ Female ┆ 1993-04-23 ┆ 11:17:00   ┆ 130590 ┆ 11.858 ┆ false              ┆ Finance   │\n",
       "│ Jerry      ┆ Male   ┆ 2005-03-04 ┆ 13:00:00   ┆ 138705 ┆ 9.34   ┆ true               ┆ Finance   │\n",
       "│ Larry      ┆ Male   ┆ 1998-01-24 ┆ 16:47:00   ┆ 101004 ┆ 1.389  ┆ true               ┆ Client    │\n",
       "│            ┆        ┆            ┆            ┆        ┆        ┆                    ┆ Services  │\n",
       "└────────────┴────────┴────────────┴────────────┴────────┴────────┴────────────────────┴───────────┘"
      ]
     },
     "execution_count": 65,
     "metadata": {},
     "output_type": "execute_result"
    }
   ],
   "source": [
    "df.head()"
   ]
  },
  {
   "cell_type": "code",
   "execution_count": 68,
   "metadata": {},
   "outputs": [
    {
     "data": {
      "text/html": [
       "<div><style>\n",
       ".dataframe > thead > tr,\n",
       ".dataframe > tbody > tr {\n",
       "  text-align: right;\n",
       "  white-space: pre-wrap;\n",
       "}\n",
       "</style>\n",
       "<small>shape: (5, 8)</small><table border=\"1\" class=\"dataframe\"><thead><tr><th>First Name</th><th>Gender</th><th>Start Date</th><th>Last Login Time</th><th>Salary</th><th>Bonus</th><th>Senior Management</th><th>Team</th></tr><tr><td>str</td><td>str</td><td>date</td><td>time</td><td>i32</td><td>f64</td><td>bool</td><td>str</td></tr></thead><tbody><tr><td>&quot;Douglas&quot;</td><td>&quot;Male&quot;</td><td>1993-08-06</td><td>12:42:00</td><td>97308</td><td>6.945</td><td>true</td><td>&quot;Marketing&quot;</td></tr><tr><td>&quot;Thomas&quot;</td><td>&quot;Male&quot;</td><td>1996-03-31</td><td>06:53:00</td><td>61933</td><td>4.17</td><td>true</td><td>null</td></tr><tr><td>&quot;Maria&quot;</td><td>&quot;Female&quot;</td><td>1993-04-23</td><td>11:17:00</td><td>130590</td><td>11.858</td><td>false</td><td>&quot;Finance&quot;</td></tr><tr><td>&quot;Jerry&quot;</td><td>&quot;Male&quot;</td><td>2005-03-04</td><td>13:00:00</td><td>138705</td><td>9.34</td><td>true</td><td>&quot;Finance&quot;</td></tr><tr><td>&quot;Larry&quot;</td><td>&quot;Male&quot;</td><td>1998-01-24</td><td>16:47:00</td><td>101004</td><td>1.389</td><td>true</td><td>&quot;Client Services&quot;</td></tr></tbody></table></div>"
      ],
      "text/plain": [
       "shape: (5, 8)\n",
       "┌────────────┬────────┬────────────┬────────────┬────────┬────────┬────────────────────┬───────────┐\n",
       "│ First Name ┆ Gender ┆ Start Date ┆ Last Login ┆ Salary ┆ Bonus  ┆ Senior Management  ┆ Team      │\n",
       "│ ---        ┆ ---    ┆ ---        ┆ Time       ┆ ---    ┆ ---    ┆ ---                ┆ ---       │\n",
       "│ str        ┆ str    ┆ date       ┆ ---        ┆ i32    ┆ f64    ┆ bool               ┆ str       │\n",
       "│            ┆        ┆            ┆ time       ┆        ┆        ┆                    ┆           │\n",
       "╞════════════╪════════╪════════════╪════════════╪════════╪════════╪════════════════════╪═══════════╡\n",
       "│ Douglas    ┆ Male   ┆ 1993-08-06 ┆ 12:42:00   ┆ 97308  ┆ 6.945  ┆ true               ┆ Marketing │\n",
       "│ Thomas     ┆ Male   ┆ 1996-03-31 ┆ 06:53:00   ┆ 61933  ┆ 4.17   ┆ true               ┆ null      │\n",
       "│ Maria      ┆ Female ┆ 1993-04-23 ┆ 11:17:00   ┆ 130590 ┆ 11.858 ┆ false              ┆ Finance   │\n",
       "│ Jerry      ┆ Male   ┆ 2005-03-04 ┆ 13:00:00   ┆ 138705 ┆ 9.34   ┆ true               ┆ Finance   │\n",
       "│ Larry      ┆ Male   ┆ 1998-01-24 ┆ 16:47:00   ┆ 101004 ┆ 1.389  ┆ true               ┆ Client    │\n",
       "│            ┆        ┆            ┆            ┆        ┆        ┆                    ┆ Services  │\n",
       "└────────────┴────────┴────────────┴────────────┴────────┴────────┴────────────────────┴───────────┘"
      ]
     },
     "execution_count": 68,
     "metadata": {},
     "output_type": "execute_result"
    }
   ],
   "source": [
    "# dataframe에 대해 SQL로 조회하기\n",
    "\n",
    "df.sql(\"SELECT * FROM self LIMIT 5\")\n",
    "\n",
    "pl.sql(\"SELECT * FROM df LIMIT 5\").collect()"
   ]
  },
  {
   "cell_type": "code",
   "execution_count": 72,
   "metadata": {},
   "outputs": [],
   "source": [
    "# SQLContext 객체 생성\n",
    "\n",
    "ctx = pl.SQLContext(\n",
    "    register_globals=False, # 해당 메모리에 있는 dataframe을 다 테이블로 등록하는 설정\n",
    "    eager=True # 지연 평가(lazy evaluation) 대신 즉시 실행(eager evaluation)을 사용할지 여부를 설정\n",
    ")"
   ]
  },
  {
   "cell_type": "code",
   "execution_count": 73,
   "metadata": {},
   "outputs": [
    {
     "data": {
      "text/plain": [
       "[]"
      ]
     },
     "execution_count": 73,
     "metadata": {},
     "output_type": "execute_result"
    }
   ],
   "source": [
    "# 해당 객체 안에 있는 테이블 확인\n",
    "\n",
    "ctx.tables()"
   ]
  },
  {
   "cell_type": "code",
   "execution_count": 74,
   "metadata": {},
   "outputs": [
    {
     "data": {
      "text/plain": [
       "['pokemon', 'trainer_pokemon']"
      ]
     },
     "execution_count": 74,
     "metadata": {},
     "output_type": "execute_result"
    }
   ],
   "source": [
    "# 객체에 테이블 등록\n",
    "\n",
    "tp = pl.read_csv(\"../dataset/trainer_pokemon.csv\")\n",
    "pk = pl.read_csv(\"../dataset/pokemon.csv\")\n",
    "\n",
    "ctx.register_many(\n",
    "    trainer_pokemon=tp, # 테이블 이름 : DF 이름\n",
    "    pokemon=pk\n",
    ")\n",
    "\n",
    "ctx.tables()"
   ]
  },
  {
   "cell_type": "code",
   "execution_count": null,
   "metadata": {},
   "outputs": [],
   "source": []
  },
  {
   "cell_type": "code",
   "execution_count": 75,
   "metadata": {},
   "outputs": [
    {
     "data": {
      "text/html": [
       "<div><style>\n",
       ".dataframe > thead > tr,\n",
       ".dataframe > tbody > tr {\n",
       "  text-align: right;\n",
       "  white-space: pre-wrap;\n",
       "}\n",
       "</style>\n",
       "<small>shape: (17, 2)</small><table border=\"1\" class=\"dataframe\"><thead><tr><th>type1</th><th>cnt</th></tr><tr><td>str</td><td>u32</td></tr></thead><tbody><tr><td>&quot;Water&quot;</td><td>46</td></tr><tr><td>&quot;Normal&quot;</td><td>37</td></tr><tr><td>&quot;Bug&quot;</td><td>22</td></tr><tr><td>&quot;Grass&quot;</td><td>21</td></tr><tr><td>&quot;Fire&quot;</td><td>20</td></tr><tr><td>&quot;Psychic&quot;</td><td>15</td></tr><tr><td>&quot;Electric&quot;</td><td>15</td></tr><tr><td>&quot;Poison&quot;</td><td>15</td></tr><tr><td>&quot;Rock&quot;</td><td>13</td></tr><tr><td>&quot;Ground&quot;</td><td>11</td></tr><tr><td>&quot;Fighting&quot;</td><td>9</td></tr><tr><td>&quot;Fairy&quot;</td><td>7</td></tr><tr><td>&quot;Ice&quot;</td><td>6</td></tr><tr><td>&quot;Dark&quot;</td><td>5</td></tr><tr><td>&quot;Ghost&quot;</td><td>4</td></tr><tr><td>&quot;Dragon&quot;</td><td>3</td></tr><tr><td>&quot;Steel&quot;</td><td>2</td></tr></tbody></table></div>"
      ],
      "text/plain": [
       "shape: (17, 2)\n",
       "┌──────────┬─────┐\n",
       "│ type1    ┆ cnt │\n",
       "│ ---      ┆ --- │\n",
       "│ str      ┆ u32 │\n",
       "╞══════════╪═════╡\n",
       "│ Water    ┆ 46  │\n",
       "│ Normal   ┆ 37  │\n",
       "│ Bug      ┆ 22  │\n",
       "│ Grass    ┆ 21  │\n",
       "│ Fire     ┆ 20  │\n",
       "│ Psychic  ┆ 15  │\n",
       "│ Electric ┆ 15  │\n",
       "│ Poison   ┆ 15  │\n",
       "│ Rock     ┆ 13  │\n",
       "│ Ground   ┆ 11  │\n",
       "│ Fighting ┆ 9   │\n",
       "│ Fairy    ┆ 7   │\n",
       "│ Ice      ┆ 6   │\n",
       "│ Dark     ┆ 5   │\n",
       "│ Ghost    ┆ 4   │\n",
       "│ Dragon   ┆ 3   │\n",
       "│ Steel    ┆ 2   │\n",
       "└──────────┴─────┘"
      ]
     },
     "metadata": {},
     "output_type": "display_data"
    }
   ],
   "source": [
    "# 등록된 테이블 조회\n",
    "\n",
    "with ctx:\n",
    "    # ctx._eager_execution=True\n",
    "    pk = ctx.execute(\"SELECT type1, COUNT(type1) AS cnt FROM pokemon GROUP BY type1 ORDER BY cnt DESC\")\n",
    "    display(pk)"
   ]
  },
  {
   "cell_type": "code",
   "execution_count": 76,
   "metadata": {},
   "outputs": [
    {
     "data": {
      "text/html": [
       "<div><style>\n",
       ".dataframe > thead > tr,\n",
       ".dataframe > tbody > tr {\n",
       "  text-align: right;\n",
       "  white-space: pre-wrap;\n",
       "}\n",
       "</style>\n",
       "<small>shape: (5, 10)</small><table border=\"1\" class=\"dataframe\"><thead><tr><th>id</th><th>trainer_id</th><th>pokemon_id</th><th>level</th><th>experience_point</th><th>current_health</th><th>catch_date</th><th>catch_datetime</th><th>location</th><th>status</th></tr><tr><td>i64</td><td>i64</td><td>i64</td><td>i64</td><td>i64</td><td>i64</td><td>str</td><td>str</td><td>str</td><td>str</td></tr></thead><tbody><tr><td>1</td><td>7</td><td>25</td><td>42</td><td>2500</td><td>75</td><td>&quot;2024-02-14&quot;</td><td>&quot;2024-02-14 5:27&quot;</td><td>&quot;Seoul&quot;</td><td>&quot;Active&quot;</td></tr><tr><td>2</td><td>15</td><td>6</td><td>56</td><td>4300</td><td>120</td><td>&quot;2024-03-10&quot;</td><td>&quot;2024-03-10 20:27&quot;</td><td>&quot;Busan&quot;</td><td>&quot;Active&quot;</td></tr><tr><td>3</td><td>4</td><td>12</td><td>21</td><td>800</td><td>40</td><td>&quot;2024-01-05&quot;</td><td>&quot;2024-01-05 14:28&quot;</td><td>&quot;Incheon&quot;</td><td>&quot;Active&quot;</td></tr><tr><td>4</td><td>12</td><td>19</td><td>39</td><td>2100</td><td>95</td><td>&quot;2024-02-28&quot;</td><td>&quot;2024-02-28 22:39&quot;</td><td>&quot;Gwangju&quot;</td><td>&quot;Active&quot;</td></tr><tr><td>5</td><td>1</td><td>143</td><td>70</td><td>9500</td><td>160</td><td>&quot;2024-05-22&quot;</td><td>&quot;2024-05-22 20:58&quot;</td><td>&quot;Daejeon&quot;</td><td>&quot;Active&quot;</td></tr></tbody></table></div>"
      ],
      "text/plain": [
       "shape: (5, 10)\n",
       "┌─────┬────────────┬────────────┬───────┬───┬────────────┬──────────────────┬──────────┬────────┐\n",
       "│ id  ┆ trainer_id ┆ pokemon_id ┆ level ┆ … ┆ catch_date ┆ catch_datetime   ┆ location ┆ status │\n",
       "│ --- ┆ ---        ┆ ---        ┆ ---   ┆   ┆ ---        ┆ ---              ┆ ---      ┆ ---    │\n",
       "│ i64 ┆ i64        ┆ i64        ┆ i64   ┆   ┆ str        ┆ str              ┆ str      ┆ str    │\n",
       "╞═════╪════════════╪════════════╪═══════╪═══╪════════════╪══════════════════╪══════════╪════════╡\n",
       "│ 1   ┆ 7          ┆ 25         ┆ 42    ┆ … ┆ 2024-02-14 ┆ 2024-02-14 5:27  ┆ Seoul    ┆ Active │\n",
       "│ 2   ┆ 15         ┆ 6          ┆ 56    ┆ … ┆ 2024-03-10 ┆ 2024-03-10 20:27 ┆ Busan    ┆ Active │\n",
       "│ 3   ┆ 4          ┆ 12         ┆ 21    ┆ … ┆ 2024-01-05 ┆ 2024-01-05 14:28 ┆ Incheon  ┆ Active │\n",
       "│ 4   ┆ 12         ┆ 19         ┆ 39    ┆ … ┆ 2024-02-28 ┆ 2024-02-28 22:39 ┆ Gwangju  ┆ Active │\n",
       "│ 5   ┆ 1          ┆ 143        ┆ 70    ┆ … ┆ 2024-05-22 ┆ 2024-05-22 20:58 ┆ Daejeon  ┆ Active │\n",
       "└─────┴────────────┴────────────┴───────┴───┴────────────┴──────────────────┴──────────┴────────┘"
      ]
     },
     "metadata": {},
     "output_type": "display_data"
    }
   ],
   "source": [
    "with pl.SQLContext(\n",
    "    register_globals=True,\n",
    "    eager=True # collect를 사용하지 않아도 되는 DF 타입으로 바로 읽음\n",
    "    ) as ctx:\n",
    "    tdf = ctx.execute(\"SELECT * FROM tp LIMIT 5\")\n",
    "    display(tdf)"
   ]
  },
  {
   "cell_type": "markdown",
   "metadata": {},
   "source": [
    "## 2. PARTITIONING"
   ]
  },
  {
   "cell_type": "code",
   "execution_count": null,
   "metadata": {},
   "outputs": [
    {
     "data": {
      "text/plain": [
       "[shape: (424, 8)\n",
       " ┌─────────────┬────────┬────────────┬──────────────┬────────┬────────┬──────────────┬──────────────┐\n",
       " │ First Name  ┆ Gender ┆ Start Date ┆ Last Login   ┆ Salary ┆ Bonus  ┆ Senior       ┆ Team         │\n",
       " │ ---         ┆ ---    ┆ ---        ┆ Time         ┆ ---    ┆ ---    ┆ Management   ┆ ---          │\n",
       " │ str         ┆ str    ┆ date       ┆ ---          ┆ i32    ┆ f64    ┆ ---          ┆ str          │\n",
       " │             ┆        ┆            ┆ time         ┆        ┆        ┆ bool         ┆              │\n",
       " ╞═════════════╪════════╪════════════╪══════════════╪════════╪════════╪══════════════╪══════════════╡\n",
       " │ Douglas     ┆ Male   ┆ 1993-08-06 ┆ 12:42:00     ┆ 97308  ┆ 6.945  ┆ true         ┆ Marketing    │\n",
       " │ Thomas      ┆ Male   ┆ 1996-03-31 ┆ 06:53:00     ┆ 61933  ┆ 4.17   ┆ true         ┆ null         │\n",
       " │ Jerry       ┆ Male   ┆ 2005-03-04 ┆ 13:00:00     ┆ 138705 ┆ 9.34   ┆ true         ┆ Finance      │\n",
       " │ Larry       ┆ Male   ┆ 1998-01-24 ┆ 16:47:00     ┆ 101004 ┆ 1.389  ┆ true         ┆ Client       │\n",
       " │             ┆        ┆            ┆              ┆        ┆        ┆              ┆ Services     │\n",
       " │ Dennis      ┆ Male   ┆ 1987-04-18 ┆ 01:35:00     ┆ 115163 ┆ 10.125 ┆ false        ┆ Legal        │\n",
       " │ Brandon     ┆ Male   ┆ 1980-12-01 ┆ 01:08:00     ┆ 112807 ┆ 17.492 ┆ true         ┆ Human        │\n",
       " │             ┆        ┆            ┆              ┆        ┆        ┆              ┆ Resources    │\n",
       " │ Gary        ┆ Male   ┆ 2008-01-27 ┆ 23:40:00     ┆ 109831 ┆ 5.831  ┆ false        ┆ Sales        │\n",
       " │ Jeremy      ┆ Male   ┆ 2010-09-21 ┆ 05:56:00     ┆ 90370  ┆ 7.369  ┆ false        ┆ Human        │\n",
       " │             ┆        ┆            ┆              ┆        ┆        ┆              ┆ Resources    │\n",
       " │ Shawn       ┆ Male   ┆ 1986-12-07 ┆ 19:45:00     ┆ 111737 ┆ 6.414  ┆ false        ┆ Product      │\n",
       " │ Matthew     ┆ Male   ┆ 1995-09-05 ┆ 02:12:00     ┆ 100612 ┆ 13.645 ┆ false        ┆ Marketing    │\n",
       " │ null        ┆ Male   ┆ 2012-06-14 ┆ 16:19:00     ┆ 125792 ┆ 5.042  ┆ null         ┆ null         │\n",
       " │ John        ┆ Male   ┆ 1992-07-01 ┆ 22:08:00     ┆ 97950  ┆ 13.873 ┆ false        ┆ Client       │\n",
       " │             ┆        ┆            ┆              ┆        ┆        ┆              ┆ Services     │\n",
       " │ null        ┆ Male   ┆ 2012-10-08 ┆ 01:12:00     ┆ 37076  ┆ 18.576 ┆ null         ┆ Client       │\n",
       " │             ┆        ┆            ┆              ┆        ┆        ┆              ┆ Services     │\n",
       " │ Craig       ┆ Male   ┆ 2000-02-27 ┆ 07:45:00     ┆ 37598  ┆ 7.757  ┆ true         ┆ Marketing    │\n",
       " │ Terry       ┆ Male   ┆ 1981-11-27 ┆ 18:30:00     ┆ 124008 ┆ 13.464 ┆ true         ┆ Client       │\n",
       " │             ┆        ┆            ┆              ┆        ┆        ┆              ┆ Services     │\n",
       " │ Benjamin    ┆ Male   ┆ 2005-01-26 ┆ 22:06:00     ┆ 79529  ┆ 7.008  ┆ true         ┆ Legal        │\n",
       " │ null        ┆ Male   ┆ 1998-08-21 ┆ 14:27:00     ┆ 122340 ┆ 6.417  ┆ null         ┆ null         │\n",
       " │ Jerry       ┆ Male   ┆ 2004-01-10 ┆ 12:56:00     ┆ 95734  ┆ 19.096 ┆ false        ┆ Client       │\n",
       " │             ┆        ┆            ┆              ┆        ┆        ┆              ┆ Services     │\n",
       " │ null        ┆ Male   ┆ 2016-01-29 ┆ 02:33:00     ┆ 122173 ┆ 7.797  ┆ null         ┆ Client       │\n",
       " │             ┆        ┆            ┆              ┆        ┆        ┆              ┆ Services     │\n",
       " │ Michael     ┆ Male   ┆ 2008-10-10 ┆ 11:25:00     ┆ 99283  ┆ 2.665  ┆ true         ┆ Distribution │\n",
       " │ Roger       ┆ Male   ┆ 1980-04-17 ┆ 11:32:00     ┆ 88010  ┆ 13.886 ┆ true         ┆ Sales        │\n",
       " │ Bruce       ┆ Male   ┆ 2009-11-28 ┆ 22:47:00     ┆ 114796 ┆ 6.796  ┆ false        ┆ Finance      │\n",
       " │ Clarence    ┆ Male   ┆ 1996-03-26 ┆ 05:57:00     ┆ 93581  ┆ 6.083  ┆ true         ┆ Business     │\n",
       " │             ┆        ┆            ┆              ┆        ┆        ┆              ┆ Development  │\n",
       " │ Todd        ┆ Male   ┆ 1990-02-18 ┆ 02:41:00     ┆ 49339  ┆ 1.695  ┆ true         ┆ Human        │\n",
       " │             ┆        ┆            ┆              ┆        ┆        ┆              ┆ Resources    │\n",
       " │ Carl        ┆ Male   ┆ 2006-05-03 ┆ 17:55:00     ┆ 130276 ┆ 16.084 ┆ true         ┆ Finance      │\n",
       " │ Henry       ┆ Male   ┆ 1996-06-26 ┆ 01:44:00     ┆ 64715  ┆ 15.107 ┆ true         ┆ Human        │\n",
       " │             ┆        ┆            ┆              ┆        ┆        ┆              ┆ Resources    │\n",
       " │ Matthew     ┆ Male   ┆ 2013-01-02 ┆ 22:33:00     ┆ 35203  ┆ 18.04  ┆ false        ┆ Human        │\n",
       " │             ┆        ┆            ┆              ┆        ┆        ┆              ┆ Resources    │\n",
       " │ Steve       ┆ Male   ┆ 2009-11-11 ┆ 23:44:00     ┆ 61310  ┆ 12.428 ┆ true         ┆ Distribution │\n",
       " │ Jose        ┆ Male   ┆ 2004-10-30 ┆ 13:39:00     ┆ 84834  ┆ 14.33  ┆ true         ┆ Finance      │\n",
       " │ Johnny      ┆ Male   ┆ 2009-11-06 ┆ 16:23:00     ┆ 118172 ┆ 16.194 ┆ true         ┆ Sales        │\n",
       " │ Bobby       ┆ Male   ┆ 2007-05-07 ┆ 10:01:00     ┆ 54043  ┆ 3.833  ┆ false        ┆ Product      │\n",
       " │ Thomas      ┆ Male   ┆ 1995-06-04 ┆ 14:24:00     ┆ 62096  ┆ 17.029 ┆ false        ┆ Marketing    │\n",
       " │ Charles     ┆ Male   ┆ 2004-09-14 ┆ 20:13:00     ┆ 107391 ┆ 1.26   ┆ true         ┆ Marketing    │\n",
       " │ Christopher ┆ Male   ┆ 2008-03-30 ┆ 10:52:00     ┆ 47369  ┆ 14.822 ┆ false        ┆ Legal        │\n",
       " │ Steven      ┆ Male   ┆ 1980-03-30 ┆ 21:20:00     ┆ 35095  ┆ 8.379  ┆ true         ┆ Client       │\n",
       " │             ┆        ┆            ┆              ┆        ┆        ┆              ┆ Services     │\n",
       " │ Shawn       ┆ Male   ┆ 2005-09-23 ┆ 02:55:00     ┆ 148115 ┆ 6.539  ┆ true         ┆ Finance      │\n",
       " │ Jeremy      ┆ Male   ┆ 2008-02-01 ┆ 08:50:00     ┆ 100238 ┆ 3.887  ┆ true         ┆ Client       │\n",
       " │             ┆        ┆            ┆              ┆        ┆        ┆              ┆ Services     │\n",
       " │ Harry       ┆ Male   ┆ 1981-08-26 ┆ 15:16:00     ┆ 130620 ┆ 7.03   ┆ false        ┆ Legal        │\n",
       " │ Harold      ┆ Male   ┆ 1985-01-02 ┆ 21:40:00     ┆ 77544  ┆ 12.447 ┆ false        ┆ Business     │\n",
       " │             ┆        ┆            ┆              ┆        ┆        ┆              ┆ Development  │\n",
       " │ Aaron       ┆ Male   ┆ 2012-02-17 ┆ 10:20:00     ┆ 61602  ┆ 11.849 ┆ true         ┆ Marketing    │\n",
       " │ Jack        ┆ Male   ┆ 1997-01-12 ┆ 05:51:00     ┆ 103902 ┆ 12.159 ┆ false        ┆ Client       │\n",
       " │             ┆        ┆            ┆              ┆        ┆        ┆              ┆ Services     │\n",
       " │ John        ┆ Male   ┆ 1989-12-23 ┆ 07:01:00     ┆ 80740  ┆ 19.305 ┆ false        ┆ Marketing    │\n",
       " │ Paul        ┆ Male   ┆ 1993-08-04 ┆ 19:25:00     ┆ 42146  ┆ 3.046  ┆ false        ┆ Legal        │\n",
       " │ Steven      ┆ Male   ┆ 2013-04-23 ┆ 22:12:00     ┆ 68680  ┆ 16.565 ┆ false        ┆ Legal        │\n",
       " │ Christopher ┆ Male   ┆ 2000-04-22 ┆ 10:15:00     ┆ 37919  ┆ 11.449 ┆ false        ┆ null         │\n",
       " │ Willie      ┆ Male   ┆ 2003-11-27 ┆ 06:21:00     ┆ 64363  ┆ 4.023  ┆ false        ┆ Marketing    │\n",
       " │ null        ┆ Male   ┆ 1991-06-22 ┆ 20:58:00     ┆ 76189  ┆ 18.988 ┆ null         ┆ Legal        │\n",
       " │ Steven      ┆ Male   ┆ 1995-03-01 ┆ 15:03:00     ┆ 109095 ┆ 9.494  ┆ false        ┆ Finance      │\n",
       " │ Paul        ┆ Male   ┆ 2008-06-03 ┆ 15:05:00     ┆ 41054  ┆ 12.299 ┆ false        ┆ Marketing    │\n",
       " │ Peter       ┆ Male   ┆ 1994-11-17 ┆ 18:15:00     ┆ 84885  ┆ 15.402 ┆ false        ┆ Business     │\n",
       " │             ┆        ┆            ┆              ┆        ┆        ┆              ┆ Development  │\n",
       " │ …           ┆ …      ┆ …          ┆ …            ┆ …      ┆ …      ┆ …            ┆ …            │\n",
       " │ Anthony     ┆ Male   ┆ 2014-01-30 ┆ 21:04:00     ┆ 96795  ┆ 14.837 ┆ false        ┆ Sales        │\n",
       " │ David       ┆ Male   ┆ 2009-12-05 ┆ 08:48:00     ┆ 92242  ┆ 15.407 ┆ false        ┆ Legal        │\n",
       " │ null        ┆ Male   ┆ 2015-11-24 ┆ 03:11:00     ┆ 145329 ┆ 7.1    ┆ null         ┆ Finance      │\n",
       " │ Timothy     ┆ Male   ┆ 1991-08-25 ┆ 10:37:00     ┆ 92587  ┆ 8.475  ┆ false        ┆ Finance      │\n",
       " │ Brandon     ┆ Male   ┆ 1995-10-23 ┆ 12:04:00     ┆ 60263  ┆ 2.709  ┆ false        ┆ Sales        │\n",
       " │ Frank       ┆ Male   ┆ 2013-07-27 ┆ 16:32:00     ┆ 91406  ┆ 5.681  ┆ true         ┆ Business     │\n",
       " │             ┆        ┆            ┆              ┆        ┆        ┆              ┆ Development  │\n",
       " │ Victor      ┆ Male   ┆ 2010-03-10 ┆ 17:01:00     ┆ 45267  ┆ 3.942  ┆ true         ┆ Sales        │\n",
       " │ Walter      ┆ Male   ┆ 1992-05-21 ┆ 00:39:00     ┆ 144701 ┆ 16.323 ┆ true         ┆ Marketing    │\n",
       " │ null        ┆ Male   ┆ 2001-05-23 ┆ 19:52:00     ┆ 103877 ┆ 6.322  ┆ null         ┆ Distribution │\n",
       " │ Donald      ┆ Male   ┆ 1991-08-01 ┆ 02:25:00     ┆ 61999  ┆ 6.466  ┆ false        ┆ Product      │\n",
       " │ Carl        ┆ Male   ┆ 2010-07-07 ┆ 13:33:00     ┆ 54033  ┆ 15.528 ┆ true         ┆ Business     │\n",
       " │             ┆        ┆            ┆              ┆        ┆        ┆              ┆ Development  │\n",
       " │ Joe         ┆ Male   ┆ 1998-12-08 ┆ 10:28:00     ┆ 126120 ┆ 1.02   ┆ false        ┆ null         │\n",
       " │ Todd        ┆ Male   ┆ 1983-01-04 ┆ 12:34:00     ┆ 115566 ┆ 6.716  ┆ true         ┆ Client       │\n",
       " │             ┆        ┆            ┆              ┆        ┆        ┆              ┆ Services     │\n",
       " │ Shawn       ┆ Male   ┆ 2008-03-13 ┆ 17:36:00     ┆ 51667  ┆ 6.339  ┆ false        ┆ Product      │\n",
       " │ Ryan        ┆ Male   ┆ 1999-04-27 ┆ 03:41:00     ┆ 85858  ┆ 19.475 ┆ false        ┆ Client       │\n",
       " │             ┆        ┆            ┆              ┆        ┆        ┆              ┆ Services     │\n",
       " │ Sean        ┆ Male   ┆ 2009-03-21 ┆ 11:38:00     ┆ 131423 ┆ 8.957  ┆ false        ┆ Distribution │\n",
       " │ George      ┆ Male   ┆ 2015-06-05 ┆ 05:40:00     ┆ 50369  ┆ 18.9   ┆ true         ┆ Sales        │\n",
       " │ Arthur      ┆ Male   ┆ 2013-12-05 ┆ 08:44:00     ┆ 86615  ┆ 3.412  ┆ true         ┆ Business     │\n",
       " │             ┆        ┆            ┆              ┆        ┆        ┆              ┆ Development  │\n",
       " │ Philip      ┆ Male   ┆ 2005-03-11 ┆ 10:56:00     ┆ 103557 ┆ 16.014 ┆ true         ┆ Business     │\n",
       " │             ┆        ┆            ┆              ┆        ┆        ┆              ┆ Development  │\n",
       " │ Jeffrey     ┆ Male   ┆ 1986-09-20 ┆ 06:06:00     ┆ 111376 ┆ 2.673  ┆ true         ┆ Business     │\n",
       " │             ┆        ┆            ┆              ┆        ┆        ┆              ┆ Development  │\n",
       " │ Harold      ┆ Male   ┆ 2012-06-23 ┆ 12:40:00     ┆ 140444 ┆ 3.771  ┆ false        ┆ Distribution │\n",
       " │ Samuel      ┆ Male   ┆ 1997-08-07 ┆ 12:40:00     ┆ 43694  ┆ 3.787  ┆ true         ┆ Engineering  │\n",
       " │ Andrew      ┆ Male   ┆ 1990-09-28 ┆ 09:38:00     ┆ 137386 ┆ 8.611  ┆ true         ┆ Distribution │\n",
       " │ William     ┆ Male   ┆ 1997-06-26 ┆ 08:33:00     ┆ 104840 ┆ 15.653 ┆ true         ┆ Engineering  │\n",
       " │ Wayne       ┆ Male   ┆ 2006-09-08 ┆ 11:09:00     ┆ 67471  ┆ 2.728  ┆ false        ┆ Engineering  │\n",
       " │ Kenneth     ┆ Male   ┆ 2006-05-10 ┆ 08:24:00     ┆ 101914 ┆ 1.905  ┆ true         ┆ Distribution │\n",
       " │ null        ┆ Male   ┆ 2012-07-30 ┆ 15:07:00     ┆ 107351 ┆ 5.329  ┆ null         ┆ Marketing    │\n",
       " │ Scott       ┆ Male   ┆ 2011-08-20 ┆ 08:08:00     ┆ 37385  ┆ 8.226  ┆ true         ┆ Business     │\n",
       " │             ┆        ┆            ┆              ┆        ┆        ┆              ┆ Development  │\n",
       " │ Randy       ┆ Male   ┆ 2012-02-25 ┆ 05:33:00     ┆ 57266  ┆ 14.077 ┆ false        ┆ Product      │\n",
       " │ Joe         ┆ Male   ┆ 1980-01-19 ┆ 16:06:00     ┆ 119667 ┆ 1.148  ┆ true         ┆ Finance      │\n",
       " │ Jeffrey     ┆ Male   ┆ 1984-02-03 ┆ 13:26:00     ┆ 70990  ┆ 15.901 ┆ true         ┆ Sales        │\n",
       " │ Albert      ┆ Male   ┆ 1992-09-19 ┆ 02:35:00     ┆ 45094  ┆ 5.85   ┆ true         ┆ Business     │\n",
       " │             ┆        ┆            ┆              ┆        ┆        ┆              ┆ Development  │\n",
       " │ Stephen     ┆ Male   ┆ 1989-10-29 ┆ 23:34:00     ┆ 93997  ┆ 18.093 ┆ true         ┆ Business     │\n",
       " │             ┆        ┆            ┆              ┆        ┆        ┆              ┆ Development  │\n",
       " │ Jonathan    ┆ Male   ┆ 2013-08-21 ┆ 00:45:00     ┆ 121797 ┆ 16.923 ┆ false        ┆ Product      │\n",
       " │ Bruce       ┆ Male   ┆ 1980-05-07 ┆ 20:00:00     ┆ 35802  ┆ 12.391 ┆ true         ┆ Sales        │\n",
       " │ Louis       ┆ Male   ┆ 2011-08-16 ┆ 17:19:00     ┆ 93022  ┆ 9.146  ┆ true         ┆ Human        │\n",
       " │             ┆        ┆            ┆              ┆        ┆        ┆              ┆ Resources    │\n",
       " │ Thomas      ┆ Male   ┆ 2016-03-12 ┆ 15:10:00     ┆ 105681 ┆ 19.572 ┆ false        ┆ Engineering  │\n",
       " │ Patrick     ┆ Male   ┆ 2002-12-30 ┆ 02:01:00     ┆ 75423  ┆ 5.368  ┆ true         ┆ Business     │\n",
       " │             ┆        ┆            ┆              ┆        ┆        ┆              ┆ Development  │\n",
       " │ Russell     ┆ Male   ┆ 2013-05-10 ┆ 23:08:00     ┆ 137359 ┆ 11.105 ┆ false        ┆ Business     │\n",
       " │             ┆        ┆            ┆              ┆        ┆        ┆              ┆ Development  │\n",
       " │ Harry       ┆ Male   ┆ 2011-08-30 ┆ 18:31:00     ┆ 67656  ┆ 16.455 ┆ true         ┆ Client       │\n",
       " │             ┆        ┆            ┆              ┆        ┆        ┆              ┆ Services     │\n",
       " │ Sean        ┆ Male   ┆ 1983-01-17 ┆ 14:23:00     ┆ 66146  ┆ 11.178 ┆ false        ┆ Human        │\n",
       " │             ┆        ┆            ┆              ┆        ┆        ┆              ┆ Resources    │\n",
       " │ Ernest      ┆ Male   ┆ 2013-07-20 ┆ 06:41:00     ┆ 142935 ┆ 13.198 ┆ true         ┆ Product      │\n",
       " │ James       ┆ Male   ┆ 1993-01-15 ┆ 17:19:00     ┆ 148985 ┆ 19.28  ┆ false        ┆ Legal        │\n",
       " │ John        ┆ Male   ┆ 1982-12-23 ┆ 22:35:00     ┆ 146907 ┆ 11.738 ┆ false        ┆ Engineering  │\n",
       " │ Anthony     ┆ Male   ┆ 2011-10-16 ┆ 08:35:00     ┆ 112769 ┆ 11.625 ┆ true         ┆ Finance      │\n",
       " │ George      ┆ Male   ┆ 2013-06-21 ┆ 17:47:00     ┆ 98874  ┆ 4.479  ┆ true         ┆ Marketing    │\n",
       " │ Phillip     ┆ Male   ┆ 1984-01-31 ┆ 06:30:00     ┆ 42392  ┆ 19.675 ┆ false        ┆ Finance      │\n",
       " │ Russell     ┆ Male   ┆ 2013-05-20 ┆ 12:39:00     ┆ 96914  ┆ 1.421  ┆ false        ┆ Product      │\n",
       " │ Larry       ┆ Male   ┆ 2013-04-20 ┆ 16:45:00     ┆ 60500  ┆ 11.985 ┆ false        ┆ Business     │\n",
       " │             ┆        ┆            ┆              ┆        ┆        ┆              ┆ Development  │\n",
       " │ Albert      ┆ Male   ┆ 2012-05-15 ┆ 18:24:00     ┆ 129949 ┆ 10.169 ┆ true         ┆ Sales        │\n",
       " └─────────────┴────────┴────────────┴──────────────┴────────┴────────┴──────────────┴──────────────┘,\n",
       " shape: (431, 8)\n",
       " ┌────────────┬────────┬────────────┬───────────────┬────────┬────────┬──────────────┬──────────────┐\n",
       " │ First Name ┆ Gender ┆ Start Date ┆ Last Login    ┆ Salary ┆ Bonus  ┆ Senior       ┆ Team         │\n",
       " │ ---        ┆ ---    ┆ ---        ┆ Time          ┆ ---    ┆ ---    ┆ Management   ┆ ---          │\n",
       " │ str        ┆ str    ┆ date       ┆ ---           ┆ i32    ┆ f64    ┆ ---          ┆ str          │\n",
       " │            ┆        ┆            ┆ time          ┆        ┆        ┆ bool         ┆              │\n",
       " ╞════════════╪════════╪════════════╪═══════════════╪════════╪════════╪══════════════╪══════════════╡\n",
       " │ Maria      ┆ Female ┆ 1993-04-23 ┆ 11:17:00      ┆ 130590 ┆ 11.858 ┆ false        ┆ Finance      │\n",
       " │ Ruby       ┆ Female ┆ 1987-08-17 ┆ 16:20:00      ┆ 65476  ┆ 10.012 ┆ true         ┆ Product      │\n",
       " │ null       ┆ Female ┆ 2015-07-20 ┆ 10:43:00      ┆ 45906  ┆ 11.598 ┆ null         ┆ Finance      │\n",
       " │ Angela     ┆ Female ┆ 2005-11-22 ┆ 06:29:00      ┆ 95570  ┆ 18.523 ┆ true         ┆ Engineering  │\n",
       " │ Frances    ┆ Female ┆ 2002-08-08 ┆ 06:51:00      ┆ 139852 ┆ 7.524  ┆ true         ┆ Business     │\n",
       " │            ┆        ┆            ┆               ┆        ┆        ┆              ┆ Development  │\n",
       " │ Louise     ┆ Female ┆ 1980-08-12 ┆ 09:01:00      ┆ 63241  ┆ 15.132 ┆ true         ┆ null         │\n",
       " │ Julie      ┆ Female ┆ 1997-10-26 ┆ 15:19:00      ┆ 102508 ┆ 12.637 ┆ true         ┆ Legal        │\n",
       " │ Kimberly   ┆ Female ┆ 1999-01-14 ┆ 07:13:00      ┆ 41426  ┆ 14.543 ┆ true         ┆ Finance      │\n",
       " │ Lillian    ┆ Female ┆ 2016-06-05 ┆ 06:09:00      ┆ 59414  ┆ 1.256  ┆ false        ┆ Product      │\n",
       " │ Diana      ┆ Female ┆ 1981-10-23 ┆ 10:27:00      ┆ 132940 ┆ 19.082 ┆ false        ┆ Client       │\n",
       " │            ┆        ┆            ┆               ┆        ┆        ┆              ┆ Services     │\n",
       " │ Donna      ┆ Female ┆ 2010-07-22 ┆ 03:48:00      ┆ 81014  ┆ 1.894  ┆ false        ┆ Product      │\n",
       " │ Christina  ┆ Female ┆ 2002-08-06 ┆ 13:19:00      ┆ 118780 ┆ 9.096  ┆ true         ┆ Engineering  │\n",
       " │ Jean       ┆ Female ┆ 1993-12-18 ┆ 09:07:00      ┆ 119082 ┆ 16.18  ┆ false        ┆ Business     │\n",
       " │            ┆        ┆            ┆               ┆        ┆        ┆              ┆ Development  │\n",
       " │ Theresa    ┆ Female ┆ 2006-10-10 ┆ 01:12:00      ┆ 85182  ┆ 16.675 ┆ false        ┆ Sales        │\n",
       " │ Rachel     ┆ Female ┆ 2009-02-16 ┆ 20:47:00      ┆ 142032 ┆ 12.599 ┆ false        ┆ Business     │\n",
       " │            ┆        ┆            ┆               ┆        ┆        ┆              ┆ Development  │\n",
       " │ Linda      ┆ Female ┆ 1981-10-19 ┆ 20:49:00      ┆ 57427  ┆ 9.557  ┆ true         ┆ Client       │\n",
       " │            ┆        ┆            ┆               ┆        ┆        ┆              ┆ Services     │\n",
       " │ Stephanie  ┆ Female ┆ 1986-09-13 ┆ 01:52:00      ┆ 36844  ┆ 5.574  ┆ true         ┆ Business     │\n",
       " │            ┆        ┆            ┆               ┆        ┆        ┆              ┆ Development  │\n",
       " │ Beverly    ┆ Female ┆ 1998-09-09 ┆ 20:26:00      ┆ 121918 ┆ 15.835 ┆ false        ┆ Legal        │\n",
       " │ Marilyn    ┆ Female ┆ 1980-12-07 ┆ 03:16:00      ┆ 73524  ┆ 5.207  ┆ true         ┆ Marketing    │\n",
       " │ Cynthia    ┆ Female ┆ 1988-11-16 ┆ 18:54:00      ┆ 145146 ┆ 7.482  ┆ true         ┆ Product      │\n",
       " │ Kathy      ┆ Female ┆ 2005-06-22 ┆ 04:51:00      ┆ 66820  ┆ 9.0    ┆ true         ┆ Client       │\n",
       " │            ┆        ┆            ┆               ┆        ┆        ┆              ┆ Services     │\n",
       " │ Nancy      ┆ Female ┆ 2000-09-23 ┆ 08:05:00      ┆ 94976  ┆ 13.83  ┆ true         ┆ Engineering  │\n",
       " │ Sara       ┆ Female ┆ 2007-08-15 ┆ 09:23:00      ┆ 83677  ┆ 8.999  ┆ false        ┆ Engineering  │\n",
       " │ Karen      ┆ Female ┆ 1999-11-30 ┆ 07:46:00      ┆ 102488 ┆ 17.653 ┆ true         ┆ Product      │\n",
       " │ Theresa    ┆ Female ┆ 2010-04-11 ┆ 07:18:00      ┆ 72670  ┆ 1.481  ┆ true         ┆ Engineering  │\n",
       " │ Irene      ┆ Female ┆ 1997-05-07 ┆ 09:32:00      ┆ 66851  ┆ 11.279 ┆ false        ┆ Engineering  │\n",
       " │ Denise     ┆ Female ┆ 2001-11-06 ┆ 12:03:00      ┆ 106862 ┆ 3.699  ┆ false        ┆ Business     │\n",
       " │            ┆        ┆            ┆               ┆        ┆        ┆              ┆ Development  │\n",
       " │ null       ┆ Female ┆ 2007-06-12 ┆ 17:25:00      ┆ 58112  ┆ 19.414 ┆ null         ┆ Marketing    │\n",
       " │ Nancy      ┆ Female ┆ 2012-12-15 ┆ 23:57:00      ┆ 125250 ┆ 2.672  ┆ true         ┆ Business     │\n",
       " │            ┆        ┆            ┆               ┆        ┆        ┆              ┆ Development  │\n",
       " │ Rachel     ┆ Female ┆ 1999-08-16 ┆ 06:53:00      ┆ 51178  ┆ 9.735  ┆ true         ┆ Finance      │\n",
       " │ Frances    ┆ Female ┆ 1999-04-04 ┆ 16:19:00      ┆ 90582  ┆ 4.709  ┆ true         ┆ Sales        │\n",
       " │ Bonnie     ┆ Female ┆ 1991-07-02 ┆ 01:27:00      ┆ 104897 ┆ 5.118  ┆ true         ┆ Human        │\n",
       " │            ┆        ┆            ┆               ┆        ┆        ┆              ┆ Resources    │\n",
       " │ Margaret   ┆ Female ┆ 1988-09-10 ┆ 12:42:00      ┆ 131604 ┆ 7.353  ┆ true         ┆ Distribution │\n",
       " │ Robin      ┆ Female ┆ 1983-06-04 ┆ 15:15:00      ┆ 114797 ┆ 5.965  ┆ true         ┆ Sales        │\n",
       " │ Bonnie     ┆ Female ┆ 1988-11-13 ┆ 15:30:00      ┆ 115814 ┆ 4.99   ┆ false        ┆ Product      │\n",
       " │ Doris      ┆ Female ┆ 2004-08-20 ┆ 05:51:00      ┆ 83072  ┆ 7.511  ┆ false        ┆ Finance      │\n",
       " │ Annie      ┆ Female ┆ 1993-01-30 ┆ 02:05:00      ┆ 144887 ┆ 8.276  ┆ true         ┆ Sales        │\n",
       " │ Donna      ┆ Female ┆ 1991-11-27 ┆ 13:59:00      ┆ 64088  ┆ 6.155  ┆ true         ┆ Legal        │\n",
       " │ Janice     ┆ Female ┆ 2016-03-12 ┆ 00:40:00      ┆ 51082  ┆ 11.955 ┆ false        ┆ Legal        │\n",
       " │ Linda      ┆ Female ┆ 2000-05-25 ┆ 17:45:00      ┆ 119009 ┆ 12.506 ┆ true         ┆ Business     │\n",
       " │            ┆        ┆            ┆               ┆        ┆        ┆              ┆ Development  │\n",
       " │ Heather    ┆ Female ┆ 1998-07-11 ┆ 14:17:00      ┆ 43026  ┆ 14.166 ┆ false        ┆ Client       │\n",
       " │            ┆        ┆            ┆               ┆        ┆        ┆              ┆ Services     │\n",
       " │ Cynthia    ┆ Female ┆ 1994-03-21 ┆ 08:34:00      ┆ 142321 ┆ 1.737  ┆ false        ┆ Finance      │\n",
       " │ Tina       ┆ Female ┆ 2016-06-16 ┆ 19:47:00      ┆ 100705 ┆ 16.961 ┆ true         ┆ Marketing    │\n",
       " │ Melissa    ┆ Female ┆ 2005-06-21 ┆ 06:33:00      ┆ 48109  ┆ 14.995 ┆ false        ┆ Finance      │\n",
       " │ Phyllis    ┆ Female ┆ 1996-10-11 ┆ 21:30:00      ┆ 136984 ┆ 8.932  ┆ true         ┆ Finance      │\n",
       " │ Kathy      ┆ Female ┆ 1996-03-09 ┆ 04:33:00      ┆ 91712  ┆ 8.567  ┆ false        ┆ Finance      │\n",
       " │ Shirley    ┆ Female ┆ 2001-06-20 ┆ 22:39:00      ┆ 147113 ┆ 16.135 ┆ false        ┆ Legal        │\n",
       " │ Bonnie     ┆ Female ┆ 1999-12-17 ┆ 15:12:00      ┆ 42153  ┆ 8.454  ┆ true         ┆ Business     │\n",
       " │            ┆        ┆            ┆               ┆        ┆        ┆              ┆ Development  │\n",
       " │ Tina       ┆ Female ┆ 2009-06-12 ┆ 07:16:00      ┆ 114767 ┆ 3.711  ┆ true         ┆ Engineering  │\n",
       " │ Ashley     ┆ Female ┆ 2002-08-04 ┆ 11:00:00      ┆ 58698  ┆ 6.811  ┆ true         ┆ Business     │\n",
       " │            ┆        ┆            ┆               ┆        ┆        ┆              ┆ Development  │\n",
       " │ …          ┆ …      ┆ …          ┆ …             ┆ …      ┆ …      ┆ …            ┆ …            │\n",
       " │ Betty      ┆ Female ┆ 2002-11-19 ┆ 10:40:00      ┆ 37005  ┆ 7.645  ┆ true         ┆ Marketing    │\n",
       " │ Jane       ┆ Female ┆ 2012-04-27 ┆ 14:12:00      ┆ 59680  ┆ 15.211 ┆ true         ┆ Business     │\n",
       " │            ┆        ┆            ┆               ┆        ┆        ┆              ┆ Development  │\n",
       " │ Christina  ┆ Female ┆ 2002-06-23 ┆ 15:18:00      ┆ 35477  ┆ 18.178 ┆ false        ┆ Human        │\n",
       " │            ┆        ┆            ┆               ┆        ┆        ┆              ┆ Resources    │\n",
       " │ Patricia   ┆ Female ┆ 1995-10-10 ┆ 16:52:00      ┆ 119266 ┆ 6.911  ┆ false        ┆ Distribution │\n",
       " │ Heather    ┆ Female ┆ 1983-07-29 ┆ 10:48:00      ┆ 47605  ┆ 14.955 ┆ true         ┆ Human        │\n",
       " │            ┆        ┆            ┆               ┆        ┆        ┆              ┆ Resources    │\n",
       " │ Stephanie  ┆ Female ┆ 1988-06-26 ┆ 05:48:00      ┆ 136604 ┆ 6.16   ┆ true         ┆ Human        │\n",
       " │            ┆        ┆            ┆               ┆        ┆        ┆              ┆ Resources    │\n",
       " │ Alice      ┆ Female ┆ 2013-02-09 ┆ 00:49:00      ┆ 121250 ┆ 4.363  ┆ true         ┆ Finance      │\n",
       " │ Frances    ┆ Female ┆ 2014-05-16 ┆ 08:31:00      ┆ 35884  ┆ 17.667 ┆ false        ┆ Sales        │\n",
       " │ Elizabeth  ┆ Female ┆ 1998-07-27 ┆ 11:12:00      ┆ 137144 ┆ 10.081 ┆ false        ┆ Finance      │\n",
       " │ Janice     ┆ Female ┆ 2009-12-17 ┆ 06:42:00      ┆ 102697 ┆ 3.283  ┆ false        ┆ Engineering  │\n",
       " │ Melissa    ┆ Female ┆ 2002-10-22 ┆ 01:20:00      ┆ 45223  ┆ 8.879  ┆ true         ┆ Legal        │\n",
       " │ Lois       ┆ Female ┆ 2015-12-11 ┆ 16:10:00      ┆ 99747  ┆ 6.168  ┆ false        ┆ Marketing    │\n",
       " │ Ann        ┆ Female ┆ 2001-09-28 ┆ 06:37:00      ┆ 71958  ┆ 5.272  ┆ true         ┆ Distribution │\n",
       " │ Marilyn    ┆ Female ┆ 1996-01-16 ┆ 07:18:00      ┆ 118369 ┆ 7.696  ┆ true         ┆ Business     │\n",
       " │            ┆        ┆            ┆               ┆        ┆        ┆              ┆ Development  │\n",
       " │ Rose       ┆ Female ┆ 2002-01-02 ┆ 21:14:00      ┆ 49538  ┆ 9.828  ┆ false        ┆ Client       │\n",
       " │            ┆        ┆            ┆               ┆        ┆        ┆              ┆ Services     │\n",
       " │ Deborah    ┆ Female ┆ 2003-11-11 ┆ 16:53:00      ┆ 60003  ┆ 9.624  ┆ false        ┆ Client       │\n",
       " │            ┆        ┆            ┆               ┆        ┆        ┆              ┆ Services     │\n",
       " │ null       ┆ Female ┆ 2000-08-23 ┆ 16:19:00      ┆ 95866  ┆ 19.388 ┆ null         ┆ Sales        │\n",
       " │ Judith     ┆ Female ┆ 2004-03-01 ┆ 07:32:00      ┆ 109324 ┆ 19.488 ┆ false        ┆ Distribution │\n",
       " │ Theresa    ┆ Female ┆ 2001-04-27 ┆ 21:17:00      ┆ 75661  ┆ 1.079  ┆ true         ┆ Legal        │\n",
       " │ Nancy      ┆ Female ┆ 2001-09-10 ┆ 23:57:00      ┆ 85213  ┆ 2.386  ┆ true         ┆ Marketing    │\n",
       " │ Bonnie     ┆ Female ┆ 2008-12-23 ┆ 09:26:00      ┆ 90427  ┆ 2.01   ┆ true         ┆ Client       │\n",
       " │            ┆        ┆            ┆               ┆        ┆        ┆              ┆ Services     │\n",
       " │ Doris      ┆ Female ┆ 1993-07-05 ┆ 17:54:00      ┆ 141439 ┆ 3.799  ┆ false        ┆ Business     │\n",
       " │            ┆        ┆            ┆               ┆        ┆        ┆              ┆ Development  │\n",
       " │ Alice      ┆ Female ┆ 1996-03-23 ┆ 03:09:00      ┆ 131952 ┆ 12.09  ┆ false        ┆ Engineering  │\n",
       " │ Maria      ┆ Female ┆ 2003-03-14 ┆ 17:23:00      ┆ 96250  ┆ 10.056 ┆ false        ┆ Business     │\n",
       " │            ┆        ┆            ┆               ┆        ┆        ┆              ┆ Development  │\n",
       " │ Lori       ┆ Female ┆ 2015-11-20 ┆ 13:15:00      ┆ 75498  ┆ 6.537  ┆ true         ┆ Marketing    │\n",
       " │ null       ┆ Female ┆ 1985-09-15 ┆ 01:50:00      ┆ 133472 ┆ 16.941 ┆ null         ┆ Distribution │\n",
       " │ Ashley     ┆ Female ┆ 2006-03-31 ┆ 13:24:00      ┆ 142410 ┆ 11.048 ┆ true         ┆ Engineering  │\n",
       " │ Paula      ┆ Female ┆ 1983-05-21 ┆ 11:42:00      ┆ 58423  ┆ 10.833 ┆ false        ┆ Business     │\n",
       " │            ┆        ┆            ┆               ┆        ┆        ┆              ┆ Development  │\n",
       " │ null       ┆ Female ┆ 2010-09-14 ┆ 05:19:00      ┆ 143638 ┆ 9.662  ┆ null         ┆ null         │\n",
       " │ Teresa     ┆ Female ┆ 2013-01-22 ┆ 15:17:00      ┆ 113425 ┆ 11.907 ┆ true         ┆ Human        │\n",
       " │            ┆        ┆            ┆               ┆        ┆        ┆              ┆ Resources    │\n",
       " │ Sarah      ┆ Female ┆ 2014-08-17 ┆ 23:08:00      ┆ 127118 ┆ 11.176 ┆ false        ┆ Legal        │\n",
       " │ Beverly    ┆ Female ┆ 1986-10-17 ┆ 00:51:00      ┆ 80838  ┆ 8.115  ┆ false        ┆ Engineering  │\n",
       " │ Gloria     ┆ Female ┆ 1987-10-24 ┆ 04:43:00      ┆ 39833  ┆ 9.631  ┆ false        ┆ Engineering  │\n",
       " │ Ann        ┆ Female ┆ 1994-09-23 ┆ 11:15:00      ┆ 89443  ┆ 17.94  ┆ true         ┆ Sales        │\n",
       " │ Catherine  ┆ Female ┆ 1989-09-25 ┆ 01:31:00      ┆ 68164  ┆ 18.393 ┆ false        ┆ Client       │\n",
       " │            ┆        ┆            ┆               ┆        ┆        ┆              ┆ Services     │\n",
       " │ Louise     ┆ Female ┆ 1995-03-27 ┆ 22:27:00      ┆ 43050  ┆ 11.671 ┆ false        ┆ Distribution │\n",
       " │ Linda      ┆ Female ┆ 2010-02-04 ┆ 20:49:00      ┆ 44486  ┆ 17.308 ┆ true         ┆ Engineering  │\n",
       " │ Alice      ┆ Female ┆ 1988-09-03 ┆ 20:54:00      ┆ 63571  ┆ 15.397 ┆ true         ┆ Product      │\n",
       " │ Susan      ┆ Female ┆ 1995-04-07 ┆ 22:05:00      ┆ 92436  ┆ 12.467 ┆ false        ┆ Sales        │\n",
       " │ Denise     ┆ Female ┆ 1992-10-19 ┆ 05:42:00      ┆ 137954 ┆ 4.195  ┆ true         ┆ Legal        │\n",
       " │ Sarah      ┆ Female ┆ 1995-12-04 ┆ 09:16:00      ┆ 124566 ┆ 5.949  ┆ false        ┆ Product      │\n",
       " │ Kimberly   ┆ Female ┆ 2013-01-26 ┆ 00:57:00      ┆ 46233  ┆ 8.862  ┆ true         ┆ Engineering  │\n",
       " │ Rose       ┆ Female ┆ 1982-04-06 ┆ 10:43:00      ┆ 91411  ┆ 8.639  ┆ true         ┆ Human        │\n",
       " │            ┆        ┆            ┆               ┆        ┆        ┆              ┆ Resources    │\n",
       " │ Maria      ┆ Female ┆ 2011-10-15 ┆ 16:53:00      ┆ 43455  ┆ 13.04  ┆ false        ┆ Engineering  │\n",
       " │ Donna      ┆ Female ┆ 1982-11-26 ┆ 07:04:00      ┆ 82871  ┆ 17.999 ┆ false        ┆ Marketing    │\n",
       " │ Gloria     ┆ Female ┆ 2014-12-08 ┆ 05:08:00      ┆ 136709 ┆ 10.331 ┆ true         ┆ Finance      │\n",
       " │ Alice      ┆ Female ┆ 2004-10-05 ┆ 09:34:00      ┆ 47638  ┆ 11.209 ┆ false        ┆ Human        │\n",
       " │            ┆        ┆            ┆               ┆        ┆        ┆              ┆ Resources    │\n",
       " │ Robin      ┆ Female ┆ 1987-07-24 ┆ 13:35:00      ┆ 100765 ┆ 10.982 ┆ true         ┆ Client       │\n",
       " │            ┆        ┆            ┆               ┆        ┆        ┆              ┆ Services     │\n",
       " │ Rose       ┆ Female ┆ 2002-08-25 ┆ 05:12:00      ┆ 134505 ┆ 11.051 ┆ true         ┆ Marketing    │\n",
       " │ Tina       ┆ Female ┆ 1997-05-15 ┆ 15:53:00      ┆ 56450  ┆ 19.04  ┆ true         ┆ Engineering  │\n",
       " └────────────┴────────┴────────────┴───────────────┴────────┴────────┴──────────────┴──────────────┘,\n",
       " shape: (145, 8)\n",
       " ┌────────────┬────────┬────────────┬───────────────┬────────┬────────┬──────────────┬──────────────┐\n",
       " │ First Name ┆ Gender ┆ Start Date ┆ Last Login    ┆ Salary ┆ Bonus  ┆ Senior       ┆ Team         │\n",
       " │ ---        ┆ ---    ┆ ---        ┆ Time          ┆ ---    ┆ ---    ┆ Management   ┆ ---          │\n",
       " │ str        ┆ str    ┆ date       ┆ ---           ┆ i32    ┆ f64    ┆ ---          ┆ str          │\n",
       " │            ┆        ┆            ┆ time          ┆        ┆        ┆ bool         ┆              │\n",
       " ╞════════════╪════════╪════════════╪═══════════════╪════════╪════════╪══════════════╪══════════════╡\n",
       " │ Lois       ┆ null   ┆ 1995-04-22 ┆ 19:18:00      ┆ 64714  ┆ 4.934  ┆ true         ┆ Legal        │\n",
       " │ Joshua     ┆ null   ┆ 2012-03-08 ┆ 01:58:00      ┆ 90816  ┆ 18.816 ┆ true         ┆ Client       │\n",
       " │            ┆        ┆            ┆               ┆        ┆        ┆              ┆ Services     │\n",
       " │ Scott      ┆ null   ┆ 1991-07-11 ┆ 18:58:00      ┆ 122367 ┆ 5.218  ┆ false        ┆ Legal        │\n",
       " │ Joyce      ┆ null   ┆ 2005-02-20 ┆ 14:40:00      ┆ 88657  ┆ 12.752 ┆ false        ┆ Product      │\n",
       " │ Christine  ┆ null   ┆ 2015-06-28 ┆ 01:08:00      ┆ 66582  ┆ 11.308 ┆ true         ┆ Business     │\n",
       " │            ┆        ┆            ┆               ┆        ┆        ┆              ┆ Development  │\n",
       " │ Chris      ┆ null   ┆ 1980-01-24 ┆ 12:13:00      ┆ 113590 ┆ 3.055  ┆ false        ┆ Sales        │\n",
       " │ null       ┆ null   ┆ 2011-12-17 ┆ 08:29:00      ┆ 41126  ┆ 14.009 ┆ null         ┆ Sales        │\n",
       " │ Alan       ┆ null   ┆ 2014-03-03 ┆ 13:28:00      ┆ 40341  ┆ 17.578 ┆ true         ┆ Finance      │\n",
       " │ Paula      ┆ null   ┆ 2005-11-23 ┆ 14:01:00      ┆ 48866  ┆ 4.271  ┆ false        ┆ Distribution │\n",
       " │ Kathleen   ┆ null   ┆ 1990-04-11 ┆ 18:46:00      ┆ 77834  ┆ 18.771 ┆ false        ┆ Business     │\n",
       " │            ┆        ┆            ┆               ┆        ┆        ┆              ┆ Development  │\n",
       " │ Irene      ┆ null   ┆ 2015-07-14 ┆ 16:31:00      ┆ 100863 ┆ 4.382  ┆ true         ┆ Finance      │\n",
       " │ Todd       ┆ null   ┆ 2003-06-10 ┆ 14:26:00      ┆ 84692  ┆ 6.617  ┆ false        ┆ Client       │\n",
       " │            ┆        ┆            ┆               ┆        ┆        ┆              ┆ Services     │\n",
       " │ Gerald     ┆ null   ┆ 1995-03-17 ┆ 00:50:00      ┆ 137126 ┆ 15.602 ┆ true         ┆ Sales        │\n",
       " │ Annie      ┆ null   ┆ 2007-09-29 ┆ 00:11:00      ┆ 103495 ┆ 17.29  ┆ true         ┆ Business     │\n",
       " │            ┆        ┆            ┆               ┆        ┆        ┆              ┆ Development  │\n",
       " │ Janice     ┆ null   ┆ 1997-08-21 ┆ 05:12:00      ┆ 91719  ┆ 11.583 ┆ true         ┆ Legal        │\n",
       " │ James      ┆ null   ┆ 2005-01-26 ┆ 23:00:00      ┆ 128771 ┆ 8.309  ┆ false        ┆ null         │\n",
       " │ Virginia   ┆ null   ┆ 1994-05-07 ┆ 17:58:00      ┆ 111858 ┆ 1.601  ┆ true         ┆ Legal        │\n",
       " │ Laura      ┆ null   ┆ 2014-07-19 ┆ 21:23:00      ┆ 140371 ┆ 10.62  ┆ true         ┆ Marketing    │\n",
       " │ Russell    ┆ null   ┆ 1988-05-05 ┆ 07:57:00      ┆ 133980 ┆ 12.396 ┆ true         ┆ Legal        │\n",
       " │ Kathleen   ┆ null   ┆ 2016-05-09 ┆ 08:55:00      ┆ 119735 ┆ 18.74  ┆ false        ┆ Product      │\n",
       " │ Teresa     ┆ null   ┆ 2016-01-28 ┆ 10:55:00      ┆ 140013 ┆ 8.689  ┆ true         ┆ Engineering  │\n",
       " │ Nicole     ┆ null   ┆ 1982-03-05 ┆ 14:28:00      ┆ 122717 ┆ 12.452 ┆ false        ┆ Sales        │\n",
       " │ Patrick    ┆ null   ┆ 1991-07-14 ┆ 02:24:00      ┆ 124488 ┆ 14.837 ┆ true         ┆ Sales        │\n",
       " │ Brandon    ┆ null   ┆ 1997-11-03 ┆ 20:17:00      ┆ 121333 ┆ 15.295 ┆ false        ┆ Business     │\n",
       " │            ┆        ┆            ┆               ┆        ┆        ┆              ┆ Development  │\n",
       " │ Victor     ┆ null   ┆ 2011-03-10 ┆ 20:40:00      ┆ 84546  ┆ 10.489 ┆ true         ┆ Finance      │\n",
       " │ James      ┆ null   ┆ 1983-11-22 ┆ 22:52:00      ┆ 68501  ┆ 14.316 ┆ false        ┆ Marketing    │\n",
       " │ Marilyn    ┆ null   ┆ 1999-08-22 ┆ 09:09:00      ┆ 103386 ┆ 11.451 ┆ false        ┆ Distribution │\n",
       " │ Peter      ┆ null   ┆ 1987-09-03 ┆ 17:59:00      ┆ 38989  ┆ 7.017  ┆ true         ┆ Marketing    │\n",
       " │ null       ┆ null   ┆ 2007-09-18 ┆ 18:59:00      ┆ 40297  ┆ 6.185  ┆ null         ┆ Client       │\n",
       " │            ┆        ┆            ┆               ┆        ┆        ┆              ┆ Services     │\n",
       " │ Ruth       ┆ null   ┆ 1999-05-18 ┆ 05:56:00      ┆ 98233  ┆ 2.518  ┆ true         ┆ Distribution │\n",
       " │ Barbara    ┆ null   ┆ 2003-05-03 ┆ 19:32:00      ┆ 99326  ┆ 16.475 ┆ true         ┆ Legal        │\n",
       " │ Gregory    ┆ null   ┆ 1992-06-15 ┆ 05:08:00      ┆ 98865  ┆ 10.628 ┆ true         ┆ Finance      │\n",
       " │ George     ┆ null   ┆ 1988-02-24 ┆ 11:29:00      ┆ 38375  ┆ 8.999  ┆ false        ┆ Legal        │\n",
       " │ Lillian    ┆ null   ┆ 2016-05-12 ┆ 15:43:00      ┆ 64164  ┆ 17.612 ┆ false        ┆ Human        │\n",
       " │            ┆        ┆            ┆               ┆        ┆        ┆              ┆ Resources    │\n",
       " │ Phyllis    ┆ null   ┆ 1984-04-21 ┆ 19:05:00      ┆ 94088  ┆ 19.107 ┆ false        ┆ Distribution │\n",
       " │ Fred       ┆ null   ┆ 1984-12-02 ┆ 14:03:00      ┆ 59937  ┆ 12.045 ┆ true         ┆ Human        │\n",
       " │            ┆        ┆            ┆               ┆        ┆        ┆              ┆ Resources    │\n",
       " │ Brenda     ┆ null   ┆ 2010-07-27 ┆ 23:07:00      ┆ 106115 ┆ 3.742  ┆ true         ┆ Product      │\n",
       " │ Randy      ┆ null   ┆ 1986-02-06 ┆ 15:04:00      ┆ 133943 ┆ 8.94   ┆ true         ┆ Sales        │\n",
       " │ Sharon     ┆ null   ┆ 1990-03-01 ┆ 03:46:00      ┆ 83658  ┆ 6.513  ┆ false        ┆ Business     │\n",
       " │            ┆        ┆            ┆               ┆        ┆        ┆              ┆ Development  │\n",
       " │ null       ┆ null   ┆ 2003-04-28 ┆ 03:01:00      ┆ 113732 ┆ 10.391 ┆ null         ┆ Sales        │\n",
       " │ Sarah      ┆ null   ┆ 1985-11-21 ┆ 13:08:00      ┆ 58295  ┆ 14.603 ┆ true         ┆ Engineering  │\n",
       " │ Frank      ┆ null   ┆ 2001-11-20 ┆ 10:18:00      ┆ 58563  ┆ 12.062 ┆ true         ┆ Marketing    │\n",
       " │ Brenda     ┆ null   ┆ 1991-05-29 ┆ 06:32:00      ┆ 82439  ┆ 19.062 ┆ false        ┆ Sales        │\n",
       " │ Carl       ┆ null   ┆ 2014-02-07 ┆ 03:57:00      ┆ 125104 ┆ 12.345 ┆ false        ┆ Client       │\n",
       " │            ┆        ┆            ┆               ┆        ┆        ┆              ┆ Services     │\n",
       " │ Walter     ┆ null   ┆ 1999-12-21 ┆ 22:33:00      ┆ 66757  ┆ 18.099 ┆ false        ┆ Distribution │\n",
       " │ Jeremy     ┆ null   ┆ 1996-11-10 ┆ 13:49:00      ┆ 55394  ┆ 3.18   ┆ true         ┆ Sales        │\n",
       " │ Patrick    ┆ null   ┆ 2004-08-30 ┆ 11:43:00      ┆ 137314 ┆ 4.542  ┆ true         ┆ Marketing    │\n",
       " │ Joan       ┆ null   ┆ 1980-07-25 ┆ 12:22:00      ┆ 38712  ┆ 3.657  ┆ false        ┆ Client       │\n",
       " │            ┆        ┆            ┆               ┆        ┆        ┆              ┆ Services     │\n",
       " │ Ernest     ┆ null   ┆ 2002-01-18 ┆ 01:51:00      ┆ 72145  ┆ 13.448 ┆ true         ┆ Finance      │\n",
       " │ Bobby      ┆ null   ┆ 1995-09-01 ┆ 14:09:00      ┆ 108127 ┆ 15.858 ┆ false        ┆ Client       │\n",
       " │            ┆        ┆            ┆               ┆        ┆        ┆              ┆ Services     │\n",
       " │ …          ┆ …      ┆ …          ┆ …             ┆ …      ┆ …      ┆ …            ┆ …            │\n",
       " │ Mary       ┆ null   ┆ 1986-12-24 ┆ 19:02:00      ┆ 100341 ┆ 6.662  ┆ false        ┆ Distribution │\n",
       " │ Harold     ┆ null   ┆ 2004-02-04 ┆ 11:02:00      ┆ 79459  ┆ 7.776  ┆ true         ┆ Business     │\n",
       " │            ┆        ┆            ┆               ┆        ┆        ┆              ┆ Development  │\n",
       " │ Douglas    ┆ null   ┆ 2009-02-04 ┆ 02:03:00      ┆ 104496 ┆ 14.771 ┆ true         ┆ Marketing    │\n",
       " │ Joseph     ┆ null   ┆ 1982-03-28 ┆ 13:05:00      ┆ 86564  ┆ 11.879 ┆ true         ┆ null         │\n",
       " │ Robin      ┆ null   ┆ 2005-12-20 ┆ 14:42:00      ┆ 41230  ┆ 6.611  ┆ true         ┆ Distribution │\n",
       " │ Paul       ┆ null   ┆ 2011-02-18 ┆ 12:23:00      ┆ 91462  ┆ 18.704 ┆ false        ┆ Finance      │\n",
       " │ Julie      ┆ null   ┆ 1980-05-08 ┆ 06:31:00      ┆ 50529  ┆ 17.263 ┆ false        ┆ Finance      │\n",
       " │ Barbara    ┆ null   ┆ 2002-08-02 ┆ 05:13:00      ┆ 43312  ┆ 8.218  ┆ true         ┆ Legal        │\n",
       " │ Amy        ┆ null   ┆ 1984-05-19 ┆ 11:47:00      ┆ 102839 ┆ 10.385 ┆ true         ┆ Distribution │\n",
       " │ Robin      ┆ null   ┆ 2005-09-16 ┆ 01:26:00      ┆ 93201  ┆ 11.712 ┆ true         ┆ Legal        │\n",
       " │ Brandon    ┆ null   ┆ 2004-05-31 ┆ 15:36:00      ┆ 73587  ┆ 9.769  ┆ true         ┆ Human        │\n",
       " │            ┆        ┆            ┆               ┆        ┆        ┆              ┆ Resources    │\n",
       " │ Martin     ┆ null   ┆ 2001-02-06 ┆ 04:17:00      ┆ 123963 ┆ 15.745 ┆ true         ┆ Engineering  │\n",
       " │ Jason      ┆ null   ┆ 1988-04-15 ┆ 20:16:00      ┆ 97480  ┆ 11.518 ┆ false        ┆ Human        │\n",
       " │            ┆        ┆            ┆               ┆        ┆        ┆              ┆ Resources    │\n",
       " │ Brandon    ┆ null   ┆ 1992-09-05 ┆ 02:32:00      ┆ 144187 ┆ 11.416 ┆ true         ┆ Legal        │\n",
       " │ Russell    ┆ null   ┆ 2009-05-09 ┆ 11:59:00      ┆ 149456 ┆ 3.533  ┆ false        ┆ Marketing    │\n",
       " │ Judy       ┆ null   ┆ 2011-07-15 ┆ 15:38:00      ┆ 46829  ┆ 5.19   ┆ true         ┆ Finance      │\n",
       " │ Janet      ┆ null   ┆ 1986-01-25 ┆ 05:48:00      ┆ 85789  ┆ 9.712  ┆ false        ┆ Legal        │\n",
       " │ Louis      ┆ null   ┆ 1983-02-05 ┆ 18:39:00      ┆ 145274 ┆ 16.379 ┆ false        ┆ Product      │\n",
       " │ Carl       ┆ null   ┆ 2007-08-18 ┆ 08:01:00      ┆ 98295  ┆ 7.617  ┆ true         ┆ Legal        │\n",
       " │ Alice      ┆ null   ┆ 1995-04-23 ┆ 06:35:00      ┆ 148339 ┆ 11.479 ┆ true         ┆ Finance      │\n",
       " │ Samuel     ┆ null   ┆ 2002-10-07 ┆ 03:08:00      ┆ 141305 ┆ 9.849  ┆ true         ┆ Marketing    │\n",
       " │ null       ┆ null   ┆ 1991-04-15 ┆ 03:39:00      ┆ 132505 ┆ 13.592 ┆ null         ┆ Product      │\n",
       " │ Michelle   ┆ null   ┆ 2012-03-31 ┆ 06:28:00      ┆ 124441 ┆ 16.353 ┆ false        ┆ Business     │\n",
       " │            ┆        ┆            ┆               ┆        ┆        ┆              ┆ Development  │\n",
       " │ Anne       ┆ null   ┆ 1996-04-18 ┆ 23:57:00      ┆ 122762 ┆ 9.564  ┆ false        ┆ Distribution │\n",
       " │ Theresa    ┆ null   ┆ 1995-10-07 ┆ 10:16:00      ┆ 42025  ┆ 3.319  ┆ true         ┆ Human        │\n",
       " │            ┆        ┆            ┆               ┆        ┆        ┆              ┆ Resources    │\n",
       " │ Maria      ┆ null   ┆ 1986-01-18 ┆ 20:36:00      ┆ 106562 ┆ 4.0    ┆ false        ┆ Human        │\n",
       " │            ┆        ┆            ┆               ┆        ┆        ┆              ┆ Resources    │\n",
       " │ Robert     ┆ null   ┆ 2000-12-04 ┆ 01:20:00      ┆ 69267  ┆ 5.89   ┆ true         ┆ Sales        │\n",
       " │ null       ┆ null   ┆ 1988-08-01 ┆ 01:35:00      ┆ 87103  ┆ 5.665  ┆ null         ┆ null         │\n",
       " │ Jesse      ┆ null   ┆ 2014-07-16 ┆ 02:24:00      ┆ 98811  ┆ 7.487  ┆ false        ┆ Legal        │\n",
       " │ Carl       ┆ null   ┆ 1982-02-11 ┆ 07:54:00      ┆ 49325  ┆ 2.071  ┆ true         ┆ Business     │\n",
       " │            ┆        ┆            ┆               ┆        ┆        ┆              ┆ Development  │\n",
       " │ Maria      ┆ null   ┆ 1985-06-19 ┆ 01:48:00      ┆ 148857 ┆ 8.738  ┆ false        ┆ Legal        │\n",
       " │ Nicole     ┆ null   ┆ 1981-05-02 ┆ 12:03:00      ┆ 41449  ┆ 4.707  ┆ false        ┆ Finance      │\n",
       " │ Phillip    ┆ null   ┆ 2003-10-20 ┆ 11:09:00      ┆ 89700  ┆ 2.277  ┆ true         ┆ null         │\n",
       " │ Bonnie     ┆ null   ┆ 2006-01-18 ┆ 18:52:00      ┆ 108946 ┆ 12.211 ┆ false        ┆ Finance      │\n",
       " │ Cynthia    ┆ null   ┆ 1996-11-19 ┆ 22:40:00      ┆ 107816 ┆ 18.751 ┆ false        ┆ Marketing    │\n",
       " │ Terry      ┆ null   ┆ 1992-09-11 ┆ 16:41:00      ┆ 41238  ┆ 8.219  ┆ false        ┆ Marketing    │\n",
       " │ Robert     ┆ null   ┆ 2007-05-25 ┆ 03:17:00      ┆ 90998  ┆ 8.382  ┆ false        ┆ Finance      │\n",
       " │ Sara       ┆ null   ┆ 2014-11-18 ┆ 14:47:00      ┆ 135990 ┆ 14.344 ┆ true         ┆ Distribution │\n",
       " │ Janice     ┆ null   ┆ 1991-11-19 ┆ 18:02:00      ┆ 139791 ┆ 16.968 ┆ false        ┆ Business     │\n",
       " │            ┆        ┆            ┆               ┆        ┆        ┆              ┆ Development  │\n",
       " │ Kenneth    ┆ null   ┆ 1994-02-28 ┆ 10:10:00      ┆ 95296  ┆ 10.146 ┆ false        ┆ Finance      │\n",
       " │ Irene      ┆ null   ┆ 1991-02-28 ┆ 22:23:00      ┆ 135369 ┆ 4.38   ┆ false        ┆ Business     │\n",
       " │            ┆        ┆            ┆               ┆        ┆        ┆              ┆ Development  │\n",
       " │ Aaron      ┆ null   ┆ 1986-01-22 ┆ 19:39:00      ┆ 63126  ┆ 18.424 ┆ false        ┆ Client       │\n",
       " │            ┆        ┆            ┆               ┆        ┆        ┆              ┆ Services     │\n",
       " │ Mark       ┆ null   ┆ 2006-09-09 ┆ 12:27:00      ┆ 44836  ┆ 2.657  ┆ false        ┆ Client       │\n",
       " │            ┆        ┆            ┆               ┆        ┆        ┆              ┆ Services     │\n",
       " │ Ralph      ┆ null   ┆ 1995-07-28 ┆ 18:53:00      ┆ 70635  ┆ 2.147  ┆ false        ┆ Client       │\n",
       " │            ┆        ┆            ┆               ┆        ┆        ┆              ┆ Services     │\n",
       " │ Gerald     ┆ null   ┆ 1989-04-15 ┆ 12:44:00      ┆ 93712  ┆ 17.426 ┆ true         ┆ Distribution │\n",
       " │ Antonio    ┆ null   ┆ 1989-06-18 ┆ 21:37:00      ┆ 103050 ┆ 3.05   ┆ false        ┆ Legal        │\n",
       " │ Victor     ┆ null   ┆ 2006-07-28 ┆ 14:49:00      ┆ 76381  ┆ 11.159 ┆ true         ┆ Sales        │\n",
       " │ Stephen    ┆ null   ┆ 1983-07-10 ┆ 20:10:00      ┆ 85668  ┆ 1.909  ┆ false        ┆ Legal        │\n",
       " │ Justin     ┆ null   ┆ 1991-02-10 ┆ 16:58:00      ┆ 38344  ┆ 3.794  ┆ false        ┆ Legal        │\n",
       " │ Henry      ┆ null   ┆ 2014-11-23 ┆ 06:09:00      ┆ 132483 ┆ 16.655 ┆ false        ┆ Distribution │\n",
       " └────────────┴────────┴────────────┴───────────────┴────────┴────────┴──────────────┴──────────────┘]"
      ]
     },
     "execution_count": 78,
     "metadata": {},
     "output_type": "execute_result"
    }
   ],
   "source": [
    "# 특정 컬럼을 기준으로 파티션 나누어 출력\n",
    "\n",
    "df.partition_by('Gender')"
   ]
  },
  {
   "cell_type": "code",
   "execution_count": null,
   "metadata": {},
   "outputs": [],
   "source": [
    "battle\n",
    "  └── yyyy=2024\n",
    "       └── mm=10\n",
    "           ├── dd=01\n",
    "           │   └── battle.parquet\n",
    "           ├── dd=02\n",
    "           │   └── battle.parquet\n",
    "           ├── dd=03\n",
    "           │   └── battle.parquet\n",
    "           └── dd=04\n",
    "               └── battle.parquet"
   ]
  },
  {
   "cell_type": "code",
   "execution_count": 4,
   "metadata": {},
   "outputs": [
    {
     "data": {
      "text/plain": [
       "['id',\n",
       " 'player1_id',\n",
       " 'player2_id',\n",
       " 'winner_id',\n",
       " 'battle_date',\n",
       " 'battle_datetime',\n",
       " 'battle_timestamp',\n",
       " 'yyyy',\n",
       " 'mm',\n",
       " 'dd']"
      ]
     },
     "execution_count": 4,
     "metadata": {},
     "output_type": "execute_result"
    }
   ],
   "source": [
    "battle = pl.read_parquet(\n",
    "    source='../dataset/parquet_partition/battle/',\n",
    "    hive_partitioning=True\n",
    "    )\n",
    "\n",
    "battle.columns"
   ]
  },
  {
   "cell_type": "code",
   "execution_count": 83,
   "metadata": {},
   "outputs": [],
   "source": [
    "battle.write_parquet(\n",
    "    file=\"test_path\",\n",
    "    partition_by=['yyyy','mm','dd']\n",
    "    )"
   ]
  },
  {
   "cell_type": "code",
   "execution_count": 84,
   "metadata": {},
   "outputs": [],
   "source": [
    "import pandas as pd\n",
    "\n",
    "aaa = battle.to_pandas()"
   ]
  },
  {
   "cell_type": "code",
   "execution_count": null,
   "metadata": {},
   "outputs": [],
   "source": [
    "aaa.to_parquet(\n",
    "    \"hahaha\",\n",
    "    partition_cols=['yyyy','mm','dd']\n",
    "    )"
   ]
  },
  {
   "cell_type": "markdown",
   "metadata": {},
   "source": [
    "## 3. Lazy Frame"
   ]
  },
  {
   "cell_type": "code",
   "execution_count": 19,
   "metadata": {},
   "outputs": [
    {
     "data": {
      "text/plain": [
       "polars.dataframe.frame.DataFrame"
      ]
     },
     "execution_count": 19,
     "metadata": {},
     "output_type": "execute_result"
    }
   ],
   "source": [
    "lf = pl.scan_csv(\"../dataset/emp.csv\")\n",
    "\n",
    "type(lf.collect())"
   ]
  },
  {
   "cell_type": "code",
   "execution_count": 16,
   "metadata": {},
   "outputs": [
    {
     "data": {
      "text/html": [
       "<h4>NAIVE QUERY PLAN</h4><p>run <b>LazyFrame.show_graph()</b> to see the optimized version</p><?xml version=\"1.0\" encoding=\"UTF-8\" standalone=\"no\"?>\r\n",
       "<!DOCTYPE svg PUBLIC \"-//W3C//DTD SVG 1.1//EN\"\r\n",
       " \"http://www.w3.org/Graphics/SVG/1.1/DTD/svg11.dtd\">\r\n",
       "<!-- Generated by graphviz version 2.48.0 (20210717.1556)\r\n",
       " -->\r\n",
       "<!-- Title: polars_query Pages: 1 -->\r\n",
       "<svg width=\"202pt\" height=\"118pt\"\r\n",
       " viewBox=\"0.00 0.00 202.00 118.00\" xmlns=\"http://www.w3.org/2000/svg\" xmlns:xlink=\"http://www.w3.org/1999/xlink\">\r\n",
       "<g id=\"graph0\" class=\"graph\" transform=\"scale(1 1) rotate(0) translate(4 114)\">\r\n",
       "<title>polars_query</title>\r\n",
       "<polygon fill=\"white\" stroke=\"transparent\" points=\"-4,4 -4,-114 198,-114 198,4 -4,4\"/>\r\n",
       "<!-- p1 -->\r\n",
       "<g id=\"node1\" class=\"node\">\r\n",
       "<title>p1</title>\r\n",
       "<polygon fill=\"none\" stroke=\"black\" points=\"124,-110 70,-110 70,-74 124,-74 124,-110\"/>\r\n",
       "<text text-anchor=\"middle\" x=\"97\" y=\"-88.3\" font-family=\"Times New Roman,serif\" font-size=\"14.00\">π 1/1</text>\r\n",
       "</g>\r\n",
       "<!-- p2 -->\r\n",
       "<g id=\"node2\" class=\"node\">\r\n",
       "<title>p2</title>\r\n",
       "<polygon fill=\"none\" stroke=\"black\" points=\"194,-38 0,-38 0,0 194,0 194,-38\"/>\r\n",
       "<text text-anchor=\"middle\" x=\"97\" y=\"-22.8\" font-family=\"Times New Roman,serif\" font-size=\"14.00\">Csv SCAN [../dataset/emp.csv]</text>\r\n",
       "<text text-anchor=\"middle\" x=\"97\" y=\"-7.8\" font-family=\"Times New Roman,serif\" font-size=\"14.00\">π */8;</text>\r\n",
       "</g>\r\n",
       "<!-- p1&#45;&#45;p2 -->\r\n",
       "<g id=\"edge1\" class=\"edge\">\r\n",
       "<title>p1&#45;&#45;p2</title>\r\n",
       "<path fill=\"none\" stroke=\"black\" d=\"M97,-73.81C97,-62.98 97,-49.01 97,-38.02\"/>\r\n",
       "</g>\r\n",
       "</g>\r\n",
       "</svg>\r\n"
      ],
      "text/plain": [
       "<LazyFrame at 0x1A58EF9B220>"
      ]
     },
     "execution_count": 16,
     "metadata": {},
     "output_type": "execute_result"
    }
   ],
   "source": [
    "lf.select(pl.first())"
   ]
  },
  {
   "cell_type": "code",
   "execution_count": 9,
   "metadata": {},
   "outputs": [
    {
     "name": "stdout",
     "output_type": "stream",
     "text": [
      "{'show_graph', '_fetch', '_from_pyldf', '_ldf', 'explain', 'collect_async', 'sink_ipc', '_set_sink_optimizations', 'sink_parquet', 'fetch', 'collect', 'with_context', 'profile', 'sink_ndjson', 'first', '_scan_python_function', 'sink_csv', 'inspect', '_comparison_error', 'map_batches', 'cache', 'last'}\n"
     ]
    }
   ],
   "source": [
    "aa = dir(df)\n",
    "bb = dir(lf)\n",
    "\n",
    "print(set(bb) - set(aa))"
   ]
  },
  {
   "cell_type": "code",
   "execution_count": null,
   "metadata": {},
   "outputs": [],
   "source": [
    "show_graph\n",
    "explain\n",
    "sink_csv, sink_parquet\n",
    "fetch\n",
    "profile\n",
    "inspect\n"
   ]
  },
  {
   "cell_type": "code",
   "execution_count": 40,
   "metadata": {},
   "outputs": [],
   "source": [
    "lazy_df = lf.group_by('Team').agg(\n",
    "    cnt = pl.count('Team'),\n",
    "    max_sal = pl.max('Salary'),\n",
    "    mean_sal = pl.mean('Salary'),\n",
    "    min_sal = pl.min('Salary'),\n",
    "    mean_bonus = pl.mean('Bonus'),\n",
    "    ).sort('mean_sal', descending=True)"
   ]
  },
  {
   "cell_type": "code",
   "execution_count": 45,
   "metadata": {},
   "outputs": [
    {
     "data": {
      "text/plain": [
       "Schema([('First Name', String),\n",
       "        ('Gender', String),\n",
       "        ('Start Date', String),\n",
       "        ('Last Login Time', String),\n",
       "        ('Salary', Int64),\n",
       "        ('Bonus', Float64),\n",
       "        ('Senior Management', Boolean),\n",
       "        ('Team', String)])"
      ]
     },
     "execution_count": 46,
     "metadata": {},
     "output_type": "execute_result"
    }
   ],
   "source": [
    "lf.collect_schema()"
   ]
  },
  {
   "cell_type": "code",
   "execution_count": 54,
   "metadata": {},
   "outputs": [
    {
     "data": {
      "image/svg+xml": [
       "<svg xmlns=\"http://www.w3.org/2000/svg\" xmlns:xlink=\"http://www.w3.org/1999/xlink\" width=\"1130pt\" height=\"281pt\" viewBox=\"0.00 0.00 1130.00 281.00\">\n",
       "<g id=\"graph0\" class=\"graph\" transform=\"scale(1 1) rotate(0) translate(4 277)\">\n",
       "<title>polars_query</title>\n",
       "<polygon fill=\"white\" stroke=\"transparent\" points=\"-4,4 -4,-277 1126,-277 1126,4 -4,4\"/>\n",
       "<!-- p1 -->\n",
       "<g id=\"node1\" class=\"node\">\n",
       "<title>p1</title>\n",
       "<polygon fill=\"none\" stroke=\"black\" points=\"650.5,-273 471.5,-273 471.5,-237 650.5,-237 650.5,-273\"/>\n",
       "<text text-anchor=\"middle\" x=\"561\" y=\"-251.3\" font-family=\"Times New Roman,serif\" font-size=\"14.00\">SORT BY [col(&quot;mean_sal&quot;)]</text>\n",
       "</g>\n",
       "<!-- p2 -->\n",
       "<g id=\"node2\" class=\"node\">\n",
       "<title>p2</title>\n",
       "<polygon fill=\"none\" stroke=\"black\" points=\"1122,-201 0,-201 0,-148 1122,-148 1122,-201\"/>\n",
       "<text text-anchor=\"middle\" x=\"561\" y=\"-185.8\" font-family=\"Times New Roman,serif\" font-size=\"14.00\">AGG [col(&quot;Team&quot;).count().alias(&quot;cnt&quot;), col(&quot;Salary&quot;).max().alias(&quot;max_sal&quot;), col(&quot;Salary&quot;).mean().alias(&quot;mean_sal&quot;), col(&quot;Salary&quot;).min().alias(&quot;min_sal&quot;), col(&quot;Bonus&quot;).mean().alias(&quot;mean_bonus&quot;)]</text>\n",
       "<text text-anchor=\"middle\" x=\"561\" y=\"-170.8\" font-family=\"Times New Roman,serif\" font-size=\"14.00\">BY</text>\n",
       "<text text-anchor=\"middle\" x=\"561\" y=\"-155.8\" font-family=\"Times New Roman,serif\" font-size=\"14.00\">[col(&quot;Team&quot;)]</text>\n",
       "</g>\n",
       "<!-- p1&#45;&#45;p2 -->\n",
       "<g id=\"edge1\" class=\"edge\">\n",
       "<title>p1--p2</title>\n",
       "<path fill=\"none\" stroke=\"black\" d=\"M561,-236.97C561,-226.51 561,-212.9 561,-201.16\"/>\n",
       "</g>\n",
       "<!-- p3 -->\n",
       "<g id=\"node3\" class=\"node\">\n",
       "<title>p3</title>\n",
       "<polygon fill=\"none\" stroke=\"black\" points=\"650.5,-112 471.5,-112 471.5,-74 650.5,-74 650.5,-112\"/>\n",
       "<text text-anchor=\"middle\" x=\"561\" y=\"-96.8\" font-family=\"Times New Roman,serif\" font-size=\"14.00\">simple π 3/3</text>\n",
       "<text text-anchor=\"middle\" x=\"561\" y=\"-81.8\" font-family=\"Times New Roman,serif\" font-size=\"14.00\">[&quot;Team&quot;, &quot;Salary&quot;, &quot;Bonus&quot;]</text>\n",
       "</g>\n",
       "<!-- p2&#45;&#45;p3 -->\n",
       "<g id=\"edge2\" class=\"edge\">\n",
       "<title>p2--p3</title>\n",
       "<path fill=\"none\" stroke=\"black\" d=\"M561,-147.91C561,-136.29 561,-122.81 561,-112.24\"/>\n",
       "</g>\n",
       "<!-- p4 -->\n",
       "<g id=\"node4\" class=\"node\">\n",
       "<title>p4</title>\n",
       "<polygon fill=\"none\" stroke=\"black\" points=\"658,-38 464,-38 464,0 658,0 658,-38\"/>\n",
       "<text text-anchor=\"middle\" x=\"561\" y=\"-22.8\" font-family=\"Times New Roman,serif\" font-size=\"14.00\">Csv SCAN [../dataset/emp.csv]</text>\n",
       "<text text-anchor=\"middle\" x=\"561\" y=\"-7.8\" font-family=\"Times New Roman,serif\" font-size=\"14.00\">π 3/8;</text>\n",
       "</g>\n",
       "<!-- p3&#45;&#45;p4 -->\n",
       "<g id=\"edge3\" class=\"edge\">\n",
       "<title>p3--p4</title>\n",
       "<path fill=\"none\" stroke=\"black\" d=\"M561,-73.83C561,-63 561,-49.29 561,-38.41\"/>\n",
       "</g>\n",
       "</g>\n",
       "</svg>"
      ],
      "text/plain": [
       "<IPython.core.display.SVG object>"
      ]
     },
     "metadata": {},
     "output_type": "display_data"
    }
   ],
   "source": [
    "lazy_df.show_graph(\n",
    "    # figsize=(5,16)\n",
    "    output_path=\"graph.pdf\"\n",
    "    )"
   ]
  },
  {
   "cell_type": "code",
   "execution_count": 48,
   "metadata": {},
   "outputs": [
    {
     "name": "stdout",
     "output_type": "stream",
     "text": [
      "SORT BY [col(\"mean_sal\")]\n",
      "  AGGREGATE\n",
      "  \t[col(\"Team\").count().alias(\"cnt\"), col(\"Salary\").max().alias(\"max_sal\"), col(\"Salary\").mean().alias(\"mean_sal\"), col(\"Salary\").min().alias(\"min_sal\"), col(\"Bonus\").mean().alias(\"mean_bonus\")] BY [col(\"Team\")] FROM\n",
      "    simple π 3/3 [\"Team\", \"Salary\", \"Bonus\"]\n",
      "      Csv SCAN [../dataset/emp.csv]\n",
      "      PROJECT 3/8 COLUMNS\n"
     ]
    }
   ],
   "source": [
    "print(lazy_df.explain())"
   ]
  },
  {
   "cell_type": "code",
   "execution_count": null,
   "metadata": {},
   "outputs": [],
   "source": [
    "# 결과를 CSV 파일로 저장\n",
    "lazy_df.sink_csv(\"output.csv\")\n",
    "\n",
    "# 결과를 Parquet 파일로 저장\n",
    "lazy_df.sink_parquet(\"output.parquet\")\n"
   ]
  },
  {
   "cell_type": "code",
   "execution_count": 57,
   "metadata": {},
   "outputs": [
    {
     "name": "stderr",
     "output_type": "stream",
     "text": [
      "C:\\Users\\YEIN\\AppData\\Local\\Temp\\ipykernel_2220\\2761988666.py:1: DeprecationWarning: `LazyFrame.fetch` is deprecated. `LazyFrame.fetch` is deprecated; use `LazyFrame.collect` instead, in conjunction with a call to `head`.\n",
      "  type(lazy_df.fetch(10))\n"
     ]
    },
    {
     "data": {
      "text/plain": [
       "polars.dataframe.frame.DataFrame"
      ]
     },
     "execution_count": 57,
     "metadata": {},
     "output_type": "execute_result"
    }
   ],
   "source": [
    "lazy_df.fetch(10)\n"
   ]
  },
  {
   "cell_type": "code",
   "execution_count": 51,
   "metadata": {},
   "outputs": [
    {
     "data": {
      "text/plain": [
       "(shape: (11, 6)\n",
       " ┌──────────────────────┬─────┬─────────┬──────────────┬─────────┬────────────┐\n",
       " │ Team                 ┆ cnt ┆ max_sal ┆ mean_sal     ┆ min_sal ┆ mean_bonus │\n",
       " │ ---                  ┆ --- ┆ ---     ┆ ---          ┆ ---     ┆ ---        │\n",
       " │ str                  ┆ u32 ┆ i64     ┆ f64          ┆ i64     ┆ f64        │\n",
       " ╞══════════════════════╪═════╪═════════╪══════════════╪═════════╪════════════╡\n",
       " │ Engineering          ┆ 92  ┆ 147362  ┆ 94269.195652 ┆ 36946   ┆ 10.462989  │\n",
       " │ Finance              ┆ 102 ┆ 149908  ┆ 92219.480392 ┆ 35381   ┆ 10.186873  │\n",
       " │ Sales                ┆ 94  ┆ 149654  ┆ 92173.43617  ┆ 35802   ┆ 10.116915  │\n",
       " │ Business Development ┆ 101 ┆ 147417  ┆ 91866.316832 ┆ 36844   ┆ 10.572376  │\n",
       " │ Human Resources      ┆ 91  ┆ 149903  ┆ 90944.527473 ┆ 35203   ┆ 9.993879   │\n",
       " │ null                 ┆ 0   ┆ 148291  ┆ 90763.139535 ┆ 37919   ┆ 10.384395  │\n",
       " │ Marketing            ┆ 98  ┆ 149456  ┆ 90435.591837 ┆ 36643   ┆ 10.353449  │\n",
       " │ Legal                ┆ 88  ┆ 148985  ┆ 89303.613636 ┆ 35061   ┆ 10.32283   │\n",
       " │ Product              ┆ 95  ┆ 149684  ┆ 88665.505263 ┆ 35013   ┆ 9.791484   │\n",
       " │ Distribution         ┆ 90  ┆ 149105  ┆ 88500.466667 ┆ 35575   ┆ 9.615644   │\n",
       " │ Client Services      ┆ 106 ┆ 147183  ┆ 88224.424528 ┆ 35095   ┆ 10.495104  │\n",
       " └──────────────────────┴─────┴─────────┴──────────────┴─────────┴────────────┘,\n",
       " shape: (5, 3)\n",
       " ┌─────────────────────────────────┬───────┬──────┐\n",
       " │ node                            ┆ start ┆ end  │\n",
       " │ ---                             ┆ ---   ┆ ---  │\n",
       " │ str                             ┆ u64   ┆ u64  │\n",
       " ╞═════════════════════════════════╪═══════╪══════╡\n",
       " │ optimization                    ┆ 0     ┆ 5    │\n",
       " │ csv(../dataset/emp.csv)         ┆ 5     ┆ 598  │\n",
       " │ simple-projection(Team, Salary… ┆ 600   ┆ 607  │\n",
       " │ group_by(Team)                  ┆ 609   ┆ 1180 │\n",
       " │ sort(mean_sal)                  ┆ 1185  ┆ 1244 │\n",
       " └─────────────────────────────────┴───────┴──────┘)"
      ]
     },
     "execution_count": 51,
     "metadata": {},
     "output_type": "execute_result"
    }
   ],
   "source": [
    "lazy_df.profile()"
   ]
  },
  {
   "cell_type": "code",
   "execution_count": 35,
   "metadata": {},
   "outputs": [
    {
     "data": {
      "image/svg+xml": [
       "<svg xmlns=\"http://www.w3.org/2000/svg\" xmlns:xlink=\"http://www.w3.org/1999/xlink\" width=\"1130pt\" height=\"281pt\" viewBox=\"0.00 0.00 1130.00 281.00\">\n",
       "<g id=\"graph0\" class=\"graph\" transform=\"scale(1 1) rotate(0) translate(4 277)\">\n",
       "<title>polars_query</title>\n",
       "<polygon fill=\"white\" stroke=\"transparent\" points=\"-4,4 -4,-277 1126,-277 1126,4 -4,4\"/>\n",
       "<!-- p1 -->\n",
       "<g id=\"node1\" class=\"node\">\n",
       "<title>p1</title>\n",
       "<polygon fill=\"none\" stroke=\"black\" points=\"650.5,-273 471.5,-273 471.5,-237 650.5,-237 650.5,-273\"/>\n",
       "<text text-anchor=\"middle\" x=\"561\" y=\"-251.3\" font-family=\"Times New Roman,serif\" font-size=\"14.00\">SORT BY [col(&quot;mean_sal&quot;)]</text>\n",
       "</g>\n",
       "<!-- p2 -->\n",
       "<g id=\"node2\" class=\"node\">\n",
       "<title>p2</title>\n",
       "<polygon fill=\"none\" stroke=\"black\" points=\"1122,-201 0,-201 0,-148 1122,-148 1122,-201\"/>\n",
       "<text text-anchor=\"middle\" x=\"561\" y=\"-185.8\" font-family=\"Times New Roman,serif\" font-size=\"14.00\">AGG [col(&quot;Team&quot;).count().alias(&quot;cnt&quot;), col(&quot;Salary&quot;).max().alias(&quot;max_sal&quot;), col(&quot;Salary&quot;).mean().alias(&quot;mean_sal&quot;), col(&quot;Salary&quot;).min().alias(&quot;min_sal&quot;), col(&quot;Bonus&quot;).mean().alias(&quot;mean_bonus&quot;)]</text>\n",
       "<text text-anchor=\"middle\" x=\"561\" y=\"-170.8\" font-family=\"Times New Roman,serif\" font-size=\"14.00\">BY</text>\n",
       "<text text-anchor=\"middle\" x=\"561\" y=\"-155.8\" font-family=\"Times New Roman,serif\" font-size=\"14.00\">[col(&quot;Team&quot;)]</text>\n",
       "</g>\n",
       "<!-- p1&#45;&#45;p2 -->\n",
       "<g id=\"edge1\" class=\"edge\">\n",
       "<title>p1--p2</title>\n",
       "<path fill=\"none\" stroke=\"black\" d=\"M561,-236.97C561,-226.51 561,-212.9 561,-201.16\"/>\n",
       "</g>\n",
       "<!-- p3 -->\n",
       "<g id=\"node3\" class=\"node\">\n",
       "<title>p3</title>\n",
       "<polygon fill=\"none\" stroke=\"black\" points=\"650.5,-112 471.5,-112 471.5,-74 650.5,-74 650.5,-112\"/>\n",
       "<text text-anchor=\"middle\" x=\"561\" y=\"-96.8\" font-family=\"Times New Roman,serif\" font-size=\"14.00\">simple π 3/3</text>\n",
       "<text text-anchor=\"middle\" x=\"561\" y=\"-81.8\" font-family=\"Times New Roman,serif\" font-size=\"14.00\">[&quot;Team&quot;, &quot;Salary&quot;, &quot;Bonus&quot;]</text>\n",
       "</g>\n",
       "<!-- p2&#45;&#45;p3 -->\n",
       "<g id=\"edge2\" class=\"edge\">\n",
       "<title>p2--p3</title>\n",
       "<path fill=\"none\" stroke=\"black\" d=\"M561,-147.91C561,-136.29 561,-122.81 561,-112.24\"/>\n",
       "</g>\n",
       "<!-- p4 -->\n",
       "<g id=\"node4\" class=\"node\">\n",
       "<title>p4</title>\n",
       "<polygon fill=\"none\" stroke=\"black\" points=\"658,-38 464,-38 464,0 658,0 658,-38\"/>\n",
       "<text text-anchor=\"middle\" x=\"561\" y=\"-22.8\" font-family=\"Times New Roman,serif\" font-size=\"14.00\">Csv SCAN [../dataset/emp.csv]</text>\n",
       "<text text-anchor=\"middle\" x=\"561\" y=\"-7.8\" font-family=\"Times New Roman,serif\" font-size=\"14.00\">π 3/8;</text>\n",
       "</g>\n",
       "<!-- p3&#45;&#45;p4 -->\n",
       "<g id=\"edge3\" class=\"edge\">\n",
       "<title>p3--p4</title>\n",
       "<path fill=\"none\" stroke=\"black\" d=\"M561,-73.83C561,-63 561,-49.29 561,-38.41\"/>\n",
       "</g>\n",
       "</g>\n",
       "</svg>"
      ],
      "text/plain": [
       "<IPython.core.display.SVG object>"
      ]
     },
     "metadata": {},
     "output_type": "display_data"
    }
   ],
   "source": [
    "lazy_df.show_graph()"
   ]
  },
  {
   "cell_type": "code",
   "execution_count": null,
   "metadata": {},
   "outputs": [],
   "source": []
  },
  {
   "cell_type": "code",
   "execution_count": null,
   "metadata": {},
   "outputs": [
    {
     "ename": "ColumnNotFoundError",
     "evalue": "unable to find column \"Salary\"; valid columns: [\"a\", \"b\", \"c\"]\n\nResolved plan until failure:\n\n\t---> FAILED HERE RESOLVING 'filter' <---\nDF [\"a\", \"b\", \"c\"]; PROJECT */3 COLUMNS; SELECTION: None",
     "output_type": "error",
     "traceback": [
      "\u001b[1;31m---------------------------------------------------------------------------\u001b[0m",
      "\u001b[1;31mColumnNotFoundError\u001b[0m                       Traceback (most recent call last)",
      "Cell \u001b[1;32mIn[18], line 1\u001b[0m\n\u001b[1;32m----> 1\u001b[0m \u001b[43mlf\u001b[49m\u001b[38;5;241;43m.\u001b[39;49m\u001b[43mfilter\u001b[49m\u001b[43m(\u001b[49m\u001b[43mpl\u001b[49m\u001b[38;5;241;43m.\u001b[39;49m\u001b[43mcol\u001b[49m\u001b[43m(\u001b[49m\u001b[38;5;124;43m\"\u001b[39;49m\u001b[38;5;124;43mSalary\u001b[39;49m\u001b[38;5;124;43m\"\u001b[39;49m\u001b[43m)\u001b[49m\u001b[43m \u001b[49m\u001b[38;5;241;43m>\u001b[39;49m\u001b[43m \u001b[49m\u001b[38;5;241;43m50000\u001b[39;49m\u001b[43m)\u001b[49m\u001b[38;5;241;43m.\u001b[39;49m\u001b[43mexplain\u001b[49m\u001b[43m(\u001b[49m\u001b[43m)\u001b[49m\n",
      "File \u001b[1;32mc:\\Users\\YEIN\\.conda\\envs\\Pyspark\\lib\\site-packages\\polars\\lazyframe\\frame.py:1114\u001b[0m, in \u001b[0;36mLazyFrame.explain\u001b[1;34m(self, format, optimized, type_coercion, predicate_pushdown, projection_pushdown, simplify_expression, slice_pushdown, comm_subplan_elim, comm_subexpr_elim, cluster_with_columns, collapse_joins, streaming, tree_format)\u001b[0m\n\u001b[0;32m   1112\u001b[0m         \u001b[38;5;28;01mreturn\u001b[39;00m ldf\u001b[38;5;241m.\u001b[39mdescribe_optimized_plan_tree()\n\u001b[0;32m   1113\u001b[0m     \u001b[38;5;28;01melse\u001b[39;00m:\n\u001b[1;32m-> 1114\u001b[0m         \u001b[38;5;28;01mreturn\u001b[39;00m \u001b[43mldf\u001b[49m\u001b[38;5;241;43m.\u001b[39;49m\u001b[43mdescribe_optimized_plan\u001b[49m\u001b[43m(\u001b[49m\u001b[43m)\u001b[49m\n\u001b[0;32m   1116\u001b[0m \u001b[38;5;28;01mif\u001b[39;00m \u001b[38;5;28mformat\u001b[39m \u001b[38;5;241m==\u001b[39m \u001b[38;5;124m\"\u001b[39m\u001b[38;5;124mtree\u001b[39m\u001b[38;5;124m\"\u001b[39m:\n\u001b[0;32m   1117\u001b[0m     \u001b[38;5;28;01mreturn\u001b[39;00m \u001b[38;5;28mself\u001b[39m\u001b[38;5;241m.\u001b[39m_ldf\u001b[38;5;241m.\u001b[39mdescribe_plan_tree()\n",
      "\u001b[1;31mColumnNotFoundError\u001b[0m: unable to find column \"Salary\"; valid columns: [\"a\", \"b\", \"c\"]\n\nResolved plan until failure:\n\n\t---> FAILED HERE RESOLVING 'filter' <---\nDF [\"a\", \"b\", \"c\"]; PROJECT */3 COLUMNS; SELECTION: None"
     ]
    }
   ],
   "source": [
    "lf.filter(pl.col(\"Salary\") > 50000).show_graph()"
   ]
  },
  {
   "cell_type": "code",
   "execution_count": 5,
   "metadata": {},
   "outputs": [
    {
     "data": {
      "text/html": [
       "<h4>NAIVE QUERY PLAN</h4><p>run <b>LazyFrame.show_graph()</b> to see the optimized version</p><?xml version=\"1.0\" encoding=\"UTF-8\" standalone=\"no\"?>\r\n",
       "<!DOCTYPE svg PUBLIC \"-//W3C//DTD SVG 1.1//EN\"\r\n",
       " \"http://www.w3.org/Graphics/SVG/1.1/DTD/svg11.dtd\">\r\n",
       "<!-- Generated by graphviz version 2.48.0 (20210717.1556)\r\n",
       " -->\r\n",
       "<!-- Title: polars_query Pages: 1 -->\r\n",
       "<svg width=\"248pt\" height=\"190pt\"\r\n",
       " viewBox=\"0.00 0.00 248.00 190.00\" xmlns=\"http://www.w3.org/2000/svg\" xmlns:xlink=\"http://www.w3.org/1999/xlink\">\r\n",
       "<g id=\"graph0\" class=\"graph\" transform=\"scale(1 1) rotate(0) translate(4 186)\">\r\n",
       "<title>polars_query</title>\r\n",
       "<polygon fill=\"white\" stroke=\"transparent\" points=\"-4,4 -4,-186 244,-186 244,4 -4,4\"/>\r\n",
       "<!-- p1 -->\r\n",
       "<g id=\"node1\" class=\"node\">\r\n",
       "<title>p1</title>\r\n",
       "<polygon fill=\"none\" stroke=\"black\" points=\"189,-182 51,-182 51,-146 189,-146 189,-182\"/>\r\n",
       "<text text-anchor=\"middle\" x=\"120\" y=\"-160.3\" font-family=\"Times New Roman,serif\" font-size=\"14.00\">OPAQUE_PYTHON</text>\r\n",
       "</g>\r\n",
       "<!-- p2 -->\r\n",
       "<g id=\"node2\" class=\"node\">\r\n",
       "<title>p2</title>\r\n",
       "<polygon fill=\"none\" stroke=\"black\" points=\"240,-110 0,-110 0,-74 240,-74 240,-110\"/>\r\n",
       "<text text-anchor=\"middle\" x=\"120\" y=\"-88.3\" font-family=\"Times New Roman,serif\" font-size=\"14.00\">FILTER BY [(col(&quot;Salary&quot;)) &gt; (50000)]</text>\r\n",
       "</g>\r\n",
       "<!-- p1&#45;&#45;p2 -->\r\n",
       "<g id=\"edge1\" class=\"edge\">\r\n",
       "<title>p1&#45;&#45;p2</title>\r\n",
       "<path fill=\"none\" stroke=\"black\" d=\"M120,-145.7C120,-134.85 120,-120.92 120,-110.1\"/>\r\n",
       "</g>\r\n",
       "<!-- p3 -->\r\n",
       "<g id=\"node3\" class=\"node\">\r\n",
       "<title>p3</title>\r\n",
       "<polygon fill=\"none\" stroke=\"black\" points=\"217,-38 23,-38 23,0 217,0 217,-38\"/>\r\n",
       "<text text-anchor=\"middle\" x=\"120\" y=\"-22.8\" font-family=\"Times New Roman,serif\" font-size=\"14.00\">Csv SCAN [../dataset/emp.csv]</text>\r\n",
       "<text text-anchor=\"middle\" x=\"120\" y=\"-7.8\" font-family=\"Times New Roman,serif\" font-size=\"14.00\">π */8;</text>\r\n",
       "</g>\r\n",
       "<!-- p2&#45;&#45;p3 -->\r\n",
       "<g id=\"edge2\" class=\"edge\">\r\n",
       "<title>p2&#45;&#45;p3</title>\r\n",
       "<path fill=\"none\" stroke=\"black\" d=\"M120,-73.81C120,-62.98 120,-49.01 120,-38.02\"/>\r\n",
       "</g>\r\n",
       "</g>\r\n",
       "</svg>\r\n"
      ],
      "text/plain": [
       "<LazyFrame at 0x237E3B6F640>"
      ]
     },
     "execution_count": 5,
     "metadata": {},
     "output_type": "execute_result"
    }
   ],
   "source": [
    "lf.filter(pl.col(\"Salary\") > 50000).inspect()"
   ]
  },
  {
   "cell_type": "code",
   "execution_count": 6,
   "metadata": {},
   "outputs": [
    {
     "data": {
      "text/plain": [
       "(shape: (854, 8)\n",
       " ┌────────────┬────────┬────────────┬───────────────┬────────┬────────┬──────────────┬──────────────┐\n",
       " │ First Name ┆ Gender ┆ Start Date ┆ Last Login    ┆ Salary ┆ Bonus  ┆ Senior       ┆ Team         │\n",
       " │ ---        ┆ ---    ┆ ---        ┆ Time          ┆ ---    ┆ ---    ┆ Management   ┆ ---          │\n",
       " │ str        ┆ str    ┆ str        ┆ ---           ┆ i64    ┆ f64    ┆ ---          ┆ str          │\n",
       " │            ┆        ┆            ┆ str           ┆        ┆        ┆ bool         ┆              │\n",
       " ╞════════════╪════════╪════════════╪═══════════════╪════════╪════════╪══════════════╪══════════════╡\n",
       " │ Douglas    ┆ Male   ┆ 8/6/1993   ┆ 12:42 PM      ┆ 97308  ┆ 6.945  ┆ true         ┆ Marketing    │\n",
       " │ Thomas     ┆ Male   ┆ 3/31/1996  ┆ 6:53 AM       ┆ 61933  ┆ 4.17   ┆ true         ┆ null         │\n",
       " │ Maria      ┆ Female ┆ 4/23/1993  ┆ 11:17 AM      ┆ 130590 ┆ 11.858 ┆ false        ┆ Finance      │\n",
       " │ Jerry      ┆ Male   ┆ 3/4/2005   ┆ 1:00 PM       ┆ 138705 ┆ 9.34   ┆ true         ┆ Finance      │\n",
       " │ Larry      ┆ Male   ┆ 1/24/1998  ┆ 4:47 PM       ┆ 101004 ┆ 1.389  ┆ true         ┆ Client       │\n",
       " │            ┆        ┆            ┆               ┆        ┆        ┆              ┆ Services     │\n",
       " │ Dennis     ┆ Male   ┆ 4/18/1987  ┆ 1:35 AM       ┆ 115163 ┆ 10.125 ┆ false        ┆ Legal        │\n",
       " │ Ruby       ┆ Female ┆ 8/17/1987  ┆ 4:20 PM       ┆ 65476  ┆ 10.012 ┆ true         ┆ Product      │\n",
       " │ Angela     ┆ Female ┆ 11/22/2005 ┆ 6:29 AM       ┆ 95570  ┆ 18.523 ┆ true         ┆ Engineering  │\n",
       " │ Frances    ┆ Female ┆ 8/8/2002   ┆ 6:51 AM       ┆ 139852 ┆ 7.524  ┆ true         ┆ Business     │\n",
       " │            ┆        ┆            ┆               ┆        ┆        ┆              ┆ Development  │\n",
       " │ Louise     ┆ Female ┆ 8/12/1980  ┆ 9:01 AM       ┆ 63241  ┆ 15.132 ┆ true         ┆ null         │\n",
       " │ Julie      ┆ Female ┆ 10/26/1997 ┆ 3:19 PM       ┆ 102508 ┆ 12.637 ┆ true         ┆ Legal        │\n",
       " │ Brandon    ┆ Male   ┆ 12/1/1980  ┆ 1:08 AM       ┆ 112807 ┆ 17.492 ┆ true         ┆ Human        │\n",
       " │            ┆        ┆            ┆               ┆        ┆        ┆              ┆ Resources    │\n",
       " │ Gary       ┆ Male   ┆ 1/27/2008  ┆ 11:40 PM      ┆ 109831 ┆ 5.831  ┆ false        ┆ Sales        │\n",
       " │ Lillian    ┆ Female ┆ 6/5/2016   ┆ 6:09 AM       ┆ 59414  ┆ 1.256  ┆ false        ┆ Product      │\n",
       " │ Jeremy     ┆ Male   ┆ 9/21/2010  ┆ 5:56 AM       ┆ 90370  ┆ 7.369  ┆ false        ┆ Human        │\n",
       " │            ┆        ┆            ┆               ┆        ┆        ┆              ┆ Resources    │\n",
       " │ Shawn      ┆ Male   ┆ 12/7/1986  ┆ 7:45 PM       ┆ 111737 ┆ 6.414  ┆ false        ┆ Product      │\n",
       " │ Diana      ┆ Female ┆ 10/23/1981 ┆ 10:27 AM      ┆ 132940 ┆ 19.082 ┆ false        ┆ Client       │\n",
       " │            ┆        ┆            ┆               ┆        ┆        ┆              ┆ Services     │\n",
       " │ Donna      ┆ Female ┆ 7/22/2010  ┆ 3:48 AM       ┆ 81014  ┆ 1.894  ┆ false        ┆ Product      │\n",
       " │ Lois       ┆ null   ┆ 4/22/1995  ┆ 7:18 PM       ┆ 64714  ┆ 4.934  ┆ true         ┆ Legal        │\n",
       " │ Matthew    ┆ Male   ┆ 9/5/1995   ┆ 2:12 AM       ┆ 100612 ┆ 13.645 ┆ false        ┆ Marketing    │\n",
       " │ Joshua     ┆ null   ┆ 3/8/2012   ┆ 1:58 AM       ┆ 90816  ┆ 18.816 ┆ true         ┆ Client       │\n",
       " │            ┆        ┆            ┆               ┆        ┆        ┆              ┆ Services     │\n",
       " │ null       ┆ Male   ┆ 6/14/2012  ┆ 4:19 PM       ┆ 125792 ┆ 5.042  ┆ null         ┆ null         │\n",
       " │ John       ┆ Male   ┆ 7/1/1992   ┆ 10:08 PM      ┆ 97950  ┆ 13.873 ┆ false        ┆ Client       │\n",
       " │            ┆        ┆            ┆               ┆        ┆        ┆              ┆ Services     │\n",
       " │ Scott      ┆ null   ┆ 7/11/1991  ┆ 6:58 PM       ┆ 122367 ┆ 5.218  ┆ false        ┆ Legal        │\n",
       " │ Terry      ┆ Male   ┆ 11/27/1981 ┆ 6:30 PM       ┆ 124008 ┆ 13.464 ┆ true         ┆ Client       │\n",
       " │            ┆        ┆            ┆               ┆        ┆        ┆              ┆ Services     │\n",
       " │ Benjamin   ┆ Male   ┆ 1/26/2005  ┆ 10:06 PM      ┆ 79529  ┆ 7.008  ┆ true         ┆ Legal        │\n",
       " │ Christina  ┆ Female ┆ 8/6/2002   ┆ 1:19 PM       ┆ 118780 ┆ 9.096  ┆ true         ┆ Engineering  │\n",
       " │ Joyce      ┆ null   ┆ 2/20/2005  ┆ 2:40 PM       ┆ 88657  ┆ 12.752 ┆ false        ┆ Product      │\n",
       " │ null       ┆ Male   ┆ 8/21/1998  ┆ 2:27 PM       ┆ 122340 ┆ 6.417  ┆ null         ┆ null         │\n",
       " │ Jean       ┆ Female ┆ 12/18/1993 ┆ 9:07 AM       ┆ 119082 ┆ 16.18  ┆ false        ┆ Business     │\n",
       " │            ┆        ┆            ┆               ┆        ┆        ┆              ┆ Development  │\n",
       " │ Jerry      ┆ Male   ┆ 1/10/2004  ┆ 12:56 PM      ┆ 95734  ┆ 19.096 ┆ false        ┆ Client       │\n",
       " │            ┆        ┆            ┆               ┆        ┆        ┆              ┆ Services     │\n",
       " │ Theresa    ┆ Female ┆ 10/10/2006 ┆ 1:12 AM       ┆ 85182  ┆ 16.675 ┆ false        ┆ Sales        │\n",
       " │ Rachel     ┆ Female ┆ 2/16/2009  ┆ 8:47 PM       ┆ 142032 ┆ 12.599 ┆ false        ┆ Business     │\n",
       " │            ┆        ┆            ┆               ┆        ┆        ┆              ┆ Development  │\n",
       " │ Linda      ┆ Female ┆ 10/19/1981 ┆ 8:49 PM       ┆ 57427  ┆ 9.557  ┆ true         ┆ Client       │\n",
       " │            ┆        ┆            ┆               ┆        ┆        ┆              ┆ Services     │\n",
       " │ null       ┆ Male   ┆ 1/29/2016  ┆ 2:33 AM       ┆ 122173 ┆ 7.797  ┆ null         ┆ Client       │\n",
       " │            ┆        ┆            ┆               ┆        ┆        ┆              ┆ Services     │\n",
       " │ Michael    ┆ Male   ┆ 10/10/2008 ┆ 11:25 AM      ┆ 99283  ┆ 2.665  ┆ true         ┆ Distribution │\n",
       " │ Christine  ┆ null   ┆ 6/28/2015  ┆ 1:08 AM       ┆ 66582  ┆ 11.308 ┆ true         ┆ Business     │\n",
       " │            ┆        ┆            ┆               ┆        ┆        ┆              ┆ Development  │\n",
       " │ Beverly    ┆ Female ┆ 9/9/1998   ┆ 8:26 PM       ┆ 121918 ┆ 15.835 ┆ false        ┆ Legal        │\n",
       " │ Marilyn    ┆ Female ┆ 12/7/1980  ┆ 3:16 AM       ┆ 73524  ┆ 5.207  ┆ true         ┆ Marketing    │\n",
       " │ Cynthia    ┆ Female ┆ 11/16/1988 ┆ 6:54 PM       ┆ 145146 ┆ 7.482  ┆ true         ┆ Product      │\n",
       " │ Roger      ┆ Male   ┆ 4/17/1980  ┆ 11:32 AM      ┆ 88010  ┆ 13.886 ┆ true         ┆ Sales        │\n",
       " │ Bruce      ┆ Male   ┆ 11/28/2009 ┆ 10:47 PM      ┆ 114796 ┆ 6.796  ┆ false        ┆ Finance      │\n",
       " │ Kathy      ┆ Female ┆ 6/22/2005  ┆ 4:51 AM       ┆ 66820  ┆ 9.0    ┆ true         ┆ Client       │\n",
       " │            ┆        ┆            ┆               ┆        ┆        ┆              ┆ Services     │\n",
       " │ Clarence   ┆ Male   ┆ 3/26/1996  ┆ 5:57 AM       ┆ 93581  ┆ 6.083  ┆ true         ┆ Business     │\n",
       " │            ┆        ┆            ┆               ┆        ┆        ┆              ┆ Development  │\n",
       " │ Chris      ┆ null   ┆ 1/24/1980  ┆ 12:13 PM      ┆ 113590 ┆ 3.055  ┆ false        ┆ Sales        │\n",
       " │ Nancy      ┆ Female ┆ 9/23/2000  ┆ 8:05 AM       ┆ 94976  ┆ 13.83  ┆ true         ┆ Engineering  │\n",
       " │ Sara       ┆ Female ┆ 8/15/2007  ┆ 9:23 AM       ┆ 83677  ┆ 8.999  ┆ false        ┆ Engineering  │\n",
       " │ Karen      ┆ Female ┆ 11/30/1999 ┆ 7:46 AM       ┆ 102488 ┆ 17.653 ┆ true         ┆ Product      │\n",
       " │ Carl       ┆ Male   ┆ 5/3/2006   ┆ 5:55 PM       ┆ 130276 ┆ 16.084 ┆ true         ┆ Finance      │\n",
       " │ Henry      ┆ Male   ┆ 6/26/1996  ┆ 1:44 AM       ┆ 64715  ┆ 15.107 ┆ true         ┆ Human        │\n",
       " │            ┆        ┆            ┆               ┆        ┆        ┆              ┆ Resources    │\n",
       " │ …          ┆ …      ┆ …          ┆ …             ┆ …      ┆ …      ┆ …            ┆ …            │\n",
       " │ Ralph      ┆ null   ┆ 7/28/1995  ┆ 6:53 PM       ┆ 70635  ┆ 2.147  ┆ false        ┆ Client       │\n",
       " │            ┆        ┆            ┆               ┆        ┆        ┆              ┆ Services     │\n",
       " │ Andrew     ┆ Male   ┆ 9/28/1990  ┆ 9:38 AM       ┆ 137386 ┆ 8.611  ┆ true         ┆ Distribution │\n",
       " │ William    ┆ Male   ┆ 6/26/1997  ┆ 8:33 AM       ┆ 104840 ┆ 15.653 ┆ true         ┆ Engineering  │\n",
       " │ Lori       ┆ Female ┆ 11/20/2015 ┆ 1:15 PM       ┆ 75498  ┆ 6.537  ┆ true         ┆ Marketing    │\n",
       " │ Wayne      ┆ Male   ┆ 9/8/2006   ┆ 11:09 AM      ┆ 67471  ┆ 2.728  ┆ false        ┆ Engineering  │\n",
       " │ Kenneth    ┆ Male   ┆ 5/10/2006  ┆ 8:24 AM       ┆ 101914 ┆ 1.905  ┆ true         ┆ Distribution │\n",
       " │ Gerald     ┆ null   ┆ 4/15/1989  ┆ 12:44 PM      ┆ 93712  ┆ 17.426 ┆ true         ┆ Distribution │\n",
       " │ null       ┆ Female ┆ 9/15/1985  ┆ 1:50 AM       ┆ 133472 ┆ 16.941 ┆ null         ┆ Distribution │\n",
       " │ null       ┆ Male   ┆ 7/30/2012  ┆ 3:07 PM       ┆ 107351 ┆ 5.329  ┆ null         ┆ Marketing    │\n",
       " │ Ashley     ┆ Female ┆ 3/31/2006  ┆ 1:24 PM       ┆ 142410 ┆ 11.048 ┆ true         ┆ Engineering  │\n",
       " │ Paula      ┆ Female ┆ 5/21/1983  ┆ 11:42 AM      ┆ 58423  ┆ 10.833 ┆ false        ┆ Business     │\n",
       " │            ┆        ┆            ┆               ┆        ┆        ┆              ┆ Development  │\n",
       " │ null       ┆ Female ┆ 9/14/2010  ┆ 5:19 AM       ┆ 143638 ┆ 9.662  ┆ null         ┆ null         │\n",
       " │ Teresa     ┆ Female ┆ 1/22/2013  ┆ 3:17 PM       ┆ 113425 ┆ 11.907 ┆ true         ┆ Human        │\n",
       " │            ┆        ┆            ┆               ┆        ┆        ┆              ┆ Resources    │\n",
       " │ Randy      ┆ Male   ┆ 2/25/2012  ┆ 5:33 AM       ┆ 57266  ┆ 14.077 ┆ false        ┆ Product      │\n",
       " │ Joe        ┆ Male   ┆ 1/19/1980  ┆ 4:06 PM       ┆ 119667 ┆ 1.148  ┆ true         ┆ Finance      │\n",
       " │ Sarah      ┆ Female ┆ 8/17/2014  ┆ 11:08 PM      ┆ 127118 ┆ 11.176 ┆ false        ┆ Legal        │\n",
       " │ Beverly    ┆ Female ┆ 10/17/1986 ┆ 12:51 AM      ┆ 80838  ┆ 8.115  ┆ false        ┆ Engineering  │\n",
       " │ Jeffrey    ┆ Male   ┆ 2/3/1984   ┆ 1:26 PM       ┆ 70990  ┆ 15.901 ┆ true         ┆ Sales        │\n",
       " │ Stephen    ┆ Male   ┆ 10/29/1989 ┆ 11:34 PM      ┆ 93997  ┆ 18.093 ┆ true         ┆ Business     │\n",
       " │            ┆        ┆            ┆               ┆        ┆        ┆              ┆ Development  │\n",
       " │ Antonio    ┆ null   ┆ 6/18/1989  ┆ 9:37 PM       ┆ 103050 ┆ 3.05   ┆ false        ┆ Legal        │\n",
       " │ Jonathan   ┆ Male   ┆ 8/21/2013  ┆ 12:45 AM      ┆ 121797 ┆ 16.923 ┆ false        ┆ Product      │\n",
       " │ Ann        ┆ Female ┆ 9/23/1994  ┆ 11:15 AM      ┆ 89443  ┆ 17.94  ┆ true         ┆ Sales        │\n",
       " │ Catherine  ┆ Female ┆ 9/25/1989  ┆ 1:31 AM       ┆ 68164  ┆ 18.393 ┆ false        ┆ Client       │\n",
       " │            ┆        ┆            ┆               ┆        ┆        ┆              ┆ Services     │\n",
       " │ Louis      ┆ Male   ┆ 8/16/2011  ┆ 5:19 PM       ┆ 93022  ┆ 9.146  ┆ true         ┆ Human        │\n",
       " │            ┆        ┆            ┆               ┆        ┆        ┆              ┆ Resources    │\n",
       " │ Thomas     ┆ Male   ┆ 3/12/2016  ┆ 3:10 PM       ┆ 105681 ┆ 19.572 ┆ false        ┆ Engineering  │\n",
       " │ Alice      ┆ Female ┆ 9/3/1988   ┆ 8:54 PM       ┆ 63571  ┆ 15.397 ┆ true         ┆ Product      │\n",
       " │ Patrick    ┆ Male   ┆ 12/30/2002 ┆ 2:01 AM       ┆ 75423  ┆ 5.368  ┆ true         ┆ Business     │\n",
       " │            ┆        ┆            ┆               ┆        ┆        ┆              ┆ Development  │\n",
       " │ Victor     ┆ null   ┆ 7/28/2006  ┆ 2:49 PM       ┆ 76381  ┆ 11.159 ┆ true         ┆ Sales        │\n",
       " │ Russell    ┆ Male   ┆ 5/10/2013  ┆ 11:08 PM      ┆ 137359 ┆ 11.105 ┆ false        ┆ Business     │\n",
       " │            ┆        ┆            ┆               ┆        ┆        ┆              ┆ Development  │\n",
       " │ Harry      ┆ Male   ┆ 8/30/2011  ┆ 6:31 PM       ┆ 67656  ┆ 16.455 ┆ true         ┆ Client       │\n",
       " │            ┆        ┆            ┆               ┆        ┆        ┆              ┆ Services     │\n",
       " │ Susan      ┆ Female ┆ 4/7/1995   ┆ 10:05 PM      ┆ 92436  ┆ 12.467 ┆ false        ┆ Sales        │\n",
       " │ Denise     ┆ Female ┆ 10/19/1992 ┆ 5:42 AM       ┆ 137954 ┆ 4.195  ┆ true         ┆ Legal        │\n",
       " │ Sarah      ┆ Female ┆ 12/4/1995  ┆ 9:16 AM       ┆ 124566 ┆ 5.949  ┆ false        ┆ Product      │\n",
       " │ Sean       ┆ Male   ┆ 1/17/1983  ┆ 2:23 PM       ┆ 66146  ┆ 11.178 ┆ false        ┆ Human        │\n",
       " │            ┆        ┆            ┆               ┆        ┆        ┆              ┆ Resources    │\n",
       " │ Ernest     ┆ Male   ┆ 7/20/2013  ┆ 6:41 AM       ┆ 142935 ┆ 13.198 ┆ true         ┆ Product      │\n",
       " │ James      ┆ Male   ┆ 1/15/1993  ┆ 5:19 PM       ┆ 148985 ┆ 19.28  ┆ false        ┆ Legal        │\n",
       " │ Rose       ┆ Female ┆ 4/6/1982   ┆ 10:43 AM      ┆ 91411  ┆ 8.639  ┆ true         ┆ Human        │\n",
       " │            ┆        ┆            ┆               ┆        ┆        ┆              ┆ Resources    │\n",
       " │ John       ┆ Male   ┆ 12/23/1982 ┆ 10:35 PM      ┆ 146907 ┆ 11.738 ┆ false        ┆ Engineering  │\n",
       " │ Stephen    ┆ null   ┆ 7/10/1983  ┆ 8:10 PM       ┆ 85668  ┆ 1.909  ┆ false        ┆ Legal        │\n",
       " │ Donna      ┆ Female ┆ 11/26/1982 ┆ 7:04 AM       ┆ 82871  ┆ 17.999 ┆ false        ┆ Marketing    │\n",
       " │ Gloria     ┆ Female ┆ 12/8/2014  ┆ 5:08 AM       ┆ 136709 ┆ 10.331 ┆ true         ┆ Finance      │\n",
       " │ Robin      ┆ Female ┆ 7/24/1987  ┆ 1:35 PM       ┆ 100765 ┆ 10.982 ┆ true         ┆ Client       │\n",
       " │            ┆        ┆            ┆               ┆        ┆        ┆              ┆ Services     │\n",
       " │ Rose       ┆ Female ┆ 8/25/2002  ┆ 5:12 AM       ┆ 134505 ┆ 11.051 ┆ true         ┆ Marketing    │\n",
       " │ Anthony    ┆ Male   ┆ 10/16/2011 ┆ 8:35 AM       ┆ 112769 ┆ 11.625 ┆ true         ┆ Finance      │\n",
       " │ Tina       ┆ Female ┆ 5/15/1997  ┆ 3:53 PM       ┆ 56450  ┆ 19.04  ┆ true         ┆ Engineering  │\n",
       " │ George     ┆ Male   ┆ 6/21/2013  ┆ 5:47 PM       ┆ 98874  ┆ 4.479  ┆ true         ┆ Marketing    │\n",
       " │ Henry      ┆ null   ┆ 11/23/2014 ┆ 6:09 AM       ┆ 132483 ┆ 16.655 ┆ false        ┆ Distribution │\n",
       " │ Russell    ┆ Male   ┆ 5/20/2013  ┆ 12:39 PM      ┆ 96914  ┆ 1.421  ┆ false        ┆ Product      │\n",
       " │ Larry      ┆ Male   ┆ 4/20/2013  ┆ 4:45 PM       ┆ 60500  ┆ 11.985 ┆ false        ┆ Business     │\n",
       " │            ┆        ┆            ┆               ┆        ┆        ┆              ┆ Development  │\n",
       " │ Albert     ┆ Male   ┆ 5/15/2012  ┆ 6:24 PM       ┆ 129949 ┆ 10.169 ┆ true         ┆ Sales        │\n",
       " └────────────┴────────┴────────────┴───────────────┴────────┴────────┴──────────────┴──────────────┘,\n",
       " shape: (2, 3)\n",
       " ┌─────────────────────────────────┬───────┬─────┐\n",
       " │ node                            ┆ start ┆ end │\n",
       " │ ---                             ┆ ---   ┆ --- │\n",
       " │ str                             ┆ u64   ┆ u64 │\n",
       " ╞═════════════════════════════════╪═══════╪═════╡\n",
       " │ optimization                    ┆ 0     ┆ 192 │\n",
       " │ csv(../dataset/emp.csv, predic… ┆ 192   ┆ 637 │\n",
       " └─────────────────────────────────┴───────┴─────┘)"
      ]
     },
     "execution_count": 6,
     "metadata": {},
     "output_type": "execute_result"
    }
   ],
   "source": [
    "lf.filter(pl.col(\"Salary\") > 50000).profile()"
   ]
  }
 ],
 "metadata": {
  "kernelspec": {
   "display_name": "Pyspark",
   "language": "python",
   "name": "python3"
  },
  "language_info": {
   "codemirror_mode": {
    "name": "ipython",
    "version": 3
   },
   "file_extension": ".py",
   "mimetype": "text/x-python",
   "name": "python",
   "nbconvert_exporter": "python",
   "pygments_lexer": "ipython3",
   "version": "3.10.4"
  }
 },
 "nbformat": 4,
 "nbformat_minor": 2
}
